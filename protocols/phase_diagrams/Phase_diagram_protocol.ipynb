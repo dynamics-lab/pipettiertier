{
 "cells": [
  {
   "cell_type": "markdown",
   "id": "friendly-antique",
   "metadata": {},
   "source": [
    "# Protocol\n",
    "\n",
    "This protocol creates a 2d protein & salt gradient. In particular, it manages the following things:\n",
    "- it distributes two buffers in a specified linear gradient across columns of a 384-well plate\n",
    "- it pipettes protein into well A1 of the plate\n",
    "- it serially dilutes the protein across specified rows\n",
    "- it distributes the different dilutions into the different salt concentrations \n",
    "- slow mixing in the end.\n",
    "\n",
    "\n",
    "First we need to import some packages."
   ]
  },
  {
   "cell_type": "code",
   "execution_count": 1,
   "id": "single-pharmacy",
   "metadata": {},
   "outputs": [],
   "source": [
    "from opentrons import simulate, execute\n",
    "from opentrons.types import Location, Point\n",
    "\n",
    "import numpy as np\n",
    "import pandas as pd\n",
    "import time"
   ]
  },
  {
   "cell_type": "markdown",
   "id": "extra-sacrifice",
   "metadata": {},
   "source": [
    "Load the protocol and home the robot:"
   ]
  },
  {
   "cell_type": "code",
   "execution_count": 2,
   "id": "molecular-cartoon",
   "metadata": {},
   "outputs": [
    {
     "name": "stderr",
     "output_type": "stream",
     "text": [
      "/data/robot_settings.json not found. Loading defaults\n",
      "Failed to initialize character device, will not be able to control gpios (lights, button, smoothiekill, smoothie reset). Only one connection can be made to the gpios at a time. If you need to control gpios, first stop the robot server with systemctl stop opentrons-robot-server. Until you restart the server with systemctl start opentrons-robot-server, you will be unable to control the robot using the Opentrons app.\n",
      "/data/deck_calibration.json not found. Loading defaults\n"
     ]
    }
   ],
   "source": [
    "protocol = execute.get_protocol_api('2.11')\n",
    "\n",
    "protocol.home()"
   ]
  },
  {
   "cell_type": "markdown",
   "id": "plastic-horse",
   "metadata": {},
   "source": [
    "If we want to simulate:"
   ]
  },
  {
   "cell_type": "code",
   "execution_count": 45,
   "id": "modified-scroll",
   "metadata": {},
   "outputs": [
    {
     "name": "stderr",
     "output_type": "stream",
     "text": [
      "C:\\Users\\raras\\.opentrons\\robot_settings.json not found. Loading defaults\n",
      "C:\\Users\\raras\\.opentrons\\deck_calibration.json not found. Loading defaults\n"
     ]
    }
   ],
   "source": [
    "protocol = simulate.get_protocol_api('2.11')\n",
    "\n",
    "protocol.home()"
   ]
  },
  {
   "cell_type": "markdown",
   "id": "numeric-mouse",
   "metadata": {},
   "source": [
    "### Load the labware with the following setup:\n",
    "\n",
    "<table style=\"width:300px;\">\n",
    "    <tr><td>10</td><td>11</td><td>trash</td></tr>\n",
    "    <tr><td>7</td><td>8</td><td>9</td></tr>\n",
    "    <tr><td>4 <br> tips 20</td><td>5 <br> plate </td><td>6 <br> tube rack</td></tr>\n",
    "    <tr><td>1 <br> tips 300</td><td>2 <br> reservoir</td><td>3</td></tr>\n",
    "    \n",
    "</table>"
   ]
  },
  {
   "cell_type": "code",
   "execution_count": 46,
   "id": "universal-climb",
   "metadata": {},
   "outputs": [],
   "source": [
    "tips_300 = protocol.load_labware(\"opentrons_96_tiprack_300ul\", 1)\n",
    "\n",
    "reservoir = protocol.load_labware(\"nest_12_reservoir_15ml\", 2)\n",
    "\n",
    "tips_20 = protocol.load_labware(\"opentrons_96_filtertiprack_20ul\", 4)\n",
    "\n",
    "plate = protocol.load_labware(\"corning_384_wellplate_112ul_flat\", 5)\n",
    "\n",
    "tube_rack = protocol.load_labware(\"opentrons_10_tuberack_falcon_4x50ml_6x15ml_conical\", 6)"
   ]
  },
  {
   "cell_type": "markdown",
   "id": "adopted-cheese",
   "metadata": {},
   "source": [
    "### Load pipettes \n",
    "\n",
    "Specify the correct tip racks. Uncomment the pipette you attempt to use and comment the pipette that is not used.\n",
    "\n",
    "If using the multi pipette set it to \"True\""
   ]
  },
  {
   "cell_type": "code",
   "execution_count": 47,
   "id": "streaming-wesley",
   "metadata": {},
   "outputs": [],
   "source": [
    "# pip_20 = protocol.load_instrument(\"p300_single_gen2\", \"left\", tip_racks=[tips_300])\n",
    "pip_20 = protocol.load_instrument(\"p20_single_gen2\", \"right\", tip_racks=[tips_20])\n",
    "pip_300  = protocol.load_instrument(\"p300_single_gen2\", \"left\", tip_racks=[tips_300])\n"
   ]
  },
  {
   "cell_type": "markdown",
   "id": "empirical-stranger",
   "metadata": {},
   "source": [
    "If necessary, specify starting tip:"
   ]
  },
  {
   "cell_type": "code",
   "execution_count": 48,
   "id": "executed-sampling",
   "metadata": {},
   "outputs": [],
   "source": [
    "pip_20.starting_tip = tips_20.well(\"A1\")"
   ]
  },
  {
   "cell_type": "markdown",
   "id": "nutritional-sullivan",
   "metadata": {},
   "source": [
    "### Load buffers:"
   ]
  },
  {
   "cell_type": "markdown",
   "id": "tropical-plasma",
   "metadata": {},
   "source": [
    "#### Buffer A:"
   ]
  },
  {
   "cell_type": "code",
   "execution_count": 10,
   "id": "monetary-inside",
   "metadata": {},
   "outputs": [
    {
     "name": "stdin",
     "output_type": "stream",
     "text": [
      "Starting concentration of buffer A in mM 0\n"
     ]
    }
   ],
   "source": [
    "buffer_A = {\"pos\":reservoir[\"A1\"]}\n",
    "buffer_A[\"c\"] = float(input(\"Starting concentration of buffer A in mM\"))"
   ]
  },
  {
   "cell_type": "markdown",
   "id": "trying-queensland",
   "metadata": {},
   "source": [
    "#### Buffer B:"
   ]
  },
  {
   "cell_type": "code",
   "execution_count": 11,
   "id": "bored-adjustment",
   "metadata": {},
   "outputs": [
    {
     "name": "stdin",
     "output_type": "stream",
     "text": [
      "Starting concentration of buffer B in mM 500\n"
     ]
    }
   ],
   "source": [
    "buffer_B = {\"pos\":reservoir[\"A2\"]}\n",
    "buffer_B[\"c\"] = float(input(\"Starting concentration of buffer B in mM\"))"
   ]
  },
  {
   "cell_type": "markdown",
   "id": "smooth-blowing",
   "metadata": {},
   "source": [
    "Optional: Protein Buffer:"
   ]
  },
  {
   "cell_type": "code",
   "execution_count": null,
   "id": "tamil-genealogy",
   "metadata": {},
   "outputs": [],
   "source": [
    "# protein_buffer = {\"pos\":reservoir[\"A2\"]}\n",
    "# protein_buffer[\"description\"] = \"KCl\"\n",
    "# protein_buffer[\"conc\"] = float(input(f'Starting concentration of protein buffer ({protein_buffer[\"description\"]}) in mM'))\n",
    "# protein_buffer[\"volume\"] = float(input(\"Volume of protein buffer in ml\")"
   ]
  },
  {
   "cell_type": "code",
   "execution_count": 12,
   "id": "continuing-diana",
   "metadata": {},
   "outputs": [
    {
     "name": "stdin",
     "output_type": "stream",
     "text": [
      "What is the maximum volume of buffer per well? 20\n",
      "What decrease of buffer volume per well? 5\n",
      "What amount of protein solution will be added in the end per well? 5\n"
     ]
    }
   ],
   "source": [
    "max_volume_buffers = float(input(\"What is the maximum volume of buffer per well?\"))\n",
    "step_size_buffers = float(input(\"What decrease of buffer volume per well?\"))\n",
    "v_protein_to_wells = float(input(\"What amount of protein solution will be added in the end per well?\"))"
   ]
  },
  {
   "cell_type": "markdown",
   "id": "crucial-appointment",
   "metadata": {},
   "source": [
    "#### Protein:"
   ]
  },
  {
   "cell_type": "code",
   "execution_count": 13,
   "id": "recreational-mixture",
   "metadata": {},
   "outputs": [
    {
     "name": "stdin",
     "output_type": "stream",
     "text": [
      "Starting concentration of protein in µM 35\n",
      "Desired end concentration of protein in µM 0.035\n",
      "Number of dilutions 10\n",
      "End volume in each well 50\n"
     ]
    }
   ],
   "source": [
    "protein = {\"pos\":tube_rack[\"A1\"]}\n",
    "protein[\"c0\"] = float(input(\"Starting concentration of protein in µM\"))\n",
    "protein[\"c1\"] = float(input(\"Desired end concentration of protein in µM\"))\n",
    "protein[\"n dilutions\"] = int(input(\"Number of dilutions\"))\n",
    "protein[\"v1\"] = float(input(\"End volume in each well\"))"
   ]
  },
  {
   "cell_type": "markdown",
   "id": "opening-chassis",
   "metadata": {},
   "source": [
    "##### Serial Dilution of the Protein\n",
    "\n",
    "\n",
    "$ c_{final} = \\frac{v_{transfer}}{v_{transfer} + v_{buffer} }^{n} \\cdot c_{0} $\n",
    "\n",
    "=> \n",
    "\n",
    "$ v_{transfer} = \\sqrt[n]{ \\frac{c_{final}} {c_{0}} } \\cdot v_{final} \\cdot \\frac{1} {\\sqrt[n]{ \\frac{c_{final}} {c_{0}} }-1} $"
   ]
  },
  {
   "cell_type": "code",
   "execution_count": 14,
   "id": "cubic-toolbox",
   "metadata": {},
   "outputs": [],
   "source": [
    "c_start = protein[\"c0\"]\n",
    "c_final = protein[\"c1\"]\n",
    "n = protein[\"n dilutions\"]\n",
    "v_final = protein[\"v1\"]"
   ]
  },
  {
   "cell_type": "code",
   "execution_count": 15,
   "id": "missing-friend",
   "metadata": {},
   "outputs": [
    {
     "name": "stdout",
     "output_type": "stream",
     "text": [
      "The transfer volume will be appr. 50.24 µl\n"
     ]
    }
   ],
   "source": [
    "protein[\"v_t\"] = (c_final/c_start)**(1/n) * v_final / (1-(c_final/c_start)**(1/n) )\n",
    "print(f'The transfer volume will be appr. {protein[\"v_t\"]:.2f} µl')"
   ]
  },
  {
   "cell_type": "code",
   "execution_count": 16,
   "id": "controlling-welding",
   "metadata": {},
   "outputs": [
    {
     "name": "stdout",
     "output_type": "stream",
     "text": [
      "Concentrations are appr.:\n",
      "35.0000 µM\n",
      "17.5416 µM\n",
      "8.7916 µM\n",
      "4.4062 µM\n",
      "2.2084 µM\n",
      "1.1068 µM\n",
      "0.5547 µM\n",
      "0.2780 µM\n",
      "0.1393 µM\n",
      "0.0698 µM\n",
      "0.0350 µM\n"
     ]
    }
   ],
   "source": [
    "print(\"Concentrations are appr.:\")\n",
    "for i in range(0, n+1):\n",
    "    c= (protein[\"v_t\"]/(protein[\"v_t\"]+v_final))**i * c_start   \n",
    "    print(f'{c:.4f} µM')"
   ]
  },
  {
   "cell_type": "markdown",
   "id": "eligible-turkey",
   "metadata": {},
   "source": [
    "### Calculation of buffer volumes and concentrations per well"
   ]
  },
  {
   "cell_type": "code",
   "execution_count": 17,
   "id": "parliamentary-blowing",
   "metadata": {},
   "outputs": [
    {
     "name": "stdout",
     "output_type": "stream",
     "text": [
      "Volumes will be (in descending order):  [20. 15. 10.  5.  0.]\n",
      "Okay, 5 columns will be needed.\n"
     ]
    }
   ],
   "source": [
    "vols_A = np.arange(0, max_volume_buffers + step_size_buffers, step_size_buffers)\n",
    "vols_A = np.sort(vols_A)[::-1]\n",
    "\n",
    "vols_B = [20 - vol for vol in vols_A]\n",
    "\n",
    "num_cols = len(vols_A)\n",
    "print(\"Volumes will be (in descending order): \", vols_A)\n",
    "if num_cols < len(plate.columns()):\n",
    "    print(f'Okay, {num_cols} columns will be needed.')\n",
    "else:\n",
    "    raise ValueError('The plate does not have enough columns.')"
   ]
  },
  {
   "cell_type": "code",
   "execution_count": 34,
   "id": "beautiful-intersection",
   "metadata": {},
   "outputs": [
    {
     "name": "stdout",
     "output_type": "stream",
     "text": [
      "The following wells will be filled:\n",
      "A2 of Corning 384 Well Plate 112 µL Flat on 5\n",
      "B2 of Corning 384 Well Plate 112 µL Flat on 5\n",
      "C2 of Corning 384 Well Plate 112 µL Flat on 5\n",
      "D2 of Corning 384 Well Plate 112 µL Flat on 5\n",
      "E2 of Corning 384 Well Plate 112 µL Flat on 5\n",
      "F2 of Corning 384 Well Plate 112 µL Flat on 5\n",
      "G2 of Corning 384 Well Plate 112 µL Flat on 5\n",
      "H2 of Corning 384 Well Plate 112 µL Flat on 5\n",
      "I2 of Corning 384 Well Plate 112 µL Flat on 5\n",
      "J2 of Corning 384 Well Plate 112 µL Flat on 5\n",
      "K2 of Corning 384 Well Plate 112 µL Flat on 5\n",
      "L2 of Corning 384 Well Plate 112 µL Flat on 5\n",
      "M2 of Corning 384 Well Plate 112 µL Flat on 5\n",
      "N2 of Corning 384 Well Plate 112 µL Flat on 5\n",
      "O2 of Corning 384 Well Plate 112 µL Flat on 5\n",
      "P2 of Corning 384 Well Plate 112 µL Flat on 5\n",
      "A3 of Corning 384 Well Plate 112 µL Flat on 5\n",
      "B3 of Corning 384 Well Plate 112 µL Flat on 5\n",
      "C3 of Corning 384 Well Plate 112 µL Flat on 5\n",
      "D3 of Corning 384 Well Plate 112 µL Flat on 5\n",
      "E3 of Corning 384 Well Plate 112 µL Flat on 5\n",
      "F3 of Corning 384 Well Plate 112 µL Flat on 5\n",
      "G3 of Corning 384 Well Plate 112 µL Flat on 5\n",
      "H3 of Corning 384 Well Plate 112 µL Flat on 5\n",
      "I3 of Corning 384 Well Plate 112 µL Flat on 5\n",
      "J3 of Corning 384 Well Plate 112 µL Flat on 5\n",
      "K3 of Corning 384 Well Plate 112 µL Flat on 5\n",
      "L3 of Corning 384 Well Plate 112 µL Flat on 5\n",
      "M3 of Corning 384 Well Plate 112 µL Flat on 5\n",
      "N3 of Corning 384 Well Plate 112 µL Flat on 5\n",
      "O3 of Corning 384 Well Plate 112 µL Flat on 5\n",
      "P3 of Corning 384 Well Plate 112 µL Flat on 5\n",
      "A4 of Corning 384 Well Plate 112 µL Flat on 5\n",
      "B4 of Corning 384 Well Plate 112 µL Flat on 5\n",
      "C4 of Corning 384 Well Plate 112 µL Flat on 5\n",
      "D4 of Corning 384 Well Plate 112 µL Flat on 5\n",
      "E4 of Corning 384 Well Plate 112 µL Flat on 5\n",
      "F4 of Corning 384 Well Plate 112 µL Flat on 5\n",
      "G4 of Corning 384 Well Plate 112 µL Flat on 5\n",
      "H4 of Corning 384 Well Plate 112 µL Flat on 5\n",
      "I4 of Corning 384 Well Plate 112 µL Flat on 5\n",
      "J4 of Corning 384 Well Plate 112 µL Flat on 5\n",
      "K4 of Corning 384 Well Plate 112 µL Flat on 5\n",
      "L4 of Corning 384 Well Plate 112 µL Flat on 5\n",
      "M4 of Corning 384 Well Plate 112 µL Flat on 5\n",
      "N4 of Corning 384 Well Plate 112 µL Flat on 5\n",
      "O4 of Corning 384 Well Plate 112 µL Flat on 5\n",
      "P4 of Corning 384 Well Plate 112 µL Flat on 5\n",
      "A5 of Corning 384 Well Plate 112 µL Flat on 5\n",
      "B5 of Corning 384 Well Plate 112 µL Flat on 5\n",
      "C5 of Corning 384 Well Plate 112 µL Flat on 5\n",
      "D5 of Corning 384 Well Plate 112 µL Flat on 5\n",
      "E5 of Corning 384 Well Plate 112 µL Flat on 5\n",
      "F5 of Corning 384 Well Plate 112 µL Flat on 5\n",
      "G5 of Corning 384 Well Plate 112 µL Flat on 5\n",
      "H5 of Corning 384 Well Plate 112 µL Flat on 5\n",
      "I5 of Corning 384 Well Plate 112 µL Flat on 5\n",
      "J5 of Corning 384 Well Plate 112 µL Flat on 5\n",
      "K5 of Corning 384 Well Plate 112 µL Flat on 5\n",
      "L5 of Corning 384 Well Plate 112 µL Flat on 5\n",
      "M5 of Corning 384 Well Plate 112 µL Flat on 5\n",
      "N5 of Corning 384 Well Plate 112 µL Flat on 5\n",
      "O5 of Corning 384 Well Plate 112 µL Flat on 5\n",
      "P5 of Corning 384 Well Plate 112 µL Flat on 5\n",
      "A6 of Corning 384 Well Plate 112 µL Flat on 5\n",
      "B6 of Corning 384 Well Plate 112 µL Flat on 5\n",
      "C6 of Corning 384 Well Plate 112 µL Flat on 5\n",
      "D6 of Corning 384 Well Plate 112 µL Flat on 5\n",
      "E6 of Corning 384 Well Plate 112 µL Flat on 5\n",
      "F6 of Corning 384 Well Plate 112 µL Flat on 5\n",
      "G6 of Corning 384 Well Plate 112 µL Flat on 5\n",
      "H6 of Corning 384 Well Plate 112 µL Flat on 5\n",
      "I6 of Corning 384 Well Plate 112 µL Flat on 5\n",
      "J6 of Corning 384 Well Plate 112 µL Flat on 5\n",
      "K6 of Corning 384 Well Plate 112 µL Flat on 5\n",
      "L6 of Corning 384 Well Plate 112 µL Flat on 5\n",
      "M6 of Corning 384 Well Plate 112 µL Flat on 5\n",
      "N6 of Corning 384 Well Plate 112 µL Flat on 5\n",
      "O6 of Corning 384 Well Plate 112 µL Flat on 5\n",
      "P6 of Corning 384 Well Plate 112 µL Flat on 5\n"
     ]
    }
   ],
   "source": [
    "if pip_20.hw_pipette[\"name\"].find(\"multi\") > 0:\n",
    "    n = 2\n",
    "    print(\"hey\")\n",
    "else: \n",
    "    n = len(plate.rows())\n",
    "vols_A_384 = list(np.repeat(vols_A, n))\n",
    "vols_B_384 = [max_volume_buffers - vol_A for vol_A in vols_A_384]\n",
    "\n",
    "\n",
    "# get first two rows. When using a multipipette we have to give the top well to the respective function. Because \n",
    "# we use a 384 well plate, we have to pass the top well to fill all oddly numbered rows and the second well from\n",
    "# the top to fill all evenly numbered rows\n",
    "wells_to_pipette_to = np.array([wells[0:n] for wells in plate.columns()[1:num_cols+1]]).flatten()\n",
    "\n",
    "# convert back to list:\n",
    "wells_to_pipette_to = list(wells_to_pipette_to)\n",
    "\n",
    "print(\"The following wells will be filled:\")\n",
    "[print(well) for well in wells_to_pipette_to];"
   ]
  },
  {
   "cell_type": "code",
   "execution_count": 35,
   "id": "painful-deficit",
   "metadata": {},
   "outputs": [
    {
     "name": "stdout",
     "output_type": "stream",
     "text": [
      "Buffer concentrations will be\n",
      "0.00 mM in column 2\n",
      "125.00 mM in column 3\n",
      "250.00 mM in column 4\n",
      "375.00 mM in column 5\n",
      "500.00 mM in column 6\n"
     ]
    }
   ],
   "source": [
    "c_list = [buffer_B[\"c\"] * vol_B / max_volume_buffers for vol_B in vols_B ]\n",
    "\n",
    "print('Buffer concentrations will be')\n",
    "[print(f'{c:.2f} mM in column {i}') for c, i in zip(c_list, range(2,num_cols+2, 1))];"
   ]
  },
  {
   "cell_type": "markdown",
   "id": "pursuant-helicopter",
   "metadata": {},
   "source": [
    "That information tells us how much protein/buffer volume we need **at least** per well in the first column:"
   ]
  },
  {
   "cell_type": "code",
   "execution_count": 36,
   "id": "satisfactory-screen",
   "metadata": {},
   "outputs": [
    {
     "name": "stdout",
     "output_type": "stream",
     "text": [
      "With 50.0 µl of protein solution per source well (first column) we have enough to add 5.0 µl to 5 columns\n"
     ]
    }
   ],
   "source": [
    "if (num_cols * v_protein_to_wells > protein[\"v1\"]):\n",
    "    print(\"Not enough protein available. Increase the final volume of protein in the first column or decrease the amount of protein added to the buffer at the very end\")\n",
    "else:\n",
    "    print(f'With {protein[\"v1\"]} µl of protein solution per source well (first column) we have enough to add {v_protein_to_wells} µl to {num_cols} columns')"
   ]
  },
  {
   "cell_type": "markdown",
   "id": "respiratory-mediterranean",
   "metadata": {},
   "source": [
    "# Actual Pipetting"
   ]
  },
  {
   "cell_type": "markdown",
   "id": "lined-boundary",
   "metadata": {},
   "source": [
    "### Buffer A:"
   ]
  },
  {
   "cell_type": "markdown",
   "id": "coated-illness",
   "metadata": {},
   "source": [
    "Complex command:"
   ]
  },
  {
   "cell_type": "code",
   "execution_count": 49,
   "id": "endangered-sender",
   "metadata": {},
   "outputs": [
    {
     "name": "stdout",
     "output_type": "stream",
     "text": [
      "Needed 1.9960556030273438\n"
     ]
    }
   ],
   "source": [
    "if not pip_20.hw_pipette['has_tip']:\n",
    "    pip_20.pick_up_tip()\n",
    "\n",
    "t_start = time.time()    \n",
    "    \n",
    "pip_20.distribute(vols_A_384,\n",
    "              buffer_A[\"pos\"],\n",
    "              wells_to_pipette_to,\n",
    "              new_tip='never',\n",
    "              touch_tip=True, \n",
    "              disposal_volume = 1,\n",
    "             )\n",
    "t_end = time.time()\n",
    "print(f'Needed {t_end-t_start}')\n",
    "\n",
    "# pip_20.drop()"
   ]
  },
  {
   "cell_type": "code",
   "execution_count": 50,
   "id": "simple-pasta",
   "metadata": {},
   "outputs": [
    {
     "name": "stdout",
     "output_type": "stream",
     "text": [
      "Picking up tip from A1 of Opentrons 96 Filter Tip Rack 20 µL on 4\n",
      "Distributing [20.0, 20.0, 20.0, 20.0, 20.0, 20.0, 20.0, 20.0, 20.0, 20.0, 20.0, 20.0, 20.0, 20.0, 20.0, 20.0, 15.0, 15.0, 15.0, 15.0, 15.0, 15.0, 15.0, 15.0, 15.0, 15.0, 15.0, 15.0, 15.0, 15.0, 15.0, 15.0, 10.0, 10.0, 10.0, 10.0, 10.0, 10.0, 10.0, 10.0, 10.0, 10.0, 10.0, 10.0, 10.0, 10.0, 10.0, 10.0, 5.0, 5.0, 5.0, 5.0, 5.0, 5.0, 5.0, 5.0, 5.0, 5.0, 5.0, 5.0, 5.0, 5.0, 5.0, 5.0, 0.0, 0.0, 0.0, 0.0, 0.0, 0.0, 0.0, 0.0, 0.0, 0.0, 0.0, 0.0, 0.0, 0.0, 0.0, 0.0] from A1 of NEST 12 Well Reservoir 15 mL on 2 to A2 of Corning 384 Well Plate 112 µL Flat on 5\n",
      "Transferring [20.0, 20.0, 20.0, 20.0, 20.0, 20.0, 20.0, 20.0, 20.0, 20.0, 20.0, 20.0, 20.0, 20.0, 20.0, 20.0, 15.0, 15.0, 15.0, 15.0, 15.0, 15.0, 15.0, 15.0, 15.0, 15.0, 15.0, 15.0, 15.0, 15.0, 15.0, 15.0, 10.0, 10.0, 10.0, 10.0, 10.0, 10.0, 10.0, 10.0, 10.0, 10.0, 10.0, 10.0, 10.0, 10.0, 10.0, 10.0, 5.0, 5.0, 5.0, 5.0, 5.0, 5.0, 5.0, 5.0, 5.0, 5.0, 5.0, 5.0, 5.0, 5.0, 5.0, 5.0, 0.0, 0.0, 0.0, 0.0, 0.0, 0.0, 0.0, 0.0, 0.0, 0.0, 0.0, 0.0, 0.0, 0.0, 0.0, 0.0] from A1 of NEST 12 Well Reservoir 15 mL on 2 to A2 of Corning 384 Well Plate 112 µL Flat on 5\n",
      "Aspirating 11.0 uL from A1 of NEST 12 Well Reservoir 15 mL on 2 at 7.56 uL/sec\n",
      "Touching tip\n",
      "Dispensing 10.0 uL into A2 of Corning 384 Well Plate 112 µL Flat on 5 at 7.56 uL/sec\n",
      "Touching tip\n",
      "Blowing out at A1 of Opentrons Fixed Trash on 12\n",
      "Aspirating 11.0 uL from A1 of NEST 12 Well Reservoir 15 mL on 2 at 7.56 uL/sec\n",
      "Touching tip\n",
      "Dispensing 10.0 uL into A2 of Corning 384 Well Plate 112 µL Flat on 5 at 7.56 uL/sec\n",
      "Touching tip\n",
      "Blowing out at A1 of Opentrons Fixed Trash on 12\n",
      "Aspirating 11.0 uL from A1 of NEST 12 Well Reservoir 15 mL on 2 at 7.56 uL/sec\n",
      "Touching tip\n",
      "Dispensing 10.0 uL into B2 of Corning 384 Well Plate 112 µL Flat on 5 at 7.56 uL/sec\n",
      "Touching tip\n",
      "Blowing out at A1 of Opentrons Fixed Trash on 12\n",
      "Aspirating 11.0 uL from A1 of NEST 12 Well Reservoir 15 mL on 2 at 7.56 uL/sec\n",
      "Touching tip\n",
      "Dispensing 10.0 uL into B2 of Corning 384 Well Plate 112 µL Flat on 5 at 7.56 uL/sec\n",
      "Touching tip\n",
      "Blowing out at A1 of Opentrons Fixed Trash on 12\n",
      "Aspirating 11.0 uL from A1 of NEST 12 Well Reservoir 15 mL on 2 at 7.56 uL/sec\n",
      "Touching tip\n",
      "Dispensing 10.0 uL into C2 of Corning 384 Well Plate 112 µL Flat on 5 at 7.56 uL/sec\n",
      "Touching tip\n",
      "Blowing out at A1 of Opentrons Fixed Trash on 12\n",
      "Aspirating 11.0 uL from A1 of NEST 12 Well Reservoir 15 mL on 2 at 7.56 uL/sec\n",
      "Touching tip\n",
      "Dispensing 10.0 uL into C2 of Corning 384 Well Plate 112 µL Flat on 5 at 7.56 uL/sec\n",
      "Touching tip\n",
      "Blowing out at A1 of Opentrons Fixed Trash on 12\n",
      "Aspirating 11.0 uL from A1 of NEST 12 Well Reservoir 15 mL on 2 at 7.56 uL/sec\n",
      "Touching tip\n",
      "Dispensing 10.0 uL into D2 of Corning 384 Well Plate 112 µL Flat on 5 at 7.56 uL/sec\n",
      "Touching tip\n",
      "Blowing out at A1 of Opentrons Fixed Trash on 12\n",
      "Aspirating 11.0 uL from A1 of NEST 12 Well Reservoir 15 mL on 2 at 7.56 uL/sec\n",
      "Touching tip\n",
      "Dispensing 10.0 uL into D2 of Corning 384 Well Plate 112 µL Flat on 5 at 7.56 uL/sec\n",
      "Touching tip\n",
      "Blowing out at A1 of Opentrons Fixed Trash on 12\n",
      "Aspirating 11.0 uL from A1 of NEST 12 Well Reservoir 15 mL on 2 at 7.56 uL/sec\n",
      "Touching tip\n",
      "Dispensing 10.0 uL into E2 of Corning 384 Well Plate 112 µL Flat on 5 at 7.56 uL/sec\n",
      "Touching tip\n",
      "Blowing out at A1 of Opentrons Fixed Trash on 12\n",
      "Aspirating 11.0 uL from A1 of NEST 12 Well Reservoir 15 mL on 2 at 7.56 uL/sec\n",
      "Touching tip\n",
      "Dispensing 10.0 uL into E2 of Corning 384 Well Plate 112 µL Flat on 5 at 7.56 uL/sec\n",
      "Touching tip\n",
      "Blowing out at A1 of Opentrons Fixed Trash on 12\n",
      "Aspirating 11.0 uL from A1 of NEST 12 Well Reservoir 15 mL on 2 at 7.56 uL/sec\n",
      "Touching tip\n",
      "Dispensing 10.0 uL into F2 of Corning 384 Well Plate 112 µL Flat on 5 at 7.56 uL/sec\n",
      "Touching tip\n",
      "Blowing out at A1 of Opentrons Fixed Trash on 12\n",
      "Aspirating 11.0 uL from A1 of NEST 12 Well Reservoir 15 mL on 2 at 7.56 uL/sec\n",
      "Touching tip\n",
      "Dispensing 10.0 uL into F2 of Corning 384 Well Plate 112 µL Flat on 5 at 7.56 uL/sec\n",
      "Touching tip\n",
      "Blowing out at A1 of Opentrons Fixed Trash on 12\n",
      "Aspirating 11.0 uL from A1 of NEST 12 Well Reservoir 15 mL on 2 at 7.56 uL/sec\n",
      "Touching tip\n",
      "Dispensing 10.0 uL into G2 of Corning 384 Well Plate 112 µL Flat on 5 at 7.56 uL/sec\n",
      "Touching tip\n",
      "Blowing out at A1 of Opentrons Fixed Trash on 12\n",
      "Aspirating 11.0 uL from A1 of NEST 12 Well Reservoir 15 mL on 2 at 7.56 uL/sec\n",
      "Touching tip\n",
      "Dispensing 10.0 uL into G2 of Corning 384 Well Plate 112 µL Flat on 5 at 7.56 uL/sec\n",
      "Touching tip\n",
      "Blowing out at A1 of Opentrons Fixed Trash on 12\n",
      "Aspirating 11.0 uL from A1 of NEST 12 Well Reservoir 15 mL on 2 at 7.56 uL/sec\n",
      "Touching tip\n",
      "Dispensing 10.0 uL into H2 of Corning 384 Well Plate 112 µL Flat on 5 at 7.56 uL/sec\n",
      "Touching tip\n",
      "Blowing out at A1 of Opentrons Fixed Trash on 12\n",
      "Aspirating 11.0 uL from A1 of NEST 12 Well Reservoir 15 mL on 2 at 7.56 uL/sec\n",
      "Touching tip\n",
      "Dispensing 10.0 uL into H2 of Corning 384 Well Plate 112 µL Flat on 5 at 7.56 uL/sec\n",
      "Touching tip\n",
      "Blowing out at A1 of Opentrons Fixed Trash on 12\n",
      "Aspirating 11.0 uL from A1 of NEST 12 Well Reservoir 15 mL on 2 at 7.56 uL/sec\n",
      "Touching tip\n",
      "Dispensing 10.0 uL into I2 of Corning 384 Well Plate 112 µL Flat on 5 at 7.56 uL/sec\n",
      "Touching tip\n",
      "Blowing out at A1 of Opentrons Fixed Trash on 12\n",
      "Aspirating 11.0 uL from A1 of NEST 12 Well Reservoir 15 mL on 2 at 7.56 uL/sec\n",
      "Touching tip\n",
      "Dispensing 10.0 uL into I2 of Corning 384 Well Plate 112 µL Flat on 5 at 7.56 uL/sec\n",
      "Touching tip\n",
      "Blowing out at A1 of Opentrons Fixed Trash on 12\n",
      "Aspirating 11.0 uL from A1 of NEST 12 Well Reservoir 15 mL on 2 at 7.56 uL/sec\n",
      "Touching tip\n",
      "Dispensing 10.0 uL into J2 of Corning 384 Well Plate 112 µL Flat on 5 at 7.56 uL/sec\n",
      "Touching tip\n",
      "Blowing out at A1 of Opentrons Fixed Trash on 12\n",
      "Aspirating 11.0 uL from A1 of NEST 12 Well Reservoir 15 mL on 2 at 7.56 uL/sec\n",
      "Touching tip\n",
      "Dispensing 10.0 uL into J2 of Corning 384 Well Plate 112 µL Flat on 5 at 7.56 uL/sec\n",
      "Touching tip\n",
      "Blowing out at A1 of Opentrons Fixed Trash on 12\n",
      "Aspirating 11.0 uL from A1 of NEST 12 Well Reservoir 15 mL on 2 at 7.56 uL/sec\n",
      "Touching tip\n",
      "Dispensing 10.0 uL into K2 of Corning 384 Well Plate 112 µL Flat on 5 at 7.56 uL/sec\n",
      "Touching tip\n",
      "Blowing out at A1 of Opentrons Fixed Trash on 12\n",
      "Aspirating 11.0 uL from A1 of NEST 12 Well Reservoir 15 mL on 2 at 7.56 uL/sec\n",
      "Touching tip\n",
      "Dispensing 10.0 uL into K2 of Corning 384 Well Plate 112 µL Flat on 5 at 7.56 uL/sec\n",
      "Touching tip\n",
      "Blowing out at A1 of Opentrons Fixed Trash on 12\n",
      "Aspirating 11.0 uL from A1 of NEST 12 Well Reservoir 15 mL on 2 at 7.56 uL/sec\n",
      "Touching tip\n",
      "Dispensing 10.0 uL into L2 of Corning 384 Well Plate 112 µL Flat on 5 at 7.56 uL/sec\n",
      "Touching tip\n",
      "Blowing out at A1 of Opentrons Fixed Trash on 12\n",
      "Aspirating 11.0 uL from A1 of NEST 12 Well Reservoir 15 mL on 2 at 7.56 uL/sec\n",
      "Touching tip\n",
      "Dispensing 10.0 uL into L2 of Corning 384 Well Plate 112 µL Flat on 5 at 7.56 uL/sec\n",
      "Touching tip\n",
      "Blowing out at A1 of Opentrons Fixed Trash on 12\n",
      "Aspirating 11.0 uL from A1 of NEST 12 Well Reservoir 15 mL on 2 at 7.56 uL/sec\n",
      "Touching tip\n",
      "Dispensing 10.0 uL into M2 of Corning 384 Well Plate 112 µL Flat on 5 at 7.56 uL/sec\n",
      "Touching tip\n",
      "Blowing out at A1 of Opentrons Fixed Trash on 12\n",
      "Aspirating 11.0 uL from A1 of NEST 12 Well Reservoir 15 mL on 2 at 7.56 uL/sec\n",
      "Touching tip\n",
      "Dispensing 10.0 uL into M2 of Corning 384 Well Plate 112 µL Flat on 5 at 7.56 uL/sec\n",
      "Touching tip\n",
      "Blowing out at A1 of Opentrons Fixed Trash on 12\n",
      "Aspirating 11.0 uL from A1 of NEST 12 Well Reservoir 15 mL on 2 at 7.56 uL/sec\n",
      "Touching tip\n",
      "Dispensing 10.0 uL into N2 of Corning 384 Well Plate 112 µL Flat on 5 at 7.56 uL/sec\n",
      "Touching tip\n",
      "Blowing out at A1 of Opentrons Fixed Trash on 12\n",
      "Aspirating 11.0 uL from A1 of NEST 12 Well Reservoir 15 mL on 2 at 7.56 uL/sec\n",
      "Touching tip\n",
      "Dispensing 10.0 uL into N2 of Corning 384 Well Plate 112 µL Flat on 5 at 7.56 uL/sec\n",
      "Touching tip\n",
      "Blowing out at A1 of Opentrons Fixed Trash on 12\n",
      "Aspirating 11.0 uL from A1 of NEST 12 Well Reservoir 15 mL on 2 at 7.56 uL/sec\n",
      "Touching tip\n",
      "Dispensing 10.0 uL into O2 of Corning 384 Well Plate 112 µL Flat on 5 at 7.56 uL/sec\n",
      "Touching tip\n",
      "Blowing out at A1 of Opentrons Fixed Trash on 12\n",
      "Aspirating 11.0 uL from A1 of NEST 12 Well Reservoir 15 mL on 2 at 7.56 uL/sec\n",
      "Touching tip\n",
      "Dispensing 10.0 uL into O2 of Corning 384 Well Plate 112 µL Flat on 5 at 7.56 uL/sec\n",
      "Touching tip\n",
      "Blowing out at A1 of Opentrons Fixed Trash on 12\n",
      "Aspirating 11.0 uL from A1 of NEST 12 Well Reservoir 15 mL on 2 at 7.56 uL/sec\n",
      "Touching tip\n",
      "Dispensing 10.0 uL into P2 of Corning 384 Well Plate 112 µL Flat on 5 at 7.56 uL/sec\n",
      "Touching tip\n",
      "Blowing out at A1 of Opentrons Fixed Trash on 12\n",
      "Aspirating 11.0 uL from A1 of NEST 12 Well Reservoir 15 mL on 2 at 7.56 uL/sec\n",
      "Touching tip\n",
      "Dispensing 10.0 uL into P2 of Corning 384 Well Plate 112 µL Flat on 5 at 7.56 uL/sec\n",
      "Touching tip\n",
      "Blowing out at A1 of Opentrons Fixed Trash on 12\n",
      "Aspirating 16.0 uL from A1 of NEST 12 Well Reservoir 15 mL on 2 at 7.56 uL/sec\n",
      "Touching tip\n",
      "Dispensing 15.0 uL into A3 of Corning 384 Well Plate 112 µL Flat on 5 at 7.56 uL/sec\n",
      "Touching tip\n",
      "Blowing out at A1 of Opentrons Fixed Trash on 12\n",
      "Aspirating 16.0 uL from A1 of NEST 12 Well Reservoir 15 mL on 2 at 7.56 uL/sec\n",
      "Touching tip\n",
      "Dispensing 15.0 uL into B3 of Corning 384 Well Plate 112 µL Flat on 5 at 7.56 uL/sec\n",
      "Touching tip\n",
      "Blowing out at A1 of Opentrons Fixed Trash on 12\n",
      "Aspirating 16.0 uL from A1 of NEST 12 Well Reservoir 15 mL on 2 at 7.56 uL/sec\n",
      "Touching tip\n",
      "Dispensing 15.0 uL into C3 of Corning 384 Well Plate 112 µL Flat on 5 at 7.56 uL/sec\n",
      "Touching tip\n",
      "Blowing out at A1 of Opentrons Fixed Trash on 12\n",
      "Aspirating 16.0 uL from A1 of NEST 12 Well Reservoir 15 mL on 2 at 7.56 uL/sec\n",
      "Touching tip\n",
      "Dispensing 15.0 uL into D3 of Corning 384 Well Plate 112 µL Flat on 5 at 7.56 uL/sec\n",
      "Touching tip\n",
      "Blowing out at A1 of Opentrons Fixed Trash on 12\n",
      "Aspirating 16.0 uL from A1 of NEST 12 Well Reservoir 15 mL on 2 at 7.56 uL/sec\n",
      "Touching tip\n",
      "Dispensing 15.0 uL into E3 of Corning 384 Well Plate 112 µL Flat on 5 at 7.56 uL/sec\n",
      "Touching tip\n",
      "Blowing out at A1 of Opentrons Fixed Trash on 12\n",
      "Aspirating 16.0 uL from A1 of NEST 12 Well Reservoir 15 mL on 2 at 7.56 uL/sec\n",
      "Touching tip\n",
      "Dispensing 15.0 uL into F3 of Corning 384 Well Plate 112 µL Flat on 5 at 7.56 uL/sec\n",
      "Touching tip\n",
      "Blowing out at A1 of Opentrons Fixed Trash on 12\n",
      "Aspirating 16.0 uL from A1 of NEST 12 Well Reservoir 15 mL on 2 at 7.56 uL/sec\n",
      "Touching tip\n",
      "Dispensing 15.0 uL into G3 of Corning 384 Well Plate 112 µL Flat on 5 at 7.56 uL/sec\n",
      "Touching tip\n",
      "Blowing out at A1 of Opentrons Fixed Trash on 12\n",
      "Aspirating 16.0 uL from A1 of NEST 12 Well Reservoir 15 mL on 2 at 7.56 uL/sec\n",
      "Touching tip\n",
      "Dispensing 15.0 uL into H3 of Corning 384 Well Plate 112 µL Flat on 5 at 7.56 uL/sec\n",
      "Touching tip\n",
      "Blowing out at A1 of Opentrons Fixed Trash on 12\n",
      "Aspirating 16.0 uL from A1 of NEST 12 Well Reservoir 15 mL on 2 at 7.56 uL/sec\n",
      "Touching tip\n",
      "Dispensing 15.0 uL into I3 of Corning 384 Well Plate 112 µL Flat on 5 at 7.56 uL/sec\n",
      "Touching tip\n",
      "Blowing out at A1 of Opentrons Fixed Trash on 12\n",
      "Aspirating 16.0 uL from A1 of NEST 12 Well Reservoir 15 mL on 2 at 7.56 uL/sec\n",
      "Touching tip\n",
      "Dispensing 15.0 uL into J3 of Corning 384 Well Plate 112 µL Flat on 5 at 7.56 uL/sec\n",
      "Touching tip\n",
      "Blowing out at A1 of Opentrons Fixed Trash on 12\n",
      "Aspirating 16.0 uL from A1 of NEST 12 Well Reservoir 15 mL on 2 at 7.56 uL/sec\n",
      "Touching tip\n",
      "Dispensing 15.0 uL into K3 of Corning 384 Well Plate 112 µL Flat on 5 at 7.56 uL/sec\n",
      "Touching tip\n",
      "Blowing out at A1 of Opentrons Fixed Trash on 12\n",
      "Aspirating 16.0 uL from A1 of NEST 12 Well Reservoir 15 mL on 2 at 7.56 uL/sec\n",
      "Touching tip\n",
      "Dispensing 15.0 uL into L3 of Corning 384 Well Plate 112 µL Flat on 5 at 7.56 uL/sec\n",
      "Touching tip\n",
      "Blowing out at A1 of Opentrons Fixed Trash on 12\n",
      "Aspirating 16.0 uL from A1 of NEST 12 Well Reservoir 15 mL on 2 at 7.56 uL/sec\n",
      "Touching tip\n",
      "Dispensing 15.0 uL into M3 of Corning 384 Well Plate 112 µL Flat on 5 at 7.56 uL/sec\n",
      "Touching tip\n",
      "Blowing out at A1 of Opentrons Fixed Trash on 12\n",
      "Aspirating 16.0 uL from A1 of NEST 12 Well Reservoir 15 mL on 2 at 7.56 uL/sec\n",
      "Touching tip\n",
      "Dispensing 15.0 uL into N3 of Corning 384 Well Plate 112 µL Flat on 5 at 7.56 uL/sec\n",
      "Touching tip\n",
      "Blowing out at A1 of Opentrons Fixed Trash on 12\n",
      "Aspirating 16.0 uL from A1 of NEST 12 Well Reservoir 15 mL on 2 at 7.56 uL/sec\n",
      "Touching tip\n",
      "Dispensing 15.0 uL into O3 of Corning 384 Well Plate 112 µL Flat on 5 at 7.56 uL/sec\n",
      "Touching tip\n",
      "Blowing out at A1 of Opentrons Fixed Trash on 12\n",
      "Aspirating 16.0 uL from A1 of NEST 12 Well Reservoir 15 mL on 2 at 7.56 uL/sec\n",
      "Touching tip\n",
      "Dispensing 15.0 uL into P3 of Corning 384 Well Plate 112 µL Flat on 5 at 7.56 uL/sec\n",
      "Touching tip\n",
      "Blowing out at A1 of Opentrons Fixed Trash on 12\n",
      "Aspirating 11.0 uL from A1 of NEST 12 Well Reservoir 15 mL on 2 at 7.56 uL/sec\n",
      "Touching tip\n",
      "Dispensing 10.0 uL into A4 of Corning 384 Well Plate 112 µL Flat on 5 at 7.56 uL/sec\n",
      "Touching tip\n",
      "Blowing out at A1 of Opentrons Fixed Trash on 12\n",
      "Aspirating 11.0 uL from A1 of NEST 12 Well Reservoir 15 mL on 2 at 7.56 uL/sec\n",
      "Touching tip\n",
      "Dispensing 10.0 uL into B4 of Corning 384 Well Plate 112 µL Flat on 5 at 7.56 uL/sec\n",
      "Touching tip\n",
      "Blowing out at A1 of Opentrons Fixed Trash on 12\n",
      "Aspirating 11.0 uL from A1 of NEST 12 Well Reservoir 15 mL on 2 at 7.56 uL/sec\n",
      "Touching tip\n",
      "Dispensing 10.0 uL into C4 of Corning 384 Well Plate 112 µL Flat on 5 at 7.56 uL/sec\n",
      "Touching tip\n",
      "Blowing out at A1 of Opentrons Fixed Trash on 12\n",
      "Aspirating 11.0 uL from A1 of NEST 12 Well Reservoir 15 mL on 2 at 7.56 uL/sec\n",
      "Touching tip\n",
      "Dispensing 10.0 uL into D4 of Corning 384 Well Plate 112 µL Flat on 5 at 7.56 uL/sec\n",
      "Touching tip\n",
      "Blowing out at A1 of Opentrons Fixed Trash on 12\n",
      "Aspirating 11.0 uL from A1 of NEST 12 Well Reservoir 15 mL on 2 at 7.56 uL/sec\n",
      "Touching tip\n",
      "Dispensing 10.0 uL into E4 of Corning 384 Well Plate 112 µL Flat on 5 at 7.56 uL/sec\n",
      "Touching tip\n",
      "Blowing out at A1 of Opentrons Fixed Trash on 12\n",
      "Aspirating 11.0 uL from A1 of NEST 12 Well Reservoir 15 mL on 2 at 7.56 uL/sec\n",
      "Touching tip\n",
      "Dispensing 10.0 uL into F4 of Corning 384 Well Plate 112 µL Flat on 5 at 7.56 uL/sec\n",
      "Touching tip\n",
      "Blowing out at A1 of Opentrons Fixed Trash on 12\n",
      "Aspirating 11.0 uL from A1 of NEST 12 Well Reservoir 15 mL on 2 at 7.56 uL/sec\n",
      "Touching tip\n",
      "Dispensing 10.0 uL into G4 of Corning 384 Well Plate 112 µL Flat on 5 at 7.56 uL/sec\n",
      "Touching tip\n",
      "Blowing out at A1 of Opentrons Fixed Trash on 12\n",
      "Aspirating 11.0 uL from A1 of NEST 12 Well Reservoir 15 mL on 2 at 7.56 uL/sec\n",
      "Touching tip\n",
      "Dispensing 10.0 uL into H4 of Corning 384 Well Plate 112 µL Flat on 5 at 7.56 uL/sec\n",
      "Touching tip\n",
      "Blowing out at A1 of Opentrons Fixed Trash on 12\n",
      "Aspirating 11.0 uL from A1 of NEST 12 Well Reservoir 15 mL on 2 at 7.56 uL/sec\n",
      "Touching tip\n",
      "Dispensing 10.0 uL into I4 of Corning 384 Well Plate 112 µL Flat on 5 at 7.56 uL/sec\n",
      "Touching tip\n",
      "Blowing out at A1 of Opentrons Fixed Trash on 12\n",
      "Aspirating 11.0 uL from A1 of NEST 12 Well Reservoir 15 mL on 2 at 7.56 uL/sec\n",
      "Touching tip\n",
      "Dispensing 10.0 uL into J4 of Corning 384 Well Plate 112 µL Flat on 5 at 7.56 uL/sec\n",
      "Touching tip\n",
      "Blowing out at A1 of Opentrons Fixed Trash on 12\n",
      "Aspirating 11.0 uL from A1 of NEST 12 Well Reservoir 15 mL on 2 at 7.56 uL/sec\n",
      "Touching tip\n",
      "Dispensing 10.0 uL into K4 of Corning 384 Well Plate 112 µL Flat on 5 at 7.56 uL/sec\n",
      "Touching tip\n",
      "Blowing out at A1 of Opentrons Fixed Trash on 12\n",
      "Aspirating 11.0 uL from A1 of NEST 12 Well Reservoir 15 mL on 2 at 7.56 uL/sec\n",
      "Touching tip\n",
      "Dispensing 10.0 uL into L4 of Corning 384 Well Plate 112 µL Flat on 5 at 7.56 uL/sec\n",
      "Touching tip\n",
      "Blowing out at A1 of Opentrons Fixed Trash on 12\n",
      "Aspirating 11.0 uL from A1 of NEST 12 Well Reservoir 15 mL on 2 at 7.56 uL/sec\n",
      "Touching tip\n",
      "Dispensing 10.0 uL into M4 of Corning 384 Well Plate 112 µL Flat on 5 at 7.56 uL/sec\n",
      "Touching tip\n",
      "Blowing out at A1 of Opentrons Fixed Trash on 12\n",
      "Aspirating 11.0 uL from A1 of NEST 12 Well Reservoir 15 mL on 2 at 7.56 uL/sec\n",
      "Touching tip\n",
      "Dispensing 10.0 uL into N4 of Corning 384 Well Plate 112 µL Flat on 5 at 7.56 uL/sec\n",
      "Touching tip\n",
      "Blowing out at A1 of Opentrons Fixed Trash on 12\n",
      "Aspirating 11.0 uL from A1 of NEST 12 Well Reservoir 15 mL on 2 at 7.56 uL/sec\n",
      "Touching tip\n",
      "Dispensing 10.0 uL into O4 of Corning 384 Well Plate 112 µL Flat on 5 at 7.56 uL/sec\n",
      "Touching tip\n",
      "Blowing out at A1 of Opentrons Fixed Trash on 12\n",
      "Aspirating 16.0 uL from A1 of NEST 12 Well Reservoir 15 mL on 2 at 7.56 uL/sec\n",
      "Touching tip\n",
      "Dispensing 10.0 uL into P4 of Corning 384 Well Plate 112 µL Flat on 5 at 7.56 uL/sec\n",
      "Touching tip\n",
      "Dispensing 5.0 uL into A5 of Corning 384 Well Plate 112 µL Flat on 5 at 7.56 uL/sec\n",
      "Touching tip\n",
      "Blowing out at A1 of Opentrons Fixed Trash on 12\n",
      "Aspirating 16.0 uL from A1 of NEST 12 Well Reservoir 15 mL on 2 at 7.56 uL/sec\n",
      "Touching tip\n",
      "Dispensing 5.0 uL into B5 of Corning 384 Well Plate 112 µL Flat on 5 at 7.56 uL/sec\n",
      "Touching tip\n",
      "Dispensing 5.0 uL into C5 of Corning 384 Well Plate 112 µL Flat on 5 at 7.56 uL/sec\n",
      "Touching tip\n",
      "Dispensing 5.0 uL into D5 of Corning 384 Well Plate 112 µL Flat on 5 at 7.56 uL/sec\n",
      "Touching tip\n",
      "Blowing out at A1 of Opentrons Fixed Trash on 12\n",
      "Aspirating 16.0 uL from A1 of NEST 12 Well Reservoir 15 mL on 2 at 7.56 uL/sec\n",
      "Touching tip\n",
      "Dispensing 5.0 uL into E5 of Corning 384 Well Plate 112 µL Flat on 5 at 7.56 uL/sec\n",
      "Touching tip\n",
      "Dispensing 5.0 uL into F5 of Corning 384 Well Plate 112 µL Flat on 5 at 7.56 uL/sec\n",
      "Touching tip\n",
      "Dispensing 5.0 uL into G5 of Corning 384 Well Plate 112 µL Flat on 5 at 7.56 uL/sec\n",
      "Touching tip\n",
      "Blowing out at A1 of Opentrons Fixed Trash on 12\n",
      "Aspirating 16.0 uL from A1 of NEST 12 Well Reservoir 15 mL on 2 at 7.56 uL/sec\n",
      "Touching tip\n",
      "Dispensing 5.0 uL into H5 of Corning 384 Well Plate 112 µL Flat on 5 at 7.56 uL/sec\n",
      "Touching tip\n",
      "Dispensing 5.0 uL into I5 of Corning 384 Well Plate 112 µL Flat on 5 at 7.56 uL/sec\n",
      "Touching tip\n",
      "Dispensing 5.0 uL into J5 of Corning 384 Well Plate 112 µL Flat on 5 at 7.56 uL/sec\n",
      "Touching tip\n",
      "Blowing out at A1 of Opentrons Fixed Trash on 12\n",
      "Aspirating 16.0 uL from A1 of NEST 12 Well Reservoir 15 mL on 2 at 7.56 uL/sec\n",
      "Touching tip\n",
      "Dispensing 5.0 uL into K5 of Corning 384 Well Plate 112 µL Flat on 5 at 7.56 uL/sec\n",
      "Touching tip\n",
      "Dispensing 5.0 uL into L5 of Corning 384 Well Plate 112 µL Flat on 5 at 7.56 uL/sec\n",
      "Touching tip\n",
      "Dispensing 5.0 uL into M5 of Corning 384 Well Plate 112 µL Flat on 5 at 7.56 uL/sec\n",
      "Touching tip\n",
      "Blowing out at A1 of Opentrons Fixed Trash on 12\n",
      "Aspirating 16.0 uL from A1 of NEST 12 Well Reservoir 15 mL on 2 at 7.56 uL/sec\n",
      "Touching tip\n",
      "Dispensing 5.0 uL into N5 of Corning 384 Well Plate 112 µL Flat on 5 at 7.56 uL/sec\n",
      "Touching tip\n",
      "Dispensing 5.0 uL into O5 of Corning 384 Well Plate 112 µL Flat on 5 at 7.56 uL/sec\n",
      "Touching tip\n",
      "Dispensing 5.0 uL into P5 of Corning 384 Well Plate 112 µL Flat on 5 at 7.56 uL/sec\n",
      "Touching tip\n",
      "Blowing out at A1 of Opentrons Fixed Trash on 12\n"
     ]
    }
   ],
   "source": [
    "for line in protocol.commands(): \n",
    "    print(line)"
   ]
  },
  {
   "cell_type": "markdown",
   "id": "designed-myanmar",
   "metadata": {},
   "source": [
    "Simple command:"
   ]
  },
  {
   "cell_type": "code",
   "execution_count": 51,
   "id": "enhanced-turner",
   "metadata": {},
   "outputs": [
    {
     "name": "stdout",
     "output_type": "stream",
     "text": [
      "A2 of Corning 384 Well Plate 112 µL Flat on 5 20.0\n",
      "B2 of Corning 384 Well Plate 112 µL Flat on 5 20.0\n",
      "C2 of Corning 384 Well Plate 112 µL Flat on 5 20.0\n",
      "D2 of Corning 384 Well Plate 112 µL Flat on 5 20.0\n",
      "E2 of Corning 384 Well Plate 112 µL Flat on 5 20.0\n",
      "F2 of Corning 384 Well Plate 112 µL Flat on 5 20.0\n",
      "G2 of Corning 384 Well Plate 112 µL Flat on 5 20.0\n",
      "H2 of Corning 384 Well Plate 112 µL Flat on 5 20.0\n",
      "I2 of Corning 384 Well Plate 112 µL Flat on 5 20.0\n",
      "J2 of Corning 384 Well Plate 112 µL Flat on 5 20.0\n",
      "K2 of Corning 384 Well Plate 112 µL Flat on 5 20.0\n",
      "L2 of Corning 384 Well Plate 112 µL Flat on 5 20.0\n",
      "M2 of Corning 384 Well Plate 112 µL Flat on 5 20.0\n",
      "N2 of Corning 384 Well Plate 112 µL Flat on 5 20.0\n",
      "O2 of Corning 384 Well Plate 112 µL Flat on 5 20.0\n",
      "P2 of Corning 384 Well Plate 112 µL Flat on 5 20.0\n",
      "A3 of Corning 384 Well Plate 112 µL Flat on 5 15.0\n",
      "B3 of Corning 384 Well Plate 112 µL Flat on 5 15.0\n",
      "C3 of Corning 384 Well Plate 112 µL Flat on 5 15.0\n",
      "D3 of Corning 384 Well Plate 112 µL Flat on 5 15.0\n",
      "E3 of Corning 384 Well Plate 112 µL Flat on 5 15.0\n",
      "F3 of Corning 384 Well Plate 112 µL Flat on 5 15.0\n",
      "G3 of Corning 384 Well Plate 112 µL Flat on 5 15.0\n",
      "H3 of Corning 384 Well Plate 112 µL Flat on 5 15.0\n",
      "I3 of Corning 384 Well Plate 112 µL Flat on 5 15.0\n",
      "J3 of Corning 384 Well Plate 112 µL Flat on 5 15.0\n",
      "K3 of Corning 384 Well Plate 112 µL Flat on 5 15.0\n",
      "L3 of Corning 384 Well Plate 112 µL Flat on 5 15.0\n",
      "M3 of Corning 384 Well Plate 112 µL Flat on 5 15.0\n",
      "N3 of Corning 384 Well Plate 112 µL Flat on 5 15.0\n",
      "O3 of Corning 384 Well Plate 112 µL Flat on 5 15.0\n",
      "P3 of Corning 384 Well Plate 112 µL Flat on 5 15.0\n",
      "A4 of Corning 384 Well Plate 112 µL Flat on 5 10.0\n",
      "B4 of Corning 384 Well Plate 112 µL Flat on 5 10.0\n",
      "C4 of Corning 384 Well Plate 112 µL Flat on 5 10.0\n",
      "D4 of Corning 384 Well Plate 112 µL Flat on 5 10.0\n",
      "E4 of Corning 384 Well Plate 112 µL Flat on 5 10.0\n",
      "F4 of Corning 384 Well Plate 112 µL Flat on 5 10.0\n",
      "G4 of Corning 384 Well Plate 112 µL Flat on 5 10.0\n",
      "H4 of Corning 384 Well Plate 112 µL Flat on 5 10.0\n",
      "I4 of Corning 384 Well Plate 112 µL Flat on 5 10.0\n",
      "J4 of Corning 384 Well Plate 112 µL Flat on 5 10.0\n",
      "K4 of Corning 384 Well Plate 112 µL Flat on 5 10.0\n",
      "L4 of Corning 384 Well Plate 112 µL Flat on 5 10.0\n",
      "M4 of Corning 384 Well Plate 112 µL Flat on 5 10.0\n",
      "N4 of Corning 384 Well Plate 112 µL Flat on 5 10.0\n",
      "O4 of Corning 384 Well Plate 112 µL Flat on 5 10.0\n",
      "P4 of Corning 384 Well Plate 112 µL Flat on 5 10.0\n",
      "A5 of Corning 384 Well Plate 112 µL Flat on 5 5.0\n",
      "B5 of Corning 384 Well Plate 112 µL Flat on 5 5.0\n",
      "C5 of Corning 384 Well Plate 112 µL Flat on 5 5.0\n",
      "D5 of Corning 384 Well Plate 112 µL Flat on 5 5.0\n",
      "E5 of Corning 384 Well Plate 112 µL Flat on 5 5.0\n",
      "F5 of Corning 384 Well Plate 112 µL Flat on 5 5.0\n",
      "G5 of Corning 384 Well Plate 112 µL Flat on 5 5.0\n",
      "H5 of Corning 384 Well Plate 112 µL Flat on 5 5.0\n",
      "I5 of Corning 384 Well Plate 112 µL Flat on 5 5.0\n",
      "J5 of Corning 384 Well Plate 112 µL Flat on 5 5.0\n",
      "K5 of Corning 384 Well Plate 112 µL Flat on 5 5.0\n",
      "L5 of Corning 384 Well Plate 112 µL Flat on 5 5.0\n",
      "M5 of Corning 384 Well Plate 112 µL Flat on 5 5.0\n",
      "N5 of Corning 384 Well Plate 112 µL Flat on 5 5.0\n",
      "O5 of Corning 384 Well Plate 112 µL Flat on 5 5.0\n",
      "P5 of Corning 384 Well Plate 112 µL Flat on 5 5.0\n",
      "A6 of Corning 384 Well Plate 112 µL Flat on 5 0.0\n",
      "B6 of Corning 384 Well Plate 112 µL Flat on 5 0.0\n",
      "C6 of Corning 384 Well Plate 112 µL Flat on 5 0.0\n",
      "D6 of Corning 384 Well Plate 112 µL Flat on 5 0.0\n",
      "E6 of Corning 384 Well Plate 112 µL Flat on 5 0.0\n",
      "F6 of Corning 384 Well Plate 112 µL Flat on 5 0.0\n",
      "G6 of Corning 384 Well Plate 112 µL Flat on 5 0.0\n",
      "H6 of Corning 384 Well Plate 112 µL Flat on 5 0.0\n",
      "I6 of Corning 384 Well Plate 112 µL Flat on 5 0.0\n",
      "J6 of Corning 384 Well Plate 112 µL Flat on 5 0.0\n",
      "K6 of Corning 384 Well Plate 112 µL Flat on 5 0.0\n",
      "L6 of Corning 384 Well Plate 112 µL Flat on 5 0.0\n",
      "M6 of Corning 384 Well Plate 112 µL Flat on 5 0.0\n",
      "N6 of Corning 384 Well Plate 112 µL Flat on 5 0.0\n",
      "O6 of Corning 384 Well Plate 112 µL Flat on 5 0.0\n",
      "P6 of Corning 384 Well Plate 112 µL Flat on 5 0.0\n",
      "Needed 1.0264034271240234\n"
     ]
    }
   ],
   "source": [
    "if not pip_20.hw_pipette['has_tip']:\n",
    "    pip_20.pick_up_tip()\n",
    "\n",
    "t_start = time.time() \n",
    "\n",
    "for i, vol  in enumerate(vols_A_384):\n",
    "    print(wells_to_pipette_to[i], vol)\n",
    "    \n",
    "    pip_20.aspirate(vol, buffer_A[\"pos\"])\n",
    "    \n",
    "    pip_20.dispense(vol, wells_to_pipette_to[i])\n",
    "    \n",
    "t_end = time.time()\n",
    "print(f'Needed {t_end-t_start}')"
   ]
  },
  {
   "cell_type": "markdown",
   "id": "starting-disco",
   "metadata": {},
   "source": [
    "### Buffer B:"
   ]
  },
  {
   "cell_type": "markdown",
   "id": "dutch-procedure",
   "metadata": {},
   "source": [
    "Complex command:"
   ]
  },
  {
   "cell_type": "code",
   "execution_count": 52,
   "id": "cardiovascular-founder",
   "metadata": {},
   "outputs": [
    {
     "name": "stdout",
     "output_type": "stream",
     "text": [
      "Needed 1.990797996520996\n"
     ]
    }
   ],
   "source": [
    "if not pip_20.hw_pipette['has_tip']:\n",
    "    pip_20.pick_up_tip()\n",
    "\n",
    "t_start = time.time()    \n",
    "    \n",
    "pip_20.distribute(vols_B_384,\n",
    "              buffer_B[\"pos\"],\n",
    "              wells_to_pipette_to,\n",
    "              new_tip='never',\n",
    "              touch_tip=True, \n",
    "              disposal_volume = 1,\n",
    "             )\n",
    "t_end = time.time()\n",
    "print(f'Needed {t_end-t_start}')"
   ]
  },
  {
   "cell_type": "code",
   "execution_count": null,
   "id": "reserved-binary",
   "metadata": {},
   "outputs": [],
   "source": [
    "pip_20.drop_tip()"
   ]
  },
  {
   "cell_type": "code",
   "execution_count": 53,
   "id": "above-viking",
   "metadata": {},
   "outputs": [
    {
     "name": "stdout",
     "output_type": "stream",
     "text": [
      "Needed 2.0264580249786377\n"
     ]
    }
   ],
   "source": [
    "t_start = time.time() \n",
    "\n",
    "for i, vol  in enumerate(vols_B_384):\n",
    "    \n",
    "    pip_20.aspirate(vol, buffer_B[\"pos\"])\n",
    "    \n",
    "    pip_20.dispense(vol, wells_to_pipette_to[i])\n",
    "    \n",
    "    pip_20.move_to(reservoir[\"A12\"].top())\n",
    "    \n",
    "    pip_20.blow_out(reservoir[\"A12\"].bottom())\n",
    "    \n",
    "t_end = time.time()\n",
    "print(f'Needed {t_end-t_start}')"
   ]
  },
  {
   "cell_type": "code",
   "execution_count": null,
   "id": "national-bride",
   "metadata": {},
   "outputs": [],
   "source": [
    "protocol.home()"
   ]
  },
  {
   "cell_type": "markdown",
   "id": "editorial-singer",
   "metadata": {},
   "source": [
    "## Protein to source wells"
   ]
  },
  {
   "cell_type": "markdown",
   "id": "further-column",
   "metadata": {},
   "source": [
    "We need to fill the first column with protein buffer starting from the second row:"
   ]
  },
  {
   "cell_type": "code",
   "execution_count": 54,
   "id": "early-battery",
   "metadata": {},
   "outputs": [
    {
     "data": {
      "text/plain": [
       "[B1 of Corning 384 Well Plate 112 µL Flat on 5,\n",
       " C1 of Corning 384 Well Plate 112 µL Flat on 5,\n",
       " D1 of Corning 384 Well Plate 112 µL Flat on 5,\n",
       " E1 of Corning 384 Well Plate 112 µL Flat on 5,\n",
       " F1 of Corning 384 Well Plate 112 µL Flat on 5,\n",
       " G1 of Corning 384 Well Plate 112 µL Flat on 5,\n",
       " H1 of Corning 384 Well Plate 112 µL Flat on 5,\n",
       " I1 of Corning 384 Well Plate 112 µL Flat on 5,\n",
       " J1 of Corning 384 Well Plate 112 µL Flat on 5,\n",
       " K1 of Corning 384 Well Plate 112 µL Flat on 5,\n",
       " L1 of Corning 384 Well Plate 112 µL Flat on 5,\n",
       " M1 of Corning 384 Well Plate 112 µL Flat on 5,\n",
       " N1 of Corning 384 Well Plate 112 µL Flat on 5,\n",
       " O1 of Corning 384 Well Plate 112 µL Flat on 5,\n",
       " P1 of Corning 384 Well Plate 112 µL Flat on 5]"
      ]
     },
     "execution_count": 54,
     "metadata": {},
     "output_type": "execute_result"
    }
   ],
   "source": [
    "plate.columns()[0][1:]"
   ]
  },
  {
   "cell_type": "code",
   "execution_count": 55,
   "id": "anticipated-ending",
   "metadata": {},
   "outputs": [
    {
     "name": "stdout",
     "output_type": "stream",
     "text": [
      "Needed 0.22037196159362793\n"
     ]
    }
   ],
   "source": [
    "if not pip_300.hw_pipette['has_tip']:\n",
    "    pip_300.pick_up_tip()\n",
    "\n",
    "t_start = time.time()  \n",
    "    \n",
    "pip_300.distribute(protein[\"v1\"],\n",
    "                  buffer_B[\"pos\"],\n",
    "                  plate.columns()[0][1:], # start at second row, in first row is only protein\n",
    "                  touch_tip = True,\n",
    "                  new_tip = 'never'\n",
    "              )\n",
    "\n",
    "t_end = time.time()\n",
    "print(f'Needed {t_end-t_start}')\n",
    "\n",
    "# pip_300.return_tip()"
   ]
  },
  {
   "cell_type": "code",
   "execution_count": 22,
   "id": "excess-domain",
   "metadata": {},
   "outputs": [
    {
     "data": {
      "text/plain": [
       "<InstrumentContext: p300_single_v2.1 in RIGHT>"
      ]
     },
     "execution_count": 22,
     "metadata": {},
     "output_type": "execute_result"
    }
   ],
   "source": [
    "pip_300.pick_up_tip()"
   ]
  },
  {
   "cell_type": "code",
   "execution_count": 56,
   "id": "cellular-attachment",
   "metadata": {
    "scrolled": true
   },
   "outputs": [
    {
     "name": "stdout",
     "output_type": "stream",
     "text": [
      "Transferring 50.23801187686225 from B1 of Corning 384 Well Plate 112 µL Flat on 5 to C1 of Corning 384 Well Plate 112 µL Flat on 5 \n",
      "\n",
      "Transferring 50.23801187686225 from C1 of Corning 384 Well Plate 112 µL Flat on 5 to D1 of Corning 384 Well Plate 112 µL Flat on 5 \n",
      "\n",
      "Transferring 50.23801187686225 from D1 of Corning 384 Well Plate 112 µL Flat on 5 to E1 of Corning 384 Well Plate 112 µL Flat on 5 \n",
      "\n",
      "Transferring 50.23801187686225 from E1 of Corning 384 Well Plate 112 µL Flat on 5 to F1 of Corning 384 Well Plate 112 µL Flat on 5 \n",
      "\n",
      "Transferring 50.23801187686225 from F1 of Corning 384 Well Plate 112 µL Flat on 5 to G1 of Corning 384 Well Plate 112 µL Flat on 5 \n",
      "\n",
      "Transferring 50.23801187686225 from G1 of Corning 384 Well Plate 112 µL Flat on 5 to H1 of Corning 384 Well Plate 112 µL Flat on 5 \n",
      "\n",
      "Transferring 50.23801187686225 from H1 of Corning 384 Well Plate 112 µL Flat on 5 to I1 of Corning 384 Well Plate 112 µL Flat on 5 \n",
      "\n",
      "Transferring 50.23801187686225 from I1 of Corning 384 Well Plate 112 µL Flat on 5 to J1 of Corning 384 Well Plate 112 µL Flat on 5 \n",
      "\n",
      "Transferring 50.23801187686225 from J1 of Corning 384 Well Plate 112 µL Flat on 5 to K1 of Corning 384 Well Plate 112 µL Flat on 5 \n",
      "\n",
      "Transferring 50.23801187686225 from K1 of Corning 384 Well Plate 112 µL Flat on 5 to L1 of Corning 384 Well Plate 112 µL Flat on 5 \n",
      "\n",
      "Transferring 50.23801187686225 from L1 of Corning 384 Well Plate 112 µL Flat on 5 to M1 of Corning 384 Well Plate 112 µL Flat on 5 \n",
      "\n",
      "Transferring 50.23801187686225 from M1 of Corning 384 Well Plate 112 µL Flat on 5 to N1 of Corning 384 Well Plate 112 µL Flat on 5 \n",
      "\n",
      "Transferring 50.23801187686225 from N1 of Corning 384 Well Plate 112 µL Flat on 5 to O1 of Corning 384 Well Plate 112 µL Flat on 5 \n",
      "\n",
      "Transferring 50.23801187686225 from O1 of Corning 384 Well Plate 112 µL Flat on 5 to P1 of Corning 384 Well Plate 112 µL Flat on 5 \n",
      "\n",
      "Needed 6.581758260726929\n"
     ]
    },
    {
     "data": {
      "text/plain": [
       "<InstrumentContext: p300_single_v2.0 in LEFT>"
      ]
     },
     "execution_count": 56,
     "metadata": {},
     "output_type": "execute_result"
    }
   ],
   "source": [
    "if not pip_300.hw_pipette['has_tip']:\n",
    "    pip_300.pick_up_tip()\n",
    "\n",
    "for source_well, dest_well in zip(plate.columns()[0][1:-1], plate.columns()[0][2:len(plate.columns())+1]):\n",
    "    print(f'Transferring {protein[\"v_t\"]} from {source_well} to {dest_well} \\n')\n",
    "    pip_300.aspirate(protein[\"v_t\"], source_well)\n",
    "    pip_300.touch_tip()\n",
    "    pip_300.dispense(protein[\"v_t\"], dest_well)\n",
    "\n",
    "pip_300.aspirate(protein[\"v_t\"])\n",
    "pip_300.blow_out(protocol.fixed_trash['A1'])\n",
    "\n",
    "t_end = time.time()\n",
    "print(f'Needed {t_end-t_start}')\n",
    "    \n",
    "pip_300.drop_tip()"
   ]
  },
  {
   "cell_type": "code",
   "execution_count": null,
   "id": "centered-schema",
   "metadata": {},
   "outputs": [],
   "source": [
    "for line in protocol.commands():\n",
    "    print(line)"
   ]
  },
  {
   "cell_type": "markdown",
   "id": "worth-investigator",
   "metadata": {},
   "source": [
    "## Protein to destination wells\n",
    "\n",
    "Now transfer protein to different salt concentrations:\n",
    "\n",
    "# Q: change tips?"
   ]
  },
  {
   "cell_type": "code",
   "execution_count": 28,
   "id": "bibliographic-executive",
   "metadata": {},
   "outputs": [
    {
     "ename": "KeyboardInterrupt",
     "evalue": "",
     "output_type": "error",
     "traceback": [
      "\u001b[0;31m---------------------------------------------------------------------------\u001b[0m",
      "\u001b[0;31mKeyboardInterrupt\u001b[0m                         Traceback (most recent call last)",
      "\u001b[0;32m<ipython-input-28-32b02e31f4b7>\u001b[0m in \u001b[0;36m<module>\u001b[0;34m()\u001b[0m\n\u001b[1;32m     12\u001b[0m                   \u001b[0mtouch_tip\u001b[0m \u001b[0;34m=\u001b[0m \u001b[0;32mTrue\u001b[0m\u001b[0;34m,\u001b[0m\u001b[0;34m\u001b[0m\u001b[0;34m\u001b[0m\u001b[0m\n\u001b[1;32m     13\u001b[0m                   \u001b[0mnew_tip\u001b[0m \u001b[0;34m=\u001b[0m \u001b[0;34m'never'\u001b[0m\u001b[0;34m,\u001b[0m\u001b[0;34m\u001b[0m\u001b[0;34m\u001b[0m\u001b[0m\n\u001b[0;32m---> 14\u001b[0;31m                   \u001b[0mmix_after\u001b[0m \u001b[0;34m=\u001b[0m \u001b[0;34m(\u001b[0m\u001b[0;36m3\u001b[0m\u001b[0;34m,\u001b[0m \u001b[0;36m20\u001b[0m\u001b[0;34m)\u001b[0m\u001b[0;34m,\u001b[0m\u001b[0;34m\u001b[0m\u001b[0;34m\u001b[0m\u001b[0m\n\u001b[0m\u001b[1;32m     15\u001b[0m                   )\n\u001b[1;32m     16\u001b[0m \u001b[0;31m#     pip_left.drop_tip()\u001b[0m\u001b[0;34m\u001b[0m\u001b[0;34m\u001b[0m\u001b[0;34m\u001b[0m\u001b[0m\n",
      "\u001b[0;32m/usr/lib/python3.7/site-packages/opentrons/commands/publisher.pyc\u001b[0m in \u001b[0;36m_decorated\u001b[0;34m(*args, **kwargs)\u001b[0m\n",
      "\u001b[0;32m/usr/lib/python3.7/site-packages/opentrons/protocols/api_support/util.pyc\u001b[0m in \u001b[0;36m_check_version_wrapper\u001b[0;34m(*args, **kwargs)\u001b[0m\n",
      "\u001b[0;32m/usr/lib/python3.7/site-packages/opentrons/protocol_api/instrument_context.pyc\u001b[0m in \u001b[0;36mdistribute\u001b[0;34m(self, volume, source, dest, *args, **kwargs)\u001b[0m\n",
      "\u001b[0;32m/usr/lib/python3.7/site-packages/opentrons/commands/publisher.pyc\u001b[0m in \u001b[0;36m_decorated\u001b[0;34m(*args, **kwargs)\u001b[0m\n",
      "\u001b[0;32m/usr/lib/python3.7/site-packages/opentrons/protocols/api_support/util.pyc\u001b[0m in \u001b[0;36m_check_version_wrapper\u001b[0;34m(*args, **kwargs)\u001b[0m\n",
      "\u001b[0;32m/usr/lib/python3.7/site-packages/opentrons/protocol_api/instrument_context.pyc\u001b[0m in \u001b[0;36mtransfer\u001b[0;34m(self, volume, source, dest, trash, **kwargs)\u001b[0m\n",
      "\u001b[0;32m/usr/lib/python3.7/site-packages/opentrons/protocol_api/instrument_context.pyc\u001b[0m in \u001b[0;36m_execute_transfer\u001b[0;34m(self, plan)\u001b[0m\n",
      "\u001b[0;32m/usr/lib/python3.7/site-packages/opentrons/protocols/api_support/util.pyc\u001b[0m in \u001b[0;36m_check_version_wrapper\u001b[0;34m(*args, **kwargs)\u001b[0m\n",
      "\u001b[0;32m/usr/lib/python3.7/site-packages/opentrons/protocol_api/instrument_context.pyc\u001b[0m in \u001b[0;36maspirate\u001b[0;34m(self, volume, location, rate)\u001b[0m\n",
      "\u001b[0;32m/usr/lib/python3.7/site-packages/opentrons/protocols/api_support/util.pyc\u001b[0m in \u001b[0;36m_check_version_wrapper\u001b[0;34m(*args, **kwargs)\u001b[0m\n",
      "\u001b[0;32m/usr/lib/python3.7/site-packages/opentrons/protocol_api/instrument_context.pyc\u001b[0m in \u001b[0;36mmove_to\u001b[0;34m(self, location, force_direct, minimum_z_height, speed, publish)\u001b[0m\n",
      "\u001b[0;32m/usr/lib/python3.7/site-packages/opentrons/protocols/context/protocol_api/instrument_context.pyc\u001b[0m in \u001b[0;36mmove_to\u001b[0;34m(self, location, force_direct, minimum_z_height, speed)\u001b[0m\n",
      "\u001b[0;32m/usr/lib/python3.7/site-packages/opentrons/hardware_control/adapters.pyc\u001b[0m in \u001b[0;36mcall_coroutine_sync\u001b[0;34m(loop, to_call, *args, **kwargs)\u001b[0m\n",
      "\u001b[0;32m/usr/lib/python3.7/concurrent/futures/_base.pyc\u001b[0m in \u001b[0;36mresult\u001b[0;34m(self, timeout)\u001b[0m\n",
      "\u001b[0;32m/usr/lib/python3.7/threading.pyc\u001b[0m in \u001b[0;36mwait\u001b[0;34m(self, timeout)\u001b[0m\n",
      "\u001b[0;31mKeyboardInterrupt\u001b[0m: "
     ]
    }
   ],
   "source": [
    "if not pip_20.hw_pipette['has_tip']:\n",
    "    pip_20.pick_up_tip()\n",
    "\n",
    "# for more careful protein handling:\n",
    "pip_20.flow_rate.aspirate = 2\n",
    "pip_20.flow_rate.dispense = 2\n",
    "\n",
    "for row in plate.columns_by_name()['1'][0:2]:\n",
    "    pip_20.distribute(v_protein_to_wells,\n",
    "                  plate.columns_by_name()['1'],\n",
    "                  list(np.flip(wells_to_pipette_to)), # <-- note that\n",
    "                  touch_tip = True,\n",
    "                  new_tip = 'never',\n",
    "                  mix_after = (3, 20),\n",
    "                  )\n",
    "#     pip_20.drop_tip()"
   ]
  },
  {
   "cell_type": "code",
   "execution_count": 27,
   "id": "reliable-delight",
   "metadata": {},
   "outputs": [
    {
     "data": {
      "text/plain": [
       "[A1 of Corning 384 Well Plate 112 µL Flat on 5,\n",
       " B1 of Corning 384 Well Plate 112 µL Flat on 5]"
      ]
     },
     "execution_count": 27,
     "metadata": {},
     "output_type": "execute_result"
    }
   ],
   "source": [
    "plate.columns_by_name()['1'][0:2]"
   ]
  },
  {
   "cell_type": "code",
   "execution_count": null,
   "id": "backed-norwegian",
   "metadata": {},
   "outputs": [],
   "source": [
    "for line in protocol.commands():\n",
    "    print(line)"
   ]
  },
  {
   "cell_type": "markdown",
   "id": "cathedral-lancaster",
   "metadata": {},
   "source": [
    "Notes:\n",
    "\n",
    "- 12.01.22: I exchanged the p300 single for the p20 multi\n",
    "- as a result, I had to calibrate pipette and tip length... (30 min)\n",
    "\n",
    "- when using mix_[before/after] it will mix always. When you tell it to dispense 45 µl with a 20 µl pipette, it will pipette 20 µl -> mix, 20 µl -> mix and 5 µl -> mix"
   ]
  },
  {
   "cell_type": "code",
   "execution_count": null,
   "id": "characteristic-moisture",
   "metadata": {},
   "outputs": [],
   "source": [
    "df = pd.DataFrame({\"Protein concentration in µM\": protein_concentrations, \"Wells\": plate.columns()[1]})\n",
    "df[\"Wells\"] = df[\"Wells\"].astype(str).str[0:2]\n",
    "df"
   ]
  },
  {
   "cell_type": "code",
   "execution_count": null,
   "id": "parliamentary-presence",
   "metadata": {},
   "outputs": [],
   "source": [
    "df[\"Wells\"].astype(str)"
   ]
  },
  {
   "cell_type": "code",
   "execution_count": null,
   "id": "mathematical-rachel",
   "metadata": {},
   "outputs": [],
   "source": [
    "plate.rows()"
   ]
  },
  {
   "cell_type": "code",
   "execution_count": null,
   "id": "norwegian-module",
   "metadata": {},
   "outputs": [],
   "source": [
    "protein_buffer[\"pos\"]"
   ]
  },
  {
   "cell_type": "code",
   "execution_count": 30,
   "id": "french-boring",
   "metadata": {},
   "outputs": [
    {
     "data": {
      "text/plain": [
       "<InstrumentContext: p300_single_v2.1 in RIGHT>"
      ]
     },
     "execution_count": 30,
     "metadata": {},
     "output_type": "execute_result"
    }
   ],
   "source": [
    "pip_300.drop_tip()"
   ]
  },
  {
   "cell_type": "markdown",
   "id": "greatest-strength",
   "metadata": {},
   "source": [
    "25 µl Buffer B in source wells.\n",
    "\n",
    "50 µl transferred"
   ]
  },
  {
   "cell_type": "code",
   "execution_count": null,
   "id": "canadian-services",
   "metadata": {},
   "outputs": [],
   "source": [
    "pip_20.pick_up_tip()"
   ]
  },
  {
   "cell_type": "code",
   "execution_count": null,
   "id": "controversial-timer",
   "metadata": {},
   "outputs": [],
   "source": [
    "pip_20.drop_tip()"
   ]
  },
  {
   "cell_type": "code",
   "execution_count": null,
   "id": "numerical-nepal",
   "metadata": {},
   "outputs": [],
   "source": [
    "[method_name for method_name in dir(protocol)\n",
    "                  if callable(getattr(protocol, method_name))]"
   ]
  },
  {
   "cell_type": "code",
   "execution_count": null,
   "id": "blind-radius",
   "metadata": {},
   "outputs": [],
   "source": [
    "protocol.door_closed"
   ]
  },
  {
   "cell_type": "code",
   "execution_count": null,
   "id": "colored-investor",
   "metadata": {},
   "outputs": [],
   "source": [
    "protocol.home()"
   ]
  },
  {
   "cell_type": "code",
   "execution_count": null,
   "id": "universal-ceremony",
   "metadata": {},
   "outputs": [],
   "source": [
    "pip_20.move_to(reservoir[\"A12\"].top())"
   ]
  },
  {
   "cell_type": "code",
   "execution_count": null,
   "id": "minimal-oasis",
   "metadata": {},
   "outputs": [],
   "source": [
    "pip_20.move_to(reservoir[\"A12\"].bottom())"
   ]
  },
  {
   "cell_type": "code",
   "execution_count": null,
   "id": "connected-imaging",
   "metadata": {},
   "outputs": [],
   "source": [
    "reservoir[\"A12\"].bottom().point"
   ]
  },
  {
   "cell_type": "code",
   "execution_count": null,
   "id": "vulnerable-documentary",
   "metadata": {},
   "outputs": [],
   "source": [
    "point = reservoir[\"A12\"].bottom().point\n",
    "point.z += 1\n",
    "point"
   ]
  },
  {
   "cell_type": "code",
   "execution_count": null,
   "id": "threatened-fighter",
   "metadata": {},
   "outputs": [],
   "source": [
    "point"
   ]
  },
  {
   "cell_type": "code",
   "execution_count": null,
   "id": "skilled-forth",
   "metadata": {},
   "outputs": [],
   "source": [
    "(x,y,z) =  [c for c in reservoir[\"A2\"].().point]"
   ]
  },
  {
   "cell_type": "code",
   "execution_count": null,
   "id": "female-russia",
   "metadata": {},
   "outputs": [],
   "source": [
    "z += 1\n",
    "loc = Location(Point(x, y, z), None)"
   ]
  },
  {
   "cell_type": "code",
   "execution_count": null,
   "id": "portable-worst",
   "metadata": {},
   "outputs": [],
   "source": [
    "last_concentration = protein[\"c\"]\n",
    "\n",
    "v_buffer  = (8*num_cols)\n",
    "\n",
    "# we need more total volume than transfer volume\n",
    "v_src_well = (v_buffer) + (1 * protein[\"transfer volume\"])\n",
    "\n",
    "# include the original concentration\n",
    "c_src_wells = [protein[\"c\"]]\n",
    "\n",
    "# calculate the concentration in each source well\n",
    "for r in range(1, len(plate.rows())):\n",
    "    c = last_concentration * (protein[\"transfer volume\"] / v_src_well)\n",
    "    c_src_wells.append(c)\n",
    "    \n",
    "    last_concentration = c"
   ]
  },
  {
   "cell_type": "code",
   "execution_count": null,
   "id": "static-archives",
   "metadata": {},
   "outputs": [],
   "source": [
    "protein_concentrations = [c_src_well * protein[\"transfer volume to dest\"] / (max_volume_buffers + protein[\"transfer volume to dest\"]) for c_src_well in c_src_wells]"
   ]
  },
  {
   "cell_type": "code",
   "execution_count": null,
   "id": "secondary-hungary",
   "metadata": {},
   "outputs": [],
   "source": [
    "print(\"Protein concentrations in source wells:\")\n",
    "[print(f'{c:.2e} µl') for c in c_src_wells]\n",
    "\n",
    "print(\"Protein concentrations in destination wells\")\n",
    "[print(f'{c:.2e} µM') for c in protein_concentrations];"
   ]
  },
  {
   "cell_type": "code",
   "execution_count": 26,
   "id": "liked-excess",
   "metadata": {},
   "outputs": [
    {
     "data": {
      "text/plain": [
       "<InstrumentContext: p300_single_v2.1 in RIGHT>"
      ]
     },
     "execution_count": 26,
     "metadata": {},
     "output_type": "execute_result"
    }
   ],
   "source": [
    "pip_300.pick_up_tip()"
   ]
  },
  {
   "cell_type": "code",
   "execution_count": 25,
   "id": "elder-luxembourg",
   "metadata": {},
   "outputs": [
    {
     "data": {
      "text/plain": [
       "<InstrumentContext: p300_single_v2.1 in RIGHT>"
      ]
     },
     "execution_count": 25,
     "metadata": {},
     "output_type": "execute_result"
    }
   ],
   "source": [
    "pip_300.return_tip()"
   ]
  },
  {
   "cell_type": "code",
   "execution_count": 40,
   "id": "dried-monster",
   "metadata": {},
   "outputs": [
    {
     "data": {
      "text/plain": [
       "<InstrumentContext: p20_multi_v2.1 in LEFT>"
      ]
     },
     "execution_count": 40,
     "metadata": {},
     "output_type": "execute_result"
    }
   ],
   "source": [
    "pip_20.aspirate(20, buffer_B[\"pos\"])"
   ]
  },
  {
   "cell_type": "code",
   "execution_count": 31,
   "id": "possible-gnome",
   "metadata": {},
   "outputs": [],
   "source": [
    "protocol.home()"
   ]
  },
  {
   "cell_type": "code",
   "execution_count": 29,
   "id": "important-madonna",
   "metadata": {},
   "outputs": [
    {
     "data": {
      "text/plain": [
       "<InstrumentContext: p20_multi_v2.1 in LEFT>"
      ]
     },
     "execution_count": 29,
     "metadata": {},
     "output_type": "execute_result"
    }
   ],
   "source": [
    "pip_20.drop_tip()"
   ]
  },
  {
   "cell_type": "markdown",
   "id": "liked-handle",
   "metadata": {},
   "source": [
    "Since we use a 384 well plate, we need to accomodate for that:"
   ]
  }
 ],
 "metadata": {
  "kernelspec": {
   "display_name": "Python 3",
   "language": "python",
   "name": "python3"
  },
  "language_info": {
   "codemirror_mode": {
    "name": "ipython",
    "version": 3
   },
   "file_extension": ".py",
   "mimetype": "text/x-python",
   "name": "python",
   "nbconvert_exporter": "python",
   "pygments_lexer": "ipython3",
   "version": "3.7.9"
  }
 },
 "nbformat": 4,
 "nbformat_minor": 5
}
