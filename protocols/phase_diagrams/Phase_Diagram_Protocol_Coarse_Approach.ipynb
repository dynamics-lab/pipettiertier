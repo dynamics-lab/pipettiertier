{
 "cells": [
  {
   "cell_type": "code",
   "execution_count": 255,
   "id": "preliminary-distinction",
   "metadata": {},
   "outputs": [],
   "source": [
    "from opentrons import simulate, execute\n",
    "from opentrons.types import Location, Point\n",
    "\n",
    "import numpy as np\n",
    "import pandas as pd\n",
    "import time\n",
    "import math\n",
    "import matplotlib.pyplot as plt\n",
    "\n",
    "api_level= '2.11'"
   ]
  },
  {
   "cell_type": "markdown",
   "id": "sound-andrews",
   "metadata": {},
   "source": [
    "If we want to simulate:"
   ]
  },
  {
   "cell_type": "code",
   "execution_count": 259,
   "id": "right-public",
   "metadata": {},
   "outputs": [
    {
     "name": "stderr",
     "output_type": "stream",
     "text": [
      "C:\\Users\\raras\\.opentrons\\robot_settings.json not found. Loading defaults\n",
      "C:\\Users\\raras\\.opentrons\\deck_calibration.json not found. Loading defaults\n"
     ]
    }
   ],
   "source": [
    "protocol = simulate.get_protocol_api(api_level)\n",
    "\n",
    "protocol.home()"
   ]
  },
  {
   "cell_type": "code",
   "execution_count": 260,
   "id": "convinced-thomson",
   "metadata": {},
   "outputs": [],
   "source": [
    "tips_300 = protocol.load_labware(\"opentrons_96_tiprack_300ul\", 1)\n",
    "\n",
    "reservoir = protocol.load_labware(\"nest_12_reservoir_15ml\", 2)\n",
    "\n",
    "tips_20 = protocol.load_labware(\"opentrons_96_filtertiprack_20ul\", 4)\n",
    "\n",
    "plate = protocol.load_labware(\"corning_384_wellplate_112ul_flat\", 5)\n",
    "\n",
    "tube_rack1 = protocol.load_labware(\"opentrons_10_tuberack_falcon_4x50ml_6x15ml_conical\", 6)\n",
    "\n",
    "tube_rack2 = protocol.load_labware(\"opentrons_10_tuberack_falcon_4x50ml_6x15ml_conical\", 7)\n",
    "\n",
    "# pcr_tubes_plate = protocol.load_labware(\"opentrons_96_aluminumblock_generic_pcr_strip_200ul\", 2)"
   ]
  },
  {
   "cell_type": "code",
   "execution_count": 261,
   "id": "painted-attraction",
   "metadata": {},
   "outputs": [],
   "source": [
    "protein_cs = [1,3,6,12]\n",
    "salt_cs = [50, 100, 150, 200]\n",
    "pHs = [6.5, 7.5, 8.5]\n",
    "# DNA = [False, True]"
   ]
  },
  {
   "cell_type": "code",
   "execution_count": 435,
   "id": "alpha-tours",
   "metadata": {},
   "outputs": [],
   "source": [
    "salt_buffer = {\n",
    "    \"name\": \"Salty buffer\",\n",
    "    \"pos\": tube_rack[\"A1\"],\n",
    "    \"vols\": [5, 10, 15, 20],\n",
    "}\n",
    "normal_buffer = {\n",
    "    \"name\": \"Normal buffer\",\n",
    "    \"pos\": tube_rack[\"A2\"],\n",
    "    \"vols\": [20, 15, 10, 5]\n",
    "}\n",
    "\n",
    "DNA = {\n",
    "    \"pos\": tube_rack[\"A3\"],\n",
    "    \"vol\": 1,\n",
    "}\n",
    "\n",
    "acids = {\n",
    "    \"high\": {\"pos\": tube_rack2[\"A1\"],\n",
    "            \"vol\": 0},\n",
    "    \"middle\": {\"pos\": tube_rack2[\"A2\"],\n",
    "              \"vol\": 0},\n",
    "    \"low\": {\"pos\": tube_rack2[\"A3\"],\n",
    "           \"vol\": 0},\n",
    "}\n",
    "\n",
    "protein = {\n",
    "    \"high\": {\"pos\": tube_rack1[\"A1\"],\n",
    "            \"vol\": 0},\n",
    "    \"middle\": {\"pos\": tube_rack1[\"A2\"],\n",
    "              \"vol\": 0},\n",
    "    \"low\": {\"pos\": tube_rack1[\"A3\"],\n",
    "           \"vol\": 0},\n",
    "    \"buffer\": {\n",
    "        \"pos\": normal_buffer[\"pos\"]\n",
    "    }\n",
    "}\n",
    "water = {\n",
    "    \"pos\": tube_rack[\"B3\"]\n",
    "}"
   ]
  },
  {
   "cell_type": "code",
   "execution_count": 433,
   "id": "timely-florist",
   "metadata": {},
   "outputs": [],
   "source": [
    "block_shape = (len(pHs), len(DNA))\n",
    "overall_shape = (4,4,2,3)\n",
    "wells_to_fill = np.array(plate.wells()).reshape(24,16)[0:8,0:12]"
   ]
  },
  {
   "cell_type": "code",
   "execution_count": 430,
   "id": "spare-popularity",
   "metadata": {},
   "outputs": [],
   "source": [
    "wells_blockshaped = blockshaped(wells_to_fill, 2, 3)"
   ]
  },
  {
   "cell_type": "code",
   "execution_count": 199,
   "id": "advised-spain",
   "metadata": {},
   "outputs": [
    {
     "ename": "RuntimeError",
     "evalue": "Instrument already present in left mount: p300_single_gen2",
     "output_type": "error",
     "traceback": [
      "\u001b[1;31m---------------------------------------------------------------------------\u001b[0m",
      "\u001b[1;31mRuntimeError\u001b[0m                              Traceback (most recent call last)",
      "\u001b[1;32m<ipython-input-199-a802d8653951>\u001b[0m in \u001b[0;36m<module>\u001b[1;34m\u001b[0m\n\u001b[1;32m----> 1\u001b[1;33m \u001b[0mpip\u001b[0m \u001b[1;33m=\u001b[0m \u001b[0mprotocol\u001b[0m\u001b[1;33m.\u001b[0m\u001b[0mload_instrument\u001b[0m\u001b[1;33m(\u001b[0m\u001b[1;34m\"p300_single_gen2\"\u001b[0m\u001b[1;33m,\u001b[0m \u001b[1;34m\"left\"\u001b[0m\u001b[1;33m,\u001b[0m \u001b[0mtip_racks\u001b[0m\u001b[1;33m=\u001b[0m\u001b[1;33m[\u001b[0m\u001b[0mtips_300\u001b[0m\u001b[1;33m]\u001b[0m\u001b[1;33m)\u001b[0m\u001b[1;33m\u001b[0m\u001b[1;33m\u001b[0m\u001b[0m\n\u001b[0m",
      "\u001b[1;32m~\\.conda\\envs\\env\\lib\\site-packages\\opentrons\\protocols\\api_support\\util.py\u001b[0m in \u001b[0;36m_check_version_wrapper\u001b[1;34m(*args, **kwargs)\u001b[0m\n\u001b[0;32m    418\u001b[0m                     \u001b[1;34m\"use this functionality.\"\u001b[0m\u001b[1;33m\u001b[0m\u001b[1;33m\u001b[0m\u001b[0m\n\u001b[0;32m    419\u001b[0m                 )\n\u001b[1;32m--> 420\u001b[1;33m             \u001b[1;32mreturn\u001b[0m \u001b[0mdecorated_obj\u001b[0m\u001b[1;33m(\u001b[0m\u001b[1;33m*\u001b[0m\u001b[0margs\u001b[0m\u001b[1;33m,\u001b[0m \u001b[1;33m**\u001b[0m\u001b[0mkwargs\u001b[0m\u001b[1;33m)\u001b[0m\u001b[1;33m\u001b[0m\u001b[1;33m\u001b[0m\u001b[0m\n\u001b[0m\u001b[0;32m    421\u001b[0m \u001b[1;33m\u001b[0m\u001b[0m\n\u001b[0;32m    422\u001b[0m         \u001b[1;32mreturn\u001b[0m \u001b[0mcast\u001b[0m\u001b[1;33m(\u001b[0m\u001b[0mFuncT\u001b[0m\u001b[1;33m,\u001b[0m \u001b[0m_check_version_wrapper\u001b[0m\u001b[1;33m)\u001b[0m\u001b[1;33m\u001b[0m\u001b[1;33m\u001b[0m\u001b[0m\n",
      "\u001b[1;32m~\\.conda\\envs\\env\\lib\\site-packages\\opentrons\\protocol_api\\protocol_context.py\u001b[0m in \u001b[0;36mload_instrument\u001b[1;34m(self, instrument_name, mount, tip_racks, replace)\u001b[0m\n\u001b[0;32m    625\u001b[0m \u001b[1;33m\u001b[0m\u001b[0m\n\u001b[0;32m    626\u001b[0m         impl = self._implementation.load_instrument(\n\u001b[1;32m--> 627\u001b[1;33m             \u001b[0minstrument_name\u001b[0m\u001b[1;33m=\u001b[0m\u001b[0minstrument_name\u001b[0m\u001b[1;33m,\u001b[0m \u001b[0mmount\u001b[0m\u001b[1;33m=\u001b[0m\u001b[0mchecked_mount\u001b[0m\u001b[1;33m,\u001b[0m \u001b[0mreplace\u001b[0m\u001b[1;33m=\u001b[0m\u001b[0mreplace\u001b[0m\u001b[1;33m\u001b[0m\u001b[1;33m\u001b[0m\u001b[0m\n\u001b[0m\u001b[0;32m    628\u001b[0m         )\n\u001b[0;32m    629\u001b[0m \u001b[1;33m\u001b[0m\u001b[0m\n",
      "\u001b[1;32m~\\.conda\\envs\\env\\lib\\site-packages\\opentrons\\protocols\\context\\protocol_api\\protocol_context.py\u001b[0m in \u001b[0;36mload_instrument\u001b[1;34m(self, instrument_name, mount, replace)\u001b[0m\n\u001b[0;32m    240\u001b[0m         \u001b[1;32mif\u001b[0m \u001b[0minstr\u001b[0m \u001b[1;32mand\u001b[0m \u001b[1;32mnot\u001b[0m \u001b[0mreplace\u001b[0m\u001b[1;33m:\u001b[0m\u001b[1;33m\u001b[0m\u001b[1;33m\u001b[0m\u001b[0m\n\u001b[0;32m    241\u001b[0m             raise RuntimeError(\n\u001b[1;32m--> 242\u001b[1;33m                 \u001b[1;34mf\"Instrument already present in {mount.name.lower()} \"\u001b[0m\u001b[1;33m\u001b[0m\u001b[1;33m\u001b[0m\u001b[0m\n\u001b[0m\u001b[0;32m    243\u001b[0m                 \u001b[1;34mf\"mount: {instr.get_instrument_name()}\"\u001b[0m\u001b[1;33m\u001b[0m\u001b[1;33m\u001b[0m\u001b[0m\n\u001b[0;32m    244\u001b[0m             )\n",
      "\u001b[1;31mRuntimeError\u001b[0m: Instrument already present in left mount: p300_single_gen2"
     ]
    }
   ],
   "source": [
    "pip = protocol.load_instrument(\"p300_single_gen2\", \"left\", tip_racks=[tips_300])"
   ]
  },
  {
   "cell_type": "code",
   "execution_count": 214,
   "id": "injured-swift",
   "metadata": {},
   "outputs": [
    {
     "data": {
      "text/plain": [
       "array([[[A1 of Corning 384 Well Plate 112 µL Flat on 5,\n",
       "         B1 of Corning 384 Well Plate 112 µL Flat on 5,\n",
       "         C1 of Corning 384 Well Plate 112 µL Flat on 5],\n",
       "        [A2 of Corning 384 Well Plate 112 µL Flat on 5,\n",
       "         B2 of Corning 384 Well Plate 112 µL Flat on 5,\n",
       "         C2 of Corning 384 Well Plate 112 µL Flat on 5]],\n",
       "\n",
       "       [[D1 of Corning 384 Well Plate 112 µL Flat on 5,\n",
       "         E1 of Corning 384 Well Plate 112 µL Flat on 5,\n",
       "         F1 of Corning 384 Well Plate 112 µL Flat on 5],\n",
       "        [D2 of Corning 384 Well Plate 112 µL Flat on 5,\n",
       "         E2 of Corning 384 Well Plate 112 µL Flat on 5,\n",
       "         F2 of Corning 384 Well Plate 112 µL Flat on 5]],\n",
       "\n",
       "       [[G1 of Corning 384 Well Plate 112 µL Flat on 5,\n",
       "         H1 of Corning 384 Well Plate 112 µL Flat on 5,\n",
       "         I1 of Corning 384 Well Plate 112 µL Flat on 5],\n",
       "        [G2 of Corning 384 Well Plate 112 µL Flat on 5,\n",
       "         H2 of Corning 384 Well Plate 112 µL Flat on 5,\n",
       "         I2 of Corning 384 Well Plate 112 µL Flat on 5]],\n",
       "\n",
       "       [[J1 of Corning 384 Well Plate 112 µL Flat on 5,\n",
       "         K1 of Corning 384 Well Plate 112 µL Flat on 5,\n",
       "         L1 of Corning 384 Well Plate 112 µL Flat on 5],\n",
       "        [J2 of Corning 384 Well Plate 112 µL Flat on 5,\n",
       "         K2 of Corning 384 Well Plate 112 µL Flat on 5,\n",
       "         L2 of Corning 384 Well Plate 112 µL Flat on 5]],\n",
       "\n",
       "       [[A3 of Corning 384 Well Plate 112 µL Flat on 5,\n",
       "         B3 of Corning 384 Well Plate 112 µL Flat on 5,\n",
       "         C3 of Corning 384 Well Plate 112 µL Flat on 5],\n",
       "        [A4 of Corning 384 Well Plate 112 µL Flat on 5,\n",
       "         B4 of Corning 384 Well Plate 112 µL Flat on 5,\n",
       "         C4 of Corning 384 Well Plate 112 µL Flat on 5]],\n",
       "\n",
       "       [[D3 of Corning 384 Well Plate 112 µL Flat on 5,\n",
       "         E3 of Corning 384 Well Plate 112 µL Flat on 5,\n",
       "         F3 of Corning 384 Well Plate 112 µL Flat on 5],\n",
       "        [D4 of Corning 384 Well Plate 112 µL Flat on 5,\n",
       "         E4 of Corning 384 Well Plate 112 µL Flat on 5,\n",
       "         F4 of Corning 384 Well Plate 112 µL Flat on 5]],\n",
       "\n",
       "       [[G3 of Corning 384 Well Plate 112 µL Flat on 5,\n",
       "         H3 of Corning 384 Well Plate 112 µL Flat on 5,\n",
       "         I3 of Corning 384 Well Plate 112 µL Flat on 5],\n",
       "        [G4 of Corning 384 Well Plate 112 µL Flat on 5,\n",
       "         H4 of Corning 384 Well Plate 112 µL Flat on 5,\n",
       "         I4 of Corning 384 Well Plate 112 µL Flat on 5]],\n",
       "\n",
       "       [[J3 of Corning 384 Well Plate 112 µL Flat on 5,\n",
       "         K3 of Corning 384 Well Plate 112 µL Flat on 5,\n",
       "         L3 of Corning 384 Well Plate 112 µL Flat on 5],\n",
       "        [J4 of Corning 384 Well Plate 112 µL Flat on 5,\n",
       "         K4 of Corning 384 Well Plate 112 µL Flat on 5,\n",
       "         L4 of Corning 384 Well Plate 112 µL Flat on 5]],\n",
       "\n",
       "       [[A5 of Corning 384 Well Plate 112 µL Flat on 5,\n",
       "         B5 of Corning 384 Well Plate 112 µL Flat on 5,\n",
       "         C5 of Corning 384 Well Plate 112 µL Flat on 5],\n",
       "        [A6 of Corning 384 Well Plate 112 µL Flat on 5,\n",
       "         B6 of Corning 384 Well Plate 112 µL Flat on 5,\n",
       "         C6 of Corning 384 Well Plate 112 µL Flat on 5]],\n",
       "\n",
       "       [[D5 of Corning 384 Well Plate 112 µL Flat on 5,\n",
       "         E5 of Corning 384 Well Plate 112 µL Flat on 5,\n",
       "         F5 of Corning 384 Well Plate 112 µL Flat on 5],\n",
       "        [D6 of Corning 384 Well Plate 112 µL Flat on 5,\n",
       "         E6 of Corning 384 Well Plate 112 µL Flat on 5,\n",
       "         F6 of Corning 384 Well Plate 112 µL Flat on 5]],\n",
       "\n",
       "       [[G5 of Corning 384 Well Plate 112 µL Flat on 5,\n",
       "         H5 of Corning 384 Well Plate 112 µL Flat on 5,\n",
       "         I5 of Corning 384 Well Plate 112 µL Flat on 5],\n",
       "        [G6 of Corning 384 Well Plate 112 µL Flat on 5,\n",
       "         H6 of Corning 384 Well Plate 112 µL Flat on 5,\n",
       "         I6 of Corning 384 Well Plate 112 µL Flat on 5]],\n",
       "\n",
       "       [[J5 of Corning 384 Well Plate 112 µL Flat on 5,\n",
       "         K5 of Corning 384 Well Plate 112 µL Flat on 5,\n",
       "         L5 of Corning 384 Well Plate 112 µL Flat on 5],\n",
       "        [J6 of Corning 384 Well Plate 112 µL Flat on 5,\n",
       "         K6 of Corning 384 Well Plate 112 µL Flat on 5,\n",
       "         L6 of Corning 384 Well Plate 112 µL Flat on 5]],\n",
       "\n",
       "       [[A7 of Corning 384 Well Plate 112 µL Flat on 5,\n",
       "         B7 of Corning 384 Well Plate 112 µL Flat on 5,\n",
       "         C7 of Corning 384 Well Plate 112 µL Flat on 5],\n",
       "        [A8 of Corning 384 Well Plate 112 µL Flat on 5,\n",
       "         B8 of Corning 384 Well Plate 112 µL Flat on 5,\n",
       "         C8 of Corning 384 Well Plate 112 µL Flat on 5]],\n",
       "\n",
       "       [[D7 of Corning 384 Well Plate 112 µL Flat on 5,\n",
       "         E7 of Corning 384 Well Plate 112 µL Flat on 5,\n",
       "         F7 of Corning 384 Well Plate 112 µL Flat on 5],\n",
       "        [D8 of Corning 384 Well Plate 112 µL Flat on 5,\n",
       "         E8 of Corning 384 Well Plate 112 µL Flat on 5,\n",
       "         F8 of Corning 384 Well Plate 112 µL Flat on 5]],\n",
       "\n",
       "       [[G7 of Corning 384 Well Plate 112 µL Flat on 5,\n",
       "         H7 of Corning 384 Well Plate 112 µL Flat on 5,\n",
       "         I7 of Corning 384 Well Plate 112 µL Flat on 5],\n",
       "        [G8 of Corning 384 Well Plate 112 µL Flat on 5,\n",
       "         H8 of Corning 384 Well Plate 112 µL Flat on 5,\n",
       "         I8 of Corning 384 Well Plate 112 µL Flat on 5]],\n",
       "\n",
       "       [[J7 of Corning 384 Well Plate 112 µL Flat on 5,\n",
       "         K7 of Corning 384 Well Plate 112 µL Flat on 5,\n",
       "         L7 of Corning 384 Well Plate 112 µL Flat on 5],\n",
       "        [J8 of Corning 384 Well Plate 112 µL Flat on 5,\n",
       "         K8 of Corning 384 Well Plate 112 µL Flat on 5,\n",
       "         L8 of Corning 384 Well Plate 112 µL Flat on 5]]], dtype=object)"
      ]
     },
     "execution_count": 214,
     "metadata": {},
     "output_type": "execute_result"
    }
   ],
   "source": [
    "blockshaped(wells_to_be_filled, 2,3)"
   ]
  },
  {
   "cell_type": "markdown",
   "id": "northern-franchise",
   "metadata": {},
   "source": [
    "## For visualization:"
   ]
  },
  {
   "cell_type": "code",
   "execution_count": 9,
   "id": "built-russian",
   "metadata": {},
   "outputs": [],
   "source": [
    "wells_reshaped = np.array(plate.wells()).reshape((24,16))\n",
    "zeros = np.zeros(wells_reshaped.shape)\n",
    "zeros = np.swapaxes(zeros, 0, 1)"
   ]
  },
  {
   "cell_type": "markdown",
   "id": "humanitarian-sally",
   "metadata": {},
   "source": [
    "# Buffers:"
   ]
  },
  {
   "cell_type": "code",
   "execution_count": 157,
   "id": "isolated-collar",
   "metadata": {},
   "outputs": [
    {
     "name": "stdout",
     "output_type": "stream",
     "text": [
      "Pipetting buffer: Salty buffer\n",
      "Pipetting 5 µl into this block:\n",
      "[[1. 1. 1. 1. 1. 1. 1. 1. 0. 0. 0. 0. 0. 0. 0. 0. 0. 0. 0. 0. 0. 0. 0. 0.]\n",
      " [1. 1. 1. 1. 1. 1. 1. 1. 0. 0. 0. 0. 0. 0. 0. 0. 0. 0. 0. 0. 0. 0. 0. 0.]\n",
      " [1. 1. 1. 1. 1. 1. 1. 1. 0. 0. 0. 0. 0. 0. 0. 0. 0. 0. 0. 0. 0. 0. 0. 0.]\n",
      " [0. 0. 0. 0. 0. 0. 0. 0. 0. 0. 0. 0. 0. 0. 0. 0. 0. 0. 0. 0. 0. 0. 0. 0.]\n",
      " [0. 0. 0. 0. 0. 0. 0. 0. 0. 0. 0. 0. 0. 0. 0. 0. 0. 0. 0. 0. 0. 0. 0. 0.]\n",
      " [0. 0. 0. 0. 0. 0. 0. 0. 0. 0. 0. 0. 0. 0. 0. 0. 0. 0. 0. 0. 0. 0. 0. 0.]\n",
      " [0. 0. 0. 0. 0. 0. 0. 0. 0. 0. 0. 0. 0. 0. 0. 0. 0. 0. 0. 0. 0. 0. 0. 0.]\n",
      " [0. 0. 0. 0. 0. 0. 0. 0. 0. 0. 0. 0. 0. 0. 0. 0. 0. 0. 0. 0. 0. 0. 0. 0.]\n",
      " [0. 0. 0. 0. 0. 0. 0. 0. 0. 0. 0. 0. 0. 0. 0. 0. 0. 0. 0. 0. 0. 0. 0. 0.]\n",
      " [0. 0. 0. 0. 0. 0. 0. 0. 0. 0. 0. 0. 0. 0. 0. 0. 0. 0. 0. 0. 0. 0. 0. 0.]\n",
      " [0. 0. 0. 0. 0. 0. 0. 0. 0. 0. 0. 0. 0. 0. 0. 0. 0. 0. 0. 0. 0. 0. 0. 0.]\n",
      " [0. 0. 0. 0. 0. 0. 0. 0. 0. 0. 0. 0. 0. 0. 0. 0. 0. 0. 0. 0. 0. 0. 0. 0.]\n",
      " [0. 0. 0. 0. 0. 0. 0. 0. 0. 0. 0. 0. 0. 0. 0. 0. 0. 0. 0. 0. 0. 0. 0. 0.]\n",
      " [0. 0. 0. 0. 0. 0. 0. 0. 0. 0. 0. 0. 0. 0. 0. 0. 0. 0. 0. 0. 0. 0. 0. 0.]\n",
      " [0. 0. 0. 0. 0. 0. 0. 0. 0. 0. 0. 0. 0. 0. 0. 0. 0. 0. 0. 0. 0. 0. 0. 0.]\n",
      " [0. 0. 0. 0. 0. 0. 0. 0. 0. 0. 0. 0. 0. 0. 0. 0. 0. 0. 0. 0. 0. 0. 0. 0.]]\n",
      "Pipetting 10 µl into this block:\n",
      "[[0. 0. 0. 0. 0. 0. 0. 0. 0. 0. 0. 0. 0. 0. 0. 0. 0. 0. 0. 0. 0. 0. 0. 0.]\n",
      " [0. 0. 0. 0. 0. 0. 0. 0. 0. 0. 0. 0. 0. 0. 0. 0. 0. 0. 0. 0. 0. 0. 0. 0.]\n",
      " [0. 0. 0. 0. 0. 0. 0. 0. 0. 0. 0. 0. 0. 0. 0. 0. 0. 0. 0. 0. 0. 0. 0. 0.]\n",
      " [1. 1. 1. 1. 1. 1. 1. 1. 0. 0. 0. 0. 0. 0. 0. 0. 0. 0. 0. 0. 0. 0. 0. 0.]\n",
      " [1. 1. 1. 1. 1. 1. 1. 1. 0. 0. 0. 0. 0. 0. 0. 0. 0. 0. 0. 0. 0. 0. 0. 0.]\n",
      " [1. 1. 1. 1. 1. 1. 1. 1. 0. 0. 0. 0. 0. 0. 0. 0. 0. 0. 0. 0. 0. 0. 0. 0.]\n",
      " [0. 0. 0. 0. 0. 0. 0. 0. 0. 0. 0. 0. 0. 0. 0. 0. 0. 0. 0. 0. 0. 0. 0. 0.]\n",
      " [0. 0. 0. 0. 0. 0. 0. 0. 0. 0. 0. 0. 0. 0. 0. 0. 0. 0. 0. 0. 0. 0. 0. 0.]\n",
      " [0. 0. 0. 0. 0. 0. 0. 0. 0. 0. 0. 0. 0. 0. 0. 0. 0. 0. 0. 0. 0. 0. 0. 0.]\n",
      " [0. 0. 0. 0. 0. 0. 0. 0. 0. 0. 0. 0. 0. 0. 0. 0. 0. 0. 0. 0. 0. 0. 0. 0.]\n",
      " [0. 0. 0. 0. 0. 0. 0. 0. 0. 0. 0. 0. 0. 0. 0. 0. 0. 0. 0. 0. 0. 0. 0. 0.]\n",
      " [0. 0. 0. 0. 0. 0. 0. 0. 0. 0. 0. 0. 0. 0. 0. 0. 0. 0. 0. 0. 0. 0. 0. 0.]\n",
      " [0. 0. 0. 0. 0. 0. 0. 0. 0. 0. 0. 0. 0. 0. 0. 0. 0. 0. 0. 0. 0. 0. 0. 0.]\n",
      " [0. 0. 0. 0. 0. 0. 0. 0. 0. 0. 0. 0. 0. 0. 0. 0. 0. 0. 0. 0. 0. 0. 0. 0.]\n",
      " [0. 0. 0. 0. 0. 0. 0. 0. 0. 0. 0. 0. 0. 0. 0. 0. 0. 0. 0. 0. 0. 0. 0. 0.]\n",
      " [0. 0. 0. 0. 0. 0. 0. 0. 0. 0. 0. 0. 0. 0. 0. 0. 0. 0. 0. 0. 0. 0. 0. 0.]]\n",
      "Pipetting 15 µl into this block:\n",
      "[[0. 0. 0. 0. 0. 0. 0. 0. 0. 0. 0. 0. 0. 0. 0. 0. 0. 0. 0. 0. 0. 0. 0. 0.]\n",
      " [0. 0. 0. 0. 0. 0. 0. 0. 0. 0. 0. 0. 0. 0. 0. 0. 0. 0. 0. 0. 0. 0. 0. 0.]\n",
      " [0. 0. 0. 0. 0. 0. 0. 0. 0. 0. 0. 0. 0. 0. 0. 0. 0. 0. 0. 0. 0. 0. 0. 0.]\n",
      " [0. 0. 0. 0. 0. 0. 0. 0. 0. 0. 0. 0. 0. 0. 0. 0. 0. 0. 0. 0. 0. 0. 0. 0.]\n",
      " [0. 0. 0. 0. 0. 0. 0. 0. 0. 0. 0. 0. 0. 0. 0. 0. 0. 0. 0. 0. 0. 0. 0. 0.]\n",
      " [0. 0. 0. 0. 0. 0. 0. 0. 0. 0. 0. 0. 0. 0. 0. 0. 0. 0. 0. 0. 0. 0. 0. 0.]\n",
      " [1. 1. 1. 1. 1. 1. 1. 1. 0. 0. 0. 0. 0. 0. 0. 0. 0. 0. 0. 0. 0. 0. 0. 0.]\n",
      " [1. 1. 1. 1. 1. 1. 1. 1. 0. 0. 0. 0. 0. 0. 0. 0. 0. 0. 0. 0. 0. 0. 0. 0.]\n",
      " [1. 1. 1. 1. 1. 1. 1. 1. 0. 0. 0. 0. 0. 0. 0. 0. 0. 0. 0. 0. 0. 0. 0. 0.]\n",
      " [0. 0. 0. 0. 0. 0. 0. 0. 0. 0. 0. 0. 0. 0. 0. 0. 0. 0. 0. 0. 0. 0. 0. 0.]\n",
      " [0. 0. 0. 0. 0. 0. 0. 0. 0. 0. 0. 0. 0. 0. 0. 0. 0. 0. 0. 0. 0. 0. 0. 0.]\n",
      " [0. 0. 0. 0. 0. 0. 0. 0. 0. 0. 0. 0. 0. 0. 0. 0. 0. 0. 0. 0. 0. 0. 0. 0.]\n",
      " [0. 0. 0. 0. 0. 0. 0. 0. 0. 0. 0. 0. 0. 0. 0. 0. 0. 0. 0. 0. 0. 0. 0. 0.]\n",
      " [0. 0. 0. 0. 0. 0. 0. 0. 0. 0. 0. 0. 0. 0. 0. 0. 0. 0. 0. 0. 0. 0. 0. 0.]\n",
      " [0. 0. 0. 0. 0. 0. 0. 0. 0. 0. 0. 0. 0. 0. 0. 0. 0. 0. 0. 0. 0. 0. 0. 0.]\n",
      " [0. 0. 0. 0. 0. 0. 0. 0. 0. 0. 0. 0. 0. 0. 0. 0. 0. 0. 0. 0. 0. 0. 0. 0.]]\n",
      "Pipetting 20 µl into this block:\n",
      "[[0. 0. 0. 0. 0. 0. 0. 0. 0. 0. 0. 0. 0. 0. 0. 0. 0. 0. 0. 0. 0. 0. 0. 0.]\n",
      " [0. 0. 0. 0. 0. 0. 0. 0. 0. 0. 0. 0. 0. 0. 0. 0. 0. 0. 0. 0. 0. 0. 0. 0.]\n",
      " [0. 0. 0. 0. 0. 0. 0. 0. 0. 0. 0. 0. 0. 0. 0. 0. 0. 0. 0. 0. 0. 0. 0. 0.]\n",
      " [0. 0. 0. 0. 0. 0. 0. 0. 0. 0. 0. 0. 0. 0. 0. 0. 0. 0. 0. 0. 0. 0. 0. 0.]\n",
      " [0. 0. 0. 0. 0. 0. 0. 0. 0. 0. 0. 0. 0. 0. 0. 0. 0. 0. 0. 0. 0. 0. 0. 0.]\n",
      " [0. 0. 0. 0. 0. 0. 0. 0. 0. 0. 0. 0. 0. 0. 0. 0. 0. 0. 0. 0. 0. 0. 0. 0.]\n",
      " [0. 0. 0. 0. 0. 0. 0. 0. 0. 0. 0. 0. 0. 0. 0. 0. 0. 0. 0. 0. 0. 0. 0. 0.]\n",
      " [0. 0. 0. 0. 0. 0. 0. 0. 0. 0. 0. 0. 0. 0. 0. 0. 0. 0. 0. 0. 0. 0. 0. 0.]\n",
      " [0. 0. 0. 0. 0. 0. 0. 0. 0. 0. 0. 0. 0. 0. 0. 0. 0. 0. 0. 0. 0. 0. 0. 0.]\n",
      " [1. 1. 1. 1. 1. 1. 1. 1. 0. 0. 0. 0. 0. 0. 0. 0. 0. 0. 0. 0. 0. 0. 0. 0.]\n",
      " [1. 1. 1. 1. 1. 1. 1. 1. 0. 0. 0. 0. 0. 0. 0. 0. 0. 0. 0. 0. 0. 0. 0. 0.]\n",
      " [1. 1. 1. 1. 1. 1. 1. 1. 0. 0. 0. 0. 0. 0. 0. 0. 0. 0. 0. 0. 0. 0. 0. 0.]\n",
      " [0. 0. 0. 0. 0. 0. 0. 0. 0. 0. 0. 0. 0. 0. 0. 0. 0. 0. 0. 0. 0. 0. 0. 0.]\n",
      " [0. 0. 0. 0. 0. 0. 0. 0. 0. 0. 0. 0. 0. 0. 0. 0. 0. 0. 0. 0. 0. 0. 0. 0.]\n",
      " [0. 0. 0. 0. 0. 0. 0. 0. 0. 0. 0. 0. 0. 0. 0. 0. 0. 0. 0. 0. 0. 0. 0. 0.]\n",
      " [0. 0. 0. 0. 0. 0. 0. 0. 0. 0. 0. 0. 0. 0. 0. 0. 0. 0. 0. 0. 0. 0. 0. 0.]]\n",
      "Pipetting buffer: Normal buffer\n",
      "Pipetting 20 µl into this block:\n",
      "[[1. 1. 1. 1. 1. 1. 1. 1. 0. 0. 0. 0. 0. 0. 0. 0. 0. 0. 0. 0. 0. 0. 0. 0.]\n",
      " [1. 1. 1. 1. 1. 1. 1. 1. 0. 0. 0. 0. 0. 0. 0. 0. 0. 0. 0. 0. 0. 0. 0. 0.]\n",
      " [1. 1. 1. 1. 1. 1. 1. 1. 0. 0. 0. 0. 0. 0. 0. 0. 0. 0. 0. 0. 0. 0. 0. 0.]\n",
      " [0. 0. 0. 0. 0. 0. 0. 0. 0. 0. 0. 0. 0. 0. 0. 0. 0. 0. 0. 0. 0. 0. 0. 0.]\n",
      " [0. 0. 0. 0. 0. 0. 0. 0. 0. 0. 0. 0. 0. 0. 0. 0. 0. 0. 0. 0. 0. 0. 0. 0.]\n",
      " [0. 0. 0. 0. 0. 0. 0. 0. 0. 0. 0. 0. 0. 0. 0. 0. 0. 0. 0. 0. 0. 0. 0. 0.]\n",
      " [0. 0. 0. 0. 0. 0. 0. 0. 0. 0. 0. 0. 0. 0. 0. 0. 0. 0. 0. 0. 0. 0. 0. 0.]\n",
      " [0. 0. 0. 0. 0. 0. 0. 0. 0. 0. 0. 0. 0. 0. 0. 0. 0. 0. 0. 0. 0. 0. 0. 0.]\n",
      " [0. 0. 0. 0. 0. 0. 0. 0. 0. 0. 0. 0. 0. 0. 0. 0. 0. 0. 0. 0. 0. 0. 0. 0.]\n",
      " [0. 0. 0. 0. 0. 0. 0. 0. 0. 0. 0. 0. 0. 0. 0. 0. 0. 0. 0. 0. 0. 0. 0. 0.]\n",
      " [0. 0. 0. 0. 0. 0. 0. 0. 0. 0. 0. 0. 0. 0. 0. 0. 0. 0. 0. 0. 0. 0. 0. 0.]\n",
      " [0. 0. 0. 0. 0. 0. 0. 0. 0. 0. 0. 0. 0. 0. 0. 0. 0. 0. 0. 0. 0. 0. 0. 0.]\n",
      " [0. 0. 0. 0. 0. 0. 0. 0. 0. 0. 0. 0. 0. 0. 0. 0. 0. 0. 0. 0. 0. 0. 0. 0.]\n",
      " [0. 0. 0. 0. 0. 0. 0. 0. 0. 0. 0. 0. 0. 0. 0. 0. 0. 0. 0. 0. 0. 0. 0. 0.]\n",
      " [0. 0. 0. 0. 0. 0. 0. 0. 0. 0. 0. 0. 0. 0. 0. 0. 0. 0. 0. 0. 0. 0. 0. 0.]\n",
      " [0. 0. 0. 0. 0. 0. 0. 0. 0. 0. 0. 0. 0. 0. 0. 0. 0. 0. 0. 0. 0. 0. 0. 0.]]\n",
      "Pipetting 15 µl into this block:\n",
      "[[0. 0. 0. 0. 0. 0. 0. 0. 0. 0. 0. 0. 0. 0. 0. 0. 0. 0. 0. 0. 0. 0. 0. 0.]\n",
      " [0. 0. 0. 0. 0. 0. 0. 0. 0. 0. 0. 0. 0. 0. 0. 0. 0. 0. 0. 0. 0. 0. 0. 0.]\n",
      " [0. 0. 0. 0. 0. 0. 0. 0. 0. 0. 0. 0. 0. 0. 0. 0. 0. 0. 0. 0. 0. 0. 0. 0.]\n",
      " [1. 1. 1. 1. 1. 1. 1. 1. 0. 0. 0. 0. 0. 0. 0. 0. 0. 0. 0. 0. 0. 0. 0. 0.]\n",
      " [1. 1. 1. 1. 1. 1. 1. 1. 0. 0. 0. 0. 0. 0. 0. 0. 0. 0. 0. 0. 0. 0. 0. 0.]\n",
      " [1. 1. 1. 1. 1. 1. 1. 1. 0. 0. 0. 0. 0. 0. 0. 0. 0. 0. 0. 0. 0. 0. 0. 0.]\n",
      " [0. 0. 0. 0. 0. 0. 0. 0. 0. 0. 0. 0. 0. 0. 0. 0. 0. 0. 0. 0. 0. 0. 0. 0.]\n",
      " [0. 0. 0. 0. 0. 0. 0. 0. 0. 0. 0. 0. 0. 0. 0. 0. 0. 0. 0. 0. 0. 0. 0. 0.]\n",
      " [0. 0. 0. 0. 0. 0. 0. 0. 0. 0. 0. 0. 0. 0. 0. 0. 0. 0. 0. 0. 0. 0. 0. 0.]\n",
      " [0. 0. 0. 0. 0. 0. 0. 0. 0. 0. 0. 0. 0. 0. 0. 0. 0. 0. 0. 0. 0. 0. 0. 0.]\n",
      " [0. 0. 0. 0. 0. 0. 0. 0. 0. 0. 0. 0. 0. 0. 0. 0. 0. 0. 0. 0. 0. 0. 0. 0.]\n",
      " [0. 0. 0. 0. 0. 0. 0. 0. 0. 0. 0. 0. 0. 0. 0. 0. 0. 0. 0. 0. 0. 0. 0. 0.]\n",
      " [0. 0. 0. 0. 0. 0. 0. 0. 0. 0. 0. 0. 0. 0. 0. 0. 0. 0. 0. 0. 0. 0. 0. 0.]\n",
      " [0. 0. 0. 0. 0. 0. 0. 0. 0. 0. 0. 0. 0. 0. 0. 0. 0. 0. 0. 0. 0. 0. 0. 0.]\n",
      " [0. 0. 0. 0. 0. 0. 0. 0. 0. 0. 0. 0. 0. 0. 0. 0. 0. 0. 0. 0. 0. 0. 0. 0.]\n",
      " [0. 0. 0. 0. 0. 0. 0. 0. 0. 0. 0. 0. 0. 0. 0. 0. 0. 0. 0. 0. 0. 0. 0. 0.]]\n",
      "Pipetting 10 µl into this block:\n",
      "[[0. 0. 0. 0. 0. 0. 0. 0. 0. 0. 0. 0. 0. 0. 0. 0. 0. 0. 0. 0. 0. 0. 0. 0.]\n",
      " [0. 0. 0. 0. 0. 0. 0. 0. 0. 0. 0. 0. 0. 0. 0. 0. 0. 0. 0. 0. 0. 0. 0. 0.]\n",
      " [0. 0. 0. 0. 0. 0. 0. 0. 0. 0. 0. 0. 0. 0. 0. 0. 0. 0. 0. 0. 0. 0. 0. 0.]\n",
      " [0. 0. 0. 0. 0. 0. 0. 0. 0. 0. 0. 0. 0. 0. 0. 0. 0. 0. 0. 0. 0. 0. 0. 0.]\n",
      " [0. 0. 0. 0. 0. 0. 0. 0. 0. 0. 0. 0. 0. 0. 0. 0. 0. 0. 0. 0. 0. 0. 0. 0.]\n",
      " [0. 0. 0. 0. 0. 0. 0. 0. 0. 0. 0. 0. 0. 0. 0. 0. 0. 0. 0. 0. 0. 0. 0. 0.]\n",
      " [1. 1. 1. 1. 1. 1. 1. 1. 0. 0. 0. 0. 0. 0. 0. 0. 0. 0. 0. 0. 0. 0. 0. 0.]\n",
      " [1. 1. 1. 1. 1. 1. 1. 1. 0. 0. 0. 0. 0. 0. 0. 0. 0. 0. 0. 0. 0. 0. 0. 0.]\n",
      " [1. 1. 1. 1. 1. 1. 1. 1. 0. 0. 0. 0. 0. 0. 0. 0. 0. 0. 0. 0. 0. 0. 0. 0.]\n",
      " [0. 0. 0. 0. 0. 0. 0. 0. 0. 0. 0. 0. 0. 0. 0. 0. 0. 0. 0. 0. 0. 0. 0. 0.]\n",
      " [0. 0. 0. 0. 0. 0. 0. 0. 0. 0. 0. 0. 0. 0. 0. 0. 0. 0. 0. 0. 0. 0. 0. 0.]\n",
      " [0. 0. 0. 0. 0. 0. 0. 0. 0. 0. 0. 0. 0. 0. 0. 0. 0. 0. 0. 0. 0. 0. 0. 0.]\n",
      " [0. 0. 0. 0. 0. 0. 0. 0. 0. 0. 0. 0. 0. 0. 0. 0. 0. 0. 0. 0. 0. 0. 0. 0.]\n",
      " [0. 0. 0. 0. 0. 0. 0. 0. 0. 0. 0. 0. 0. 0. 0. 0. 0. 0. 0. 0. 0. 0. 0. 0.]\n",
      " [0. 0. 0. 0. 0. 0. 0. 0. 0. 0. 0. 0. 0. 0. 0. 0. 0. 0. 0. 0. 0. 0. 0. 0.]\n",
      " [0. 0. 0. 0. 0. 0. 0. 0. 0. 0. 0. 0. 0. 0. 0. 0. 0. 0. 0. 0. 0. 0. 0. 0.]]\n",
      "Pipetting 5 µl into this block:\n",
      "[[0. 0. 0. 0. 0. 0. 0. 0. 0. 0. 0. 0. 0. 0. 0. 0. 0. 0. 0. 0. 0. 0. 0. 0.]\n",
      " [0. 0. 0. 0. 0. 0. 0. 0. 0. 0. 0. 0. 0. 0. 0. 0. 0. 0. 0. 0. 0. 0. 0. 0.]\n",
      " [0. 0. 0. 0. 0. 0. 0. 0. 0. 0. 0. 0. 0. 0. 0. 0. 0. 0. 0. 0. 0. 0. 0. 0.]\n",
      " [0. 0. 0. 0. 0. 0. 0. 0. 0. 0. 0. 0. 0. 0. 0. 0. 0. 0. 0. 0. 0. 0. 0. 0.]\n",
      " [0. 0. 0. 0. 0. 0. 0. 0. 0. 0. 0. 0. 0. 0. 0. 0. 0. 0. 0. 0. 0. 0. 0. 0.]\n",
      " [0. 0. 0. 0. 0. 0. 0. 0. 0. 0. 0. 0. 0. 0. 0. 0. 0. 0. 0. 0. 0. 0. 0. 0.]\n",
      " [0. 0. 0. 0. 0. 0. 0. 0. 0. 0. 0. 0. 0. 0. 0. 0. 0. 0. 0. 0. 0. 0. 0. 0.]\n",
      " [0. 0. 0. 0. 0. 0. 0. 0. 0. 0. 0. 0. 0. 0. 0. 0. 0. 0. 0. 0. 0. 0. 0. 0.]\n",
      " [0. 0. 0. 0. 0. 0. 0. 0. 0. 0. 0. 0. 0. 0. 0. 0. 0. 0. 0. 0. 0. 0. 0. 0.]\n",
      " [1. 1. 1. 1. 1. 1. 1. 1. 0. 0. 0. 0. 0. 0. 0. 0. 0. 0. 0. 0. 0. 0. 0. 0.]\n",
      " [1. 1. 1. 1. 1. 1. 1. 1. 0. 0. 0. 0. 0. 0. 0. 0. 0. 0. 0. 0. 0. 0. 0. 0.]\n",
      " [1. 1. 1. 1. 1. 1. 1. 1. 0. 0. 0. 0. 0. 0. 0. 0. 0. 0. 0. 0. 0. 0. 0. 0.]\n",
      " [0. 0. 0. 0. 0. 0. 0. 0. 0. 0. 0. 0. 0. 0. 0. 0. 0. 0. 0. 0. 0. 0. 0. 0.]\n",
      " [0. 0. 0. 0. 0. 0. 0. 0. 0. 0. 0. 0. 0. 0. 0. 0. 0. 0. 0. 0. 0. 0. 0. 0.]\n",
      " [0. 0. 0. 0. 0. 0. 0. 0. 0. 0. 0. 0. 0. 0. 0. 0. 0. 0. 0. 0. 0. 0. 0. 0.]\n",
      " [0. 0. 0. 0. 0. 0. 0. 0. 0. 0. 0. 0. 0. 0. 0. 0. 0. 0. 0. 0. 0. 0. 0. 0.]]\n"
     ]
    }
   ],
   "source": [
    "if not pip.hw_pipette[\"has_tip\"]:\n",
    "    pip.pick_up_tip()\n",
    "\n",
    "for buffer in (salt_buffer, normal_buffer):\n",
    "    print(f'Pipetting buffer: {buffer[\"name\"]}')\n",
    "    vols = buffer[\"vols\"]\n",
    "    for i_s, c_s in enumerate(salt_cs):\n",
    "        from_row = i_s * block_shape[0]\n",
    "        to_row = from_row + block_shape[0]\n",
    "        to_column = len(protein_cs) * block_shape[1]\n",
    "\n",
    "        block = wells_reshaped[0:to_column,from_row:to_row]\n",
    "\n",
    "        current_vis_block = np.copy(zeros)\n",
    "        current_vis_block[from_row:to_row,0:to_column] = 1\n",
    "        print(f'Pipetting {vols[i_s]} µl into this block:')\n",
    "        print(current_vis_block)\n",
    "\n",
    "        for well in block.flatten():\n",
    "            pip.aspirate(vols[i_s],\n",
    "                        buffer[\"pos\"])\n",
    "            pip.dispense(vols[i_s],\n",
    "                        well)"
   ]
  },
  {
   "cell_type": "markdown",
   "id": "answering-democrat",
   "metadata": {},
   "source": [
    "# pH\n",
    "\n",
    "$\n",
    "    pH = pK_{a} - log(\\frac{[HA]}{[A^-]})\n",
    "$\n",
    "\n",
    "$\n",
    "    pK_{a, TRIS, 25°C} = 8.1\n",
    "$\n",
    "\n",
    "For a 50 mM Tris-Buffer at pH 8.5, we have 50 mM Tris and 14.71 mM HCl.\n",
    "I.e. 35.29 mM Tris base and 14.71 conjugated acid."
   ]
  },
  {
   "cell_type": "markdown",
   "id": "progressive-contribution",
   "metadata": {},
   "source": [
    "### Calculations:"
   ]
  },
  {
   "cell_type": "code",
   "execution_count": 399,
   "id": "spanish-chain",
   "metadata": {},
   "outputs": [
    {
     "data": {
      "image/png": "[encoded data removed]",
      "text/plain": [
       "<Figure size 756x396 with 1 Axes>"
      ]
     },
     "metadata": {
      "needs_background": "light"
     },
     "output_type": "display_data"
    }
   ],
   "source": [
    "pHs = np.arange(0,12, 0.1)\n",
    "pKa = 8.12\n",
    "base = 35.29 *10**-3 # M\n",
    "acid = 14.71 *10**-3 # M\n",
    "c0_HCl = 12.1 # M = 37.2%\n",
    "# V_well = 0.000003 # l\n",
    "V_well = 3 * 10**-5\n",
    "V_to_pipette = 1 * 10**-6 # µl\n",
    "\n",
    "# This functions takes in a desired pH and return the amount of HCl needed to achieve that pH\n",
    "def get_V(pH):\n",
    "    ratio = 10**(pKa-pH)\n",
    "    c1_HCl = (ratio * base - acid)/(1+ratio)\n",
    "    V = (c1_HCl * V_well)/c0_HCl\n",
    "    V = V  # return in µl\n",
    "    return V\n",
    "\n",
    "# This functions takes in a desired V and returns the concentration of HCl needed to achieve that pH\n",
    "def get_c(pH):\n",
    "    ratio = 10**(pKa-pH)\n",
    "    c1_HCl = (ratio * base - acid)/(1+ratio)\n",
    "    c = (c1_HCl * V_well)/V_to_pipette\n",
    "    c = c  # return in µM\n",
    "    return c\n",
    "\n",
    "fig, ax = plt.subplots(figsize = (10.5,5.5))\n",
    "V_acid = [get_V(pH) for pH in pHs]\n",
    "ax.plot(pHs, V_acid, label=\"V in µl\");\n",
    "\n",
    "c_acid = [get_c(pH) for pH in pHs]\n",
    "ax.plot(pHs, c_acid, label=\"c in mM\");\n",
    "ax.set_xlabel(\"pH\")\n",
    "ax.legend();"
   ]
  },
  {
   "cell_type": "markdown",
   "id": "attractive-french",
   "metadata": {},
   "source": [
    "For the adjustment of pH, the plan is to always add 1 µl (minimum working volume of the pipette p20) of acid. \n",
    "In order to have different pHs, we prepare 2 differently concentrated HCl stock solutions."
   ]
  },
  {
   "cell_type": "code",
   "execution_count": 400,
   "id": "understood-translation",
   "metadata": {},
   "outputs": [
    {
     "name": "stdout",
     "output_type": "stream",
     "text": [
      "96\n"
     ]
    }
   ],
   "source": [
    "V_min_HCl = len(wells_to_fill.flatten()) * 1\n",
    "print(V_min_HCl)"
   ]
  },
  {
   "cell_type": "code",
   "execution_count": 401,
   "id": "peaceful-affect",
   "metadata": {},
   "outputs": [
    {
     "name": "stdout",
     "output_type": "stream",
     "text": [
      "The first solution needs a concentration of 1.02 M\n",
      "The second solution needs a concentration of 0.77 M\n"
     ]
    }
   ],
   "source": [
    "print(f'The first solution needs a concentration of {get_c(6.5):.2f} M')\n",
    "print(f'The second solution needs a concentration of {get_c(7.5):.2f} M')"
   ]
  },
  {
   "cell_type": "code",
   "execution_count": 402,
   "id": "incorporate-yesterday",
   "metadata": {},
   "outputs": [
    {
     "name": "stdout",
     "output_type": "stream",
     "text": [
      "We need 63.51167638228608 µl and 84.59177234856418 µl HCl \n"
     ]
    }
   ],
   "source": [
    "V_HCl_stock = 1*10**-3 # l\n",
    "acids[\"middle\"][\"vol\"] = get_c(7.5) * V_HCl_stock / (c0_HCl ) * 10**6 \n",
    "acids[\"low\"][\"vol\"] = get_c(6.5) * V_HCl_stock / (c0_HCl ) * 10**6 \n",
    "\n",
    "print(f'We need {acids[\"middle\"][\"vol\"]} µl and {acids[\"low\"][\"vol\"]} µl HCl ')"
   ]
  },
  {
   "cell_type": "markdown",
   "id": "brutal-haiti",
   "metadata": {},
   "source": [
    "### Prepare different HCl solutions"
   ]
  },
  {
   "cell_type": "code",
   "execution_count": 404,
   "id": "inclusive-commissioner",
   "metadata": {},
   "outputs": [],
   "source": [
    "if not pip.hw_pipette[\"has_tip\"]:\n",
    "    pip.pick_up_tip()\n",
    "\n",
    "acid_stock = acids[\"high\"]\n",
    "\n",
    "for acid in [acids[\"middle\"], acids[\"low\"]]:\n",
    "    pip.aspirate(V_HCl_stock - acid[\"vol\"],\n",
    "                water[\"pos\"])\n",
    "    pip.dispense(V_HCl_stock - acid[\"vol\"],\n",
    "                acid[\"pos\"])\n",
    "\n",
    "for acid in [acids[\"middle\"], acids[\"low\"]]:\n",
    "    pip.aspirate(acid[\"vol\"],\n",
    "                acid_stock[\"pos\"])\n",
    "    pip.dispense(acid[\"vol\"],\n",
    "                acid[\"pos\"])"
   ]
  },
  {
   "cell_type": "markdown",
   "id": "harmful-bankruptcy",
   "metadata": {},
   "source": [
    "### Pipette 1 µl of HCl in each well:"
   ]
  },
  {
   "cell_type": "code",
   "execution_count": 411,
   "id": "white-trinity",
   "metadata": {},
   "outputs": [
    {
     "name": "stdout",
     "output_type": "stream",
     "text": [
      "Pipetting 1 µl acid into these rows:\n",
      "[[1. 1. 1. 1. 1. 1. 1. 1. 0. 0. 0. 0. 0. 0. 0. 0. 0. 0. 0. 0. 0. 0. 0. 0.]\n",
      " [0. 0. 0. 0. 0. 0. 0. 0. 0. 0. 0. 0. 0. 0. 0. 0. 0. 0. 0. 0. 0. 0. 0. 0.]\n",
      " [0. 0. 0. 0. 0. 0. 0. 0. 0. 0. 0. 0. 0. 0. 0. 0. 0. 0. 0. 0. 0. 0. 0. 0.]\n",
      " [1. 1. 1. 1. 1. 1. 1. 1. 0. 0. 0. 0. 0. 0. 0. 0. 0. 0. 0. 0. 0. 0. 0. 0.]\n",
      " [0. 0. 0. 0. 0. 0. 0. 0. 0. 0. 0. 0. 0. 0. 0. 0. 0. 0. 0. 0. 0. 0. 0. 0.]\n",
      " [0. 0. 0. 0. 0. 0. 0. 0. 0. 0. 0. 0. 0. 0. 0. 0. 0. 0. 0. 0. 0. 0. 0. 0.]\n",
      " [1. 1. 1. 1. 1. 1. 1. 1. 0. 0. 0. 0. 0. 0. 0. 0. 0. 0. 0. 0. 0. 0. 0. 0.]\n",
      " [0. 0. 0. 0. 0. 0. 0. 0. 0. 0. 0. 0. 0. 0. 0. 0. 0. 0. 0. 0. 0. 0. 0. 0.]\n",
      " [0. 0. 0. 0. 0. 0. 0. 0. 0. 0. 0. 0. 0. 0. 0. 0. 0. 0. 0. 0. 0. 0. 0. 0.]\n",
      " [1. 1. 1. 1. 1. 1. 1. 1. 0. 0. 0. 0. 0. 0. 0. 0. 0. 0. 0. 0. 0. 0. 0. 0.]\n",
      " [0. 0. 0. 0. 0. 0. 0. 0. 0. 0. 0. 0. 0. 0. 0. 0. 0. 0. 0. 0. 0. 0. 0. 0.]\n",
      " [0. 0. 0. 0. 0. 0. 0. 0. 0. 0. 0. 0. 0. 0. 0. 0. 0. 0. 0. 0. 0. 0. 0. 0.]\n",
      " [0. 0. 0. 0. 0. 0. 0. 0. 0. 0. 0. 0. 0. 0. 0. 0. 0. 0. 0. 0. 0. 0. 0. 0.]\n",
      " [0. 0. 0. 0. 0. 0. 0. 0. 0. 0. 0. 0. 0. 0. 0. 0. 0. 0. 0. 0. 0. 0. 0. 0.]\n",
      " [0. 0. 0. 0. 0. 0. 0. 0. 0. 0. 0. 0. 0. 0. 0. 0. 0. 0. 0. 0. 0. 0. 0. 0.]\n",
      " [0. 0. 0. 0. 0. 0. 0. 0. 0. 0. 0. 0. 0. 0. 0. 0. 0. 0. 0. 0. 0. 0. 0. 0.]]\n",
      "Pipetting 1 µl acid into these rows:\n",
      "[[0. 0. 0. 0. 0. 0. 0. 0. 0. 0. 0. 0. 0. 0. 0. 0. 0. 0. 0. 0. 0. 0. 0. 0.]\n",
      " [1. 1. 1. 1. 1. 1. 1. 1. 0. 0. 0. 0. 0. 0. 0. 0. 0. 0. 0. 0. 0. 0. 0. 0.]\n",
      " [0. 0. 0. 0. 0. 0. 0. 0. 0. 0. 0. 0. 0. 0. 0. 0. 0. 0. 0. 0. 0. 0. 0. 0.]\n",
      " [0. 0. 0. 0. 0. 0. 0. 0. 0. 0. 0. 0. 0. 0. 0. 0. 0. 0. 0. 0. 0. 0. 0. 0.]\n",
      " [1. 1. 1. 1. 1. 1. 1. 1. 0. 0. 0. 0. 0. 0. 0. 0. 0. 0. 0. 0. 0. 0. 0. 0.]\n",
      " [0. 0. 0. 0. 0. 0. 0. 0. 0. 0. 0. 0. 0. 0. 0. 0. 0. 0. 0. 0. 0. 0. 0. 0.]\n",
      " [0. 0. 0. 0. 0. 0. 0. 0. 0. 0. 0. 0. 0. 0. 0. 0. 0. 0. 0. 0. 0. 0. 0. 0.]\n",
      " [1. 1. 1. 1. 1. 1. 1. 1. 0. 0. 0. 0. 0. 0. 0. 0. 0. 0. 0. 0. 0. 0. 0. 0.]\n",
      " [0. 0. 0. 0. 0. 0. 0. 0. 0. 0. 0. 0. 0. 0. 0. 0. 0. 0. 0. 0. 0. 0. 0. 0.]\n",
      " [0. 0. 0. 0. 0. 0. 0. 0. 0. 0. 0. 0. 0. 0. 0. 0. 0. 0. 0. 0. 0. 0. 0. 0.]\n",
      " [1. 1. 1. 1. 1. 1. 1. 1. 0. 0. 0. 0. 0. 0. 0. 0. 0. 0. 0. 0. 0. 0. 0. 0.]\n",
      " [0. 0. 0. 0. 0. 0. 0. 0. 0. 0. 0. 0. 0. 0. 0. 0. 0. 0. 0. 0. 0. 0. 0. 0.]\n",
      " [0. 0. 0. 0. 0. 0. 0. 0. 0. 0. 0. 0. 0. 0. 0. 0. 0. 0. 0. 0. 0. 0. 0. 0.]\n",
      " [0. 0. 0. 0. 0. 0. 0. 0. 0. 0. 0. 0. 0. 0. 0. 0. 0. 0. 0. 0. 0. 0. 0. 0.]\n",
      " [0. 0. 0. 0. 0. 0. 0. 0. 0. 0. 0. 0. 0. 0. 0. 0. 0. 0. 0. 0. 0. 0. 0. 0.]\n",
      " [0. 0. 0. 0. 0. 0. 0. 0. 0. 0. 0. 0. 0. 0. 0. 0. 0. 0. 0. 0. 0. 0. 0. 0.]]\n",
      "Pipetting 1 µl acid into these rows:\n",
      "[[0. 0. 0. 0. 0. 0. 0. 0. 0. 0. 0. 0. 0. 0. 0. 0. 0. 0. 0. 0. 0. 0. 0. 0.]\n",
      " [0. 0. 0. 0. 0. 0. 0. 0. 0. 0. 0. 0. 0. 0. 0. 0. 0. 0. 0. 0. 0. 0. 0. 0.]\n",
      " [1. 1. 1. 1. 1. 1. 1. 1. 0. 0. 0. 0. 0. 0. 0. 0. 0. 0. 0. 0. 0. 0. 0. 0.]\n",
      " [0. 0. 0. 0. 0. 0. 0. 0. 0. 0. 0. 0. 0. 0. 0. 0. 0. 0. 0. 0. 0. 0. 0. 0.]\n",
      " [0. 0. 0. 0. 0. 0. 0. 0. 0. 0. 0. 0. 0. 0. 0. 0. 0. 0. 0. 0. 0. 0. 0. 0.]\n",
      " [1. 1. 1. 1. 1. 1. 1. 1. 0. 0. 0. 0. 0. 0. 0. 0. 0. 0. 0. 0. 0. 0. 0. 0.]\n",
      " [0. 0. 0. 0. 0. 0. 0. 0. 0. 0. 0. 0. 0. 0. 0. 0. 0. 0. 0. 0. 0. 0. 0. 0.]\n",
      " [0. 0. 0. 0. 0. 0. 0. 0. 0. 0. 0. 0. 0. 0. 0. 0. 0. 0. 0. 0. 0. 0. 0. 0.]\n",
      " [1. 1. 1. 1. 1. 1. 1. 1. 0. 0. 0. 0. 0. 0. 0. 0. 0. 0. 0. 0. 0. 0. 0. 0.]\n",
      " [0. 0. 0. 0. 0. 0. 0. 0. 0. 0. 0. 0. 0. 0. 0. 0. 0. 0. 0. 0. 0. 0. 0. 0.]\n",
      " [0. 0. 0. 0. 0. 0. 0. 0. 0. 0. 0. 0. 0. 0. 0. 0. 0. 0. 0. 0. 0. 0. 0. 0.]\n",
      " [1. 1. 1. 1. 1. 1. 1. 1. 0. 0. 0. 0. 0. 0. 0. 0. 0. 0. 0. 0. 0. 0. 0. 0.]\n",
      " [0. 0. 0. 0. 0. 0. 0. 0. 0. 0. 0. 0. 0. 0. 0. 0. 0. 0. 0. 0. 0. 0. 0. 0.]\n",
      " [0. 0. 0. 0. 0. 0. 0. 0. 0. 0. 0. 0. 0. 0. 0. 0. 0. 0. 0. 0. 0. 0. 0. 0.]\n",
      " [0. 0. 0. 0. 0. 0. 0. 0. 0. 0. 0. 0. 0. 0. 0. 0. 0. 0. 0. 0. 0. 0. 0. 0.]\n",
      " [0. 0. 0. 0. 0. 0. 0. 0. 0. 0. 0. 0. 0. 0. 0. 0. 0. 0. 0. 0. 0. 0. 0. 0.]]\n"
     ]
    }
   ],
   "source": [
    "if not pip.hw_pipette[\"has_tip\"]:\n",
    "    pip.pick_up_tip()\n",
    "\n",
    "vol = 1\n",
    "\n",
    "for i_a, name in enumerate(acids):\n",
    "    acid = acids[name]\n",
    "    wells = np.swapaxes(wells_reshaped[0:8,i_a:12:3], 0,1)\n",
    "    \n",
    "    current_vis_block = np.copy(zeros)\n",
    "    current_vis_block[i_a:12:3,0:8] = 1\n",
    "    print(f'Pipetting {vol} µl acid into these rows:')\n",
    "    print(current_vis_block)\n",
    "    \n",
    "    for well in wells.flatten():\n",
    "#         print(f'Pipetting {vol} µl into {well}')\n",
    "        pip.aspirate(vol,\n",
    "                    acid[\"pos\"])\n",
    "        pip.dispense(vol,\n",
    "                    well)"
   ]
  },
  {
   "cell_type": "markdown",
   "id": "palestinian-wednesday",
   "metadata": {},
   "source": [
    "# Add DNA"
   ]
  },
  {
   "cell_type": "code",
   "execution_count": 252,
   "id": "dominican-administration",
   "metadata": {},
   "outputs": [
    {
     "name": "stdout",
     "output_type": "stream",
     "text": [
      "Pipetting 1 µl acid into these rows:\n",
      "[[1. 0. 1. 0. 1. 0. 1. 0. 0. 0. 0. 0. 0. 0. 0. 0. 0. 0. 0. 0. 0. 0. 0. 0.]\n",
      " [1. 0. 1. 0. 1. 0. 1. 0. 0. 0. 0. 0. 0. 0. 0. 0. 0. 0. 0. 0. 0. 0. 0. 0.]\n",
      " [1. 0. 1. 0. 1. 0. 1. 0. 0. 0. 0. 0. 0. 0. 0. 0. 0. 0. 0. 0. 0. 0. 0. 0.]\n",
      " [1. 0. 1. 0. 1. 0. 1. 0. 0. 0. 0. 0. 0. 0. 0. 0. 0. 0. 0. 0. 0. 0. 0. 0.]\n",
      " [1. 0. 1. 0. 1. 0. 1. 0. 0. 0. 0. 0. 0. 0. 0. 0. 0. 0. 0. 0. 0. 0. 0. 0.]\n",
      " [1. 0. 1. 0. 1. 0. 1. 0. 0. 0. 0. 0. 0. 0. 0. 0. 0. 0. 0. 0. 0. 0. 0. 0.]\n",
      " [1. 0. 1. 0. 1. 0. 1. 0. 0. 0. 0. 0. 0. 0. 0. 0. 0. 0. 0. 0. 0. 0. 0. 0.]\n",
      " [1. 0. 1. 0. 1. 0. 1. 0. 0. 0. 0. 0. 0. 0. 0. 0. 0. 0. 0. 0. 0. 0. 0. 0.]\n",
      " [1. 0. 1. 0. 1. 0. 1. 0. 0. 0. 0. 0. 0. 0. 0. 0. 0. 0. 0. 0. 0. 0. 0. 0.]\n",
      " [1. 0. 1. 0. 1. 0. 1. 0. 0. 0. 0. 0. 0. 0. 0. 0. 0. 0. 0. 0. 0. 0. 0. 0.]\n",
      " [1. 0. 1. 0. 1. 0. 1. 0. 0. 0. 0. 0. 0. 0. 0. 0. 0. 0. 0. 0. 0. 0. 0. 0.]\n",
      " [1. 0. 1. 0. 1. 0. 1. 0. 0. 0. 0. 0. 0. 0. 0. 0. 0. 0. 0. 0. 0. 0. 0. 0.]\n",
      " [0. 0. 0. 0. 0. 0. 0. 0. 0. 0. 0. 0. 0. 0. 0. 0. 0. 0. 0. 0. 0. 0. 0. 0.]\n",
      " [0. 0. 0. 0. 0. 0. 0. 0. 0. 0. 0. 0. 0. 0. 0. 0. 0. 0. 0. 0. 0. 0. 0. 0.]\n",
      " [0. 0. 0. 0. 0. 0. 0. 0. 0. 0. 0. 0. 0. 0. 0. 0. 0. 0. 0. 0. 0. 0. 0. 0.]\n",
      " [0. 0. 0. 0. 0. 0. 0. 0. 0. 0. 0. 0. 0. 0. 0. 0. 0. 0. 0. 0. 0. 0. 0. 0.]]\n"
     ]
    }
   ],
   "source": [
    "if not pip.hw_pipette[\"has_tip\"]:\n",
    "    pip.pick_up_tip()\n",
    "\n",
    "current_vis_block = np.copy(zeros)\n",
    "current_vis_block[0:12,0:8:2] = 1\n",
    "print(f'Pipetting {DNA[\"vol\"]} µl acid into these rows:')\n",
    "print(current_vis_block)\n",
    "    \n",
    "# add DNA in every other row\n",
    "for well in wells_reshaped[0:8:2,0:12].flatten():\n",
    "#     print(f'Pipetting {DNA[\"vol\"]} µl into {well}')\n",
    "    pip.aspirate(DNA[\"vol\"],\n",
    "                DNA[\"pos\"])\n",
    "    pip.dispense(DNA[\"vol\"],\n",
    "                well)"
   ]
  },
  {
   "cell_type": "markdown",
   "id": "noted-michigan",
   "metadata": {},
   "source": [
    "# Protein"
   ]
  },
  {
   "cell_type": "markdown",
   "id": "compressed-moment",
   "metadata": {},
   "source": [
    "## Dilution"
   ]
  },
  {
   "cell_type": "code",
   "execution_count": 417,
   "id": "persistent-parker",
   "metadata": {},
   "outputs": [],
   "source": [
    "if not pip.hw_pipette[\"has_tip\"]:\n",
    "    pip.pick_up_tip()\n",
    "    \n",
    "p_stock = protein[\"high\"]    \n",
    "vols = [10,20]\n",
    "for i_p,p in enumerate([protein[\"middle\"], protein[\"low\"]]):\n",
    "    pip.aspirate(vols[i_p], p_stock[\"pos\"])\n",
    "    pip.dispense(vols[i_p], p[\"pos\"])"
   ]
  },
  {
   "cell_type": "markdown",
   "id": "funded-nowhere",
   "metadata": {},
   "source": [
    "## Final transfer:"
   ]
  },
  {
   "cell_type": "code",
   "execution_count": 436,
   "id": "inside-stationery",
   "metadata": {},
   "outputs": [
    {
     "name": "stdout",
     "output_type": "stream",
     "text": [
      "0\n",
      "0 2 12\n",
      "Pipetting 5 µl into this block:\n",
      "[[1. 1. 0. 0. 0. 0. 0. 0. 0. 0. 0. 0. 0. 0. 0. 0. 0. 0. 0. 0. 0. 0. 0. 0.]\n",
      " [1. 1. 0. 0. 0. 0. 0. 0. 0. 0. 0. 0. 0. 0. 0. 0. 0. 0. 0. 0. 0. 0. 0. 0.]\n",
      " [1. 1. 0. 0. 0. 0. 0. 0. 0. 0. 0. 0. 0. 0. 0. 0. 0. 0. 0. 0. 0. 0. 0. 0.]\n",
      " [1. 1. 0. 0. 0. 0. 0. 0. 0. 0. 0. 0. 0. 0. 0. 0. 0. 0. 0. 0. 0. 0. 0. 0.]\n",
      " [1. 1. 0. 0. 0. 0. 0. 0. 0. 0. 0. 0. 0. 0. 0. 0. 0. 0. 0. 0. 0. 0. 0. 0.]\n",
      " [1. 1. 0. 0. 0. 0. 0. 0. 0. 0. 0. 0. 0. 0. 0. 0. 0. 0. 0. 0. 0. 0. 0. 0.]\n",
      " [1. 1. 0. 0. 0. 0. 0. 0. 0. 0. 0. 0. 0. 0. 0. 0. 0. 0. 0. 0. 0. 0. 0. 0.]\n",
      " [1. 1. 0. 0. 0. 0. 0. 0. 0. 0. 0. 0. 0. 0. 0. 0. 0. 0. 0. 0. 0. 0. 0. 0.]\n",
      " [1. 1. 0. 0. 0. 0. 0. 0. 0. 0. 0. 0. 0. 0. 0. 0. 0. 0. 0. 0. 0. 0. 0. 0.]\n",
      " [1. 1. 0. 0. 0. 0. 0. 0. 0. 0. 0. 0. 0. 0. 0. 0. 0. 0. 0. 0. 0. 0. 0. 0.]\n",
      " [1. 1. 0. 0. 0. 0. 0. 0. 0. 0. 0. 0. 0. 0. 0. 0. 0. 0. 0. 0. 0. 0. 0. 0.]\n",
      " [1. 1. 0. 0. 0. 0. 0. 0. 0. 0. 0. 0. 0. 0. 0. 0. 0. 0. 0. 0. 0. 0. 0. 0.]\n",
      " [0. 0. 0. 0. 0. 0. 0. 0. 0. 0. 0. 0. 0. 0. 0. 0. 0. 0. 0. 0. 0. 0. 0. 0.]\n",
      " [0. 0. 0. 0. 0. 0. 0. 0. 0. 0. 0. 0. 0. 0. 0. 0. 0. 0. 0. 0. 0. 0. 0. 0.]\n",
      " [0. 0. 0. 0. 0. 0. 0. 0. 0. 0. 0. 0. 0. 0. 0. 0. 0. 0. 0. 0. 0. 0. 0. 0.]\n",
      " [0. 0. 0. 0. 0. 0. 0. 0. 0. 0. 0. 0. 0. 0. 0. 0. 0. 0. 0. 0. 0. 0. 0. 0.]]\n",
      "1\n",
      "2 4 12\n",
      "Pipetting 5 µl into this block:\n",
      "[[0. 0. 1. 1. 0. 0. 0. 0. 0. 0. 0. 0. 0. 0. 0. 0. 0. 0. 0. 0. 0. 0. 0. 0.]\n",
      " [0. 0. 1. 1. 0. 0. 0. 0. 0. 0. 0. 0. 0. 0. 0. 0. 0. 0. 0. 0. 0. 0. 0. 0.]\n",
      " [0. 0. 1. 1. 0. 0. 0. 0. 0. 0. 0. 0. 0. 0. 0. 0. 0. 0. 0. 0. 0. 0. 0. 0.]\n",
      " [0. 0. 1. 1. 0. 0. 0. 0. 0. 0. 0. 0. 0. 0. 0. 0. 0. 0. 0. 0. 0. 0. 0. 0.]\n",
      " [0. 0. 1. 1. 0. 0. 0. 0. 0. 0. 0. 0. 0. 0. 0. 0. 0. 0. 0. 0. 0. 0. 0. 0.]\n",
      " [0. 0. 1. 1. 0. 0. 0. 0. 0. 0. 0. 0. 0. 0. 0. 0. 0. 0. 0. 0. 0. 0. 0. 0.]\n",
      " [0. 0. 1. 1. 0. 0. 0. 0. 0. 0. 0. 0. 0. 0. 0. 0. 0. 0. 0. 0. 0. 0. 0. 0.]\n",
      " [0. 0. 1. 1. 0. 0. 0. 0. 0. 0. 0. 0. 0. 0. 0. 0. 0. 0. 0. 0. 0. 0. 0. 0.]\n",
      " [0. 0. 1. 1. 0. 0. 0. 0. 0. 0. 0. 0. 0. 0. 0. 0. 0. 0. 0. 0. 0. 0. 0. 0.]\n",
      " [0. 0. 1. 1. 0. 0. 0. 0. 0. 0. 0. 0. 0. 0. 0. 0. 0. 0. 0. 0. 0. 0. 0. 0.]\n",
      " [0. 0. 1. 1. 0. 0. 0. 0. 0. 0. 0. 0. 0. 0. 0. 0. 0. 0. 0. 0. 0. 0. 0. 0.]\n",
      " [0. 0. 1. 1. 0. 0. 0. 0. 0. 0. 0. 0. 0. 0. 0. 0. 0. 0. 0. 0. 0. 0. 0. 0.]\n",
      " [0. 0. 0. 0. 0. 0. 0. 0. 0. 0. 0. 0. 0. 0. 0. 0. 0. 0. 0. 0. 0. 0. 0. 0.]\n",
      " [0. 0. 0. 0. 0. 0. 0. 0. 0. 0. 0. 0. 0. 0. 0. 0. 0. 0. 0. 0. 0. 0. 0. 0.]\n",
      " [0. 0. 0. 0. 0. 0. 0. 0. 0. 0. 0. 0. 0. 0. 0. 0. 0. 0. 0. 0. 0. 0. 0. 0.]\n",
      " [0. 0. 0. 0. 0. 0. 0. 0. 0. 0. 0. 0. 0. 0. 0. 0. 0. 0. 0. 0. 0. 0. 0. 0.]]\n",
      "2\n",
      "4 6 12\n",
      "Pipetting 5 µl into this block:\n",
      "[[0. 0. 0. 0. 1. 1. 0. 0. 0. 0. 0. 0. 0. 0. 0. 0. 0. 0. 0. 0. 0. 0. 0. 0.]\n",
      " [0. 0. 0. 0. 1. 1. 0. 0. 0. 0. 0. 0. 0. 0. 0. 0. 0. 0. 0. 0. 0. 0. 0. 0.]\n",
      " [0. 0. 0. 0. 1. 1. 0. 0. 0. 0. 0. 0. 0. 0. 0. 0. 0. 0. 0. 0. 0. 0. 0. 0.]\n",
      " [0. 0. 0. 0. 1. 1. 0. 0. 0. 0. 0. 0. 0. 0. 0. 0. 0. 0. 0. 0. 0. 0. 0. 0.]\n",
      " [0. 0. 0. 0. 1. 1. 0. 0. 0. 0. 0. 0. 0. 0. 0. 0. 0. 0. 0. 0. 0. 0. 0. 0.]\n",
      " [0. 0. 0. 0. 1. 1. 0. 0. 0. 0. 0. 0. 0. 0. 0. 0. 0. 0. 0. 0. 0. 0. 0. 0.]\n",
      " [0. 0. 0. 0. 1. 1. 0. 0. 0. 0. 0. 0. 0. 0. 0. 0. 0. 0. 0. 0. 0. 0. 0. 0.]\n",
      " [0. 0. 0. 0. 1. 1. 0. 0. 0. 0. 0. 0. 0. 0. 0. 0. 0. 0. 0. 0. 0. 0. 0. 0.]\n",
      " [0. 0. 0. 0. 1. 1. 0. 0. 0. 0. 0. 0. 0. 0. 0. 0. 0. 0. 0. 0. 0. 0. 0. 0.]\n",
      " [0. 0. 0. 0. 1. 1. 0. 0. 0. 0. 0. 0. 0. 0. 0. 0. 0. 0. 0. 0. 0. 0. 0. 0.]\n",
      " [0. 0. 0. 0. 1. 1. 0. 0. 0. 0. 0. 0. 0. 0. 0. 0. 0. 0. 0. 0. 0. 0. 0. 0.]\n",
      " [0. 0. 0. 0. 1. 1. 0. 0. 0. 0. 0. 0. 0. 0. 0. 0. 0. 0. 0. 0. 0. 0. 0. 0.]\n",
      " [0. 0. 0. 0. 0. 0. 0. 0. 0. 0. 0. 0. 0. 0. 0. 0. 0. 0. 0. 0. 0. 0. 0. 0.]\n",
      " [0. 0. 0. 0. 0. 0. 0. 0. 0. 0. 0. 0. 0. 0. 0. 0. 0. 0. 0. 0. 0. 0. 0. 0.]\n",
      " [0. 0. 0. 0. 0. 0. 0. 0. 0. 0. 0. 0. 0. 0. 0. 0. 0. 0. 0. 0. 0. 0. 0. 0.]\n",
      " [0. 0. 0. 0. 0. 0. 0. 0. 0. 0. 0. 0. 0. 0. 0. 0. 0. 0. 0. 0. 0. 0. 0. 0.]]\n",
      "3\n",
      "6 8 12\n",
      "Pipetting 5 µl into this block:\n",
      "[[0. 0. 0. 0. 0. 0. 1. 1. 0. 0. 0. 0. 0. 0. 0. 0. 0. 0. 0. 0. 0. 0. 0. 0.]\n",
      " [0. 0. 0. 0. 0. 0. 1. 1. 0. 0. 0. 0. 0. 0. 0. 0. 0. 0. 0. 0. 0. 0. 0. 0.]\n",
      " [0. 0. 0. 0. 0. 0. 1. 1. 0. 0. 0. 0. 0. 0. 0. 0. 0. 0. 0. 0. 0. 0. 0. 0.]\n",
      " [0. 0. 0. 0. 0. 0. 1. 1. 0. 0. 0. 0. 0. 0. 0. 0. 0. 0. 0. 0. 0. 0. 0. 0.]\n",
      " [0. 0. 0. 0. 0. 0. 1. 1. 0. 0. 0. 0. 0. 0. 0. 0. 0. 0. 0. 0. 0. 0. 0. 0.]\n",
      " [0. 0. 0. 0. 0. 0. 1. 1. 0. 0. 0. 0. 0. 0. 0. 0. 0. 0. 0. 0. 0. 0. 0. 0.]\n",
      " [0. 0. 0. 0. 0. 0. 1. 1. 0. 0. 0. 0. 0. 0. 0. 0. 0. 0. 0. 0. 0. 0. 0. 0.]\n",
      " [0. 0. 0. 0. 0. 0. 1. 1. 0. 0. 0. 0. 0. 0. 0. 0. 0. 0. 0. 0. 0. 0. 0. 0.]\n",
      " [0. 0. 0. 0. 0. 0. 1. 1. 0. 0. 0. 0. 0. 0. 0. 0. 0. 0. 0. 0. 0. 0. 0. 0.]\n",
      " [0. 0. 0. 0. 0. 0. 1. 1. 0. 0. 0. 0. 0. 0. 0. 0. 0. 0. 0. 0. 0. 0. 0. 0.]\n",
      " [0. 0. 0. 0. 0. 0. 1. 1. 0. 0. 0. 0. 0. 0. 0. 0. 0. 0. 0. 0. 0. 0. 0. 0.]\n",
      " [0. 0. 0. 0. 0. 0. 1. 1. 0. 0. 0. 0. 0. 0. 0. 0. 0. 0. 0. 0. 0. 0. 0. 0.]\n",
      " [0. 0. 0. 0. 0. 0. 0. 0. 0. 0. 0. 0. 0. 0. 0. 0. 0. 0. 0. 0. 0. 0. 0. 0.]\n",
      " [0. 0. 0. 0. 0. 0. 0. 0. 0. 0. 0. 0. 0. 0. 0. 0. 0. 0. 0. 0. 0. 0. 0. 0.]\n",
      " [0. 0. 0. 0. 0. 0. 0. 0. 0. 0. 0. 0. 0. 0. 0. 0. 0. 0. 0. 0. 0. 0. 0. 0.]\n",
      " [0. 0. 0. 0. 0. 0. 0. 0. 0. 0. 0. 0. 0. 0. 0. 0. 0. 0. 0. 0. 0. 0. 0. 0.]]\n"
     ]
    }
   ],
   "source": [
    "if not pip.hw_pipette[\"has_tip\"]:\n",
    "    pip.pick_up_tip()\n",
    "\n",
    "vol = 5\n",
    "for i_p, name in enumerate(protein):\n",
    "    p = protein[name]\n",
    "    print(i_p)\n",
    "    from_column = i_p * overall_shape[2]\n",
    "    to_column = from_column + overall_shape[2]\n",
    "    to_row = len(salt_buffer[\"vols\"]) * overall_shape[3]\n",
    "\n",
    "    print(from_column, to_column, to_row)\n",
    "    block = wells_reshaped[from_column:to_column,0:to_row]\n",
    "\n",
    "    current_vis_block = np.copy(zeros)\n",
    "    current_vis_block[0:to_row, from_column:to_column] = 1\n",
    "    print(f'Pipetting {vol} µl into this block:')\n",
    "    print(current_vis_block)\n",
    "\n",
    "    for well in block.flatten():\n",
    "        pip.aspirate(vol,\n",
    "                    p[\"pos\"])\n",
    "        pip.dispense(vol,\n",
    "                    well)"
   ]
  },
  {
   "cell_type": "code",
   "execution_count": 427,
   "id": "premium-batman",
   "metadata": {},
   "outputs": [
    {
     "data": {
      "text/plain": [
       "(4, 4, 2, 3)"
      ]
     },
     "execution_count": 427,
     "metadata": {},
     "output_type": "execute_result"
    }
   ],
   "source": [
    "overall_shape"
   ]
  },
  {
   "cell_type": "code",
   "execution_count": 229,
   "id": "running-carnival",
   "metadata": {},
   "outputs": [],
   "source": [
    "def blockshaped(arr, nrows, ncols):\n",
    "    \"\"\"\n",
    "    Return an array of shape (n, nrows, ncols) where\n",
    "    n * nrows * ncols = arr.size\n",
    "\n",
    "    If arr is a 2D array, the returned array should look like n subblocks with\n",
    "    each subblock preserving the \"physical\" layout of arr.\n",
    "    \"\"\"\n",
    "    h, w = arr.shape\n",
    "    assert h % nrows == 0, f\"{h} rows is not evenly divisible by {nrows}\"\n",
    "    assert w % ncols == 0, f\"{w} cols is not evenly divisible by {ncols}\"\n",
    "    return (arr.reshape(h//nrows, nrows, -1, ncols)\n",
    "               .swapaxes(1,2)\n",
    "               .reshape(-1, nrows, ncols))"
   ]
  },
  {
   "cell_type": "code",
   "execution_count": null,
   "id": "younger-passage",
   "metadata": {},
   "outputs": [],
   "source": []
  }
 ],
 "metadata": {
  "kernelspec": {
   "display_name": "Python 3",
   "language": "python",
   "name": "python3"
  },
  "language_info": {
   "codemirror_mode": {
    "name": "ipython",
    "version": 3
   },
   "file_extension": ".py",
   "mimetype": "text/x-python",
   "name": "python",
   "nbconvert_exporter": "python",
   "pygments_lexer": "ipython3",
   "version": "3.7.9"
  }
 },
 "nbformat": 4,
 "nbformat_minor": 5
}
