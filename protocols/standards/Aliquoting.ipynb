{
 "cells": [
  {
   "cell_type": "markdown",
   "id": "hundred-saskatchewan",
   "metadata": {},
   "source": [
    "# Aliqouting Protocol\n",
    "\n",
    "This protocol aliquots a protein in a tube rack (A1) to a user specified number of PCR tubes. "
   ]
  },
  {
   "cell_type": "code",
   "execution_count": 19,
   "id": "vocational-principle",
   "metadata": {},
   "outputs": [],
   "source": [
    "# !pip install ipywidgets\n",
    "from opentrons import simulate, execute\n",
    "from opentrons.types import Location, Point\n",
    "# import ipywidgets as widgets\n",
    "\n",
    "import numpy as np\n",
    "import pandas as pd\n",
    "import time"
   ]
  },
  {
   "cell_type": "markdown",
   "id": "supreme-murray",
   "metadata": {},
   "source": [
    "Load the protocol and home the robot:"
   ]
  },
  {
   "cell_type": "code",
   "execution_count": 20,
   "id": "popular-appreciation",
   "metadata": {},
   "outputs": [
    {
     "name": "stderr",
     "output_type": "stream",
     "text": [
      "C:\\Users\\raras\\.opentrons\\robot_settings.json not found. Loading defaults\n",
      "C:\\Users\\raras\\.opentrons\\deck_calibration.json not found. Loading defaults\n"
     ]
    }
   ],
   "source": [
    "protocol = simulate.get_protocol_api('2.11')\n",
    "\n",
    "protocol.home()"
   ]
  },
  {
   "cell_type": "markdown",
   "id": "perfect-vision",
   "metadata": {},
   "source": [
    "### Load the labware with the following setup:\n",
    "\n",
    "<table style=\"width:300px;\">\n",
    "    <tr><td>10</td><td>11</td><td>trash</td></tr>\n",
    "    <tr><td>7</td><td>8</td><td>9</td></tr>\n",
    "    <tr><td>4</td><td>5</td><td>6</td></tr>\n",
    "    <tr><td>1 <br> tips 300</td><td>2 <br> Aluminium block</td><td>3 <br> tube rack 1 (protein) </td></tr>\n",
    "    \n",
    "</table>"
   ]
  },
  {
   "cell_type": "code",
   "execution_count": 21,
   "id": "mexican-saskatchewan",
   "metadata": {},
   "outputs": [],
   "source": [
    "tips_300 = [protocol.load_labware(\"opentrons_96_tiprack_300ul\", 1)]\n",
    "\n",
    "# tips_20 = [protocol.load_labware(\"opentrons_96_filtertiprack_20ul\", 4)]\n",
    "\n",
    "pcr_tubes_plate = protocol.load_labware(\"opentrons_96_aluminumblock_generic_pcr_strip_200ul\", 2)\n",
    "\n",
    "tube_rack1 = protocol.load_labware(\"opentrons_10_tuberack_nest_4x50ml_6x15ml_conical\", 3)\n",
    "\n"
   ]
  },
  {
   "cell_type": "markdown",
   "id": "useful-captain",
   "metadata": {},
   "source": [
    "### Load pipette"
   ]
  },
  {
   "cell_type": "code",
   "execution_count": 22,
   "id": "optional-angola",
   "metadata": {},
   "outputs": [],
   "source": [
    "pip = protocol.load_instrument(\"p300_single_gen2\", \"left\", tip_racks=tips_300)"
   ]
  },
  {
   "cell_type": "code",
   "execution_count": 23,
   "id": "twenty-composer",
   "metadata": {},
   "outputs": [],
   "source": [
    "pip.starting_tip = tips_300[0].well(\"B2\")"
   ]
  },
  {
   "cell_type": "markdown",
   "id": "existing-medicare",
   "metadata": {},
   "source": [
    "### Load fluids"
   ]
  },
  {
   "cell_type": "code",
   "execution_count": 24,
   "id": "communist-proof",
   "metadata": {},
   "outputs": [
    {
     "name": "stdin",
     "output_type": "stream",
     "text": [
      "What is the transfer volume in µl? 50\n",
      "What is the total volume in µl? 5000\n",
      "How many PCR tubes do you want to fill 10\n"
     ]
    }
   ],
   "source": [
    "protein = {}\n",
    "protein[\"pos\"] = tube_rack1[\"A1\"]\n",
    "protein[\"v_t\"] = float(input(\"What is the transfer volume in µl?\"))\n",
    "protein[\"v\"] = float(input(\"What is the total volume in µl?\"))\n",
    "\n",
    "eppis = {}\n",
    "eppis[\"n\"] = int(input(\"How many PCR tubes do you want to fill\"))\n",
    "eppis[\"wells\"] = pcr_tubes_plate.wells()[0:eppis[\"n\"]]\n",
    "\n",
    "if protein[\"v_t\"]*eppis[\"n\"] > protein[\"v\"]:\n",
    "    raise ValueError( f'Not enough protein to fill { eppis[\"n\"] } tubes with {protein[\"v_t\"]} µl each' )"
   ]
  },
  {
   "cell_type": "markdown",
   "id": "honey-vaccine",
   "metadata": {},
   "source": [
    "### Start Pipetting\n",
    "\n",
    "The pipette will aspirate 20 µl of protein and distribute it to the specified number of PCR tubes. Please fill the PCR tubes starting from top to bottom in the first column, then from top to bottom the remaining columns. "
   ]
  },
  {
   "cell_type": "code",
   "execution_count": 46,
   "id": "described-rugby",
   "metadata": {},
   "outputs": [
    {
     "name": "stdout",
     "output_type": "stream",
     "text": [
      "Aspirating 50.00 µl protein at 24.00 mm above bottom of the well\n",
      "Dispensing...\n",
      "Aspirating 50.00 µl protein at 23.67 mm above bottom of the well\n",
      "Dispensing...\n",
      "Aspirating 50.00 µl protein at 23.33 mm above bottom of the well\n",
      "Dispensing...\n",
      "Aspirating 50.00 µl protein at 23.00 mm above bottom of the well\n",
      "Dispensing...\n",
      "Aspirating 50.00 µl protein at 22.67 mm above bottom of the well\n",
      "Dispensing...\n",
      "Aspirating 50.00 µl protein at 22.33 mm above bottom of the well\n",
      "Dispensing...\n",
      "Aspirating 50.00 µl protein at 22.00 mm above bottom of the well\n",
      "Dispensing...\n",
      "Aspirating 50.00 µl protein at 22.00 mm above bottom of the well\n",
      "Dispensing...\n",
      "Aspirating 50.00 µl protein at 22.00 mm above bottom of the well\n",
      "Dispensing...\n",
      "Aspirating 50.00 µl protein at 22.00 mm above bottom of the well\n",
      "Dispensing...\n"
     ]
    }
   ],
   "source": [
    "if not pip.hw_pipette[\"has_tip\"]:\n",
    "    pip.pick_up_tip()\n",
    "\n",
    "wells = pcr_tubes_plate.wells()[0:eppis[\"n\"]]\n",
    "\n",
    "for well in wells:\n",
    "    \n",
    "    # primitive height tracking. 1 ml corresponds to ~ .66 mm\n",
    "    if protein[\"v\"] > 2000:\n",
    "        z_offset = (2/3 * (protein[\"v\"]- 2500)  / 100) + 25\n",
    "        pip.well_bottom_clearance.aspirate = z_offset\n",
    "    else:\n",
    "        pip.well_bottom_clearance.aspirate = 1.0\n",
    "       \n",
    "    print(f'Aspirating { protein[\"v_t\"]:.2f} µl protein at {z_offset:.2f} mm above bottom of the well')\n",
    "\n",
    "    pip.aspirate(protein[\"v_t\"],\n",
    "                 protein[\"pos\"],\n",
    "                )\n",
    "\n",
    "    print('Dispensing...')\n",
    "    protein[\"v\"] = protein[\"v\"]-protein[\"v_t\"]\n",
    "    \n",
    "    \n",
    "    pip.dispense(protein[\"v_t\"],\n",
    "                 well\n",
    "                )\n"
   ]
  },
  {
   "cell_type": "code",
   "execution_count": 47,
   "id": "civic-threat",
   "metadata": {},
   "outputs": [],
   "source": [
    "pip.drop_tip()\n",
    "protocol.home()"
   ]
  }
 ],
 "metadata": {
  "kernelspec": {
   "display_name": "Python 3",
   "language": "python",
   "name": "python3"
  },
  "language_info": {
   "codemirror_mode": {
    "name": "ipython",
    "version": 3
   },
   "file_extension": ".py",
   "mimetype": "text/x-python",
   "name": "python",
   "nbconvert_exporter": "python",
   "pygments_lexer": "ipython3",
   "version": "3.7.9"
  }
 },
 "nbformat": 4,
 "nbformat_minor": 5
}
