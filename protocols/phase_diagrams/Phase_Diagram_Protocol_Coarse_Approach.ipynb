{
 "cells": [
  {
   "cell_type": "markdown",
   "id": "choice-pakistan",
   "metadata": {},
   "source": [
    "# Multivariable coarse phase diagram protocol"
   ]
  },
  {
   "cell_type": "code",
   "execution_count": 2,
   "id": "center-copying",
   "metadata": {},
   "outputs": [],
   "source": [
    "from opentrons import simulate, execute\n",
    "from opentrons.types import Location, Point\n",
    "\n",
    "import numpy as np\n",
    "import pandas as pd\n",
    "import time\n",
    "import math\n",
    "# import matplotlib.pyplot as plt\n",
    "from IPython.display import clear_output\n",
    "from copy import copy\n",
    "\n",
    "import pandas as pd\n",
    "\n",
    "api_level= '2.11'"
   ]
  },
  {
   "cell_type": "code",
   "execution_count": 6,
   "id": "numerical-milton",
   "metadata": {},
   "outputs": [
    {
     "data": {
      "text/html": [
       "<div>\n",
       "<style scoped>\n",
       "    .dataframe tbody tr th:only-of-type {\n",
       "        vertical-align: middle;\n",
       "    }\n",
       "\n",
       "    .dataframe tbody tr th {\n",
       "        vertical-align: top;\n",
       "    }\n",
       "\n",
       "    .dataframe thead th {\n",
       "        text-align: right;\n",
       "    }\n",
       "</style>\n",
       "<table border=\"1\" class=\"dataframe\">\n",
       "  <thead>\n",
       "    <tr style=\"text-align: right;\">\n",
       "      <th></th>\n",
       "      <th>Protein c1</th>\n",
       "      <th>Protein c2</th>\n",
       "      <th>Protein c3</th>\n",
       "      <th>Protein c4</th>\n",
       "      <th>Normal buffer</th>\n",
       "      <th>Salt buffer c1</th>\n",
       "      <th>Salt buffer c2</th>\n",
       "      <th>Salt buffer c3</th>\n",
       "      <th>Salt buffer c4</th>\n",
       "      <th>HCl pH1</th>\n",
       "      <th>HCl pH2</th>\n",
       "      <th>HCl pH3</th>\n",
       "      <th>DNA</th>\n",
       "      <th>Urea</th>\n",
       "      <th>Water</th>\n",
       "    </tr>\n",
       "    <tr>\n",
       "      <th>Which</th>\n",
       "      <th></th>\n",
       "      <th></th>\n",
       "      <th></th>\n",
       "      <th></th>\n",
       "      <th></th>\n",
       "      <th></th>\n",
       "      <th></th>\n",
       "      <th></th>\n",
       "      <th></th>\n",
       "      <th></th>\n",
       "      <th></th>\n",
       "      <th></th>\n",
       "      <th></th>\n",
       "      <th></th>\n",
       "      <th></th>\n",
       "    </tr>\n",
       "  </thead>\n",
       "  <tbody>\n",
       "    <tr>\n",
       "      <th>Starting concentration in M</th>\n",
       "      <td>0.00002</td>\n",
       "      <td>0</td>\n",
       "      <td>0</td>\n",
       "      <td>0</td>\n",
       "      <td>0</td>\n",
       "      <td>0.5</td>\n",
       "      <td>0.00</td>\n",
       "      <td>0.00</td>\n",
       "      <td>0.0</td>\n",
       "      <td>7.748</td>\n",
       "      <td>0</td>\n",
       "      <td>0</td>\n",
       "      <td>0.001</td>\n",
       "      <td>0.5</td>\n",
       "      <td>0</td>\n",
       "    </tr>\n",
       "    <tr>\n",
       "      <th>Starting volume in µl</th>\n",
       "      <td>0</td>\n",
       "      <td>0</td>\n",
       "      <td>0</td>\n",
       "      <td>0</td>\n",
       "      <td>0</td>\n",
       "      <td>0</td>\n",
       "      <td>0.00</td>\n",
       "      <td>0.00</td>\n",
       "      <td>0.0</td>\n",
       "      <td>0</td>\n",
       "      <td>0</td>\n",
       "      <td>0</td>\n",
       "      <td>0</td>\n",
       "      <td>0</td>\n",
       "      <td>0</td>\n",
       "    </tr>\n",
       "    <tr>\n",
       "      <th>End concentrations in M</th>\n",
       "      <td>3.7037E-06</td>\n",
       "      <td>0.0000162</td>\n",
       "      <td>0.0000081</td>\n",
       "      <td>0.0000162</td>\n",
       "      <td>0</td>\n",
       "      <td>0.5</td>\n",
       "      <td>0.25</td>\n",
       "      <td>0.15</td>\n",
       "      <td>0.1</td>\n",
       "      <td>0</td>\n",
       "      <td>0</td>\n",
       "      <td>0</td>\n",
       "      <td>0</td>\n",
       "      <td>0</td>\n",
       "      <td>0</td>\n",
       "    </tr>\n",
       "    <tr>\n",
       "      <th>desired pH</th>\n",
       "      <td>0</td>\n",
       "      <td>0</td>\n",
       "      <td>0</td>\n",
       "      <td>0</td>\n",
       "      <td>8.5</td>\n",
       "      <td>8.5</td>\n",
       "      <td>0.00</td>\n",
       "      <td>0.00</td>\n",
       "      <td>0.0</td>\n",
       "      <td>8.5</td>\n",
       "      <td>7.5</td>\n",
       "      <td>6.5</td>\n",
       "      <td>0.001</td>\n",
       "      <td>0</td>\n",
       "      <td>0</td>\n",
       "    </tr>\n",
       "    <tr>\n",
       "      <th>Labware</th>\n",
       "      <td>eppi_rack</td>\n",
       "      <td>eppi_rack</td>\n",
       "      <td>eppi_rack</td>\n",
       "      <td>reservoir</td>\n",
       "      <td>reservoir</td>\n",
       "      <td>reservoir</td>\n",
       "      <td>0.00</td>\n",
       "      <td>0.00</td>\n",
       "      <td>0.0</td>\n",
       "      <td>eppi_rack</td>\n",
       "      <td>eppi_rack</td>\n",
       "      <td>eppi_rack</td>\n",
       "      <td>eppi_rack</td>\n",
       "      <td>eppi_rack</td>\n",
       "      <td>reservoir</td>\n",
       "    </tr>\n",
       "    <tr>\n",
       "      <th>Well</th>\n",
       "      <td>A1</td>\n",
       "      <td>A2</td>\n",
       "      <td>A3</td>\n",
       "      <td>A2</td>\n",
       "      <td>A1</td>\n",
       "      <td>A2</td>\n",
       "      <td>0.00</td>\n",
       "      <td>0.00</td>\n",
       "      <td>0.0</td>\n",
       "      <td>B1</td>\n",
       "      <td>B2</td>\n",
       "      <td>B3</td>\n",
       "      <td>D1</td>\n",
       "      <td>D2</td>\n",
       "      <td>A3</td>\n",
       "    </tr>\n",
       "    <tr>\n",
       "      <th>Well volume</th>\n",
       "      <td>5</td>\n",
       "      <td>5</td>\n",
       "      <td>5</td>\n",
       "      <td>5</td>\n",
       "      <td>20</td>\n",
       "      <td>20</td>\n",
       "      <td>20.00</td>\n",
       "      <td>20.00</td>\n",
       "      <td>20.0</td>\n",
       "      <td>1</td>\n",
       "      <td>1</td>\n",
       "      <td>1</td>\n",
       "      <td>1</td>\n",
       "      <td>1</td>\n",
       "      <td>0</td>\n",
       "    </tr>\n",
       "    <tr>\n",
       "      <th>NaN</th>\n",
       "      <td>0</td>\n",
       "      <td>0</td>\n",
       "      <td>0</td>\n",
       "      <td>0</td>\n",
       "      <td>0</td>\n",
       "      <td>0</td>\n",
       "      <td>0.00</td>\n",
       "      <td>0.00</td>\n",
       "      <td>0.0</td>\n",
       "      <td>0</td>\n",
       "      <td>0</td>\n",
       "      <td>0</td>\n",
       "      <td>0</td>\n",
       "      <td>0</td>\n",
       "      <td>0</td>\n",
       "    </tr>\n",
       "    <tr>\n",
       "      <th>Maximum concentration</th>\n",
       "      <td>3.7037E-06</td>\n",
       "      <td>0</td>\n",
       "      <td>0</td>\n",
       "      <td>0</td>\n",
       "      <td>0</td>\n",
       "      <td>0</td>\n",
       "      <td>0.00</td>\n",
       "      <td>0.00</td>\n",
       "      <td>0.0</td>\n",
       "      <td>0</td>\n",
       "      <td>0</td>\n",
       "      <td>0</td>\n",
       "      <td>0</td>\n",
       "      <td>0</td>\n",
       "      <td>0</td>\n",
       "    </tr>\n",
       "    <tr>\n",
       "      <th>NaN</th>\n",
       "      <td>0</td>\n",
       "      <td>0</td>\n",
       "      <td>0</td>\n",
       "      <td>0</td>\n",
       "      <td>0</td>\n",
       "      <td>0</td>\n",
       "      <td>0.00</td>\n",
       "      <td>0.00</td>\n",
       "      <td>0.0</td>\n",
       "      <td>0</td>\n",
       "      <td>0</td>\n",
       "      <td>0</td>\n",
       "      <td>0</td>\n",
       "      <td>0</td>\n",
       "      <td>0</td>\n",
       "    </tr>\n",
       "    <tr>\n",
       "      <th>NaN</th>\n",
       "      <td>0</td>\n",
       "      <td>0</td>\n",
       "      <td>0</td>\n",
       "      <td>0</td>\n",
       "      <td>0</td>\n",
       "      <td>0</td>\n",
       "      <td>0.00</td>\n",
       "      <td>0.00</td>\n",
       "      <td>0.0</td>\n",
       "      <td>0</td>\n",
       "      <td>0</td>\n",
       "      <td>0</td>\n",
       "      <td>0</td>\n",
       "      <td>0</td>\n",
       "      <td>0</td>\n",
       "    </tr>\n",
       "    <tr>\n",
       "      <th>8.888888889</th>\n",
       "      <td>0</td>\n",
       "      <td>0</td>\n",
       "      <td>0</td>\n",
       "      <td>0</td>\n",
       "      <td>0</td>\n",
       "      <td>0</td>\n",
       "      <td>0.00</td>\n",
       "      <td>0.00</td>\n",
       "      <td>0.0</td>\n",
       "      <td>0</td>\n",
       "      <td>0</td>\n",
       "      <td>0</td>\n",
       "      <td>0</td>\n",
       "      <td>0</td>\n",
       "      <td>0</td>\n",
       "    </tr>\n",
       "    <tr>\n",
       "      <th>NaN</th>\n",
       "      <td>0</td>\n",
       "      <td>0</td>\n",
       "      <td>0</td>\n",
       "      <td>0</td>\n",
       "      <td>0</td>\n",
       "      <td>0</td>\n",
       "      <td>0.00</td>\n",
       "      <td>0.00</td>\n",
       "      <td>0.0</td>\n",
       "      <td>0</td>\n",
       "      <td>0</td>\n",
       "      <td>0</td>\n",
       "      <td>0</td>\n",
       "      <td>0</td>\n",
       "      <td>0</td>\n",
       "    </tr>\n",
       "    <tr>\n",
       "      <th>54</th>\n",
       "      <td>0</td>\n",
       "      <td>0</td>\n",
       "      <td>0</td>\n",
       "      <td>0</td>\n",
       "      <td>0</td>\n",
       "      <td>0</td>\n",
       "      <td>0.00</td>\n",
       "      <td>0.00</td>\n",
       "      <td>0.0</td>\n",
       "      <td>0</td>\n",
       "      <td>0</td>\n",
       "      <td>0</td>\n",
       "      <td>0</td>\n",
       "      <td>0</td>\n",
       "      <td>0</td>\n",
       "    </tr>\n",
       "  </tbody>\n",
       "</table>\n",
       "</div>"
      ],
      "text/plain": [
       "                             Protein c1 Protein c2 Protein c3 Protein c4  \\\n",
       "Which                                                                      \n",
       "Starting concentration in M     0.00002          0          0          0   \n",
       "Starting volume in µl                 0          0          0          0   \n",
       "End concentrations in M      3.7037E-06  0.0000162  0.0000081  0.0000162   \n",
       "desired pH                            0          0          0          0   \n",
       "Labware                       eppi_rack  eppi_rack  eppi_rack  reservoir   \n",
       "Well                                 A1         A2         A3         A2   \n",
       "Well volume                           5          5          5          5   \n",
       "NaN                                   0          0          0          0   \n",
       "Maximum concentration        3.7037E-06          0          0          0   \n",
       "NaN                                   0          0          0          0   \n",
       "NaN                                   0          0          0          0   \n",
       "8.888888889                           0          0          0          0   \n",
       "NaN                                   0          0          0          0   \n",
       "54                                    0          0          0          0   \n",
       "\n",
       "                            Normal buffer Salt buffer c1  Salt buffer c2  \\\n",
       "Which                                                                      \n",
       "Starting concentration in M             0            0.5            0.00   \n",
       "Starting volume in µl                   0              0            0.00   \n",
       "End concentrations in M                 0            0.5            0.25   \n",
       "desired pH                            8.5            8.5            0.00   \n",
       "Labware                         reservoir      reservoir            0.00   \n",
       "Well                                   A1             A2            0.00   \n",
       "Well volume                            20             20           20.00   \n",
       "NaN                                     0              0            0.00   \n",
       "Maximum concentration                   0              0            0.00   \n",
       "NaN                                     0              0            0.00   \n",
       "NaN                                     0              0            0.00   \n",
       "8.888888889                             0              0            0.00   \n",
       "NaN                                     0              0            0.00   \n",
       "54                                      0              0            0.00   \n",
       "\n",
       "                             Salt buffer c3  Salt buffer c4    HCl pH1  \\\n",
       "Which                                                                    \n",
       "Starting concentration in M            0.00             0.0      7.748   \n",
       "Starting volume in µl                  0.00             0.0          0   \n",
       "End concentrations in M                0.15             0.1          0   \n",
       "desired pH                             0.00             0.0        8.5   \n",
       "Labware                                0.00             0.0  eppi_rack   \n",
       "Well                                   0.00             0.0         B1   \n",
       "Well volume                           20.00            20.0          1   \n",
       "NaN                                    0.00             0.0          0   \n",
       "Maximum concentration                  0.00             0.0          0   \n",
       "NaN                                    0.00             0.0          0   \n",
       "NaN                                    0.00             0.0          0   \n",
       "8.888888889                            0.00             0.0          0   \n",
       "NaN                                    0.00             0.0          0   \n",
       "54                                     0.00             0.0          0   \n",
       "\n",
       "                               HCl pH2    HCl pH3        DNA       Urea  \\\n",
       "Which                                                                     \n",
       "Starting concentration in M          0          0      0.001        0.5   \n",
       "Starting volume in µl                0          0          0          0   \n",
       "End concentrations in M              0          0          0          0   \n",
       "desired pH                         7.5        6.5      0.001          0   \n",
       "Labware                      eppi_rack  eppi_rack  eppi_rack  eppi_rack   \n",
       "Well                                B2         B3         D1         D2   \n",
       "Well volume                          1          1          1          1   \n",
       "NaN                                  0          0          0          0   \n",
       "Maximum concentration                0          0          0          0   \n",
       "NaN                                  0          0          0          0   \n",
       "NaN                                  0          0          0          0   \n",
       "8.888888889                          0          0          0          0   \n",
       "NaN                                  0          0          0          0   \n",
       "54                                   0          0          0          0   \n",
       "\n",
       "                                 Water  \n",
       "Which                                   \n",
       "Starting concentration in M          0  \n",
       "Starting volume in µl                0  \n",
       "End concentrations in M              0  \n",
       "desired pH                           0  \n",
       "Labware                      reservoir  \n",
       "Well                                A3  \n",
       "Well volume                          0  \n",
       "NaN                                  0  \n",
       "Maximum concentration                0  \n",
       "NaN                                  0  \n",
       "NaN                                  0  \n",
       "8.888888889                          0  \n",
       "NaN                                  0  \n",
       "54                                   0  "
      ]
     },
     "execution_count": 6,
     "metadata": {},
     "output_type": "execute_result"
    }
   ],
   "source": [
    "df = pd.read_csv(\"22_02_15_EWSRI.csv\", delimiter=\";\", encoding=\"latin-1\")\n",
    "df = df.set_index(df[\"Which\"])\n",
    "df = df.fillna(0)\n",
    "df = df.drop(\"Which\", axis=1)\n",
    "df"
   ]
  },
  {
   "cell_type": "code",
   "execution_count": 7,
   "id": "virtual-pearl",
   "metadata": {},
   "outputs": [],
   "source": [
    "# convert type to float\n",
    "for key in [\"Starting concentration in M\", \"Starting volume in µl\", \"End concentrations in M\", \"desired pH\"]:\n",
    "    df.loc[key].apply(float)"
   ]
  },
  {
   "cell_type": "code",
   "execution_count": 8,
   "id": "sporting-literacy",
   "metadata": {},
   "outputs": [],
   "source": [
    "class Fluid:\n",
    "    def __init__(self, name, labware, well, well_volume=0, c = 0, pH = None, c_dil = 0):\n",
    "        self.name = name\n",
    "        self.pos = None\n",
    "        self.well_volume = float(well_volume) if well_volume is not None else 0\n",
    "        self.c = float(c)\n",
    "        self.c_dil = float(c)\n",
    "        self.pH = float(pH) if pH is not None else None\n",
    "        self.set_deck_location(labware, well)\n",
    "        self.v = float(0)\n",
    "        \n",
    "    def set_deck_location(self,labware, well):\n",
    "        if (labware == None) | (labware == 0) | (well== None) | (well == 0) : \n",
    "            return\n",
    "        loc = globals()[labware][well]\n",
    "        self.pos = loc\n",
    "        \n",
    "    def __repr__(self):\n",
    "        return str({\n",
    "            \"name\": self.name,\n",
    "            \"pos\": self.pos,\n",
    "            \"well_volume\": self.well_volume,\n",
    "            \"c\": self.c,\n",
    "            \"pH\": self.pH,\n",
    "            \"v\" : self.v\n",
    "        })"
   ]
  },
  {
   "cell_type": "code",
   "execution_count": 9,
   "id": "romantic-domain",
   "metadata": {},
   "outputs": [],
   "source": [
    "class Parameter:\n",
    "    def __init__(self, name, stock, fluids):\n",
    "        self.name = name\n",
    "        self.stock = stock\n",
    "        self.fluids = fluids\n",
    "        \n",
    "    def __repr__(self):\n",
    "        return str({\n",
    "            \"name\": self.name,\n",
    "            \"stock\": self.stock,\n",
    "            \"fluids\": self.fluids,\n",
    "        })"
   ]
  },
  {
   "cell_type": "markdown",
   "id": "pleasant-steel",
   "metadata": {},
   "source": [
    "# Protocol"
   ]
  },
  {
   "cell_type": "code",
   "execution_count": 10,
   "id": "voluntary-embassy",
   "metadata": {},
   "outputs": [
    {
     "name": "stderr",
     "output_type": "stream",
     "text": [
      "C:\\Users\\raras\\.opentrons\\robot_settings.json not found. Loading defaults\n",
      "C:\\Users\\raras\\.opentrons\\deck_calibration.json not found. Loading defaults\n"
     ]
    }
   ],
   "source": [
    "protocol = simulate.get_protocol_api(api_level)\n",
    "\n",
    "protocol.home()"
   ]
  },
  {
   "cell_type": "markdown",
   "id": "nasty-division",
   "metadata": {},
   "source": [
    "# Layout\n",
    "\n",
    "<table style=\"width:300px;\">\n",
    "    <tr><td>10</td><td>11</td><td>trash</td></tr>\n",
    "    <tr><td>7 <br> tube rack</td><td>8 <br> tips 20</td><td>9 <br> tips 20</td></tr>\n",
    "    <tr><td>4 </td><td>5 <br> plate </td><td>6 <br> eppi rack</td></tr>\n",
    "    <tr><td>1 <br> tips 300</td><td>2 <br> reservoir</td><td>3</td></tr>\n",
    "    \n",
    "</table>"
   ]
  },
  {
   "cell_type": "code",
   "execution_count": 11,
   "id": "average-argentina",
   "metadata": {},
   "outputs": [],
   "source": [
    "tips_300 = protocol.load_labware(\"opentrons_96_tiprack_300ul\", 1)\n",
    "\n",
    "reservoir = protocol.load_labware(\"nest_12_reservoir_15ml\", 2)\n",
    "\n",
    "tips_20 = [protocol.load_labware(\"opentrons_96_filtertiprack_20ul\", 8),\n",
    "           protocol.load_labware(\"opentrons_96_filtertiprack_20ul\", 9)\n",
    "          ]\n",
    "\n",
    "plate = protocol.load_labware(\"corning_384_wellplate_112ul_flat\", 5)\n",
    "\n",
    "tube_rack = protocol.load_labware(\"opentrons_10_tuberack_falcon_4x50ml_6x15ml_conical\", 7)\n",
    "\n",
    "eppi_rack = protocol.load_labware(\"opentrons_24_tuberack_eppendorf_1.5ml_safelock_snapcap\", 6)\n",
    "\n",
    "# pcr_tubes_plate = protocol.load_labware(\"opentrons_96_aluminumblock_generic_pcr_strip_200ul\", 2)"
   ]
  },
  {
   "cell_type": "code",
   "execution_count": 12,
   "id": "fabulous-advancement",
   "metadata": {},
   "outputs": [],
   "source": [
    "pip = protocol.load_instrument(\"p20_single_gen2\", \"right\", tip_racks=tips_20)\n",
    "pip300  = protocol.load_instrument(\"p300_single_gen2\", \"left\", tip_racks=[tips_300])"
   ]
  },
  {
   "cell_type": "code",
   "execution_count": 13,
   "id": "determined-regulation",
   "metadata": {},
   "outputs": [],
   "source": [
    "# pip.starting_tip = tips_20.well(\"C1\")\n",
    "pip300.starting_tip = tips_300.well(\"E1\")"
   ]
  },
  {
   "cell_type": "markdown",
   "id": "polyphonic-behalf",
   "metadata": {},
   "source": [
    "# Parse Protein"
   ]
  },
  {
   "cell_type": "code",
   "execution_count": 14,
   "id": "personalized-glasgow",
   "metadata": {},
   "outputs": [],
   "source": [
    "protein_keys = [c for c in df if c.startswith('Protein')]\n",
    "\n",
    "protein_solutions = []\n",
    "\n",
    "for key in protein_keys:\n",
    "\n",
    "    labware = df.loc[\"Labware\", key]\n",
    "    well = df.loc[\"Well\", key]\n",
    "    c = df.loc[\"End concentrations in M\", key]\n",
    "    well_volume = df.loc[\"Well volume\", key]\n",
    "\n",
    "    protein_solution = Fluid(key, labware, well, well_volume, c)\n",
    "   \n",
    "    c0 =  df.loc[\"Starting concentration in M\", key]    \n",
    "    \n",
    "    protein_solutions.append(protein_solution)\n",
    "    if c0 != 0:\n",
    "        stock = copy(protein_solution)\n",
    "\n",
    "protein = Parameter(\"Protein\", stock, protein_solutions)"
   ]
  },
  {
   "cell_type": "code",
   "execution_count": 15,
   "id": "crude-partition",
   "metadata": {},
   "outputs": [
    {
     "data": {
      "text/plain": [
       "{'name': 'Protein', 'stock': {'name': 'Protein c1', 'pos': A1 of Opentrons 24 Tube Rack with Eppendorf 1.5 mL Safe-Lock Snapcap on 6, 'well_volume': 5.0, 'c': 3.7037e-06, 'pH': None, 'v': 0.0}, 'fluids': [{'name': 'Protein c1', 'pos': A1 of Opentrons 24 Tube Rack with Eppendorf 1.5 mL Safe-Lock Snapcap on 6, 'well_volume': 5.0, 'c': 3.7037e-06, 'pH': None, 'v': 0.0}, {'name': 'Protein c2', 'pos': A2 of Opentrons 24 Tube Rack with Eppendorf 1.5 mL Safe-Lock Snapcap on 6, 'well_volume': 5.0, 'c': 1.62e-05, 'pH': None, 'v': 0.0}, {'name': 'Protein c3', 'pos': A3 of Opentrons 24 Tube Rack with Eppendorf 1.5 mL Safe-Lock Snapcap on 6, 'well_volume': 5.0, 'c': 8.1e-06, 'pH': None, 'v': 0.0}, {'name': 'Protein c4', 'pos': A2 of NEST 12 Well Reservoir 15 mL on 2, 'well_volume': 5.0, 'c': 1.62e-05, 'pH': None, 'v': 0.0}]}"
      ]
     },
     "execution_count": 15,
     "metadata": {},
     "output_type": "execute_result"
    }
   ],
   "source": [
    "protein"
   ]
  },
  {
   "cell_type": "code",
   "execution_count": 16,
   "id": "provincial-thread",
   "metadata": {},
   "outputs": [
    {
     "data": {
      "text/plain": [
       "7.400000000000001e-07"
      ]
     },
     "execution_count": 16,
     "metadata": {},
     "output_type": "execute_result"
    }
   ],
   "source": [
    "3.996e-06 * 5/27"
   ]
  },
  {
   "cell_type": "markdown",
   "id": "robust-light",
   "metadata": {},
   "source": [
    "# Parse Buffer"
   ]
  },
  {
   "cell_type": "code",
   "execution_count": 17,
   "id": "provincial-halifax",
   "metadata": {},
   "outputs": [],
   "source": [
    "#  Normal buffer\n",
    "\n",
    "labware = df.loc[\"Labware\", \"Normal buffer\"]\n",
    "well = df.loc[\"Well\", \"Normal buffer\"]\n",
    "well_volume = df.loc[\"Well volume\", \"Normal buffer\"]\n",
    "\n",
    "normal_buffer = Fluid(\"Normal buffer\", labware, well, well_volume, c = 0)\n",
    "          \n",
    "\n",
    "# Salt buffer\n",
    "\n",
    "salt_keys = [c for c in df if c.startswith('Salt')]\n",
    "\n",
    "salt_buffer_list = []\n",
    "for key in salt_keys:\n",
    "    c = df.loc[\"End concentrations in M\", key]\n",
    "    well_volume = df.loc[\"Well volume\", key]\n",
    "    labware = df.loc[\"Labware\", key]\n",
    "    well = df.loc[\"Well\", key]\n",
    "    \n",
    "    buffer = Fluid(key, labware, well, well_volume, c)\n",
    "\n",
    "    salt_buffer_list.append(buffer)\n",
    "    \n",
    "    c0 =  df.loc[\"Starting concentration in M\", key]    \n",
    "\n",
    "    if c0 != 0:\n",
    "        stock = buffer\n",
    "salt_buffers = Parameter(\"salt\", stock, salt_buffer_list)"
   ]
  },
  {
   "cell_type": "code",
   "execution_count": 18,
   "id": "vertical-preference",
   "metadata": {},
   "outputs": [
    {
     "data": {
      "text/plain": [
       "{'name': 'salt', 'stock': {'name': 'Salt buffer c1', 'pos': A2 of NEST 12 Well Reservoir 15 mL on 2, 'well_volume': 20.0, 'c': 0.5, 'pH': None, 'v': 0.0}, 'fluids': [{'name': 'Salt buffer c1', 'pos': A2 of NEST 12 Well Reservoir 15 mL on 2, 'well_volume': 20.0, 'c': 0.5, 'pH': None, 'v': 0.0}, {'name': 'Salt buffer c2', 'pos': None, 'well_volume': 20.0, 'c': 0.25, 'pH': None, 'v': 0.0}, {'name': 'Salt buffer c3', 'pos': None, 'well_volume': 20.0, 'c': 0.15, 'pH': None, 'v': 0.0}, {'name': 'Salt buffer c4', 'pos': None, 'well_volume': 20.0, 'c': 0.1, 'pH': None, 'v': 0.0}]}"
      ]
     },
     "execution_count": 18,
     "metadata": {},
     "output_type": "execute_result"
    }
   ],
   "source": [
    "salt_buffers"
   ]
  },
  {
   "cell_type": "markdown",
   "id": "lightweight-correction",
   "metadata": {},
   "source": [
    "# Parse others"
   ]
  },
  {
   "cell_type": "code",
   "execution_count": 19,
   "id": "demonstrated-rebel",
   "metadata": {},
   "outputs": [
    {
     "data": {
      "text/plain": [
       "{'name': 'other params', 'stock': {'name': 'DNA', 'pos': D1 of Opentrons 24 Tube Rack with Eppendorf 1.5 mL Safe-Lock Snapcap on 6, 'well_volume': 1.0, 'c': 0.0, 'pH': None, 'v': 0.0}, 'fluids': [{'name': 'Normal buffer', 'pos': A1 of NEST 12 Well Reservoir 15 mL on 2, 'well_volume': 20.0, 'c': 0.0, 'pH': None, 'v': 0.0}, {'name': 'DNA', 'pos': D1 of Opentrons 24 Tube Rack with Eppendorf 1.5 mL Safe-Lock Snapcap on 6, 'well_volume': 1.0, 'c': 0.0, 'pH': None, 'v': 0.0}, {'name': 'Urea', 'pos': D2 of Opentrons 24 Tube Rack with Eppendorf 1.5 mL Safe-Lock Snapcap on 6, 'well_volume': 1.0, 'c': 0.0, 'pH': None, 'v': 0.0}]}"
      ]
     },
     "execution_count": 19,
     "metadata": {},
     "output_type": "execute_result"
    }
   ],
   "source": [
    "water = Fluid(\"Water\", df.loc[\"Labware\", \"Water\"], df.loc[\"Well\", \"Water\"])\n",
    "\n",
    "DNA_stock = Fluid(\"DNA\", \n",
    "            df.loc[\"Labware\", \"DNA\"], \n",
    "            df.loc[\"Well\", \"DNA\"],\n",
    "           well_volume = df.loc[\"Well volume\", \"DNA\"])\n",
    "\n",
    "urea_stock = Fluid(\"Urea\", df.loc[\"Labware\", \"Urea\"], df.loc[\"Well\", \"Urea\"],\n",
    "            well_volume = df.loc[\"Well volume\", \"Urea\"])\n",
    "\n",
    "other_params = Parameter(\"other params\", DNA_stock, [copy(normal_buffer), DNA_stock, urea_stock ])\n",
    "# urea = Parameter(\"Urea\", urea_stock, [copy(normal_buffer),urea_stock])\n",
    "other_params"
   ]
  },
  {
   "cell_type": "markdown",
   "id": "forced-malaysia",
   "metadata": {},
   "source": [
    "# Parse HCl"
   ]
  },
  {
   "cell_type": "code",
   "execution_count": 20,
   "id": "wired-sugar",
   "metadata": {},
   "outputs": [
    {
     "data": {
      "text/plain": [
       "{'name': 'pH', 'stock': {'name': 'HCl pH1', 'pos': B1 of Opentrons 24 Tube Rack with Eppendorf 1.5 mL Safe-Lock Snapcap on 6, 'well_volume': 1.0, 'c': 7.748, 'pH': 8.5, 'v': 0.0}, 'fluids': [{'name': 'HCl pH1', 'pos': B1 of Opentrons 24 Tube Rack with Eppendorf 1.5 mL Safe-Lock Snapcap on 6, 'well_volume': 1.0, 'c': 7.748, 'pH': 8.5, 'v': 0.0}, {'name': 'HCl pH2', 'pos': B2 of Opentrons 24 Tube Rack with Eppendorf 1.5 mL Safe-Lock Snapcap on 6, 'well_volume': 1.0, 'c': 0.0, 'pH': 7.5, 'v': 0.0}, {'name': 'HCl pH3', 'pos': B3 of Opentrons 24 Tube Rack with Eppendorf 1.5 mL Safe-Lock Snapcap on 6, 'well_volume': 1.0, 'c': 0.0, 'pH': 6.5, 'v': 0.0}]}"
      ]
     },
     "execution_count": 20,
     "metadata": {},
     "output_type": "execute_result"
    }
   ],
   "source": [
    "acid_keys = [c for c in df if c.startswith('HCl')]\n",
    "\n",
    "\n",
    "acids_list = []\n",
    "for key in acid_keys:\n",
    "    \n",
    "    labware = df.loc[\"Labware\", key]\n",
    "    well = df.loc[\"Well\", key]    \n",
    "    pH = df.loc[\"desired pH\", key]\n",
    "    \n",
    "    \n",
    "    well_volume = df.loc[\"Well volume\", key]\n",
    "    c0 = df.loc[\"Starting concentration in M\", key]\n",
    "    \n",
    "    acid = Fluid(key, labware, well, well_volume, c = c0, pH = pH)\n",
    "    acids_list.append(acid)\n",
    "    \n",
    "    \n",
    "    if c0 != 0:\n",
    "        stock = acid\n",
    "        \n",
    "acids = Parameter(\"pH\", stock, acids_list)\n",
    "acids"
   ]
  },
  {
   "cell_type": "markdown",
   "id": "quarterly-pierce",
   "metadata": {},
   "source": [
    "# Create grid"
   ]
  },
  {
   "cell_type": "code",
   "execution_count": 21,
   "id": "heated-conversation",
   "metadata": {},
   "outputs": [],
   "source": [
    "shape = [len(protein.fluids), len(salt_buffers.fluids), len(acids.fluids), len(other_params.fluids),]\n",
    "shape_2d = (shape[0] * shape[2], shape[1]*shape[3])\n",
    "\n",
    "n_wells = 1\n",
    "for n in shape:\n",
    "    n_wells = n * n_wells"
   ]
  },
  {
   "cell_type": "code",
   "execution_count": 22,
   "id": "written-oakland",
   "metadata": {},
   "outputs": [],
   "source": [
    "wells = np.array(plate.wells()).reshape(24,16).swapaxes(0,1)\n",
    "all_wells = wells[2:shape_2d[0]+2,3:shape_2d[1]+3]"
   ]
  },
  {
   "cell_type": "code",
   "execution_count": 23,
   "id": "informal-fellowship",
   "metadata": {},
   "outputs": [],
   "source": [
    "wells_mask = np.full(all_wells.shape, False)"
   ]
  },
  {
   "cell_type": "code",
   "execution_count": 24,
   "id": "motivated-castle",
   "metadata": {},
   "outputs": [
    {
     "name": "stdout",
     "output_type": "stream",
     "text": [
      "The final volume per well is 27.0\n"
     ]
    }
   ],
   "source": [
    "final_well_volume = 0\n",
    "for param in [salt_buffers, acids, other_params, protein]:\n",
    "    final_well_volume = final_well_volume + param.stock.well_volume\n",
    "print(f'The final volume per well is {final_well_volume}')"
   ]
  },
  {
   "cell_type": "code",
   "execution_count": 25,
   "id": "tight-patrick",
   "metadata": {},
   "outputs": [
    {
     "name": "stdout",
     "output_type": "stream",
     "text": [
      "3.7037e-06\n",
      "1.62e-05\n",
      "8.1e-06\n",
      "1.62e-05\n",
      "We need at least 2267.65 µl of protein stock\n"
     ]
    }
   ],
   "source": [
    "min_volume_per_c = protein.stock.well_volume * n_wells / len(protein.fluids)\n",
    "volume_per_pc = min_volume_per_c + (2 * protein.stock.well_volume)\n",
    "\n",
    "protein.stock.v = 0\n",
    "for p in protein.fluids:\n",
    "    v = volume_per_pc * p.c / protein.stock.c\n",
    "    print(p.c)\n",
    "    p.v = v\n",
    "#     print(p.c * p.well_volume / final_well_volume)\n",
    "    \n",
    "    protein.stock.v = protein.stock.v + v\n",
    "print(f'We need at least {protein.stock.v:.2f} µl of protein stock')"
   ]
  },
  {
   "cell_type": "code",
   "execution_count": 26,
   "id": "plain-library",
   "metadata": {},
   "outputs": [
    {
     "data": {
      "text/plain": [
       "[{'name': 'Protein c1', 'pos': A1 of Opentrons 24 Tube Rack with Eppendorf 1.5 mL Safe-Lock Snapcap on 6, 'well_volume': 5.0, 'c': 3.7037e-06, 'pH': None, 'v': 190.0},\n",
       " {'name': 'Protein c2', 'pos': A2 of Opentrons 24 Tube Rack with Eppendorf 1.5 mL Safe-Lock Snapcap on 6, 'well_volume': 5.0, 'c': 1.62e-05, 'pH': None, 'v': 831.0608310608311},\n",
       " {'name': 'Protein c3', 'pos': A3 of Opentrons 24 Tube Rack with Eppendorf 1.5 mL Safe-Lock Snapcap on 6, 'well_volume': 5.0, 'c': 8.1e-06, 'pH': None, 'v': 415.53041553041555},\n",
       " {'name': 'Protein c4', 'pos': A2 of NEST 12 Well Reservoir 15 mL on 2, 'well_volume': 5.0, 'c': 1.62e-05, 'pH': None, 'v': 831.0608310608311}]"
      ]
     },
     "execution_count": 26,
     "metadata": {},
     "output_type": "execute_result"
    }
   ],
   "source": [
    "protein.fluids"
   ]
  },
  {
   "cell_type": "code",
   "execution_count": 27,
   "id": "viral-compression",
   "metadata": {},
   "outputs": [
    {
     "data": {
      "text/plain": [
       "{'name': 'Protein', 'stock': {'name': 'Protein c1', 'pos': A1 of Opentrons 24 Tube Rack with Eppendorf 1.5 mL Safe-Lock Snapcap on 6, 'well_volume': 5.0, 'c': 3.7037e-06, 'pH': None, 'v': 2267.6520776520774}, 'fluids': [{'name': 'Protein c1', 'pos': A1 of Opentrons 24 Tube Rack with Eppendorf 1.5 mL Safe-Lock Snapcap on 6, 'well_volume': 5.0, 'c': 3.7037e-06, 'pH': None, 'v': 190.0}, {'name': 'Protein c2', 'pos': A2 of Opentrons 24 Tube Rack with Eppendorf 1.5 mL Safe-Lock Snapcap on 6, 'well_volume': 5.0, 'c': 1.62e-05, 'pH': None, 'v': 831.0608310608311}, {'name': 'Protein c3', 'pos': A3 of Opentrons 24 Tube Rack with Eppendorf 1.5 mL Safe-Lock Snapcap on 6, 'well_volume': 5.0, 'c': 8.1e-06, 'pH': None, 'v': 415.53041553041555}, {'name': 'Protein c4', 'pos': A2 of NEST 12 Well Reservoir 15 mL on 2, 'well_volume': 5.0, 'c': 1.62e-05, 'pH': None, 'v': 831.0608310608311}]}"
      ]
     },
     "execution_count": 27,
     "metadata": {},
     "output_type": "execute_result"
    }
   ],
   "source": [
    "protein"
   ]
  },
  {
   "cell_type": "markdown",
   "id": "ordered-diary",
   "metadata": {},
   "source": [
    "## Helper functions:"
   ]
  },
  {
   "cell_type": "code",
   "execution_count": 541,
   "id": "incoming-brother",
   "metadata": {},
   "outputs": [],
   "source": [
    "# def blockshaped(arr, nrows, ncols):\n",
    "#     \"\"\"\n",
    "#     Return an array of shape (n, nrows, ncols) where\n",
    "#     n * nrows * ncols = arr.size\n",
    "\n",
    "#     If arr is a 2D array, the returned array should look like n subblocks with\n",
    "#     each subblock preserving the \"physical\" layout of arr.\n",
    "#     \"\"\"\n",
    "#     h, w = arr.shape\n",
    "#     assert h % nrows == 0, f\"{h} rows is not evenly divisible by {nrows}\"\n",
    "#     assert w % ncols == 0, f\"{w} cols is not evenly divisible by {ncols}\"\n",
    "#     return (arr.reshape(h//nrows, nrows, -1, ncols)\n",
    "#                .swapaxes(1,2)\n",
    "#                .reshape(-1, nrows, ncols))\n",
    "draw = True\n",
    "def draw_progress(well_mask):\n",
    "    if draw:\n",
    "        plt.axis('off');\n",
    "        ax = plt.imshow(well_mask);\n",
    "        plt.close(0)\n",
    "        ax.set_data(well_mask)\n",
    "        #             clear_output()\n",
    "        fig = plt.gcf()\n",
    "        fig.canvas.draw();\n",
    "        fig.canvas.flush_events();\n",
    "        plt.show(0);\n",
    "            "
   ]
  },
  {
   "cell_type": "markdown",
   "id": "israeli-remainder",
   "metadata": {},
   "source": [
    "If we want to simulate:"
   ]
  },
  {
   "cell_type": "code",
   "execution_count": 542,
   "id": "exotic-armstrong",
   "metadata": {},
   "outputs": [],
   "source": [
    "well_dict = dict.fromkeys(list(all_wells.flatten()))"
   ]
  },
  {
   "cell_type": "code",
   "execution_count": 543,
   "id": "unlimited-february",
   "metadata": {},
   "outputs": [],
   "source": [
    "# wells_blockshaped = blockshaped(wells_to_fill, 2, 3)"
   ]
  },
  {
   "cell_type": "markdown",
   "id": "single-deputy",
   "metadata": {},
   "source": [
    "## For visualization:"
   ]
  },
  {
   "cell_type": "code",
   "execution_count": 544,
   "id": "canadian-value",
   "metadata": {},
   "outputs": [],
   "source": [
    "# wells_reshaped = np.array(plate.wells()).reshape((24,16)).swapaxes(0,1)[2:14, 2:10]\n",
    "# well_mask = np.full(wells_reshaped.shape, False)"
   ]
  },
  {
   "cell_type": "markdown",
   "id": "opened-matter",
   "metadata": {},
   "source": [
    "# Buffers:"
   ]
  },
  {
   "cell_type": "markdown",
   "id": "blank-bacteria",
   "metadata": {},
   "source": [
    "Buffer volumes:"
   ]
  },
  {
   "cell_type": "code",
   "execution_count": 545,
   "id": "studied-thompson",
   "metadata": {},
   "outputs": [
    {
     "name": "stdout",
     "output_type": "stream",
     "text": [
      "Salt concentration for Salt buffer c1 will be lower.\n",
      "20\n",
      "7.5\n",
      "2.0999999999999996\n",
      "Salt concentration for Salt buffer c4 will be higher.\n",
      "1\n"
     ]
    }
   ],
   "source": [
    "for buffer in salt_buffers.fluids:\n",
    "#     buffer.c = (c * 20 + 0.5 * 6) / final_well_volume\n",
    "    c_actual = (buffer.c * final_well_volume - 0.5 * 6 ) / buffer.well_volume\n",
    "    v = c_actual * buffer.well_volume / salt_buffers.stock.c\n",
    "    if v < 1:\n",
    "        v = 1\n",
    "#         c_actual = v * salt_buffers.stock.c / buffer.well_volume\n",
    "        print(f'Salt concentration for {buffer.name} will be higher.')\n",
    "    if v > 20:\n",
    "        v = 20\n",
    "#         c_actual = v * salt_buffers.stock.c / buffer.well_volume\n",
    "        print(f'Salt concentration for {buffer.name} will be lower.')\n",
    "    print(v)\n",
    "    buffer.v = v\n",
    "# salt_buffers"
   ]
  },
  {
   "cell_type": "code",
   "execution_count": 546,
   "id": "revised-california",
   "metadata": {},
   "outputs": [
    {
     "data": {
      "image/png": "[encoded data removed]",
      "text/plain": [
       "<Figure size 432x288 with 1 Axes>"
      ]
     },
     "metadata": {
      "needs_background": "light"
     },
     "output_type": "display_data"
    },
    {
     "name": "stdout",
     "output_type": "stream",
     "text": [
      "Pipetting 0.0 µl of Normal buffer\n"
     ]
    },
    {
     "data": {
      "image/png": "[encoded data removed]",
      "text/plain": [
       "<Figure size 432x288 with 1 Axes>"
      ]
     },
     "metadata": {
      "needs_background": "light"
     },
     "output_type": "display_data"
    },
    {
     "name": "stdout",
     "output_type": "stream",
     "text": [
      "Pipetting 12.5 µl of Normal buffer\n"
     ]
    },
    {
     "data": {
      "image/png": "[encoded data removed]",
      "text/plain": [
       "<Figure size 432x288 with 1 Axes>"
      ]
     },
     "metadata": {
      "needs_background": "light"
     },
     "output_type": "display_data"
    },
    {
     "name": "stdout",
     "output_type": "stream",
     "text": [
      "Pipetting 17.9 µl of Normal buffer\n"
     ]
    },
    {
     "data": {
      "image/png": "[encoded data removed]",
      "text/plain": [
       "<Figure size 432x288 with 1 Axes>"
      ]
     },
     "metadata": {
      "needs_background": "light"
     },
     "output_type": "display_data"
    },
    {
     "name": "stdout",
     "output_type": "stream",
     "text": [
      "Pipetting 19.0 µl of Normal buffer\n"
     ]
    },
    {
     "data": {
      "image/png": "[encoded data removed]",
      "text/plain": [
       "<Figure size 432x288 with 1 Axes>"
      ]
     },
     "metadata": {
      "needs_background": "light"
     },
     "output_type": "display_data"
    },
    {
     "name": "stdout",
     "output_type": "stream",
     "text": [
      "Pipetting 20 µl of Salt buffer c1\n"
     ]
    },
    {
     "data": {
      "image/png": "[encoded data removed]",
      "text/plain": [
       "<Figure size 432x288 with 1 Axes>"
      ]
     },
     "metadata": {
      "needs_background": "light"
     },
     "output_type": "display_data"
    },
    {
     "name": "stdout",
     "output_type": "stream",
     "text": [
      "Pipetting 7.5 µl of Salt buffer c1\n"
     ]
    },
    {
     "data": {
      "image/png": "[encoded data removed]",
      "text/plain": [
       "<Figure size 432x288 with 1 Axes>"
      ]
     },
     "metadata": {
      "needs_background": "light"
     },
     "output_type": "display_data"
    },
    {
     "name": "stdout",
     "output_type": "stream",
     "text": [
      "Pipetting 2.0999999999999996 µl of Salt buffer c1\n"
     ]
    },
    {
     "data": {
      "image/png": "[encoded data removed]",
      "text/plain": [
       "<Figure size 432x288 with 1 Axes>"
      ]
     },
     "metadata": {
      "needs_background": "light"
     },
     "output_type": "display_data"
    },
    {
     "name": "stdout",
     "output_type": "stream",
     "text": [
      "Pipetting 1 µl of Salt buffer c1\n"
     ]
    },
    {
     "data": {
      "image/png": "[encoded data removed]",
      "text/plain": [
       "<Figure size 432x288 with 1 Axes>"
      ]
     },
     "metadata": {
      "needs_background": "light"
     },
     "output_type": "display_data"
    }
   ],
   "source": [
    "if not pip.hw_pipette[\"has_tip\"]:\n",
    "    pip.pick_up_tip()\n",
    "\n",
    "# Loop through buffers\n",
    "for buffer in (normal_buffer, salt_buffers.stock):\n",
    "                \n",
    "    for i, b in enumerate(salt_buffers.fluids):\n",
    "        \n",
    "        v = b.v\n",
    "        if buffer.name == \"Normal buffer\":\n",
    "            v = b.well_volume - v\n",
    "    \n",
    "        from_row = (i * len(acids.fluids)) \n",
    "        to_row = from_row + len(acids.fluids)\n",
    "        to_column = (len(salt_buffers.fluids) * len(acids.fluids)) \n",
    "\n",
    "        \n",
    "        wells_mask[:] = False\n",
    "        wells_mask[from_row:to_row, 0:to_column] = True\n",
    "        draw_progress(wells_mask)\n",
    "        \n",
    "        print(f'Pipetting {v} µl of {buffer.name}')\n",
    "      \n",
    "           \n",
    "        wells = list(all_wells[wells_mask])\n",
    "        \n",
    "        for well in wells:\n",
    "            well_dict[well] = {\"v\": v,\n",
    "                                      \"name\": \"salt\"}\n",
    "        \n",
    "        if v < 9.5:\n",
    "            pip.distribute(v, \n",
    "                         buffer.pos, \n",
    "                         wells,\n",
    "                         new_tip=\"never\"\n",
    "                        )\n",
    "            \n",
    "        else:\n",
    "            if v != 0: # otherwise it will pipette the pip's max volume!!!\n",
    "                for well in wells:\n",
    "                    pip.aspirate(v,\n",
    "                                buffer.pos)\n",
    "                    pip.dispense(v,\n",
    "                                well)\n",
    "        \n",
    "            \n",
    "\n",
    "#        "
   ]
  },
  {
   "cell_type": "code",
   "execution_count": 547,
   "id": "foster-atlantic",
   "metadata": {},
   "outputs": [
    {
     "data": {
      "text/plain": [
       "<InstrumentContext: p20_single_v2.0 in RIGHT>"
      ]
     },
     "execution_count": 547,
     "metadata": {},
     "output_type": "execute_result"
    }
   ],
   "source": [
    "pip.drop_tip()"
   ]
  },
  {
   "cell_type": "code",
   "execution_count": 548,
   "id": "prostate-poster",
   "metadata": {},
   "outputs": [
    {
     "name": "stdout",
     "output_type": "stream",
     "text": [
      "Picking up tip from A1 of Opentrons 96 Filter Tip Rack 20 µL on 8\n",
      "Distributing 0.0 from A1 of NEST 12 Well Reservoir 15 mL on 2 to C4 of Corning 384 Well Plate 112 µL Flat on 5\n",
      "Transferring 0.0 from A1 of NEST 12 Well Reservoir 15 mL on 2 to C4 of Corning 384 Well Plate 112 µL Flat on 5\n",
      "Aspirating 12.5 uL from A1 of NEST 12 Well Reservoir 15 mL on 2 at 7.56 uL/sec\n",
      "Dispensing 12.5 uL into F4 of Corning 384 Well Plate 112 µL Flat on 5 at 7.56 uL/sec\n",
      "Aspirating 12.5 uL from A1 of NEST 12 Well Reservoir 15 mL on 2 at 7.56 uL/sec\n",
      "Dispensing 12.5 uL into F5 of Corning 384 Well Plate 112 µL Flat on 5 at 7.56 uL/sec\n",
      "Aspirating 12.5 uL from A1 of NEST 12 Well Reservoir 15 mL on 2 at 7.56 uL/sec\n",
      "Dispensing 12.5 uL into F6 of Corning 384 Well Plate 112 µL Flat on 5 at 7.56 uL/sec\n",
      "Aspirating 12.5 uL from A1 of NEST 12 Well Reservoir 15 mL on 2 at 7.56 uL/sec\n",
      "Dispensing 12.5 uL into F7 of Corning 384 Well Plate 112 µL Flat on 5 at 7.56 uL/sec\n",
      "Aspirating 12.5 uL from A1 of NEST 12 Well Reservoir 15 mL on 2 at 7.56 uL/sec\n",
      "Dispensing 12.5 uL into F8 of Corning 384 Well Plate 112 µL Flat on 5 at 7.56 uL/sec\n",
      "Aspirating 12.5 uL from A1 of NEST 12 Well Reservoir 15 mL on 2 at 7.56 uL/sec\n",
      "Dispensing 12.5 uL into F9 of Corning 384 Well Plate 112 µL Flat on 5 at 7.56 uL/sec\n",
      "Aspirating 12.5 uL from A1 of NEST 12 Well Reservoir 15 mL on 2 at 7.56 uL/sec\n",
      "Dispensing 12.5 uL into F10 of Corning 384 Well Plate 112 µL Flat on 5 at 7.56 uL/sec\n",
      "Aspirating 12.5 uL from A1 of NEST 12 Well Reservoir 15 mL on 2 at 7.56 uL/sec\n",
      "Dispensing 12.5 uL into F11 of Corning 384 Well Plate 112 µL Flat on 5 at 7.56 uL/sec\n",
      "Aspirating 12.5 uL from A1 of NEST 12 Well Reservoir 15 mL on 2 at 7.56 uL/sec\n",
      "Dispensing 12.5 uL into F12 of Corning 384 Well Plate 112 µL Flat on 5 at 7.56 uL/sec\n",
      "Aspirating 12.5 uL from A1 of NEST 12 Well Reservoir 15 mL on 2 at 7.56 uL/sec\n",
      "Dispensing 12.5 uL into F13 of Corning 384 Well Plate 112 µL Flat on 5 at 7.56 uL/sec\n",
      "Aspirating 12.5 uL from A1 of NEST 12 Well Reservoir 15 mL on 2 at 7.56 uL/sec\n",
      "Dispensing 12.5 uL into F14 of Corning 384 Well Plate 112 µL Flat on 5 at 7.56 uL/sec\n",
      "Aspirating 12.5 uL from A1 of NEST 12 Well Reservoir 15 mL on 2 at 7.56 uL/sec\n",
      "Dispensing 12.5 uL into F15 of Corning 384 Well Plate 112 µL Flat on 5 at 7.56 uL/sec\n",
      "Aspirating 12.5 uL from A1 of NEST 12 Well Reservoir 15 mL on 2 at 7.56 uL/sec\n",
      "Dispensing 12.5 uL into G4 of Corning 384 Well Plate 112 µL Flat on 5 at 7.56 uL/sec\n",
      "Aspirating 12.5 uL from A1 of NEST 12 Well Reservoir 15 mL on 2 at 7.56 uL/sec\n",
      "Dispensing 12.5 uL into G5 of Corning 384 Well Plate 112 µL Flat on 5 at 7.56 uL/sec\n",
      "Aspirating 12.5 uL from A1 of NEST 12 Well Reservoir 15 mL on 2 at 7.56 uL/sec\n",
      "Dispensing 12.5 uL into G6 of Corning 384 Well Plate 112 µL Flat on 5 at 7.56 uL/sec\n",
      "Aspirating 12.5 uL from A1 of NEST 12 Well Reservoir 15 mL on 2 at 7.56 uL/sec\n",
      "Dispensing 12.5 uL into G7 of Corning 384 Well Plate 112 µL Flat on 5 at 7.56 uL/sec\n",
      "Aspirating 12.5 uL from A1 of NEST 12 Well Reservoir 15 mL on 2 at 7.56 uL/sec\n",
      "Dispensing 12.5 uL into G8 of Corning 384 Well Plate 112 µL Flat on 5 at 7.56 uL/sec\n",
      "Aspirating 12.5 uL from A1 of NEST 12 Well Reservoir 15 mL on 2 at 7.56 uL/sec\n",
      "Dispensing 12.5 uL into G9 of Corning 384 Well Plate 112 µL Flat on 5 at 7.56 uL/sec\n",
      "Aspirating 12.5 uL from A1 of NEST 12 Well Reservoir 15 mL on 2 at 7.56 uL/sec\n",
      "Dispensing 12.5 uL into G10 of Corning 384 Well Plate 112 µL Flat on 5 at 7.56 uL/sec\n",
      "Aspirating 12.5 uL from A1 of NEST 12 Well Reservoir 15 mL on 2 at 7.56 uL/sec\n",
      "Dispensing 12.5 uL into G11 of Corning 384 Well Plate 112 µL Flat on 5 at 7.56 uL/sec\n",
      "Aspirating 12.5 uL from A1 of NEST 12 Well Reservoir 15 mL on 2 at 7.56 uL/sec\n",
      "Dispensing 12.5 uL into G12 of Corning 384 Well Plate 112 µL Flat on 5 at 7.56 uL/sec\n",
      "Aspirating 12.5 uL from A1 of NEST 12 Well Reservoir 15 mL on 2 at 7.56 uL/sec\n",
      "Dispensing 12.5 uL into G13 of Corning 384 Well Plate 112 µL Flat on 5 at 7.56 uL/sec\n",
      "Aspirating 12.5 uL from A1 of NEST 12 Well Reservoir 15 mL on 2 at 7.56 uL/sec\n",
      "Dispensing 12.5 uL into G14 of Corning 384 Well Plate 112 µL Flat on 5 at 7.56 uL/sec\n",
      "Aspirating 12.5 uL from A1 of NEST 12 Well Reservoir 15 mL on 2 at 7.56 uL/sec\n",
      "Dispensing 12.5 uL into G15 of Corning 384 Well Plate 112 µL Flat on 5 at 7.56 uL/sec\n",
      "Aspirating 12.5 uL from A1 of NEST 12 Well Reservoir 15 mL on 2 at 7.56 uL/sec\n",
      "Dispensing 12.5 uL into H4 of Corning 384 Well Plate 112 µL Flat on 5 at 7.56 uL/sec\n",
      "Aspirating 12.5 uL from A1 of NEST 12 Well Reservoir 15 mL on 2 at 7.56 uL/sec\n",
      "Dispensing 12.5 uL into H5 of Corning 384 Well Plate 112 µL Flat on 5 at 7.56 uL/sec\n",
      "Aspirating 12.5 uL from A1 of NEST 12 Well Reservoir 15 mL on 2 at 7.56 uL/sec\n",
      "Dispensing 12.5 uL into H6 of Corning 384 Well Plate 112 µL Flat on 5 at 7.56 uL/sec\n",
      "Aspirating 12.5 uL from A1 of NEST 12 Well Reservoir 15 mL on 2 at 7.56 uL/sec\n",
      "Dispensing 12.5 uL into H7 of Corning 384 Well Plate 112 µL Flat on 5 at 7.56 uL/sec\n",
      "Aspirating 12.5 uL from A1 of NEST 12 Well Reservoir 15 mL on 2 at 7.56 uL/sec\n",
      "Dispensing 12.5 uL into H8 of Corning 384 Well Plate 112 µL Flat on 5 at 7.56 uL/sec\n",
      "Aspirating 12.5 uL from A1 of NEST 12 Well Reservoir 15 mL on 2 at 7.56 uL/sec\n",
      "Dispensing 12.5 uL into H9 of Corning 384 Well Plate 112 µL Flat on 5 at 7.56 uL/sec\n",
      "Aspirating 12.5 uL from A1 of NEST 12 Well Reservoir 15 mL on 2 at 7.56 uL/sec\n",
      "Dispensing 12.5 uL into H10 of Corning 384 Well Plate 112 µL Flat on 5 at 7.56 uL/sec\n",
      "Aspirating 12.5 uL from A1 of NEST 12 Well Reservoir 15 mL on 2 at 7.56 uL/sec\n",
      "Dispensing 12.5 uL into H11 of Corning 384 Well Plate 112 µL Flat on 5 at 7.56 uL/sec\n",
      "Aspirating 12.5 uL from A1 of NEST 12 Well Reservoir 15 mL on 2 at 7.56 uL/sec\n",
      "Dispensing 12.5 uL into H12 of Corning 384 Well Plate 112 µL Flat on 5 at 7.56 uL/sec\n",
      "Aspirating 12.5 uL from A1 of NEST 12 Well Reservoir 15 mL on 2 at 7.56 uL/sec\n",
      "Dispensing 12.5 uL into H13 of Corning 384 Well Plate 112 µL Flat on 5 at 7.56 uL/sec\n",
      "Aspirating 12.5 uL from A1 of NEST 12 Well Reservoir 15 mL on 2 at 7.56 uL/sec\n",
      "Dispensing 12.5 uL into H14 of Corning 384 Well Plate 112 µL Flat on 5 at 7.56 uL/sec\n",
      "Aspirating 12.5 uL from A1 of NEST 12 Well Reservoir 15 mL on 2 at 7.56 uL/sec\n",
      "Dispensing 12.5 uL into H15 of Corning 384 Well Plate 112 µL Flat on 5 at 7.56 uL/sec\n",
      "Aspirating 17.9 uL from A1 of NEST 12 Well Reservoir 15 mL on 2 at 7.56 uL/sec\n",
      "Dispensing 17.9 uL into I4 of Corning 384 Well Plate 112 µL Flat on 5 at 7.56 uL/sec\n",
      "Aspirating 17.9 uL from A1 of NEST 12 Well Reservoir 15 mL on 2 at 7.56 uL/sec\n",
      "Dispensing 17.9 uL into I5 of Corning 384 Well Plate 112 µL Flat on 5 at 7.56 uL/sec\n",
      "Aspirating 17.9 uL from A1 of NEST 12 Well Reservoir 15 mL on 2 at 7.56 uL/sec\n",
      "Dispensing 17.9 uL into I6 of Corning 384 Well Plate 112 µL Flat on 5 at 7.56 uL/sec\n",
      "Aspirating 17.9 uL from A1 of NEST 12 Well Reservoir 15 mL on 2 at 7.56 uL/sec\n",
      "Dispensing 17.9 uL into I7 of Corning 384 Well Plate 112 µL Flat on 5 at 7.56 uL/sec\n",
      "Aspirating 17.9 uL from A1 of NEST 12 Well Reservoir 15 mL on 2 at 7.56 uL/sec\n",
      "Dispensing 17.9 uL into I8 of Corning 384 Well Plate 112 µL Flat on 5 at 7.56 uL/sec\n",
      "Aspirating 17.9 uL from A1 of NEST 12 Well Reservoir 15 mL on 2 at 7.56 uL/sec\n",
      "Dispensing 17.9 uL into I9 of Corning 384 Well Plate 112 µL Flat on 5 at 7.56 uL/sec\n",
      "Aspirating 17.9 uL from A1 of NEST 12 Well Reservoir 15 mL on 2 at 7.56 uL/sec\n",
      "Dispensing 17.9 uL into I10 of Corning 384 Well Plate 112 µL Flat on 5 at 7.56 uL/sec\n",
      "Aspirating 17.9 uL from A1 of NEST 12 Well Reservoir 15 mL on 2 at 7.56 uL/sec\n",
      "Dispensing 17.9 uL into I11 of Corning 384 Well Plate 112 µL Flat on 5 at 7.56 uL/sec\n",
      "Aspirating 17.9 uL from A1 of NEST 12 Well Reservoir 15 mL on 2 at 7.56 uL/sec\n",
      "Dispensing 17.9 uL into I12 of Corning 384 Well Plate 112 µL Flat on 5 at 7.56 uL/sec\n",
      "Aspirating 17.9 uL from A1 of NEST 12 Well Reservoir 15 mL on 2 at 7.56 uL/sec\n",
      "Dispensing 17.9 uL into I13 of Corning 384 Well Plate 112 µL Flat on 5 at 7.56 uL/sec\n",
      "Aspirating 17.9 uL from A1 of NEST 12 Well Reservoir 15 mL on 2 at 7.56 uL/sec\n",
      "Dispensing 17.9 uL into I14 of Corning 384 Well Plate 112 µL Flat on 5 at 7.56 uL/sec\n",
      "Aspirating 17.9 uL from A1 of NEST 12 Well Reservoir 15 mL on 2 at 7.56 uL/sec\n",
      "Dispensing 17.9 uL into I15 of Corning 384 Well Plate 112 µL Flat on 5 at 7.56 uL/sec\n",
      "Aspirating 17.9 uL from A1 of NEST 12 Well Reservoir 15 mL on 2 at 7.56 uL/sec\n",
      "Dispensing 17.9 uL into J4 of Corning 384 Well Plate 112 µL Flat on 5 at 7.56 uL/sec\n",
      "Aspirating 17.9 uL from A1 of NEST 12 Well Reservoir 15 mL on 2 at 7.56 uL/sec\n",
      "Dispensing 17.9 uL into J5 of Corning 384 Well Plate 112 µL Flat on 5 at 7.56 uL/sec\n",
      "Aspirating 17.9 uL from A1 of NEST 12 Well Reservoir 15 mL on 2 at 7.56 uL/sec\n",
      "Dispensing 17.9 uL into J6 of Corning 384 Well Plate 112 µL Flat on 5 at 7.56 uL/sec\n",
      "Aspirating 17.9 uL from A1 of NEST 12 Well Reservoir 15 mL on 2 at 7.56 uL/sec\n",
      "Dispensing 17.9 uL into J7 of Corning 384 Well Plate 112 µL Flat on 5 at 7.56 uL/sec\n",
      "Aspirating 17.9 uL from A1 of NEST 12 Well Reservoir 15 mL on 2 at 7.56 uL/sec\n",
      "Dispensing 17.9 uL into J8 of Corning 384 Well Plate 112 µL Flat on 5 at 7.56 uL/sec\n",
      "Aspirating 17.9 uL from A1 of NEST 12 Well Reservoir 15 mL on 2 at 7.56 uL/sec\n",
      "Dispensing 17.9 uL into J9 of Corning 384 Well Plate 112 µL Flat on 5 at 7.56 uL/sec\n",
      "Aspirating 17.9 uL from A1 of NEST 12 Well Reservoir 15 mL on 2 at 7.56 uL/sec\n",
      "Dispensing 17.9 uL into J10 of Corning 384 Well Plate 112 µL Flat on 5 at 7.56 uL/sec\n",
      "Aspirating 17.9 uL from A1 of NEST 12 Well Reservoir 15 mL on 2 at 7.56 uL/sec\n",
      "Dispensing 17.9 uL into J11 of Corning 384 Well Plate 112 µL Flat on 5 at 7.56 uL/sec\n",
      "Aspirating 17.9 uL from A1 of NEST 12 Well Reservoir 15 mL on 2 at 7.56 uL/sec\n",
      "Dispensing 17.9 uL into J12 of Corning 384 Well Plate 112 µL Flat on 5 at 7.56 uL/sec\n",
      "Aspirating 17.9 uL from A1 of NEST 12 Well Reservoir 15 mL on 2 at 7.56 uL/sec\n",
      "Dispensing 17.9 uL into J13 of Corning 384 Well Plate 112 µL Flat on 5 at 7.56 uL/sec\n",
      "Aspirating 17.9 uL from A1 of NEST 12 Well Reservoir 15 mL on 2 at 7.56 uL/sec\n",
      "Dispensing 17.9 uL into J14 of Corning 384 Well Plate 112 µL Flat on 5 at 7.56 uL/sec\n",
      "Aspirating 17.9 uL from A1 of NEST 12 Well Reservoir 15 mL on 2 at 7.56 uL/sec\n",
      "Dispensing 17.9 uL into J15 of Corning 384 Well Plate 112 µL Flat on 5 at 7.56 uL/sec\n",
      "Aspirating 17.9 uL from A1 of NEST 12 Well Reservoir 15 mL on 2 at 7.56 uL/sec\n",
      "Dispensing 17.9 uL into K4 of Corning 384 Well Plate 112 µL Flat on 5 at 7.56 uL/sec\n",
      "Aspirating 17.9 uL from A1 of NEST 12 Well Reservoir 15 mL on 2 at 7.56 uL/sec\n",
      "Dispensing 17.9 uL into K5 of Corning 384 Well Plate 112 µL Flat on 5 at 7.56 uL/sec\n",
      "Aspirating 17.9 uL from A1 of NEST 12 Well Reservoir 15 mL on 2 at 7.56 uL/sec\n",
      "Dispensing 17.9 uL into K6 of Corning 384 Well Plate 112 µL Flat on 5 at 7.56 uL/sec\n",
      "Aspirating 17.9 uL from A1 of NEST 12 Well Reservoir 15 mL on 2 at 7.56 uL/sec\n",
      "Dispensing 17.9 uL into K7 of Corning 384 Well Plate 112 µL Flat on 5 at 7.56 uL/sec\n",
      "Aspirating 17.9 uL from A1 of NEST 12 Well Reservoir 15 mL on 2 at 7.56 uL/sec\n",
      "Dispensing 17.9 uL into K8 of Corning 384 Well Plate 112 µL Flat on 5 at 7.56 uL/sec\n",
      "Aspirating 17.9 uL from A1 of NEST 12 Well Reservoir 15 mL on 2 at 7.56 uL/sec\n",
      "Dispensing 17.9 uL into K9 of Corning 384 Well Plate 112 µL Flat on 5 at 7.56 uL/sec\n",
      "Aspirating 17.9 uL from A1 of NEST 12 Well Reservoir 15 mL on 2 at 7.56 uL/sec\n",
      "Dispensing 17.9 uL into K10 of Corning 384 Well Plate 112 µL Flat on 5 at 7.56 uL/sec\n",
      "Aspirating 17.9 uL from A1 of NEST 12 Well Reservoir 15 mL on 2 at 7.56 uL/sec\n",
      "Dispensing 17.9 uL into K11 of Corning 384 Well Plate 112 µL Flat on 5 at 7.56 uL/sec\n",
      "Aspirating 17.9 uL from A1 of NEST 12 Well Reservoir 15 mL on 2 at 7.56 uL/sec\n",
      "Dispensing 17.9 uL into K12 of Corning 384 Well Plate 112 µL Flat on 5 at 7.56 uL/sec\n",
      "Aspirating 17.9 uL from A1 of NEST 12 Well Reservoir 15 mL on 2 at 7.56 uL/sec\n",
      "Dispensing 17.9 uL into K13 of Corning 384 Well Plate 112 µL Flat on 5 at 7.56 uL/sec\n",
      "Aspirating 17.9 uL from A1 of NEST 12 Well Reservoir 15 mL on 2 at 7.56 uL/sec\n",
      "Dispensing 17.9 uL into K14 of Corning 384 Well Plate 112 µL Flat on 5 at 7.56 uL/sec\n",
      "Aspirating 17.9 uL from A1 of NEST 12 Well Reservoir 15 mL on 2 at 7.56 uL/sec\n",
      "Dispensing 17.9 uL into K15 of Corning 384 Well Plate 112 µL Flat on 5 at 7.56 uL/sec\n",
      "Aspirating 19.0 uL from A1 of NEST 12 Well Reservoir 15 mL on 2 at 7.56 uL/sec\n",
      "Dispensing 19.0 uL into L4 of Corning 384 Well Plate 112 µL Flat on 5 at 7.56 uL/sec\n",
      "Aspirating 19.0 uL from A1 of NEST 12 Well Reservoir 15 mL on 2 at 7.56 uL/sec\n",
      "Dispensing 19.0 uL into L5 of Corning 384 Well Plate 112 µL Flat on 5 at 7.56 uL/sec\n",
      "Aspirating 19.0 uL from A1 of NEST 12 Well Reservoir 15 mL on 2 at 7.56 uL/sec\n",
      "Dispensing 19.0 uL into L6 of Corning 384 Well Plate 112 µL Flat on 5 at 7.56 uL/sec\n",
      "Aspirating 19.0 uL from A1 of NEST 12 Well Reservoir 15 mL on 2 at 7.56 uL/sec\n",
      "Dispensing 19.0 uL into L7 of Corning 384 Well Plate 112 µL Flat on 5 at 7.56 uL/sec\n",
      "Aspirating 19.0 uL from A1 of NEST 12 Well Reservoir 15 mL on 2 at 7.56 uL/sec\n",
      "Dispensing 19.0 uL into L8 of Corning 384 Well Plate 112 µL Flat on 5 at 7.56 uL/sec\n",
      "Aspirating 19.0 uL from A1 of NEST 12 Well Reservoir 15 mL on 2 at 7.56 uL/sec\n",
      "Dispensing 19.0 uL into L9 of Corning 384 Well Plate 112 µL Flat on 5 at 7.56 uL/sec\n",
      "Aspirating 19.0 uL from A1 of NEST 12 Well Reservoir 15 mL on 2 at 7.56 uL/sec\n",
      "Dispensing 19.0 uL into L10 of Corning 384 Well Plate 112 µL Flat on 5 at 7.56 uL/sec\n",
      "Aspirating 19.0 uL from A1 of NEST 12 Well Reservoir 15 mL on 2 at 7.56 uL/sec\n",
      "Dispensing 19.0 uL into L11 of Corning 384 Well Plate 112 µL Flat on 5 at 7.56 uL/sec\n",
      "Aspirating 19.0 uL from A1 of NEST 12 Well Reservoir 15 mL on 2 at 7.56 uL/sec\n",
      "Dispensing 19.0 uL into L12 of Corning 384 Well Plate 112 µL Flat on 5 at 7.56 uL/sec\n",
      "Aspirating 19.0 uL from A1 of NEST 12 Well Reservoir 15 mL on 2 at 7.56 uL/sec\n",
      "Dispensing 19.0 uL into L13 of Corning 384 Well Plate 112 µL Flat on 5 at 7.56 uL/sec\n",
      "Aspirating 19.0 uL from A1 of NEST 12 Well Reservoir 15 mL on 2 at 7.56 uL/sec\n",
      "Dispensing 19.0 uL into L14 of Corning 384 Well Plate 112 µL Flat on 5 at 7.56 uL/sec\n",
      "Aspirating 19.0 uL from A1 of NEST 12 Well Reservoir 15 mL on 2 at 7.56 uL/sec\n",
      "Dispensing 19.0 uL into L15 of Corning 384 Well Plate 112 µL Flat on 5 at 7.56 uL/sec\n",
      "Aspirating 19.0 uL from A1 of NEST 12 Well Reservoir 15 mL on 2 at 7.56 uL/sec\n",
      "Dispensing 19.0 uL into M4 of Corning 384 Well Plate 112 µL Flat on 5 at 7.56 uL/sec\n",
      "Aspirating 19.0 uL from A1 of NEST 12 Well Reservoir 15 mL on 2 at 7.56 uL/sec\n",
      "Dispensing 19.0 uL into M5 of Corning 384 Well Plate 112 µL Flat on 5 at 7.56 uL/sec\n",
      "Aspirating 19.0 uL from A1 of NEST 12 Well Reservoir 15 mL on 2 at 7.56 uL/sec\n",
      "Dispensing 19.0 uL into M6 of Corning 384 Well Plate 112 µL Flat on 5 at 7.56 uL/sec\n",
      "Aspirating 19.0 uL from A1 of NEST 12 Well Reservoir 15 mL on 2 at 7.56 uL/sec\n",
      "Dispensing 19.0 uL into M7 of Corning 384 Well Plate 112 µL Flat on 5 at 7.56 uL/sec\n",
      "Aspirating 19.0 uL from A1 of NEST 12 Well Reservoir 15 mL on 2 at 7.56 uL/sec\n",
      "Dispensing 19.0 uL into M8 of Corning 384 Well Plate 112 µL Flat on 5 at 7.56 uL/sec\n",
      "Aspirating 19.0 uL from A1 of NEST 12 Well Reservoir 15 mL on 2 at 7.56 uL/sec\n",
      "Dispensing 19.0 uL into M9 of Corning 384 Well Plate 112 µL Flat on 5 at 7.56 uL/sec\n",
      "Aspirating 19.0 uL from A1 of NEST 12 Well Reservoir 15 mL on 2 at 7.56 uL/sec\n",
      "Dispensing 19.0 uL into M10 of Corning 384 Well Plate 112 µL Flat on 5 at 7.56 uL/sec\n",
      "Aspirating 19.0 uL from A1 of NEST 12 Well Reservoir 15 mL on 2 at 7.56 uL/sec\n",
      "Dispensing 19.0 uL into M11 of Corning 384 Well Plate 112 µL Flat on 5 at 7.56 uL/sec\n",
      "Aspirating 19.0 uL from A1 of NEST 12 Well Reservoir 15 mL on 2 at 7.56 uL/sec\n",
      "Dispensing 19.0 uL into M12 of Corning 384 Well Plate 112 µL Flat on 5 at 7.56 uL/sec\n",
      "Aspirating 19.0 uL from A1 of NEST 12 Well Reservoir 15 mL on 2 at 7.56 uL/sec\n",
      "Dispensing 19.0 uL into M13 of Corning 384 Well Plate 112 µL Flat on 5 at 7.56 uL/sec\n",
      "Aspirating 19.0 uL from A1 of NEST 12 Well Reservoir 15 mL on 2 at 7.56 uL/sec\n",
      "Dispensing 19.0 uL into M14 of Corning 384 Well Plate 112 µL Flat on 5 at 7.56 uL/sec\n",
      "Aspirating 19.0 uL from A1 of NEST 12 Well Reservoir 15 mL on 2 at 7.56 uL/sec\n",
      "Dispensing 19.0 uL into M15 of Corning 384 Well Plate 112 µL Flat on 5 at 7.56 uL/sec\n",
      "Aspirating 19.0 uL from A1 of NEST 12 Well Reservoir 15 mL on 2 at 7.56 uL/sec\n",
      "Dispensing 19.0 uL into N4 of Corning 384 Well Plate 112 µL Flat on 5 at 7.56 uL/sec\n",
      "Aspirating 19.0 uL from A1 of NEST 12 Well Reservoir 15 mL on 2 at 7.56 uL/sec\n",
      "Dispensing 19.0 uL into N5 of Corning 384 Well Plate 112 µL Flat on 5 at 7.56 uL/sec\n",
      "Aspirating 19.0 uL from A1 of NEST 12 Well Reservoir 15 mL on 2 at 7.56 uL/sec\n",
      "Dispensing 19.0 uL into N6 of Corning 384 Well Plate 112 µL Flat on 5 at 7.56 uL/sec\n",
      "Aspirating 19.0 uL from A1 of NEST 12 Well Reservoir 15 mL on 2 at 7.56 uL/sec\n",
      "Dispensing 19.0 uL into N7 of Corning 384 Well Plate 112 µL Flat on 5 at 7.56 uL/sec\n",
      "Aspirating 19.0 uL from A1 of NEST 12 Well Reservoir 15 mL on 2 at 7.56 uL/sec\n",
      "Dispensing 19.0 uL into N8 of Corning 384 Well Plate 112 µL Flat on 5 at 7.56 uL/sec\n",
      "Aspirating 19.0 uL from A1 of NEST 12 Well Reservoir 15 mL on 2 at 7.56 uL/sec\n",
      "Dispensing 19.0 uL into N9 of Corning 384 Well Plate 112 µL Flat on 5 at 7.56 uL/sec\n",
      "Aspirating 19.0 uL from A1 of NEST 12 Well Reservoir 15 mL on 2 at 7.56 uL/sec\n",
      "Dispensing 19.0 uL into N10 of Corning 384 Well Plate 112 µL Flat on 5 at 7.56 uL/sec\n",
      "Aspirating 19.0 uL from A1 of NEST 12 Well Reservoir 15 mL on 2 at 7.56 uL/sec\n",
      "Dispensing 19.0 uL into N11 of Corning 384 Well Plate 112 µL Flat on 5 at 7.56 uL/sec\n",
      "Aspirating 19.0 uL from A1 of NEST 12 Well Reservoir 15 mL on 2 at 7.56 uL/sec\n",
      "Dispensing 19.0 uL into N12 of Corning 384 Well Plate 112 µL Flat on 5 at 7.56 uL/sec\n",
      "Aspirating 19.0 uL from A1 of NEST 12 Well Reservoir 15 mL on 2 at 7.56 uL/sec\n",
      "Dispensing 19.0 uL into N13 of Corning 384 Well Plate 112 µL Flat on 5 at 7.56 uL/sec\n",
      "Aspirating 19.0 uL from A1 of NEST 12 Well Reservoir 15 mL on 2 at 7.56 uL/sec\n",
      "Dispensing 19.0 uL into N14 of Corning 384 Well Plate 112 µL Flat on 5 at 7.56 uL/sec\n",
      "Aspirating 19.0 uL from A1 of NEST 12 Well Reservoir 15 mL on 2 at 7.56 uL/sec\n",
      "Dispensing 19.0 uL into N15 of Corning 384 Well Plate 112 µL Flat on 5 at 7.56 uL/sec\n",
      "Aspirating 20.0 uL from A2 of NEST 12 Well Reservoir 15 mL on 2 at 7.56 uL/sec\n",
      "Dispensing 20.0 uL into C4 of Corning 384 Well Plate 112 µL Flat on 5 at 7.56 uL/sec\n",
      "Aspirating 20.0 uL from A2 of NEST 12 Well Reservoir 15 mL on 2 at 7.56 uL/sec\n",
      "Dispensing 20.0 uL into C5 of Corning 384 Well Plate 112 µL Flat on 5 at 7.56 uL/sec\n",
      "Aspirating 20.0 uL from A2 of NEST 12 Well Reservoir 15 mL on 2 at 7.56 uL/sec\n",
      "Dispensing 20.0 uL into C6 of Corning 384 Well Plate 112 µL Flat on 5 at 7.56 uL/sec\n",
      "Aspirating 20.0 uL from A2 of NEST 12 Well Reservoir 15 mL on 2 at 7.56 uL/sec\n",
      "Dispensing 20.0 uL into C7 of Corning 384 Well Plate 112 µL Flat on 5 at 7.56 uL/sec\n",
      "Aspirating 20.0 uL from A2 of NEST 12 Well Reservoir 15 mL on 2 at 7.56 uL/sec\n",
      "Dispensing 20.0 uL into C8 of Corning 384 Well Plate 112 µL Flat on 5 at 7.56 uL/sec\n",
      "Aspirating 20.0 uL from A2 of NEST 12 Well Reservoir 15 mL on 2 at 7.56 uL/sec\n",
      "Dispensing 20.0 uL into C9 of Corning 384 Well Plate 112 µL Flat on 5 at 7.56 uL/sec\n",
      "Aspirating 20.0 uL from A2 of NEST 12 Well Reservoir 15 mL on 2 at 7.56 uL/sec\n",
      "Dispensing 20.0 uL into C10 of Corning 384 Well Plate 112 µL Flat on 5 at 7.56 uL/sec\n",
      "Aspirating 20.0 uL from A2 of NEST 12 Well Reservoir 15 mL on 2 at 7.56 uL/sec\n",
      "Dispensing 20.0 uL into C11 of Corning 384 Well Plate 112 µL Flat on 5 at 7.56 uL/sec\n",
      "Aspirating 20.0 uL from A2 of NEST 12 Well Reservoir 15 mL on 2 at 7.56 uL/sec\n",
      "Dispensing 20.0 uL into C12 of Corning 384 Well Plate 112 µL Flat on 5 at 7.56 uL/sec\n",
      "Aspirating 20.0 uL from A2 of NEST 12 Well Reservoir 15 mL on 2 at 7.56 uL/sec\n",
      "Dispensing 20.0 uL into C13 of Corning 384 Well Plate 112 µL Flat on 5 at 7.56 uL/sec\n",
      "Aspirating 20.0 uL from A2 of NEST 12 Well Reservoir 15 mL on 2 at 7.56 uL/sec\n",
      "Dispensing 20.0 uL into C14 of Corning 384 Well Plate 112 µL Flat on 5 at 7.56 uL/sec\n",
      "Aspirating 20.0 uL from A2 of NEST 12 Well Reservoir 15 mL on 2 at 7.56 uL/sec\n",
      "Dispensing 20.0 uL into C15 of Corning 384 Well Plate 112 µL Flat on 5 at 7.56 uL/sec\n",
      "Aspirating 20.0 uL from A2 of NEST 12 Well Reservoir 15 mL on 2 at 7.56 uL/sec\n",
      "Dispensing 20.0 uL into D4 of Corning 384 Well Plate 112 µL Flat on 5 at 7.56 uL/sec\n",
      "Aspirating 20.0 uL from A2 of NEST 12 Well Reservoir 15 mL on 2 at 7.56 uL/sec\n",
      "Dispensing 20.0 uL into D5 of Corning 384 Well Plate 112 µL Flat on 5 at 7.56 uL/sec\n",
      "Aspirating 20.0 uL from A2 of NEST 12 Well Reservoir 15 mL on 2 at 7.56 uL/sec\n",
      "Dispensing 20.0 uL into D6 of Corning 384 Well Plate 112 µL Flat on 5 at 7.56 uL/sec\n",
      "Aspirating 20.0 uL from A2 of NEST 12 Well Reservoir 15 mL on 2 at 7.56 uL/sec\n",
      "Dispensing 20.0 uL into D7 of Corning 384 Well Plate 112 µL Flat on 5 at 7.56 uL/sec\n",
      "Aspirating 20.0 uL from A2 of NEST 12 Well Reservoir 15 mL on 2 at 7.56 uL/sec\n",
      "Dispensing 20.0 uL into D8 of Corning 384 Well Plate 112 µL Flat on 5 at 7.56 uL/sec\n",
      "Aspirating 20.0 uL from A2 of NEST 12 Well Reservoir 15 mL on 2 at 7.56 uL/sec\n",
      "Dispensing 20.0 uL into D9 of Corning 384 Well Plate 112 µL Flat on 5 at 7.56 uL/sec\n",
      "Aspirating 20.0 uL from A2 of NEST 12 Well Reservoir 15 mL on 2 at 7.56 uL/sec\n",
      "Dispensing 20.0 uL into D10 of Corning 384 Well Plate 112 µL Flat on 5 at 7.56 uL/sec\n",
      "Aspirating 20.0 uL from A2 of NEST 12 Well Reservoir 15 mL on 2 at 7.56 uL/sec\n",
      "Dispensing 20.0 uL into D11 of Corning 384 Well Plate 112 µL Flat on 5 at 7.56 uL/sec\n",
      "Aspirating 20.0 uL from A2 of NEST 12 Well Reservoir 15 mL on 2 at 7.56 uL/sec\n",
      "Dispensing 20.0 uL into D12 of Corning 384 Well Plate 112 µL Flat on 5 at 7.56 uL/sec\n",
      "Aspirating 20.0 uL from A2 of NEST 12 Well Reservoir 15 mL on 2 at 7.56 uL/sec\n",
      "Dispensing 20.0 uL into D13 of Corning 384 Well Plate 112 µL Flat on 5 at 7.56 uL/sec\n",
      "Aspirating 20.0 uL from A2 of NEST 12 Well Reservoir 15 mL on 2 at 7.56 uL/sec\n",
      "Dispensing 20.0 uL into D14 of Corning 384 Well Plate 112 µL Flat on 5 at 7.56 uL/sec\n",
      "Aspirating 20.0 uL from A2 of NEST 12 Well Reservoir 15 mL on 2 at 7.56 uL/sec\n",
      "Dispensing 20.0 uL into D15 of Corning 384 Well Plate 112 µL Flat on 5 at 7.56 uL/sec\n",
      "Aspirating 20.0 uL from A2 of NEST 12 Well Reservoir 15 mL on 2 at 7.56 uL/sec\n",
      "Dispensing 20.0 uL into E4 of Corning 384 Well Plate 112 µL Flat on 5 at 7.56 uL/sec\n",
      "Aspirating 20.0 uL from A2 of NEST 12 Well Reservoir 15 mL on 2 at 7.56 uL/sec\n",
      "Dispensing 20.0 uL into E5 of Corning 384 Well Plate 112 µL Flat on 5 at 7.56 uL/sec\n",
      "Aspirating 20.0 uL from A2 of NEST 12 Well Reservoir 15 mL on 2 at 7.56 uL/sec\n",
      "Dispensing 20.0 uL into E6 of Corning 384 Well Plate 112 µL Flat on 5 at 7.56 uL/sec\n",
      "Aspirating 20.0 uL from A2 of NEST 12 Well Reservoir 15 mL on 2 at 7.56 uL/sec\n",
      "Dispensing 20.0 uL into E7 of Corning 384 Well Plate 112 µL Flat on 5 at 7.56 uL/sec\n",
      "Aspirating 20.0 uL from A2 of NEST 12 Well Reservoir 15 mL on 2 at 7.56 uL/sec\n",
      "Dispensing 20.0 uL into E8 of Corning 384 Well Plate 112 µL Flat on 5 at 7.56 uL/sec\n",
      "Aspirating 20.0 uL from A2 of NEST 12 Well Reservoir 15 mL on 2 at 7.56 uL/sec\n",
      "Dispensing 20.0 uL into E9 of Corning 384 Well Plate 112 µL Flat on 5 at 7.56 uL/sec\n",
      "Aspirating 20.0 uL from A2 of NEST 12 Well Reservoir 15 mL on 2 at 7.56 uL/sec\n",
      "Dispensing 20.0 uL into E10 of Corning 384 Well Plate 112 µL Flat on 5 at 7.56 uL/sec\n",
      "Aspirating 20.0 uL from A2 of NEST 12 Well Reservoir 15 mL on 2 at 7.56 uL/sec\n",
      "Dispensing 20.0 uL into E11 of Corning 384 Well Plate 112 µL Flat on 5 at 7.56 uL/sec\n",
      "Aspirating 20.0 uL from A2 of NEST 12 Well Reservoir 15 mL on 2 at 7.56 uL/sec\n",
      "Dispensing 20.0 uL into E12 of Corning 384 Well Plate 112 µL Flat on 5 at 7.56 uL/sec\n",
      "Aspirating 20.0 uL from A2 of NEST 12 Well Reservoir 15 mL on 2 at 7.56 uL/sec\n",
      "Dispensing 20.0 uL into E13 of Corning 384 Well Plate 112 µL Flat on 5 at 7.56 uL/sec\n",
      "Aspirating 20.0 uL from A2 of NEST 12 Well Reservoir 15 mL on 2 at 7.56 uL/sec\n",
      "Dispensing 20.0 uL into E14 of Corning 384 Well Plate 112 µL Flat on 5 at 7.56 uL/sec\n",
      "Aspirating 20.0 uL from A2 of NEST 12 Well Reservoir 15 mL on 2 at 7.56 uL/sec\n",
      "Dispensing 20.0 uL into E15 of Corning 384 Well Plate 112 µL Flat on 5 at 7.56 uL/sec\n",
      "Distributing 7.5 from A2 of NEST 12 Well Reservoir 15 mL on 2 to F4 of Corning 384 Well Plate 112 µL Flat on 5\n",
      "Transferring 7.5 from A2 of NEST 12 Well Reservoir 15 mL on 2 to F4 of Corning 384 Well Plate 112 µL Flat on 5\n",
      "Aspirating 16.0 uL from A2 of NEST 12 Well Reservoir 15 mL on 2 at 7.56 uL/sec\n",
      "Dispensing 7.5 uL into F4 of Corning 384 Well Plate 112 µL Flat on 5 at 7.56 uL/sec\n",
      "Dispensing 7.5 uL into F5 of Corning 384 Well Plate 112 µL Flat on 5 at 7.56 uL/sec\n",
      "Blowing out at A1 of Opentrons Fixed Trash on 12\n",
      "Aspirating 16.0 uL from A2 of NEST 12 Well Reservoir 15 mL on 2 at 7.56 uL/sec\n",
      "Dispensing 7.5 uL into F6 of Corning 384 Well Plate 112 µL Flat on 5 at 7.56 uL/sec\n",
      "Dispensing 7.5 uL into F7 of Corning 384 Well Plate 112 µL Flat on 5 at 7.56 uL/sec\n",
      "Blowing out at A1 of Opentrons Fixed Trash on 12\n",
      "Aspirating 16.0 uL from A2 of NEST 12 Well Reservoir 15 mL on 2 at 7.56 uL/sec\n",
      "Dispensing 7.5 uL into F8 of Corning 384 Well Plate 112 µL Flat on 5 at 7.56 uL/sec\n",
      "Dispensing 7.5 uL into F9 of Corning 384 Well Plate 112 µL Flat on 5 at 7.56 uL/sec\n",
      "Blowing out at A1 of Opentrons Fixed Trash on 12\n",
      "Aspirating 16.0 uL from A2 of NEST 12 Well Reservoir 15 mL on 2 at 7.56 uL/sec\n",
      "Dispensing 7.5 uL into F10 of Corning 384 Well Plate 112 µL Flat on 5 at 7.56 uL/sec\n",
      "Dispensing 7.5 uL into F11 of Corning 384 Well Plate 112 µL Flat on 5 at 7.56 uL/sec\n",
      "Blowing out at A1 of Opentrons Fixed Trash on 12\n",
      "Aspirating 16.0 uL from A2 of NEST 12 Well Reservoir 15 mL on 2 at 7.56 uL/sec\n",
      "Dispensing 7.5 uL into F12 of Corning 384 Well Plate 112 µL Flat on 5 at 7.56 uL/sec\n",
      "Dispensing 7.5 uL into F13 of Corning 384 Well Plate 112 µL Flat on 5 at 7.56 uL/sec\n",
      "Blowing out at A1 of Opentrons Fixed Trash on 12\n",
      "Aspirating 16.0 uL from A2 of NEST 12 Well Reservoir 15 mL on 2 at 7.56 uL/sec\n",
      "Dispensing 7.5 uL into F14 of Corning 384 Well Plate 112 µL Flat on 5 at 7.56 uL/sec\n",
      "Dispensing 7.5 uL into F15 of Corning 384 Well Plate 112 µL Flat on 5 at 7.56 uL/sec\n",
      "Blowing out at A1 of Opentrons Fixed Trash on 12\n",
      "Aspirating 16.0 uL from A2 of NEST 12 Well Reservoir 15 mL on 2 at 7.56 uL/sec\n",
      "Dispensing 7.5 uL into G4 of Corning 384 Well Plate 112 µL Flat on 5 at 7.56 uL/sec\n",
      "Dispensing 7.5 uL into G5 of Corning 384 Well Plate 112 µL Flat on 5 at 7.56 uL/sec\n",
      "Blowing out at A1 of Opentrons Fixed Trash on 12\n",
      "Aspirating 16.0 uL from A2 of NEST 12 Well Reservoir 15 mL on 2 at 7.56 uL/sec\n",
      "Dispensing 7.5 uL into G6 of Corning 384 Well Plate 112 µL Flat on 5 at 7.56 uL/sec\n",
      "Dispensing 7.5 uL into G7 of Corning 384 Well Plate 112 µL Flat on 5 at 7.56 uL/sec\n",
      "Blowing out at A1 of Opentrons Fixed Trash on 12\n",
      "Aspirating 16.0 uL from A2 of NEST 12 Well Reservoir 15 mL on 2 at 7.56 uL/sec\n",
      "Dispensing 7.5 uL into G8 of Corning 384 Well Plate 112 µL Flat on 5 at 7.56 uL/sec\n",
      "Dispensing 7.5 uL into G9 of Corning 384 Well Plate 112 µL Flat on 5 at 7.56 uL/sec\n",
      "Blowing out at A1 of Opentrons Fixed Trash on 12\n",
      "Aspirating 16.0 uL from A2 of NEST 12 Well Reservoir 15 mL on 2 at 7.56 uL/sec\n",
      "Dispensing 7.5 uL into G10 of Corning 384 Well Plate 112 µL Flat on 5 at 7.56 uL/sec\n",
      "Dispensing 7.5 uL into G11 of Corning 384 Well Plate 112 µL Flat on 5 at 7.56 uL/sec\n",
      "Blowing out at A1 of Opentrons Fixed Trash on 12\n",
      "Aspirating 16.0 uL from A2 of NEST 12 Well Reservoir 15 mL on 2 at 7.56 uL/sec\n",
      "Dispensing 7.5 uL into G12 of Corning 384 Well Plate 112 µL Flat on 5 at 7.56 uL/sec\n",
      "Dispensing 7.5 uL into G13 of Corning 384 Well Plate 112 µL Flat on 5 at 7.56 uL/sec\n",
      "Blowing out at A1 of Opentrons Fixed Trash on 12\n",
      "Aspirating 16.0 uL from A2 of NEST 12 Well Reservoir 15 mL on 2 at 7.56 uL/sec\n",
      "Dispensing 7.5 uL into G14 of Corning 384 Well Plate 112 µL Flat on 5 at 7.56 uL/sec\n",
      "Dispensing 7.5 uL into G15 of Corning 384 Well Plate 112 µL Flat on 5 at 7.56 uL/sec\n",
      "Blowing out at A1 of Opentrons Fixed Trash on 12\n",
      "Aspirating 16.0 uL from A2 of NEST 12 Well Reservoir 15 mL on 2 at 7.56 uL/sec\n",
      "Dispensing 7.5 uL into H4 of Corning 384 Well Plate 112 µL Flat on 5 at 7.56 uL/sec\n",
      "Dispensing 7.5 uL into H5 of Corning 384 Well Plate 112 µL Flat on 5 at 7.56 uL/sec\n",
      "Blowing out at A1 of Opentrons Fixed Trash on 12\n",
      "Aspirating 16.0 uL from A2 of NEST 12 Well Reservoir 15 mL on 2 at 7.56 uL/sec\n",
      "Dispensing 7.5 uL into H6 of Corning 384 Well Plate 112 µL Flat on 5 at 7.56 uL/sec\n",
      "Dispensing 7.5 uL into H7 of Corning 384 Well Plate 112 µL Flat on 5 at 7.56 uL/sec\n",
      "Blowing out at A1 of Opentrons Fixed Trash on 12\n",
      "Aspirating 16.0 uL from A2 of NEST 12 Well Reservoir 15 mL on 2 at 7.56 uL/sec\n",
      "Dispensing 7.5 uL into H8 of Corning 384 Well Plate 112 µL Flat on 5 at 7.56 uL/sec\n",
      "Dispensing 7.5 uL into H9 of Corning 384 Well Plate 112 µL Flat on 5 at 7.56 uL/sec\n",
      "Blowing out at A1 of Opentrons Fixed Trash on 12\n",
      "Aspirating 16.0 uL from A2 of NEST 12 Well Reservoir 15 mL on 2 at 7.56 uL/sec\n",
      "Dispensing 7.5 uL into H10 of Corning 384 Well Plate 112 µL Flat on 5 at 7.56 uL/sec\n",
      "Dispensing 7.5 uL into H11 of Corning 384 Well Plate 112 µL Flat on 5 at 7.56 uL/sec\n",
      "Blowing out at A1 of Opentrons Fixed Trash on 12\n",
      "Aspirating 16.0 uL from A2 of NEST 12 Well Reservoir 15 mL on 2 at 7.56 uL/sec\n",
      "Dispensing 7.5 uL into H12 of Corning 384 Well Plate 112 µL Flat on 5 at 7.56 uL/sec\n",
      "Dispensing 7.5 uL into H13 of Corning 384 Well Plate 112 µL Flat on 5 at 7.56 uL/sec\n",
      "Blowing out at A1 of Opentrons Fixed Trash on 12\n",
      "Aspirating 16.0 uL from A2 of NEST 12 Well Reservoir 15 mL on 2 at 7.56 uL/sec\n",
      "Dispensing 7.5 uL into H14 of Corning 384 Well Plate 112 µL Flat on 5 at 7.56 uL/sec\n",
      "Dispensing 7.5 uL into H15 of Corning 384 Well Plate 112 µL Flat on 5 at 7.56 uL/sec\n",
      "Blowing out at A1 of Opentrons Fixed Trash on 12\n",
      "Distributing 2.0999999999999996 from A2 of NEST 12 Well Reservoir 15 mL on 2 to I4 of Corning 384 Well Plate 112 µL Flat on 5\n",
      "Transferring 2.0999999999999996 from A2 of NEST 12 Well Reservoir 15 mL on 2 to I4 of Corning 384 Well Plate 112 µL Flat on 5\n",
      "Aspirating 19.9 uL from A2 of NEST 12 Well Reservoir 15 mL on 2 at 7.56 uL/sec\n",
      "Dispensing 2.0999999999999996 uL into I4 of Corning 384 Well Plate 112 µL Flat on 5 at 7.56 uL/sec\n",
      "Dispensing 2.0999999999999996 uL into I5 of Corning 384 Well Plate 112 µL Flat on 5 at 7.56 uL/sec\n",
      "Dispensing 2.0999999999999996 uL into I6 of Corning 384 Well Plate 112 µL Flat on 5 at 7.56 uL/sec\n",
      "Dispensing 2.0999999999999996 uL into I7 of Corning 384 Well Plate 112 µL Flat on 5 at 7.56 uL/sec\n",
      "Dispensing 2.0999999999999996 uL into I8 of Corning 384 Well Plate 112 µL Flat on 5 at 7.56 uL/sec\n",
      "Dispensing 2.0999999999999996 uL into I9 of Corning 384 Well Plate 112 µL Flat on 5 at 7.56 uL/sec\n",
      "Dispensing 2.0999999999999996 uL into I10 of Corning 384 Well Plate 112 µL Flat on 5 at 7.56 uL/sec\n",
      "Dispensing 2.0999999999999996 uL into I11 of Corning 384 Well Plate 112 µL Flat on 5 at 7.56 uL/sec\n",
      "Dispensing 2.0999999999999996 uL into I12 of Corning 384 Well Plate 112 µL Flat on 5 at 7.56 uL/sec\n",
      "Blowing out at A1 of Opentrons Fixed Trash on 12\n",
      "Aspirating 19.9 uL from A2 of NEST 12 Well Reservoir 15 mL on 2 at 7.56 uL/sec\n",
      "Dispensing 2.0999999999999996 uL into I13 of Corning 384 Well Plate 112 µL Flat on 5 at 7.56 uL/sec\n",
      "Dispensing 2.0999999999999996 uL into I14 of Corning 384 Well Plate 112 µL Flat on 5 at 7.56 uL/sec\n",
      "Dispensing 2.0999999999999996 uL into I15 of Corning 384 Well Plate 112 µL Flat on 5 at 7.56 uL/sec\n",
      "Dispensing 2.0999999999999996 uL into J4 of Corning 384 Well Plate 112 µL Flat on 5 at 7.56 uL/sec\n",
      "Dispensing 2.0999999999999996 uL into J5 of Corning 384 Well Plate 112 µL Flat on 5 at 7.56 uL/sec\n",
      "Dispensing 2.0999999999999996 uL into J6 of Corning 384 Well Plate 112 µL Flat on 5 at 7.56 uL/sec\n",
      "Dispensing 2.0999999999999996 uL into J7 of Corning 384 Well Plate 112 µL Flat on 5 at 7.56 uL/sec\n",
      "Dispensing 2.0999999999999996 uL into J8 of Corning 384 Well Plate 112 µL Flat on 5 at 7.56 uL/sec\n",
      "Dispensing 2.0999999999999996 uL into J9 of Corning 384 Well Plate 112 µL Flat on 5 at 7.56 uL/sec\n",
      "Blowing out at A1 of Opentrons Fixed Trash on 12\n",
      "Aspirating 19.9 uL from A2 of NEST 12 Well Reservoir 15 mL on 2 at 7.56 uL/sec\n",
      "Dispensing 2.0999999999999996 uL into J10 of Corning 384 Well Plate 112 µL Flat on 5 at 7.56 uL/sec\n",
      "Dispensing 2.0999999999999996 uL into J11 of Corning 384 Well Plate 112 µL Flat on 5 at 7.56 uL/sec\n",
      "Dispensing 2.0999999999999996 uL into J12 of Corning 384 Well Plate 112 µL Flat on 5 at 7.56 uL/sec\n",
      "Dispensing 2.0999999999999996 uL into J13 of Corning 384 Well Plate 112 µL Flat on 5 at 7.56 uL/sec\n",
      "Dispensing 2.0999999999999996 uL into J14 of Corning 384 Well Plate 112 µL Flat on 5 at 7.56 uL/sec\n",
      "Dispensing 2.0999999999999996 uL into J15 of Corning 384 Well Plate 112 µL Flat on 5 at 7.56 uL/sec\n",
      "Dispensing 2.0999999999999996 uL into K4 of Corning 384 Well Plate 112 µL Flat on 5 at 7.56 uL/sec\n",
      "Dispensing 2.0999999999999996 uL into K5 of Corning 384 Well Plate 112 µL Flat on 5 at 7.56 uL/sec\n",
      "Dispensing 2.0999999999999996 uL into K6 of Corning 384 Well Plate 112 µL Flat on 5 at 7.56 uL/sec\n",
      "Blowing out at A1 of Opentrons Fixed Trash on 12\n",
      "Aspirating 19.9 uL from A2 of NEST 12 Well Reservoir 15 mL on 2 at 7.56 uL/sec\n",
      "Dispensing 2.0999999999999996 uL into K7 of Corning 384 Well Plate 112 µL Flat on 5 at 7.56 uL/sec\n",
      "Dispensing 2.0999999999999996 uL into K8 of Corning 384 Well Plate 112 µL Flat on 5 at 7.56 uL/sec\n",
      "Dispensing 2.0999999999999996 uL into K9 of Corning 384 Well Plate 112 µL Flat on 5 at 7.56 uL/sec\n",
      "Dispensing 2.0999999999999996 uL into K10 of Corning 384 Well Plate 112 µL Flat on 5 at 7.56 uL/sec\n",
      "Dispensing 2.0999999999999996 uL into K11 of Corning 384 Well Plate 112 µL Flat on 5 at 7.56 uL/sec\n",
      "Dispensing 2.0999999999999996 uL into K12 of Corning 384 Well Plate 112 µL Flat on 5 at 7.56 uL/sec\n",
      "Dispensing 2.0999999999999996 uL into K13 of Corning 384 Well Plate 112 µL Flat on 5 at 7.56 uL/sec\n",
      "Dispensing 2.0999999999999996 uL into K14 of Corning 384 Well Plate 112 µL Flat on 5 at 7.56 uL/sec\n",
      "Dispensing 2.0999999999999996 uL into K15 of Corning 384 Well Plate 112 µL Flat on 5 at 7.56 uL/sec\n",
      "Blowing out at A1 of Opentrons Fixed Trash on 12\n",
      "Distributing 1.0 from A2 of NEST 12 Well Reservoir 15 mL on 2 to L4 of Corning 384 Well Plate 112 µL Flat on 5\n",
      "Transferring 1.0 from A2 of NEST 12 Well Reservoir 15 mL on 2 to L4 of Corning 384 Well Plate 112 µL Flat on 5\n",
      "Aspirating 20.0 uL from A2 of NEST 12 Well Reservoir 15 mL on 2 at 7.56 uL/sec\n",
      "Dispensing 1.0 uL into L4 of Corning 384 Well Plate 112 µL Flat on 5 at 7.56 uL/sec\n",
      "Dispensing 1.0 uL into L5 of Corning 384 Well Plate 112 µL Flat on 5 at 7.56 uL/sec\n",
      "Dispensing 1.0 uL into L6 of Corning 384 Well Plate 112 µL Flat on 5 at 7.56 uL/sec\n",
      "Dispensing 1.0 uL into L7 of Corning 384 Well Plate 112 µL Flat on 5 at 7.56 uL/sec\n",
      "Dispensing 1.0 uL into L8 of Corning 384 Well Plate 112 µL Flat on 5 at 7.56 uL/sec\n",
      "Dispensing 1.0 uL into L9 of Corning 384 Well Plate 112 µL Flat on 5 at 7.56 uL/sec\n",
      "Dispensing 1.0 uL into L10 of Corning 384 Well Plate 112 µL Flat on 5 at 7.56 uL/sec\n",
      "Dispensing 1.0 uL into L11 of Corning 384 Well Plate 112 µL Flat on 5 at 7.56 uL/sec\n",
      "Dispensing 1.0 uL into L12 of Corning 384 Well Plate 112 µL Flat on 5 at 7.56 uL/sec\n",
      "Dispensing 1.0 uL into L13 of Corning 384 Well Plate 112 µL Flat on 5 at 7.56 uL/sec\n",
      "Dispensing 1.0 uL into L14 of Corning 384 Well Plate 112 µL Flat on 5 at 7.56 uL/sec\n",
      "Dispensing 1.0 uL into L15 of Corning 384 Well Plate 112 µL Flat on 5 at 7.56 uL/sec\n",
      "Dispensing 1.0 uL into M4 of Corning 384 Well Plate 112 µL Flat on 5 at 7.56 uL/sec\n",
      "Dispensing 1.0 uL into M5 of Corning 384 Well Plate 112 µL Flat on 5 at 7.56 uL/sec\n",
      "Dispensing 1.0 uL into M6 of Corning 384 Well Plate 112 µL Flat on 5 at 7.56 uL/sec\n",
      "Dispensing 1.0 uL into M7 of Corning 384 Well Plate 112 µL Flat on 5 at 7.56 uL/sec\n",
      "Dispensing 1.0 uL into M8 of Corning 384 Well Plate 112 µL Flat on 5 at 7.56 uL/sec\n",
      "Dispensing 1.0 uL into M9 of Corning 384 Well Plate 112 µL Flat on 5 at 7.56 uL/sec\n",
      "Dispensing 1.0 uL into M10 of Corning 384 Well Plate 112 µL Flat on 5 at 7.56 uL/sec\n",
      "Blowing out at A1 of Opentrons Fixed Trash on 12\n",
      "Aspirating 18.0 uL from A2 of NEST 12 Well Reservoir 15 mL on 2 at 7.56 uL/sec\n",
      "Dispensing 1.0 uL into M11 of Corning 384 Well Plate 112 µL Flat on 5 at 7.56 uL/sec\n",
      "Dispensing 1.0 uL into M12 of Corning 384 Well Plate 112 µL Flat on 5 at 7.56 uL/sec\n",
      "Dispensing 1.0 uL into M13 of Corning 384 Well Plate 112 µL Flat on 5 at 7.56 uL/sec\n",
      "Dispensing 1.0 uL into M14 of Corning 384 Well Plate 112 µL Flat on 5 at 7.56 uL/sec\n",
      "Dispensing 1.0 uL into M15 of Corning 384 Well Plate 112 µL Flat on 5 at 7.56 uL/sec\n",
      "Dispensing 1.0 uL into N4 of Corning 384 Well Plate 112 µL Flat on 5 at 7.56 uL/sec\n",
      "Dispensing 1.0 uL into N5 of Corning 384 Well Plate 112 µL Flat on 5 at 7.56 uL/sec\n",
      "Dispensing 1.0 uL into N6 of Corning 384 Well Plate 112 µL Flat on 5 at 7.56 uL/sec\n",
      "Dispensing 1.0 uL into N7 of Corning 384 Well Plate 112 µL Flat on 5 at 7.56 uL/sec\n",
      "Dispensing 1.0 uL into N8 of Corning 384 Well Plate 112 µL Flat on 5 at 7.56 uL/sec\n",
      "Dispensing 1.0 uL into N9 of Corning 384 Well Plate 112 µL Flat on 5 at 7.56 uL/sec\n",
      "Dispensing 1.0 uL into N10 of Corning 384 Well Plate 112 µL Flat on 5 at 7.56 uL/sec\n",
      "Dispensing 1.0 uL into N11 of Corning 384 Well Plate 112 µL Flat on 5 at 7.56 uL/sec\n",
      "Dispensing 1.0 uL into N12 of Corning 384 Well Plate 112 µL Flat on 5 at 7.56 uL/sec\n",
      "Dispensing 1.0 uL into N13 of Corning 384 Well Plate 112 µL Flat on 5 at 7.56 uL/sec\n",
      "Dispensing 1.0 uL into N14 of Corning 384 Well Plate 112 µL Flat on 5 at 7.56 uL/sec\n",
      "Dispensing 1.0 uL into N15 of Corning 384 Well Plate 112 µL Flat on 5 at 7.56 uL/sec\n",
      "Blowing out at A1 of Opentrons Fixed Trash on 12\n",
      "Dropping tip into A1 of Opentrons Fixed Trash on 12\n"
     ]
    }
   ],
   "source": [
    "for line in protocol.commands():\n",
    "    print(line)\n",
    "protocol.clear_commands()"
   ]
  },
  {
   "cell_type": "code",
   "execution_count": 481,
   "id": "pleased-florence",
   "metadata": {},
   "outputs": [
    {
     "ename": "NoTipAttachedError",
     "evalue": "Cannot perform DROPTIP without a tip attached",
     "output_type": "error",
     "traceback": [
      "\u001b[1;31m---------------------------------------------------------------------------\u001b[0m",
      "\u001b[1;31mNoTipAttachedError\u001b[0m                        Traceback (most recent call last)",
      "\u001b[1;32m<ipython-input-481-2573efcc855e>\u001b[0m in \u001b[0;36m<module>\u001b[1;34m\u001b[0m\n\u001b[1;32m----> 1\u001b[1;33m \u001b[0mpip\u001b[0m\u001b[1;33m.\u001b[0m\u001b[0mdrop_tip\u001b[0m\u001b[1;33m(\u001b[0m\u001b[1;33m)\u001b[0m\u001b[1;33m\u001b[0m\u001b[1;33m\u001b[0m\u001b[0m\n\u001b[0m",
      "\u001b[1;32m~\\.conda\\envs\\env\\lib\\site-packages\\opentrons\\protocols\\api_support\\util.py\u001b[0m in \u001b[0;36m_check_version_wrapper\u001b[1;34m(*args, **kwargs)\u001b[0m\n\u001b[0;32m    418\u001b[0m                     \u001b[1;34m\"use this functionality.\"\u001b[0m\u001b[1;33m\u001b[0m\u001b[1;33m\u001b[0m\u001b[0m\n\u001b[0;32m    419\u001b[0m                 )\n\u001b[1;32m--> 420\u001b[1;33m             \u001b[1;32mreturn\u001b[0m \u001b[0mdecorated_obj\u001b[0m\u001b[1;33m(\u001b[0m\u001b[1;33m*\u001b[0m\u001b[0margs\u001b[0m\u001b[1;33m,\u001b[0m \u001b[1;33m**\u001b[0m\u001b[0mkwargs\u001b[0m\u001b[1;33m)\u001b[0m\u001b[1;33m\u001b[0m\u001b[1;33m\u001b[0m\u001b[0m\n\u001b[0m\u001b[0;32m    421\u001b[0m \u001b[1;33m\u001b[0m\u001b[0m\n\u001b[0;32m    422\u001b[0m         \u001b[1;32mreturn\u001b[0m \u001b[0mcast\u001b[0m\u001b[1;33m(\u001b[0m\u001b[0mFuncT\u001b[0m\u001b[1;33m,\u001b[0m \u001b[0m_check_version_wrapper\u001b[0m\u001b[1;33m)\u001b[0m\u001b[1;33m\u001b[0m\u001b[1;33m\u001b[0m\u001b[0m\n",
      "\u001b[1;32m~\\.conda\\envs\\env\\lib\\site-packages\\opentrons\\protocol_api\\instrument_context.py\u001b[0m in \u001b[0;36mdrop_tip\u001b[1;34m(self, location, home_after)\u001b[0m\n\u001b[0;32m    843\u001b[0m         ):\n\u001b[0;32m    844\u001b[0m             \u001b[0mself\u001b[0m\u001b[1;33m.\u001b[0m\u001b[0mmove_to\u001b[0m\u001b[1;33m(\u001b[0m\u001b[0mtarget\u001b[0m\u001b[1;33m,\u001b[0m \u001b[0mpublish\u001b[0m\u001b[1;33m=\u001b[0m\u001b[1;32mFalse\u001b[0m\u001b[1;33m)\u001b[0m\u001b[1;33m\u001b[0m\u001b[1;33m\u001b[0m\u001b[0m\n\u001b[1;32m--> 845\u001b[1;33m             \u001b[0mself\u001b[0m\u001b[1;33m.\u001b[0m\u001b[0m_implementation\u001b[0m\u001b[1;33m.\u001b[0m\u001b[0mdrop_tip\u001b[0m\u001b[1;33m(\u001b[0m\u001b[0mhome_after\u001b[0m\u001b[1;33m=\u001b[0m\u001b[0mhome_after\u001b[0m\u001b[1;33m)\u001b[0m\u001b[1;33m\u001b[0m\u001b[1;33m\u001b[0m\u001b[0m\n\u001b[0m\u001b[0;32m    846\u001b[0m \u001b[1;33m\u001b[0m\u001b[0m\n\u001b[0;32m    847\u001b[0m         if (\n",
      "\u001b[1;32m~\\.conda\\envs\\env\\lib\\site-packages\\opentrons\\protocols\\context\\protocol_api\\instrument_context.py\u001b[0m in \u001b[0;36mdrop_tip\u001b[1;34m(self, home_after)\u001b[0m\n\u001b[0;32m    126\u001b[0m         \u001b[1;34m\"\"\"Drop the tip.\"\"\"\u001b[0m\u001b[1;33m\u001b[0m\u001b[1;33m\u001b[0m\u001b[0m\n\u001b[0;32m    127\u001b[0m         self._protocol_interface.get_hardware().hardware.drop_tip(\n\u001b[1;32m--> 128\u001b[1;33m             \u001b[0mself\u001b[0m\u001b[1;33m.\u001b[0m\u001b[0m_mount\u001b[0m\u001b[1;33m,\u001b[0m \u001b[0mhome_after\u001b[0m\u001b[1;33m=\u001b[0m\u001b[0mhome_after\u001b[0m\u001b[1;33m\u001b[0m\u001b[1;33m\u001b[0m\u001b[0m\n\u001b[0m\u001b[0;32m    129\u001b[0m         )\n\u001b[0;32m    130\u001b[0m \u001b[1;33m\u001b[0m\u001b[0m\n",
      "\u001b[1;32m~\\.conda\\envs\\env\\lib\\site-packages\\opentrons\\hardware_control\\adapters.py\u001b[0m in \u001b[0;36mcall_coroutine_sync\u001b[1;34m(loop, to_call, *args, **kwargs)\u001b[0m\n\u001b[0;32m     54\u001b[0m     \u001b[1;32mdef\u001b[0m \u001b[0mcall_coroutine_sync\u001b[0m\u001b[1;33m(\u001b[0m\u001b[0mloop\u001b[0m\u001b[1;33m,\u001b[0m \u001b[0mto_call\u001b[0m\u001b[1;33m,\u001b[0m \u001b[1;33m*\u001b[0m\u001b[0margs\u001b[0m\u001b[1;33m,\u001b[0m \u001b[1;33m**\u001b[0m\u001b[0mkwargs\u001b[0m\u001b[1;33m)\u001b[0m\u001b[1;33m:\u001b[0m\u001b[1;33m\u001b[0m\u001b[1;33m\u001b[0m\u001b[0m\n\u001b[0;32m     55\u001b[0m         \u001b[0mfut\u001b[0m \u001b[1;33m=\u001b[0m \u001b[0masyncio\u001b[0m\u001b[1;33m.\u001b[0m\u001b[0mrun_coroutine_threadsafe\u001b[0m\u001b[1;33m(\u001b[0m\u001b[0mto_call\u001b[0m\u001b[1;33m(\u001b[0m\u001b[1;33m*\u001b[0m\u001b[0margs\u001b[0m\u001b[1;33m,\u001b[0m \u001b[1;33m**\u001b[0m\u001b[0mkwargs\u001b[0m\u001b[1;33m)\u001b[0m\u001b[1;33m,\u001b[0m \u001b[0mloop\u001b[0m\u001b[1;33m)\u001b[0m\u001b[1;33m\u001b[0m\u001b[1;33m\u001b[0m\u001b[0m\n\u001b[1;32m---> 56\u001b[1;33m         \u001b[1;32mreturn\u001b[0m \u001b[0mfut\u001b[0m\u001b[1;33m.\u001b[0m\u001b[0mresult\u001b[0m\u001b[1;33m(\u001b[0m\u001b[1;33m)\u001b[0m\u001b[1;33m\u001b[0m\u001b[1;33m\u001b[0m\u001b[0m\n\u001b[0m\u001b[0;32m     57\u001b[0m \u001b[1;33m\u001b[0m\u001b[0m\n\u001b[0;32m     58\u001b[0m     \u001b[1;32mdef\u001b[0m \u001b[0m__getattribute__\u001b[0m\u001b[1;33m(\u001b[0m\u001b[0mself\u001b[0m\u001b[1;33m,\u001b[0m \u001b[0mattr_name\u001b[0m\u001b[1;33m)\u001b[0m\u001b[1;33m:\u001b[0m\u001b[1;33m\u001b[0m\u001b[1;33m\u001b[0m\u001b[0m\n",
      "\u001b[1;32m~\\.conda\\envs\\env\\lib\\concurrent\\futures\\_base.py\u001b[0m in \u001b[0;36mresult\u001b[1;34m(self, timeout)\u001b[0m\n\u001b[0;32m    433\u001b[0m                 \u001b[1;32mraise\u001b[0m \u001b[0mCancelledError\u001b[0m\u001b[1;33m(\u001b[0m\u001b[1;33m)\u001b[0m\u001b[1;33m\u001b[0m\u001b[1;33m\u001b[0m\u001b[0m\n\u001b[0;32m    434\u001b[0m             \u001b[1;32melif\u001b[0m \u001b[0mself\u001b[0m\u001b[1;33m.\u001b[0m\u001b[0m_state\u001b[0m \u001b[1;33m==\u001b[0m \u001b[0mFINISHED\u001b[0m\u001b[1;33m:\u001b[0m\u001b[1;33m\u001b[0m\u001b[1;33m\u001b[0m\u001b[0m\n\u001b[1;32m--> 435\u001b[1;33m                 \u001b[1;32mreturn\u001b[0m \u001b[0mself\u001b[0m\u001b[1;33m.\u001b[0m\u001b[0m__get_result\u001b[0m\u001b[1;33m(\u001b[0m\u001b[1;33m)\u001b[0m\u001b[1;33m\u001b[0m\u001b[1;33m\u001b[0m\u001b[0m\n\u001b[0m\u001b[0;32m    436\u001b[0m             \u001b[1;32melse\u001b[0m\u001b[1;33m:\u001b[0m\u001b[1;33m\u001b[0m\u001b[1;33m\u001b[0m\u001b[0m\n\u001b[0;32m    437\u001b[0m                 \u001b[1;32mraise\u001b[0m \u001b[0mTimeoutError\u001b[0m\u001b[1;33m(\u001b[0m\u001b[1;33m)\u001b[0m\u001b[1;33m\u001b[0m\u001b[1;33m\u001b[0m\u001b[0m\n",
      "\u001b[1;32m~\\.conda\\envs\\env\\lib\\concurrent\\futures\\_base.py\u001b[0m in \u001b[0;36m__get_result\u001b[1;34m(self)\u001b[0m\n\u001b[0;32m    382\u001b[0m     \u001b[1;32mdef\u001b[0m \u001b[0m__get_result\u001b[0m\u001b[1;33m(\u001b[0m\u001b[0mself\u001b[0m\u001b[1;33m)\u001b[0m\u001b[1;33m:\u001b[0m\u001b[1;33m\u001b[0m\u001b[1;33m\u001b[0m\u001b[0m\n\u001b[0;32m    383\u001b[0m         \u001b[1;32mif\u001b[0m \u001b[0mself\u001b[0m\u001b[1;33m.\u001b[0m\u001b[0m_exception\u001b[0m\u001b[1;33m:\u001b[0m\u001b[1;33m\u001b[0m\u001b[1;33m\u001b[0m\u001b[0m\n\u001b[1;32m--> 384\u001b[1;33m             \u001b[1;32mraise\u001b[0m \u001b[0mself\u001b[0m\u001b[1;33m.\u001b[0m\u001b[0m_exception\u001b[0m\u001b[1;33m\u001b[0m\u001b[1;33m\u001b[0m\u001b[0m\n\u001b[0m\u001b[0;32m    385\u001b[0m         \u001b[1;32melse\u001b[0m\u001b[1;33m:\u001b[0m\u001b[1;33m\u001b[0m\u001b[1;33m\u001b[0m\u001b[0m\n\u001b[0;32m    386\u001b[0m             \u001b[1;32mreturn\u001b[0m \u001b[0mself\u001b[0m\u001b[1;33m.\u001b[0m\u001b[0m_result\u001b[0m\u001b[1;33m\u001b[0m\u001b[1;33m\u001b[0m\u001b[0m\n",
      "\u001b[1;32m~\\.conda\\envs\\env\\lib\\site-packages\\opentrons\\hardware_control\\api.py\u001b[0m in \u001b[0;36mdrop_tip\u001b[1;34m(self, mount, home_after)\u001b[0m\n\u001b[0;32m   1728\u001b[0m \u001b[1;33m\u001b[0m\u001b[0m\n\u001b[0;32m   1729\u001b[0m         \u001b[0minstruments\u001b[0m \u001b[1;33m=\u001b[0m \u001b[0mself\u001b[0m\u001b[1;33m.\u001b[0m\u001b[0m_instruments_for\u001b[0m\u001b[1;33m(\u001b[0m\u001b[0mmount\u001b[0m\u001b[1;33m)\u001b[0m\u001b[1;33m\u001b[0m\u001b[1;33m\u001b[0m\u001b[0m\n\u001b[1;32m-> 1730\u001b[1;33m         \u001b[0mself\u001b[0m\u001b[1;33m.\u001b[0m\u001b[0m_ready_for_tip_action\u001b[0m\u001b[1;33m(\u001b[0m\u001b[0minstruments\u001b[0m\u001b[1;33m,\u001b[0m \u001b[0mHardwareAction\u001b[0m\u001b[1;33m.\u001b[0m\u001b[0mDROPTIP\u001b[0m\u001b[1;33m)\u001b[0m\u001b[1;33m\u001b[0m\u001b[1;33m\u001b[0m\u001b[0m\n\u001b[0m\u001b[0;32m   1731\u001b[0m         plunger_currents = {\n\u001b[0;32m   1732\u001b[0m             \u001b[0mAxis\u001b[0m\u001b[1;33m.\u001b[0m\u001b[0mof_plunger\u001b[0m\u001b[1;33m(\u001b[0m\u001b[0minstr\u001b[0m\u001b[1;33m[\u001b[0m\u001b[1;36m1\u001b[0m\u001b[1;33m]\u001b[0m\u001b[1;33m)\u001b[0m\u001b[1;33m:\u001b[0m \u001b[0minstr\u001b[0m\u001b[1;33m[\u001b[0m\u001b[1;36m0\u001b[0m\u001b[1;33m]\u001b[0m\u001b[1;33m.\u001b[0m\u001b[0mconfig\u001b[0m\u001b[1;33m.\u001b[0m\u001b[0mplunger_current\u001b[0m\u001b[1;33m\u001b[0m\u001b[1;33m\u001b[0m\u001b[0m\n",
      "\u001b[1;32m~\\.conda\\envs\\env\\lib\\site-packages\\opentrons\\hardware_control\\api.py\u001b[0m in \u001b[0;36m_ready_for_tip_action\u001b[1;34m(self, targets, action)\u001b[0m\n\u001b[0;32m   1585\u001b[0m             \u001b[1;32mif\u001b[0m \u001b[1;32mnot\u001b[0m \u001b[0mpipettes\u001b[0m\u001b[1;33m[\u001b[0m\u001b[1;36m0\u001b[0m\u001b[1;33m]\u001b[0m\u001b[1;33m.\u001b[0m\u001b[0mhas_tip\u001b[0m\u001b[1;33m:\u001b[0m\u001b[1;33m\u001b[0m\u001b[1;33m\u001b[0m\u001b[0m\n\u001b[0;32m   1586\u001b[0m                 raise NoTipAttachedError(\n\u001b[1;32m-> 1587\u001b[1;33m                     \u001b[1;34mf\"Cannot perform {action} without a tip attached\"\u001b[0m\u001b[1;33m\u001b[0m\u001b[1;33m\u001b[0m\u001b[0m\n\u001b[0m\u001b[0;32m   1588\u001b[0m                 )\n\u001b[0;32m   1589\u001b[0m             if (\n",
      "\u001b[1;31mNoTipAttachedError\u001b[0m: Cannot perform DROPTIP without a tip attached"
     ]
    }
   ],
   "source": [
    "pip.drop_tip()"
   ]
  },
  {
   "cell_type": "markdown",
   "id": "labeled-groove",
   "metadata": {},
   "source": [
    "# pH\n",
    "\n",
    "$\n",
    "    pH = pK_{a} - log(\\frac{[HA]}{[A^-]})\n",
    "$\n",
    "\n",
    "$\n",
    "    pK_{a, TRIS, 25°C} = 8.1\n",
    "$\n",
    "\n",
    "For a 50 mM Tris-Buffer at pH 8.5, we have 50 mM Tris and 14.71 mM HCl.\n",
    "I.e. 35.29 mM Tris base and 14.71 conjugated acid."
   ]
  },
  {
   "cell_type": "code",
   "execution_count": 414,
   "id": "rational-thumb",
   "metadata": {},
   "outputs": [
    {
     "data": {
      "text/plain": [
       "41.99753473173766"
      ]
     },
     "execution_count": 414,
     "metadata": {},
     "output_type": "execute_result"
    }
   ],
   "source": [
    "# 10**(pKa-8.5) * base # = acid\n",
    "\n",
    "# 50 = base + 10**(pKa-8.5) * base\n",
    "base = 50/(1+10**(pKa-7.4))\n",
    "50-base"
   ]
  },
  {
   "cell_type": "markdown",
   "id": "engaging-medicine",
   "metadata": {},
   "source": [
    "### Calculations:"
   ]
  },
  {
   "cell_type": "code",
   "execution_count": 482,
   "id": "italian-theorem",
   "metadata": {},
   "outputs": [],
   "source": [
    "# Some variables:\n",
    "pHs = np.arange(0,12, 0.1)\n",
    "pKa = 8.12\n",
    "base = (35.29 *10**-3 * 21 + 8.00 *10**-3 * 5)/27 # M\n",
    "acid = (14.71 *10**-3 * 21 + 42.00 *10**-3 * 5)/27# M # HERE the 20 was missing for run on 10.2.22\n",
    "# c0_HCl = 12.1 # M = 37.2%\n",
    "# V_well = 26 * 10**-6\n",
    "# V_to_pipette = 1 * 10**-6 # µl"
   ]
  },
  {
   "cell_type": "code",
   "execution_count": 483,
   "id": "invisible-buying",
   "metadata": {},
   "outputs": [
    {
     "data": {
      "text/plain": [
       "7.552604135352287"
      ]
     },
     "execution_count": 483,
     "metadata": {},
     "output_type": "execute_result"
    }
   ],
   "source": [
    "pKa - math.log10((0.519+0.504)/(0.781-0.504))"
   ]
  },
  {
   "cell_type": "code",
   "execution_count": 484,
   "id": "sustainable-stock",
   "metadata": {},
   "outputs": [],
   "source": [
    "# This functions takes in a desired pH and return the amount of HCl needed to achieve that pH\n",
    "def get_V(pH):\n",
    "    ratio = 10**(pKa-pH)\n",
    "    c1_HCl = (ratio * base - acid)/(1+ratio)\n",
    "    V = (c1_HCl * final_well_volume)/acids.stock.c\n",
    "    V = V  # return in µl\n",
    "    return V\n",
    "\n",
    "# This functions takes in a desired V and returns the concentration of HCl needed to achieve that pH\n",
    "def get_c(pH):\n",
    "    ratio = 10**(pKa-pH)\n",
    "    c1_HCl = (ratio * base - acid)/(1+ratio)\n",
    "    c = (c1_HCl * final_well_volume)/acids.stock.well_volume\n",
    "    # return in M\n",
    "    return c\n",
    "\n",
    "# Plot the graph, does not work on robot server\n",
    "# fig, ax = plt.subplots(figsize = (10.5,5.5))\n",
    "# V_acid = [get_V(pH) for pH in pHs]\n",
    "# ax.plot(pHs, V_acid, label=\"V in µl\");\n",
    "\n",
    "# c_acid = [get_c(pH) for pH in pHs]\n",
    "# ax.plot(pHs, c_acid, label=\"c in mM\");\n",
    "# ax.set_xlabel(\"pH\")\n",
    "# ax.legend();"
   ]
  },
  {
   "cell_type": "markdown",
   "id": "contrary-pizza",
   "metadata": {},
   "source": [
    "For the adjustment of pH, the plan is to always add 1 µl (minimum working volume of the pipette p20) of acid. \n",
    "In order to have different pHs, we prepare 2 differently concentrated HCl stock solutions."
   ]
  },
  {
   "cell_type": "code",
   "execution_count": 485,
   "id": "developed-death",
   "metadata": {},
   "outputs": [
    {
     "name": "stdout",
     "output_type": "stream",
     "text": [
      "148.0\n"
     ]
    }
   ],
   "source": [
    "V_min_HCl = len(all_wells.flatten()) * acids.stock.well_volume + 4*acids.stock.well_volume\n",
    "print(V_min_HCl)"
   ]
  },
  {
   "cell_type": "code",
   "execution_count": 486,
   "id": "beneficial-rental",
   "metadata": {},
   "outputs": [
    {
     "data": {
      "text/plain": [
       "6.500000000000002"
      ]
     },
     "execution_count": 486,
     "metadata": {},
     "output_type": "execute_result"
    }
   ],
   "source": [
    "ratio = ((acid + get_c(acids.fluids[2].pH)*1/27 )  /   (base -get_c(acids.fluids[2].pH)*1/27  ))\n",
    "pKa - math.log10( ratio)"
   ]
  },
  {
   "cell_type": "code",
   "execution_count": 487,
   "id": "patent-monroe",
   "metadata": {},
   "outputs": [
    {
     "name": "stdout",
     "output_type": "stream",
     "text": [
      "The first solution needs a concentration of 0.529576 M\n",
      "The second solution needs a concentration of 0.750636 M\n"
     ]
    }
   ],
   "source": [
    "print(f'The first solution needs a concentration of {get_c(acids.fluids[1].pH):.6f} M')\n",
    "print(f'The second solution needs a concentration of {get_c(acids.fluids[2].pH):.6f} M')"
   ]
  },
  {
   "cell_type": "code",
   "execution_count": 488,
   "id": "brave-thriller",
   "metadata": {},
   "outputs": [
    {
     "name": "stdout",
     "output_type": "stream",
     "text": [
      "We need 10.115799611514133 µl and 14.33842107196277 µl HCl \n"
     ]
    }
   ],
   "source": [
    "# V_HCl_stock = 1000 # µl\n",
    "acids.fluids[1].v = get_c(acids.fluids[1].pH) * V_min_HCl / (acids.stock.c ) \n",
    "acids.fluids[2].v = get_c(acids.fluids[2].pH) * V_min_HCl / (acids.stock.c ) \n",
    "\n",
    "print(f'We need {acids.fluids[1].v} µl and {acids.fluids[2].v} µl HCl ')"
   ]
  },
  {
   "cell_type": "code",
   "execution_count": 489,
   "id": "ethical-integrity",
   "metadata": {},
   "outputs": [
    {
     "data": {
      "text/plain": [
       "0.5295757796622399"
      ]
     },
     "execution_count": 489,
     "metadata": {},
     "output_type": "execute_result"
    }
   ],
   "source": [
    "get_c(acids.fluids[1].pH)"
   ]
  },
  {
   "cell_type": "code",
   "execution_count": 490,
   "id": "british-upper",
   "metadata": {},
   "outputs": [
    {
     "data": {
      "text/plain": [
       "0.5040074"
      ]
     },
     "execution_count": 490,
     "metadata": {},
     "output_type": "execute_result"
    }
   ],
   "source": [
    "7.748 * 6.505 / 100"
   ]
  },
  {
   "cell_type": "markdown",
   "id": "minor-wesley",
   "metadata": {},
   "source": [
    "### Prepare different HCl solutions\n",
    "# ADD MIX"
   ]
  },
  {
   "cell_type": "code",
   "execution_count": 498,
   "id": "suburban-infection",
   "metadata": {},
   "outputs": [
    {
     "data": {
      "text/plain": [
       "<InstrumentContext: p20_single_v2.0 in RIGHT>"
      ]
     },
     "execution_count": 498,
     "metadata": {},
     "output_type": "execute_result"
    }
   ],
   "source": [
    "if not pip300.hw_pipette[\"has_tip\"]:\n",
    "    pip300.pick_up_tip()\n",
    "\n",
    "# for acid in [acids[\"middle\"], acids[\"low\"]]:\n",
    "#     print(V_HCl_stock - acid[\"vol\"])\n",
    "#     pip300.transfer(V_HCl_stock - acid[\"vol\"],\n",
    "#                 water[\"pos\"],\n",
    "#                    acid[\"pos\"],\n",
    "#                    new_tip='never')\n",
    "for acid in [acids.fluids[1], acids.fluids[2]]:\n",
    "    pip300.transfer(V_min_HCl - acid.v,\n",
    "                    water.pos,\n",
    "                    acid.pos,\n",
    "                    new_tip='never')\n",
    "pip300.drop_tip()\n",
    "\n",
    "if not pip.hw_pipette[\"has_tip\"]:\n",
    "    pip.pick_up_tip() \n",
    "    \n",
    "for acid in [acids.fluids[1], acids.fluids[2]]:\n",
    "    pip.transfer(acid.v,\n",
    "                    acids.stock.pos,\n",
    "                    acid.pos,\n",
    "                    new_tip='never',\n",
    "#                  mix_after=(5,20)\n",
    "                )\n",
    "    \n",
    "pip.drop_tip()"
   ]
  },
  {
   "cell_type": "code",
   "execution_count": 85,
   "id": "accurate-discretion",
   "metadata": {},
   "outputs": [
    {
     "data": {
      "text/plain": [
       "{'name': 'pH', 'stock': {'name': 'HCl pH1', 'pos': B1 of Opentrons 24 Tube Rack with Eppendorf 1.5 mL Safe-Lock Snapcap on 6, 'well_volume': 1.0, 'c': 7.748, 'pH': 8.5, 'v': 0.0}, 'fluids': [{'name': 'HCl pH1', 'pos': B1 of Opentrons 24 Tube Rack with Eppendorf 1.5 mL Safe-Lock Snapcap on 6, 'well_volume': 1.0, 'c': 7.748, 'pH': 8.5, 'v': 0.0}, {'name': 'HCl pH2', 'pos': B2 of Opentrons 24 Tube Rack with Eppendorf 1.5 mL Safe-Lock Snapcap on 6, 'well_volume': 1.0, 'c': 0.0, 'pH': 7.5, 'v': 7.202284798260596}, {'name': 'HCl pH3', 'pos': B3 of Opentrons 24 Tube Rack with Eppendorf 1.5 mL Safe-Lock Snapcap on 6, 'well_volume': 1.0, 'c': 0.0, 'pH': 6.5, 'v': 9.332272508021518}]}"
      ]
     },
     "execution_count": 85,
     "metadata": {},
     "output_type": "execute_result"
    }
   ],
   "source": [
    "acids"
   ]
  },
  {
   "cell_type": "code",
   "execution_count": 501,
   "id": "unlimited-prairie",
   "metadata": {},
   "outputs": [
    {
     "name": "stdout",
     "output_type": "stream",
     "text": [
      "Picking up tip from C1 of Opentrons 96 Filter Tip Rack 20 µL on 8\n",
      "Distributing 1.0 from A3 of NEST 12 Well Reservoir 15 mL on 2 to L15 of Corning 384 Well Plate 112 µL Flat on 5\n",
      "Transferring 1.0 from A3 of NEST 12 Well Reservoir 15 mL on 2 to L15 of Corning 384 Well Plate 112 µL Flat on 5\n",
      "Aspirating 13.0 uL from A3 of NEST 12 Well Reservoir 15 mL on 2 at 7.56 uL/sec\n",
      "Dispensing 1.0 uL into L15 of Corning 384 Well Plate 112 µL Flat on 5 at 7.56 uL/sec\n",
      "Dispensing 1.0 uL into L14 of Corning 384 Well Plate 112 µL Flat on 5 at 7.56 uL/sec\n",
      "Dispensing 1.0 uL into L13 of Corning 384 Well Plate 112 µL Flat on 5 at 7.56 uL/sec\n",
      "Dispensing 1.0 uL into L12 of Corning 384 Well Plate 112 µL Flat on 5 at 7.56 uL/sec\n",
      "Dispensing 1.0 uL into L11 of Corning 384 Well Plate 112 µL Flat on 5 at 7.56 uL/sec\n",
      "Dispensing 1.0 uL into L10 of Corning 384 Well Plate 112 µL Flat on 5 at 7.56 uL/sec\n",
      "Dispensing 1.0 uL into L9 of Corning 384 Well Plate 112 µL Flat on 5 at 7.56 uL/sec\n",
      "Dispensing 1.0 uL into L8 of Corning 384 Well Plate 112 µL Flat on 5 at 7.56 uL/sec\n",
      "Dispensing 1.0 uL into L7 of Corning 384 Well Plate 112 µL Flat on 5 at 7.56 uL/sec\n",
      "Dispensing 1.0 uL into L6 of Corning 384 Well Plate 112 µL Flat on 5 at 7.56 uL/sec\n",
      "Dispensing 1.0 uL into L5 of Corning 384 Well Plate 112 µL Flat on 5 at 7.56 uL/sec\n",
      "Dispensing 1.0 uL into L4 of Corning 384 Well Plate 112 µL Flat on 5 at 7.56 uL/sec\n",
      "Blowing out at A1 of Opentrons Fixed Trash on 12\n",
      "Distributing 1.0 from A3 of NEST 12 Well Reservoir 15 mL on 2 to I15 of Corning 384 Well Plate 112 µL Flat on 5\n",
      "Transferring 1.0 from A3 of NEST 12 Well Reservoir 15 mL on 2 to I15 of Corning 384 Well Plate 112 µL Flat on 5\n",
      "Aspirating 13.0 uL from A3 of NEST 12 Well Reservoir 15 mL on 2 at 7.56 uL/sec\n",
      "Dispensing 1.0 uL into I15 of Corning 384 Well Plate 112 µL Flat on 5 at 7.56 uL/sec\n",
      "Dispensing 1.0 uL into I14 of Corning 384 Well Plate 112 µL Flat on 5 at 7.56 uL/sec\n",
      "Dispensing 1.0 uL into I13 of Corning 384 Well Plate 112 µL Flat on 5 at 7.56 uL/sec\n",
      "Dispensing 1.0 uL into I12 of Corning 384 Well Plate 112 µL Flat on 5 at 7.56 uL/sec\n",
      "Dispensing 1.0 uL into I11 of Corning 384 Well Plate 112 µL Flat on 5 at 7.56 uL/sec\n",
      "Dispensing 1.0 uL into I10 of Corning 384 Well Plate 112 µL Flat on 5 at 7.56 uL/sec\n",
      "Dispensing 1.0 uL into I9 of Corning 384 Well Plate 112 µL Flat on 5 at 7.56 uL/sec\n",
      "Dispensing 1.0 uL into I8 of Corning 384 Well Plate 112 µL Flat on 5 at 7.56 uL/sec\n",
      "Dispensing 1.0 uL into I7 of Corning 384 Well Plate 112 µL Flat on 5 at 7.56 uL/sec\n",
      "Dispensing 1.0 uL into I6 of Corning 384 Well Plate 112 µL Flat on 5 at 7.56 uL/sec\n",
      "Dispensing 1.0 uL into I5 of Corning 384 Well Plate 112 µL Flat on 5 at 7.56 uL/sec\n",
      "Dispensing 1.0 uL into I4 of Corning 384 Well Plate 112 µL Flat on 5 at 7.56 uL/sec\n",
      "Blowing out at A1 of Opentrons Fixed Trash on 12\n",
      "Distributing 1.0 from A3 of NEST 12 Well Reservoir 15 mL on 2 to F15 of Corning 384 Well Plate 112 µL Flat on 5\n",
      "Transferring 1.0 from A3 of NEST 12 Well Reservoir 15 mL on 2 to F15 of Corning 384 Well Plate 112 µL Flat on 5\n",
      "Aspirating 13.0 uL from A3 of NEST 12 Well Reservoir 15 mL on 2 at 7.56 uL/sec\n",
      "Dispensing 1.0 uL into F15 of Corning 384 Well Plate 112 µL Flat on 5 at 7.56 uL/sec\n",
      "Dispensing 1.0 uL into F14 of Corning 384 Well Plate 112 µL Flat on 5 at 7.56 uL/sec\n",
      "Dispensing 1.0 uL into F13 of Corning 384 Well Plate 112 µL Flat on 5 at 7.56 uL/sec\n",
      "Dispensing 1.0 uL into F12 of Corning 384 Well Plate 112 µL Flat on 5 at 7.56 uL/sec\n",
      "Dispensing 1.0 uL into F11 of Corning 384 Well Plate 112 µL Flat on 5 at 7.56 uL/sec\n",
      "Dispensing 1.0 uL into F10 of Corning 384 Well Plate 112 µL Flat on 5 at 7.56 uL/sec\n",
      "Dispensing 1.0 uL into F9 of Corning 384 Well Plate 112 µL Flat on 5 at 7.56 uL/sec\n",
      "Dispensing 1.0 uL into F8 of Corning 384 Well Plate 112 µL Flat on 5 at 7.56 uL/sec\n",
      "Dispensing 1.0 uL into F7 of Corning 384 Well Plate 112 µL Flat on 5 at 7.56 uL/sec\n",
      "Dispensing 1.0 uL into F6 of Corning 384 Well Plate 112 µL Flat on 5 at 7.56 uL/sec\n",
      "Dispensing 1.0 uL into F5 of Corning 384 Well Plate 112 µL Flat on 5 at 7.56 uL/sec\n",
      "Dispensing 1.0 uL into F4 of Corning 384 Well Plate 112 µL Flat on 5 at 7.56 uL/sec\n",
      "Blowing out at A1 of Opentrons Fixed Trash on 12\n",
      "Distributing 1.0 from A3 of NEST 12 Well Reservoir 15 mL on 2 to C15 of Corning 384 Well Plate 112 µL Flat on 5\n",
      "Transferring 1.0 from A3 of NEST 12 Well Reservoir 15 mL on 2 to C15 of Corning 384 Well Plate 112 µL Flat on 5\n",
      "Aspirating 13.0 uL from A3 of NEST 12 Well Reservoir 15 mL on 2 at 7.56 uL/sec\n",
      "Dispensing 1.0 uL into C15 of Corning 384 Well Plate 112 µL Flat on 5 at 7.56 uL/sec\n",
      "Dispensing 1.0 uL into C14 of Corning 384 Well Plate 112 µL Flat on 5 at 7.56 uL/sec\n",
      "Dispensing 1.0 uL into C13 of Corning 384 Well Plate 112 µL Flat on 5 at 7.56 uL/sec\n",
      "Dispensing 1.0 uL into C12 of Corning 384 Well Plate 112 µL Flat on 5 at 7.56 uL/sec\n",
      "Dispensing 1.0 uL into C11 of Corning 384 Well Plate 112 µL Flat on 5 at 7.56 uL/sec\n",
      "Dispensing 1.0 uL into C10 of Corning 384 Well Plate 112 µL Flat on 5 at 7.56 uL/sec\n",
      "Dispensing 1.0 uL into C9 of Corning 384 Well Plate 112 µL Flat on 5 at 7.56 uL/sec\n",
      "Dispensing 1.0 uL into C8 of Corning 384 Well Plate 112 µL Flat on 5 at 7.56 uL/sec\n",
      "Dispensing 1.0 uL into C7 of Corning 384 Well Plate 112 µL Flat on 5 at 7.56 uL/sec\n",
      "Dispensing 1.0 uL into C6 of Corning 384 Well Plate 112 µL Flat on 5 at 7.56 uL/sec\n",
      "Dispensing 1.0 uL into C5 of Corning 384 Well Plate 112 µL Flat on 5 at 7.56 uL/sec\n",
      "Dispensing 1.0 uL into C4 of Corning 384 Well Plate 112 µL Flat on 5 at 7.56 uL/sec\n",
      "Blowing out at A1 of Opentrons Fixed Trash on 12\n",
      "Distributing 1.0 from B2 of Opentrons 24 Tube Rack with Eppendorf 1.5 mL Safe-Lock Snapcap on 6 to M15 of Corning 384 Well Plate 112 µL Flat on 5\n",
      "Transferring 1.0 from B2 of Opentrons 24 Tube Rack with Eppendorf 1.5 mL Safe-Lock Snapcap on 6 to M15 of Corning 384 Well Plate 112 µL Flat on 5\n",
      "Aspirating 13.0 uL from B2 of Opentrons 24 Tube Rack with Eppendorf 1.5 mL Safe-Lock Snapcap on 6 at 7.56 uL/sec\n",
      "Dispensing 1.0 uL into M15 of Corning 384 Well Plate 112 µL Flat on 5 at 7.56 uL/sec\n",
      "Dispensing 1.0 uL into M14 of Corning 384 Well Plate 112 µL Flat on 5 at 7.56 uL/sec\n",
      "Dispensing 1.0 uL into M13 of Corning 384 Well Plate 112 µL Flat on 5 at 7.56 uL/sec\n",
      "Dispensing 1.0 uL into M12 of Corning 384 Well Plate 112 µL Flat on 5 at 7.56 uL/sec\n",
      "Dispensing 1.0 uL into M11 of Corning 384 Well Plate 112 µL Flat on 5 at 7.56 uL/sec\n",
      "Dispensing 1.0 uL into M10 of Corning 384 Well Plate 112 µL Flat on 5 at 7.56 uL/sec\n",
      "Dispensing 1.0 uL into M9 of Corning 384 Well Plate 112 µL Flat on 5 at 7.56 uL/sec\n",
      "Dispensing 1.0 uL into M8 of Corning 384 Well Plate 112 µL Flat on 5 at 7.56 uL/sec\n",
      "Dispensing 1.0 uL into M7 of Corning 384 Well Plate 112 µL Flat on 5 at 7.56 uL/sec\n",
      "Dispensing 1.0 uL into M6 of Corning 384 Well Plate 112 µL Flat on 5 at 7.56 uL/sec\n",
      "Dispensing 1.0 uL into M5 of Corning 384 Well Plate 112 µL Flat on 5 at 7.56 uL/sec\n",
      "Dispensing 1.0 uL into M4 of Corning 384 Well Plate 112 µL Flat on 5 at 7.56 uL/sec\n",
      "Blowing out at A1 of Opentrons Fixed Trash on 12\n",
      "Distributing 1.0 from B2 of Opentrons 24 Tube Rack with Eppendorf 1.5 mL Safe-Lock Snapcap on 6 to J15 of Corning 384 Well Plate 112 µL Flat on 5\n",
      "Transferring 1.0 from B2 of Opentrons 24 Tube Rack with Eppendorf 1.5 mL Safe-Lock Snapcap on 6 to J15 of Corning 384 Well Plate 112 µL Flat on 5\n",
      "Aspirating 13.0 uL from B2 of Opentrons 24 Tube Rack with Eppendorf 1.5 mL Safe-Lock Snapcap on 6 at 7.56 uL/sec\n",
      "Dispensing 1.0 uL into J15 of Corning 384 Well Plate 112 µL Flat on 5 at 7.56 uL/sec\n",
      "Dispensing 1.0 uL into J14 of Corning 384 Well Plate 112 µL Flat on 5 at 7.56 uL/sec\n",
      "Dispensing 1.0 uL into J13 of Corning 384 Well Plate 112 µL Flat on 5 at 7.56 uL/sec\n",
      "Dispensing 1.0 uL into J12 of Corning 384 Well Plate 112 µL Flat on 5 at 7.56 uL/sec\n",
      "Dispensing 1.0 uL into J11 of Corning 384 Well Plate 112 µL Flat on 5 at 7.56 uL/sec\n",
      "Dispensing 1.0 uL into J10 of Corning 384 Well Plate 112 µL Flat on 5 at 7.56 uL/sec\n",
      "Dispensing 1.0 uL into J9 of Corning 384 Well Plate 112 µL Flat on 5 at 7.56 uL/sec\n",
      "Dispensing 1.0 uL into J8 of Corning 384 Well Plate 112 µL Flat on 5 at 7.56 uL/sec\n",
      "Dispensing 1.0 uL into J7 of Corning 384 Well Plate 112 µL Flat on 5 at 7.56 uL/sec\n",
      "Dispensing 1.0 uL into J6 of Corning 384 Well Plate 112 µL Flat on 5 at 7.56 uL/sec\n",
      "Dispensing 1.0 uL into J5 of Corning 384 Well Plate 112 µL Flat on 5 at 7.56 uL/sec\n",
      "Dispensing 1.0 uL into J4 of Corning 384 Well Plate 112 µL Flat on 5 at 7.56 uL/sec\n",
      "Blowing out at A1 of Opentrons Fixed Trash on 12\n",
      "Distributing 1.0 from B2 of Opentrons 24 Tube Rack with Eppendorf 1.5 mL Safe-Lock Snapcap on 6 to G15 of Corning 384 Well Plate 112 µL Flat on 5\n",
      "Transferring 1.0 from B2 of Opentrons 24 Tube Rack with Eppendorf 1.5 mL Safe-Lock Snapcap on 6 to G15 of Corning 384 Well Plate 112 µL Flat on 5\n",
      "Aspirating 13.0 uL from B2 of Opentrons 24 Tube Rack with Eppendorf 1.5 mL Safe-Lock Snapcap on 6 at 7.56 uL/sec\n",
      "Dispensing 1.0 uL into G15 of Corning 384 Well Plate 112 µL Flat on 5 at 7.56 uL/sec\n",
      "Dispensing 1.0 uL into G14 of Corning 384 Well Plate 112 µL Flat on 5 at 7.56 uL/sec\n",
      "Dispensing 1.0 uL into G13 of Corning 384 Well Plate 112 µL Flat on 5 at 7.56 uL/sec\n",
      "Dispensing 1.0 uL into G12 of Corning 384 Well Plate 112 µL Flat on 5 at 7.56 uL/sec\n",
      "Dispensing 1.0 uL into G11 of Corning 384 Well Plate 112 µL Flat on 5 at 7.56 uL/sec\n",
      "Dispensing 1.0 uL into G10 of Corning 384 Well Plate 112 µL Flat on 5 at 7.56 uL/sec\n",
      "Dispensing 1.0 uL into G9 of Corning 384 Well Plate 112 µL Flat on 5 at 7.56 uL/sec\n",
      "Dispensing 1.0 uL into G8 of Corning 384 Well Plate 112 µL Flat on 5 at 7.56 uL/sec\n",
      "Dispensing 1.0 uL into G7 of Corning 384 Well Plate 112 µL Flat on 5 at 7.56 uL/sec\n",
      "Dispensing 1.0 uL into G6 of Corning 384 Well Plate 112 µL Flat on 5 at 7.56 uL/sec\n",
      "Dispensing 1.0 uL into G5 of Corning 384 Well Plate 112 µL Flat on 5 at 7.56 uL/sec\n",
      "Dispensing 1.0 uL into G4 of Corning 384 Well Plate 112 µL Flat on 5 at 7.56 uL/sec\n",
      "Blowing out at A1 of Opentrons Fixed Trash on 12\n",
      "Distributing 1.0 from B2 of Opentrons 24 Tube Rack with Eppendorf 1.5 mL Safe-Lock Snapcap on 6 to D15 of Corning 384 Well Plate 112 µL Flat on 5\n",
      "Transferring 1.0 from B2 of Opentrons 24 Tube Rack with Eppendorf 1.5 mL Safe-Lock Snapcap on 6 to D15 of Corning 384 Well Plate 112 µL Flat on 5\n",
      "Aspirating 13.0 uL from B2 of Opentrons 24 Tube Rack with Eppendorf 1.5 mL Safe-Lock Snapcap on 6 at 7.56 uL/sec\n",
      "Dispensing 1.0 uL into D15 of Corning 384 Well Plate 112 µL Flat on 5 at 7.56 uL/sec\n",
      "Dispensing 1.0 uL into D14 of Corning 384 Well Plate 112 µL Flat on 5 at 7.56 uL/sec\n",
      "Dispensing 1.0 uL into D13 of Corning 384 Well Plate 112 µL Flat on 5 at 7.56 uL/sec\n",
      "Dispensing 1.0 uL into D12 of Corning 384 Well Plate 112 µL Flat on 5 at 7.56 uL/sec\n",
      "Dispensing 1.0 uL into D11 of Corning 384 Well Plate 112 µL Flat on 5 at 7.56 uL/sec\n",
      "Dispensing 1.0 uL into D10 of Corning 384 Well Plate 112 µL Flat on 5 at 7.56 uL/sec\n",
      "Dispensing 1.0 uL into D9 of Corning 384 Well Plate 112 µL Flat on 5 at 7.56 uL/sec\n",
      "Dispensing 1.0 uL into D8 of Corning 384 Well Plate 112 µL Flat on 5 at 7.56 uL/sec\n",
      "Dispensing 1.0 uL into D7 of Corning 384 Well Plate 112 µL Flat on 5 at 7.56 uL/sec\n",
      "Dispensing 1.0 uL into D6 of Corning 384 Well Plate 112 µL Flat on 5 at 7.56 uL/sec\n",
      "Dispensing 1.0 uL into D5 of Corning 384 Well Plate 112 µL Flat on 5 at 7.56 uL/sec\n",
      "Dispensing 1.0 uL into D4 of Corning 384 Well Plate 112 µL Flat on 5 at 7.56 uL/sec\n",
      "Blowing out at A1 of Opentrons Fixed Trash on 12\n",
      "Distributing 1.0 from B3 of Opentrons 24 Tube Rack with Eppendorf 1.5 mL Safe-Lock Snapcap on 6 to N15 of Corning 384 Well Plate 112 µL Flat on 5\n",
      "Transferring 1.0 from B3 of Opentrons 24 Tube Rack with Eppendorf 1.5 mL Safe-Lock Snapcap on 6 to N15 of Corning 384 Well Plate 112 µL Flat on 5\n",
      "Aspirating 13.0 uL from B3 of Opentrons 24 Tube Rack with Eppendorf 1.5 mL Safe-Lock Snapcap on 6 at 7.56 uL/sec\n",
      "Dispensing 1.0 uL into N15 of Corning 384 Well Plate 112 µL Flat on 5 at 7.56 uL/sec\n",
      "Dispensing 1.0 uL into N14 of Corning 384 Well Plate 112 µL Flat on 5 at 7.56 uL/sec\n",
      "Dispensing 1.0 uL into N13 of Corning 384 Well Plate 112 µL Flat on 5 at 7.56 uL/sec\n",
      "Dispensing 1.0 uL into N12 of Corning 384 Well Plate 112 µL Flat on 5 at 7.56 uL/sec\n",
      "Dispensing 1.0 uL into N11 of Corning 384 Well Plate 112 µL Flat on 5 at 7.56 uL/sec\n",
      "Dispensing 1.0 uL into N10 of Corning 384 Well Plate 112 µL Flat on 5 at 7.56 uL/sec\n",
      "Dispensing 1.0 uL into N9 of Corning 384 Well Plate 112 µL Flat on 5 at 7.56 uL/sec\n",
      "Dispensing 1.0 uL into N8 of Corning 384 Well Plate 112 µL Flat on 5 at 7.56 uL/sec\n",
      "Dispensing 1.0 uL into N7 of Corning 384 Well Plate 112 µL Flat on 5 at 7.56 uL/sec\n",
      "Dispensing 1.0 uL into N6 of Corning 384 Well Plate 112 µL Flat on 5 at 7.56 uL/sec\n",
      "Dispensing 1.0 uL into N5 of Corning 384 Well Plate 112 µL Flat on 5 at 7.56 uL/sec\n",
      "Dispensing 1.0 uL into N4 of Corning 384 Well Plate 112 µL Flat on 5 at 7.56 uL/sec\n",
      "Blowing out at A1 of Opentrons Fixed Trash on 12\n",
      "Distributing 1.0 from B3 of Opentrons 24 Tube Rack with Eppendorf 1.5 mL Safe-Lock Snapcap on 6 to K15 of Corning 384 Well Plate 112 µL Flat on 5\n",
      "Transferring 1.0 from B3 of Opentrons 24 Tube Rack with Eppendorf 1.5 mL Safe-Lock Snapcap on 6 to K15 of Corning 384 Well Plate 112 µL Flat on 5\n",
      "Aspirating 13.0 uL from B3 of Opentrons 24 Tube Rack with Eppendorf 1.5 mL Safe-Lock Snapcap on 6 at 7.56 uL/sec\n",
      "Dispensing 1.0 uL into K15 of Corning 384 Well Plate 112 µL Flat on 5 at 7.56 uL/sec\n",
      "Dispensing 1.0 uL into K14 of Corning 384 Well Plate 112 µL Flat on 5 at 7.56 uL/sec\n",
      "Dispensing 1.0 uL into K13 of Corning 384 Well Plate 112 µL Flat on 5 at 7.56 uL/sec\n",
      "Dispensing 1.0 uL into K12 of Corning 384 Well Plate 112 µL Flat on 5 at 7.56 uL/sec\n",
      "Dispensing 1.0 uL into K11 of Corning 384 Well Plate 112 µL Flat on 5 at 7.56 uL/sec\n",
      "Dispensing 1.0 uL into K10 of Corning 384 Well Plate 112 µL Flat on 5 at 7.56 uL/sec\n",
      "Dispensing 1.0 uL into K9 of Corning 384 Well Plate 112 µL Flat on 5 at 7.56 uL/sec\n",
      "Dispensing 1.0 uL into K8 of Corning 384 Well Plate 112 µL Flat on 5 at 7.56 uL/sec\n",
      "Dispensing 1.0 uL into K7 of Corning 384 Well Plate 112 µL Flat on 5 at 7.56 uL/sec\n",
      "Dispensing 1.0 uL into K6 of Corning 384 Well Plate 112 µL Flat on 5 at 7.56 uL/sec\n",
      "Dispensing 1.0 uL into K5 of Corning 384 Well Plate 112 µL Flat on 5 at 7.56 uL/sec\n",
      "Dispensing 1.0 uL into K4 of Corning 384 Well Plate 112 µL Flat on 5 at 7.56 uL/sec\n",
      "Blowing out at A1 of Opentrons Fixed Trash on 12\n",
      "Distributing 1.0 from B3 of Opentrons 24 Tube Rack with Eppendorf 1.5 mL Safe-Lock Snapcap on 6 to H15 of Corning 384 Well Plate 112 µL Flat on 5\n",
      "Transferring 1.0 from B3 of Opentrons 24 Tube Rack with Eppendorf 1.5 mL Safe-Lock Snapcap on 6 to H15 of Corning 384 Well Plate 112 µL Flat on 5\n",
      "Aspirating 13.0 uL from B3 of Opentrons 24 Tube Rack with Eppendorf 1.5 mL Safe-Lock Snapcap on 6 at 7.56 uL/sec\n",
      "Dispensing 1.0 uL into H15 of Corning 384 Well Plate 112 µL Flat on 5 at 7.56 uL/sec\n",
      "Dispensing 1.0 uL into H14 of Corning 384 Well Plate 112 µL Flat on 5 at 7.56 uL/sec\n",
      "Dispensing 1.0 uL into H13 of Corning 384 Well Plate 112 µL Flat on 5 at 7.56 uL/sec\n",
      "Dispensing 1.0 uL into H12 of Corning 384 Well Plate 112 µL Flat on 5 at 7.56 uL/sec\n",
      "Dispensing 1.0 uL into H11 of Corning 384 Well Plate 112 µL Flat on 5 at 7.56 uL/sec\n",
      "Dispensing 1.0 uL into H10 of Corning 384 Well Plate 112 µL Flat on 5 at 7.56 uL/sec\n",
      "Dispensing 1.0 uL into H9 of Corning 384 Well Plate 112 µL Flat on 5 at 7.56 uL/sec\n",
      "Dispensing 1.0 uL into H8 of Corning 384 Well Plate 112 µL Flat on 5 at 7.56 uL/sec\n",
      "Dispensing 1.0 uL into H7 of Corning 384 Well Plate 112 µL Flat on 5 at 7.56 uL/sec\n",
      "Dispensing 1.0 uL into H6 of Corning 384 Well Plate 112 µL Flat on 5 at 7.56 uL/sec\n",
      "Dispensing 1.0 uL into H5 of Corning 384 Well Plate 112 µL Flat on 5 at 7.56 uL/sec\n",
      "Dispensing 1.0 uL into H4 of Corning 384 Well Plate 112 µL Flat on 5 at 7.56 uL/sec\n",
      "Blowing out at A1 of Opentrons Fixed Trash on 12\n",
      "Distributing 1.0 from B3 of Opentrons 24 Tube Rack with Eppendorf 1.5 mL Safe-Lock Snapcap on 6 to E15 of Corning 384 Well Plate 112 µL Flat on 5\n",
      "Transferring 1.0 from B3 of Opentrons 24 Tube Rack with Eppendorf 1.5 mL Safe-Lock Snapcap on 6 to E15 of Corning 384 Well Plate 112 µL Flat on 5\n",
      "Aspirating 13.0 uL from B3 of Opentrons 24 Tube Rack with Eppendorf 1.5 mL Safe-Lock Snapcap on 6 at 7.56 uL/sec\n",
      "Dispensing 1.0 uL into E15 of Corning 384 Well Plate 112 µL Flat on 5 at 7.56 uL/sec\n",
      "Dispensing 1.0 uL into E14 of Corning 384 Well Plate 112 µL Flat on 5 at 7.56 uL/sec\n",
      "Dispensing 1.0 uL into E13 of Corning 384 Well Plate 112 µL Flat on 5 at 7.56 uL/sec\n",
      "Dispensing 1.0 uL into E12 of Corning 384 Well Plate 112 µL Flat on 5 at 7.56 uL/sec\n",
      "Dispensing 1.0 uL into E11 of Corning 384 Well Plate 112 µL Flat on 5 at 7.56 uL/sec\n",
      "Dispensing 1.0 uL into E10 of Corning 384 Well Plate 112 µL Flat on 5 at 7.56 uL/sec\n",
      "Dispensing 1.0 uL into E9 of Corning 384 Well Plate 112 µL Flat on 5 at 7.56 uL/sec\n",
      "Dispensing 1.0 uL into E8 of Corning 384 Well Plate 112 µL Flat on 5 at 7.56 uL/sec\n",
      "Dispensing 1.0 uL into E7 of Corning 384 Well Plate 112 µL Flat on 5 at 7.56 uL/sec\n",
      "Dispensing 1.0 uL into E6 of Corning 384 Well Plate 112 µL Flat on 5 at 7.56 uL/sec\n",
      "Dispensing 1.0 uL into E5 of Corning 384 Well Plate 112 µL Flat on 5 at 7.56 uL/sec\n",
      "Dispensing 1.0 uL into E4 of Corning 384 Well Plate 112 µL Flat on 5 at 7.56 uL/sec\n",
      "Blowing out at A1 of Opentrons Fixed Trash on 12\n"
     ]
    }
   ],
   "source": [
    "for line in protocol.commands():\n",
    "    print(line)\n",
    "protocol.clear_commands()"
   ]
  },
  {
   "cell_type": "markdown",
   "id": "different-concentration",
   "metadata": {},
   "source": [
    "### Pipette 1 µl of HCl in each well:\n",
    "\n",
    "# Change to water HERE"
   ]
  },
  {
   "cell_type": "code",
   "execution_count": 500,
   "id": "basic-effects",
   "metadata": {},
   "outputs": [
    {
     "name": "stdout",
     "output_type": "stream",
     "text": [
      "For pH 8.5 using Water.\n",
      "Pipetting 1.0 µl Water into these rows:\n"
     ]
    },
    {
     "data": {
      "image/png": "[encoded data removed]",
      "text/plain": [
       "<Figure size 432x288 with 1 Axes>"
      ]
     },
     "metadata": {
      "needs_background": "light"
     },
     "output_type": "display_data"
    },
    {
     "name": "stdout",
     "output_type": "stream",
     "text": [
      "Pipetting 1.0 µl HCl pH2 into these rows:\n"
     ]
    },
    {
     "data": {
      "image/png": "[encoded data removed]",
      "text/plain": [
       "<Figure size 432x288 with 1 Axes>"
      ]
     },
     "metadata": {
      "needs_background": "light"
     },
     "output_type": "display_data"
    },
    {
     "name": "stdout",
     "output_type": "stream",
     "text": [
      "Pipetting 1.0 µl HCl pH3 into these rows:\n"
     ]
    },
    {
     "data": {
      "image/png": "[encoded data removed]",
      "text/plain": [
       "<Figure size 432x288 with 1 Axes>"
      ]
     },
     "metadata": {
      "needs_background": "light"
     },
     "output_type": "display_data"
    },
    {
     "data": {
      "image/png": "[encoded data removed]",
      "text/plain": [
       "<Figure size 432x288 with 1 Axes>"
      ]
     },
     "metadata": {
      "needs_background": "light"
     },
     "output_type": "display_data"
    }
   ],
   "source": [
    "if not pip.hw_pipette[\"has_tip\"]:\n",
    "    pip.pick_up_tip()\n",
    "\n",
    "\n",
    "for i, acid in enumerate(acids.fluids):\n",
    "    \n",
    "    v = acid.well_volume\n",
    "    pos = acid.pos\n",
    "    what = acid.name\n",
    "    \n",
    "    \n",
    "    if acid.pH == 8.5:\n",
    "        pos = water.pos\n",
    "        what = water.name\n",
    "        print(f\"For pH 8.5 using {what}.\")\n",
    "    \n",
    "    \n",
    "    wells_mask[:] = False\n",
    "    wells_mask[i::3,0:] = True\n",
    "    print(f'Pipetting {v} µl {what} into these rows:')\n",
    "#     print(wells_mask)\n",
    "    draw_progress(wells_mask)\n",
    "    \n",
    "    wells = np.flip(all_wells[wells_mask])\n",
    "    wells = wells.reshape(-1,12)\n",
    "#     wells = wells.reshape(12,-1)\n",
    "   \n",
    "#     print(wells)\n",
    "    \n",
    "    for row in wells:\n",
    "        row = list(row)\n",
    "        for well in row:\n",
    "            well_dict[well][\"pH\"] = {\"v\": v,\n",
    "                                     \"name\": what}\n",
    "#             print(f'Pipetting {vol} µl into {well}')\n",
    "        pip.distribute(acid.well_volume,\n",
    "                    pos,\n",
    "                    row,\n",
    "                    new_tip='never')\n",
    "        "
   ]
  },
  {
   "cell_type": "code",
   "execution_count": 503,
   "id": "expected-stream",
   "metadata": {},
   "outputs": [
    {
     "name": "stdout",
     "output_type": "stream",
     "text": [
      "Distributing 1.0 from A1 of NEST 12 Well Reservoir 15 mL on 2 to N13 of Corning 384 Well Plate 112 µL Flat on 5\n",
      "Transferring 1.0 from A1 of NEST 12 Well Reservoir 15 mL on 2 to N13 of Corning 384 Well Plate 112 µL Flat on 5\n",
      "Aspirating 20.0 uL from A1 of NEST 12 Well Reservoir 15 mL on 2 at 7.56 uL/sec\n",
      "Dispensing 1.0 uL into N13 of Corning 384 Well Plate 112 µL Flat on 5 at 7.56 uL/sec\n",
      "Dispensing 1.0 uL into N10 of Corning 384 Well Plate 112 µL Flat on 5 at 7.56 uL/sec\n",
      "Dispensing 1.0 uL into N7 of Corning 384 Well Plate 112 µL Flat on 5 at 7.56 uL/sec\n",
      "Dispensing 1.0 uL into N4 of Corning 384 Well Plate 112 µL Flat on 5 at 7.56 uL/sec\n",
      "Dispensing 1.0 uL into M13 of Corning 384 Well Plate 112 µL Flat on 5 at 7.56 uL/sec\n",
      "Dispensing 1.0 uL into M10 of Corning 384 Well Plate 112 µL Flat on 5 at 7.56 uL/sec\n",
      "Dispensing 1.0 uL into M7 of Corning 384 Well Plate 112 µL Flat on 5 at 7.56 uL/sec\n",
      "Dispensing 1.0 uL into M4 of Corning 384 Well Plate 112 µL Flat on 5 at 7.56 uL/sec\n",
      "Dispensing 1.0 uL into L13 of Corning 384 Well Plate 112 µL Flat on 5 at 7.56 uL/sec\n",
      "Dispensing 1.0 uL into L10 of Corning 384 Well Plate 112 µL Flat on 5 at 7.56 uL/sec\n",
      "Dispensing 1.0 uL into L7 of Corning 384 Well Plate 112 µL Flat on 5 at 7.56 uL/sec\n",
      "Dispensing 1.0 uL into L4 of Corning 384 Well Plate 112 µL Flat on 5 at 7.56 uL/sec\n",
      "Dispensing 1.0 uL into K13 of Corning 384 Well Plate 112 µL Flat on 5 at 7.56 uL/sec\n",
      "Dispensing 1.0 uL into K10 of Corning 384 Well Plate 112 µL Flat on 5 at 7.56 uL/sec\n",
      "Dispensing 1.0 uL into K7 of Corning 384 Well Plate 112 µL Flat on 5 at 7.56 uL/sec\n",
      "Dispensing 1.0 uL into K4 of Corning 384 Well Plate 112 µL Flat on 5 at 7.56 uL/sec\n",
      "Dispensing 1.0 uL into J13 of Corning 384 Well Plate 112 µL Flat on 5 at 7.56 uL/sec\n",
      "Dispensing 1.0 uL into J10 of Corning 384 Well Plate 112 µL Flat on 5 at 7.56 uL/sec\n",
      "Dispensing 1.0 uL into J7 of Corning 384 Well Plate 112 µL Flat on 5 at 7.56 uL/sec\n",
      "Blowing out at A1 of Opentrons Fixed Trash on 12\n",
      "Aspirating 20.0 uL from A1 of NEST 12 Well Reservoir 15 mL on 2 at 7.56 uL/sec\n",
      "Dispensing 1.0 uL into J4 of Corning 384 Well Plate 112 µL Flat on 5 at 7.56 uL/sec\n",
      "Dispensing 1.0 uL into I13 of Corning 384 Well Plate 112 µL Flat on 5 at 7.56 uL/sec\n",
      "Dispensing 1.0 uL into I10 of Corning 384 Well Plate 112 µL Flat on 5 at 7.56 uL/sec\n",
      "Dispensing 1.0 uL into I7 of Corning 384 Well Plate 112 µL Flat on 5 at 7.56 uL/sec\n",
      "Dispensing 1.0 uL into I4 of Corning 384 Well Plate 112 µL Flat on 5 at 7.56 uL/sec\n",
      "Dispensing 1.0 uL into H13 of Corning 384 Well Plate 112 µL Flat on 5 at 7.56 uL/sec\n",
      "Dispensing 1.0 uL into H10 of Corning 384 Well Plate 112 µL Flat on 5 at 7.56 uL/sec\n",
      "Dispensing 1.0 uL into H7 of Corning 384 Well Plate 112 µL Flat on 5 at 7.56 uL/sec\n",
      "Dispensing 1.0 uL into H4 of Corning 384 Well Plate 112 µL Flat on 5 at 7.56 uL/sec\n",
      "Dispensing 1.0 uL into G13 of Corning 384 Well Plate 112 µL Flat on 5 at 7.56 uL/sec\n",
      "Dispensing 1.0 uL into G10 of Corning 384 Well Plate 112 µL Flat on 5 at 7.56 uL/sec\n",
      "Dispensing 1.0 uL into G7 of Corning 384 Well Plate 112 µL Flat on 5 at 7.56 uL/sec\n",
      "Dispensing 1.0 uL into G4 of Corning 384 Well Plate 112 µL Flat on 5 at 7.56 uL/sec\n",
      "Dispensing 1.0 uL into F13 of Corning 384 Well Plate 112 µL Flat on 5 at 7.56 uL/sec\n",
      "Dispensing 1.0 uL into F10 of Corning 384 Well Plate 112 µL Flat on 5 at 7.56 uL/sec\n",
      "Dispensing 1.0 uL into F7 of Corning 384 Well Plate 112 µL Flat on 5 at 7.56 uL/sec\n",
      "Dispensing 1.0 uL into F4 of Corning 384 Well Plate 112 µL Flat on 5 at 7.56 uL/sec\n",
      "Dispensing 1.0 uL into E13 of Corning 384 Well Plate 112 µL Flat on 5 at 7.56 uL/sec\n",
      "Dispensing 1.0 uL into E10 of Corning 384 Well Plate 112 µL Flat on 5 at 7.56 uL/sec\n",
      "Blowing out at A1 of Opentrons Fixed Trash on 12\n",
      "Aspirating 11.0 uL from A1 of NEST 12 Well Reservoir 15 mL on 2 at 7.56 uL/sec\n",
      "Dispensing 1.0 uL into E7 of Corning 384 Well Plate 112 µL Flat on 5 at 7.56 uL/sec\n",
      "Dispensing 1.0 uL into E4 of Corning 384 Well Plate 112 µL Flat on 5 at 7.56 uL/sec\n",
      "Dispensing 1.0 uL into D13 of Corning 384 Well Plate 112 µL Flat on 5 at 7.56 uL/sec\n",
      "Dispensing 1.0 uL into D10 of Corning 384 Well Plate 112 µL Flat on 5 at 7.56 uL/sec\n",
      "Dispensing 1.0 uL into D7 of Corning 384 Well Plate 112 µL Flat on 5 at 7.56 uL/sec\n",
      "Dispensing 1.0 uL into D4 of Corning 384 Well Plate 112 µL Flat on 5 at 7.56 uL/sec\n",
      "Dispensing 1.0 uL into C13 of Corning 384 Well Plate 112 µL Flat on 5 at 7.56 uL/sec\n",
      "Dispensing 1.0 uL into C10 of Corning 384 Well Plate 112 µL Flat on 5 at 7.56 uL/sec\n",
      "Dispensing 1.0 uL into C7 of Corning 384 Well Plate 112 µL Flat on 5 at 7.56 uL/sec\n",
      "Dispensing 1.0 uL into C4 of Corning 384 Well Plate 112 µL Flat on 5 at 7.56 uL/sec\n",
      "Blowing out at A1 of Opentrons Fixed Trash on 12\n",
      "Distributing 1.0 from D1 of Opentrons 24 Tube Rack with Eppendorf 1.5 mL Safe-Lock Snapcap on 6 to N14 of Corning 384 Well Plate 112 µL Flat on 5\n",
      "Transferring 1.0 from D1 of Opentrons 24 Tube Rack with Eppendorf 1.5 mL Safe-Lock Snapcap on 6 to N14 of Corning 384 Well Plate 112 µL Flat on 5\n",
      "Aspirating 20.0 uL from D1 of Opentrons 24 Tube Rack with Eppendorf 1.5 mL Safe-Lock Snapcap on 6 at 7.56 uL/sec\n",
      "Dispensing 1.0 uL into N14 of Corning 384 Well Plate 112 µL Flat on 5 at 7.56 uL/sec\n",
      "Dispensing 1.0 uL into N11 of Corning 384 Well Plate 112 µL Flat on 5 at 7.56 uL/sec\n",
      "Dispensing 1.0 uL into N8 of Corning 384 Well Plate 112 µL Flat on 5 at 7.56 uL/sec\n",
      "Dispensing 1.0 uL into N5 of Corning 384 Well Plate 112 µL Flat on 5 at 7.56 uL/sec\n",
      "Dispensing 1.0 uL into M14 of Corning 384 Well Plate 112 µL Flat on 5 at 7.56 uL/sec\n",
      "Dispensing 1.0 uL into M11 of Corning 384 Well Plate 112 µL Flat on 5 at 7.56 uL/sec\n",
      "Dispensing 1.0 uL into M8 of Corning 384 Well Plate 112 µL Flat on 5 at 7.56 uL/sec\n",
      "Dispensing 1.0 uL into M5 of Corning 384 Well Plate 112 µL Flat on 5 at 7.56 uL/sec\n",
      "Dispensing 1.0 uL into L14 of Corning 384 Well Plate 112 µL Flat on 5 at 7.56 uL/sec\n",
      "Dispensing 1.0 uL into L11 of Corning 384 Well Plate 112 µL Flat on 5 at 7.56 uL/sec\n",
      "Dispensing 1.0 uL into L8 of Corning 384 Well Plate 112 µL Flat on 5 at 7.56 uL/sec\n",
      "Dispensing 1.0 uL into L5 of Corning 384 Well Plate 112 µL Flat on 5 at 7.56 uL/sec\n",
      "Dispensing 1.0 uL into K14 of Corning 384 Well Plate 112 µL Flat on 5 at 7.56 uL/sec\n",
      "Dispensing 1.0 uL into K11 of Corning 384 Well Plate 112 µL Flat on 5 at 7.56 uL/sec\n",
      "Dispensing 1.0 uL into K8 of Corning 384 Well Plate 112 µL Flat on 5 at 7.56 uL/sec\n",
      "Dispensing 1.0 uL into K5 of Corning 384 Well Plate 112 µL Flat on 5 at 7.56 uL/sec\n",
      "Dispensing 1.0 uL into J14 of Corning 384 Well Plate 112 µL Flat on 5 at 7.56 uL/sec\n",
      "Dispensing 1.0 uL into J11 of Corning 384 Well Plate 112 µL Flat on 5 at 7.56 uL/sec\n",
      "Dispensing 1.0 uL into J8 of Corning 384 Well Plate 112 µL Flat on 5 at 7.56 uL/sec\n",
      "Blowing out at A1 of Opentrons Fixed Trash on 12\n",
      "Aspirating 20.0 uL from D1 of Opentrons 24 Tube Rack with Eppendorf 1.5 mL Safe-Lock Snapcap on 6 at 7.56 uL/sec\n",
      "Dispensing 1.0 uL into J5 of Corning 384 Well Plate 112 µL Flat on 5 at 7.56 uL/sec\n",
      "Dispensing 1.0 uL into I14 of Corning 384 Well Plate 112 µL Flat on 5 at 7.56 uL/sec\n",
      "Dispensing 1.0 uL into I11 of Corning 384 Well Plate 112 µL Flat on 5 at 7.56 uL/sec\n",
      "Dispensing 1.0 uL into I8 of Corning 384 Well Plate 112 µL Flat on 5 at 7.56 uL/sec\n",
      "Dispensing 1.0 uL into I5 of Corning 384 Well Plate 112 µL Flat on 5 at 7.56 uL/sec\n",
      "Dispensing 1.0 uL into H14 of Corning 384 Well Plate 112 µL Flat on 5 at 7.56 uL/sec\n",
      "Dispensing 1.0 uL into H11 of Corning 384 Well Plate 112 µL Flat on 5 at 7.56 uL/sec\n",
      "Dispensing 1.0 uL into H8 of Corning 384 Well Plate 112 µL Flat on 5 at 7.56 uL/sec\n",
      "Dispensing 1.0 uL into H5 of Corning 384 Well Plate 112 µL Flat on 5 at 7.56 uL/sec\n",
      "Dispensing 1.0 uL into G14 of Corning 384 Well Plate 112 µL Flat on 5 at 7.56 uL/sec\n",
      "Dispensing 1.0 uL into G11 of Corning 384 Well Plate 112 µL Flat on 5 at 7.56 uL/sec\n",
      "Dispensing 1.0 uL into G8 of Corning 384 Well Plate 112 µL Flat on 5 at 7.56 uL/sec\n",
      "Dispensing 1.0 uL into G5 of Corning 384 Well Plate 112 µL Flat on 5 at 7.56 uL/sec\n",
      "Dispensing 1.0 uL into F14 of Corning 384 Well Plate 112 µL Flat on 5 at 7.56 uL/sec\n",
      "Dispensing 1.0 uL into F11 of Corning 384 Well Plate 112 µL Flat on 5 at 7.56 uL/sec\n",
      "Dispensing 1.0 uL into F8 of Corning 384 Well Plate 112 µL Flat on 5 at 7.56 uL/sec\n",
      "Dispensing 1.0 uL into F5 of Corning 384 Well Plate 112 µL Flat on 5 at 7.56 uL/sec\n",
      "Dispensing 1.0 uL into E14 of Corning 384 Well Plate 112 µL Flat on 5 at 7.56 uL/sec\n",
      "Dispensing 1.0 uL into E11 of Corning 384 Well Plate 112 µL Flat on 5 at 7.56 uL/sec\n",
      "Blowing out at A1 of Opentrons Fixed Trash on 12\n",
      "Aspirating 11.0 uL from D1 of Opentrons 24 Tube Rack with Eppendorf 1.5 mL Safe-Lock Snapcap on 6 at 7.56 uL/sec\n",
      "Dispensing 1.0 uL into E8 of Corning 384 Well Plate 112 µL Flat on 5 at 7.56 uL/sec\n",
      "Dispensing 1.0 uL into E5 of Corning 384 Well Plate 112 µL Flat on 5 at 7.56 uL/sec\n",
      "Dispensing 1.0 uL into D14 of Corning 384 Well Plate 112 µL Flat on 5 at 7.56 uL/sec\n",
      "Dispensing 1.0 uL into D11 of Corning 384 Well Plate 112 µL Flat on 5 at 7.56 uL/sec\n",
      "Dispensing 1.0 uL into D8 of Corning 384 Well Plate 112 µL Flat on 5 at 7.56 uL/sec\n",
      "Dispensing 1.0 uL into D5 of Corning 384 Well Plate 112 µL Flat on 5 at 7.56 uL/sec\n",
      "Dispensing 1.0 uL into C14 of Corning 384 Well Plate 112 µL Flat on 5 at 7.56 uL/sec\n",
      "Dispensing 1.0 uL into C11 of Corning 384 Well Plate 112 µL Flat on 5 at 7.56 uL/sec\n",
      "Dispensing 1.0 uL into C8 of Corning 384 Well Plate 112 µL Flat on 5 at 7.56 uL/sec\n",
      "Dispensing 1.0 uL into C5 of Corning 384 Well Plate 112 µL Flat on 5 at 7.56 uL/sec\n",
      "Blowing out at A1 of Opentrons Fixed Trash on 12\n",
      "Distributing 1.0 from D2 of Opentrons 24 Tube Rack with Eppendorf 1.5 mL Safe-Lock Snapcap on 6 to N15 of Corning 384 Well Plate 112 µL Flat on 5\n",
      "Transferring 1.0 from D2 of Opentrons 24 Tube Rack with Eppendorf 1.5 mL Safe-Lock Snapcap on 6 to N15 of Corning 384 Well Plate 112 µL Flat on 5\n",
      "Aspirating 20.0 uL from D2 of Opentrons 24 Tube Rack with Eppendorf 1.5 mL Safe-Lock Snapcap on 6 at 7.56 uL/sec\n",
      "Dispensing 1.0 uL into N15 of Corning 384 Well Plate 112 µL Flat on 5 at 7.56 uL/sec\n",
      "Dispensing 1.0 uL into N12 of Corning 384 Well Plate 112 µL Flat on 5 at 7.56 uL/sec\n",
      "Dispensing 1.0 uL into N9 of Corning 384 Well Plate 112 µL Flat on 5 at 7.56 uL/sec\n",
      "Dispensing 1.0 uL into N6 of Corning 384 Well Plate 112 µL Flat on 5 at 7.56 uL/sec\n",
      "Dispensing 1.0 uL into M15 of Corning 384 Well Plate 112 µL Flat on 5 at 7.56 uL/sec\n",
      "Dispensing 1.0 uL into M12 of Corning 384 Well Plate 112 µL Flat on 5 at 7.56 uL/sec\n",
      "Dispensing 1.0 uL into M9 of Corning 384 Well Plate 112 µL Flat on 5 at 7.56 uL/sec\n",
      "Dispensing 1.0 uL into M6 of Corning 384 Well Plate 112 µL Flat on 5 at 7.56 uL/sec\n",
      "Dispensing 1.0 uL into L15 of Corning 384 Well Plate 112 µL Flat on 5 at 7.56 uL/sec\n",
      "Dispensing 1.0 uL into L12 of Corning 384 Well Plate 112 µL Flat on 5 at 7.56 uL/sec\n",
      "Dispensing 1.0 uL into L9 of Corning 384 Well Plate 112 µL Flat on 5 at 7.56 uL/sec\n",
      "Dispensing 1.0 uL into L6 of Corning 384 Well Plate 112 µL Flat on 5 at 7.56 uL/sec\n",
      "Dispensing 1.0 uL into K15 of Corning 384 Well Plate 112 µL Flat on 5 at 7.56 uL/sec\n",
      "Dispensing 1.0 uL into K12 of Corning 384 Well Plate 112 µL Flat on 5 at 7.56 uL/sec\n",
      "Dispensing 1.0 uL into K9 of Corning 384 Well Plate 112 µL Flat on 5 at 7.56 uL/sec\n",
      "Dispensing 1.0 uL into K6 of Corning 384 Well Plate 112 µL Flat on 5 at 7.56 uL/sec\n",
      "Dispensing 1.0 uL into J15 of Corning 384 Well Plate 112 µL Flat on 5 at 7.56 uL/sec\n",
      "Dispensing 1.0 uL into J12 of Corning 384 Well Plate 112 µL Flat on 5 at 7.56 uL/sec\n",
      "Dispensing 1.0 uL into J9 of Corning 384 Well Plate 112 µL Flat on 5 at 7.56 uL/sec\n",
      "Blowing out at A1 of Opentrons Fixed Trash on 12\n",
      "Aspirating 20.0 uL from D2 of Opentrons 24 Tube Rack with Eppendorf 1.5 mL Safe-Lock Snapcap on 6 at 7.56 uL/sec\n",
      "Dispensing 1.0 uL into J6 of Corning 384 Well Plate 112 µL Flat on 5 at 7.56 uL/sec\n",
      "Dispensing 1.0 uL into I15 of Corning 384 Well Plate 112 µL Flat on 5 at 7.56 uL/sec\n",
      "Dispensing 1.0 uL into I12 of Corning 384 Well Plate 112 µL Flat on 5 at 7.56 uL/sec\n",
      "Dispensing 1.0 uL into I9 of Corning 384 Well Plate 112 µL Flat on 5 at 7.56 uL/sec\n",
      "Dispensing 1.0 uL into I6 of Corning 384 Well Plate 112 µL Flat on 5 at 7.56 uL/sec\n",
      "Dispensing 1.0 uL into H15 of Corning 384 Well Plate 112 µL Flat on 5 at 7.56 uL/sec\n",
      "Dispensing 1.0 uL into H12 of Corning 384 Well Plate 112 µL Flat on 5 at 7.56 uL/sec\n",
      "Dispensing 1.0 uL into H9 of Corning 384 Well Plate 112 µL Flat on 5 at 7.56 uL/sec\n",
      "Dispensing 1.0 uL into H6 of Corning 384 Well Plate 112 µL Flat on 5 at 7.56 uL/sec\n",
      "Dispensing 1.0 uL into G15 of Corning 384 Well Plate 112 µL Flat on 5 at 7.56 uL/sec\n",
      "Dispensing 1.0 uL into G12 of Corning 384 Well Plate 112 µL Flat on 5 at 7.56 uL/sec\n",
      "Dispensing 1.0 uL into G9 of Corning 384 Well Plate 112 µL Flat on 5 at 7.56 uL/sec\n",
      "Dispensing 1.0 uL into G6 of Corning 384 Well Plate 112 µL Flat on 5 at 7.56 uL/sec\n",
      "Dispensing 1.0 uL into F15 of Corning 384 Well Plate 112 µL Flat on 5 at 7.56 uL/sec\n",
      "Dispensing 1.0 uL into F12 of Corning 384 Well Plate 112 µL Flat on 5 at 7.56 uL/sec\n",
      "Dispensing 1.0 uL into F9 of Corning 384 Well Plate 112 µL Flat on 5 at 7.56 uL/sec\n",
      "Dispensing 1.0 uL into F6 of Corning 384 Well Plate 112 µL Flat on 5 at 7.56 uL/sec\n",
      "Dispensing 1.0 uL into E15 of Corning 384 Well Plate 112 µL Flat on 5 at 7.56 uL/sec\n",
      "Dispensing 1.0 uL into E12 of Corning 384 Well Plate 112 µL Flat on 5 at 7.56 uL/sec\n",
      "Blowing out at A1 of Opentrons Fixed Trash on 12\n",
      "Aspirating 11.0 uL from D2 of Opentrons 24 Tube Rack with Eppendorf 1.5 mL Safe-Lock Snapcap on 6 at 7.56 uL/sec\n",
      "Dispensing 1.0 uL into E9 of Corning 384 Well Plate 112 µL Flat on 5 at 7.56 uL/sec\n",
      "Dispensing 1.0 uL into E6 of Corning 384 Well Plate 112 µL Flat on 5 at 7.56 uL/sec\n",
      "Dispensing 1.0 uL into D15 of Corning 384 Well Plate 112 µL Flat on 5 at 7.56 uL/sec\n",
      "Dispensing 1.0 uL into D12 of Corning 384 Well Plate 112 µL Flat on 5 at 7.56 uL/sec\n",
      "Dispensing 1.0 uL into D9 of Corning 384 Well Plate 112 µL Flat on 5 at 7.56 uL/sec\n",
      "Dispensing 1.0 uL into D6 of Corning 384 Well Plate 112 µL Flat on 5 at 7.56 uL/sec\n",
      "Dispensing 1.0 uL into C15 of Corning 384 Well Plate 112 µL Flat on 5 at 7.56 uL/sec\n",
      "Dispensing 1.0 uL into C12 of Corning 384 Well Plate 112 µL Flat on 5 at 7.56 uL/sec\n",
      "Dispensing 1.0 uL into C9 of Corning 384 Well Plate 112 µL Flat on 5 at 7.56 uL/sec\n",
      "Dispensing 1.0 uL into C6 of Corning 384 Well Plate 112 µL Flat on 5 at 7.56 uL/sec\n",
      "Blowing out at A1 of Opentrons Fixed Trash on 12\n"
     ]
    }
   ],
   "source": [
    "for line in protocol.commands():\n",
    "    print(line)\n",
    "protocol.clear_commands()"
   ]
  },
  {
   "cell_type": "code",
   "execution_count": 89,
   "id": "compliant-accountability",
   "metadata": {
    "jupyter": {
     "source_hidden": true
    }
   },
   "outputs": [
    {
     "data": {
      "text/plain": [
       "<InstrumentContext: p20_single_v2.2 in RIGHT>"
      ]
     },
     "execution_count": 89,
     "metadata": {},
     "output_type": "execute_result"
    }
   ],
   "source": [
    "pip.drop_tip()"
   ]
  },
  {
   "cell_type": "markdown",
   "id": "relevant-brazil",
   "metadata": {},
   "source": [
    "# Add other parameter"
   ]
  },
  {
   "cell_type": "code",
   "execution_count": 505,
   "id": "encouraging-medium",
   "metadata": {},
   "outputs": [
    {
     "name": "stdout",
     "output_type": "stream",
     "text": [
      "Pipetting 1.0 µl Normal buffer into these columns:\n"
     ]
    },
    {
     "data": {
      "image/png": "[encoded data removed]",
      "text/plain": [
       "<Figure size 432x288 with 1 Axes>"
      ]
     },
     "metadata": {
      "needs_background": "light"
     },
     "output_type": "display_data"
    },
    {
     "name": "stdout",
     "output_type": "stream",
     "text": [
      "Pipetting 1.0 µl DNA into these columns:\n"
     ]
    },
    {
     "data": {
      "image/png": "[encoded data removed]",
      "text/plain": [
       "<Figure size 432x288 with 1 Axes>"
      ]
     },
     "metadata": {
      "needs_background": "light"
     },
     "output_type": "display_data"
    },
    {
     "name": "stdout",
     "output_type": "stream",
     "text": [
      "Pipetting 1.0 µl Urea into these columns:\n"
     ]
    },
    {
     "data": {
      "image/png": "[encoded data removed]",
      "text/plain": [
       "<Figure size 432x288 with 1 Axes>"
      ]
     },
     "metadata": {
      "needs_background": "light"
     },
     "output_type": "display_data"
    },
    {
     "data": {
      "image/png": "[encoded data removed]",
      "text/plain": [
       "<Figure size 432x288 with 1 Axes>"
      ]
     },
     "metadata": {
      "needs_background": "light"
     },
     "output_type": "display_data"
    }
   ],
   "source": [
    "    if not pip.hw_pipette[\"has_tip\"]:\n",
    "        pip.pick_up_tip()\n",
    "\n",
    "    for i, fluid in enumerate(other_params.fluids):\n",
    "\n",
    "        wells_mask[:] = False\n",
    "        wells_mask[:,i::3] = True\n",
    "        print(f'Pipetting {other_params.stock.well_volume} µl {fluid.name} into these columns:')\n",
    "        draw_progress(wells_mask)\n",
    "        wells = list(np.flip(all_wells[wells_mask]))\n",
    "        pip.distribute(other_params.stock.well_volume,\n",
    "                       fluid.pos, \n",
    "                       wells, \n",
    "                       new_tip='never');\n",
    "\n",
    "        for well in wells:\n",
    "            well_dict[well][\"Other\"] = {\"v\": fluid.well_volume,\n",
    "                                  \"name\": fluid.name}\n",
    "\n",
    "\n",
    "    # add DNA in every other row\n",
    "    # for well in wells.flatten():\n",
    "    # #     print(f'Pipetting {DNA[\"vol\"]} µl into {well}')\n",
    "    #     pip.aspirate(DNA[\"vol\"],\n",
    "    #                 DNA[\"pos\"])\n",
    "    #     pip.dispense(DNA[\"vol\"],\n",
    "    #                 well)\n"
   ]
  },
  {
   "cell_type": "code",
   "execution_count": 506,
   "id": "joint-approval",
   "metadata": {},
   "outputs": [
    {
     "data": {
      "text/plain": [
       "<InstrumentContext: p20_single_v2.0 in RIGHT>"
      ]
     },
     "execution_count": 506,
     "metadata": {},
     "output_type": "execute_result"
    }
   ],
   "source": [
    "pip.drop_tip()"
   ]
  },
  {
   "cell_type": "code",
   "execution_count": 507,
   "id": "frank-credits",
   "metadata": {},
   "outputs": [
    {
     "name": "stdout",
     "output_type": "stream",
     "text": [
      "Distributing 1.0 from A1 of NEST 12 Well Reservoir 15 mL on 2 to N13 of Corning 384 Well Plate 112 µL Flat on 5\n",
      "Transferring 1.0 from A1 of NEST 12 Well Reservoir 15 mL on 2 to N13 of Corning 384 Well Plate 112 µL Flat on 5\n",
      "Aspirating 20.0 uL from A1 of NEST 12 Well Reservoir 15 mL on 2 at 7.56 uL/sec\n",
      "Dispensing 1.0 uL into N13 of Corning 384 Well Plate 112 µL Flat on 5 at 7.56 uL/sec\n",
      "Dispensing 1.0 uL into N10 of Corning 384 Well Plate 112 µL Flat on 5 at 7.56 uL/sec\n",
      "Dispensing 1.0 uL into N7 of Corning 384 Well Plate 112 µL Flat on 5 at 7.56 uL/sec\n",
      "Dispensing 1.0 uL into N4 of Corning 384 Well Plate 112 µL Flat on 5 at 7.56 uL/sec\n",
      "Dispensing 1.0 uL into M13 of Corning 384 Well Plate 112 µL Flat on 5 at 7.56 uL/sec\n",
      "Dispensing 1.0 uL into M10 of Corning 384 Well Plate 112 µL Flat on 5 at 7.56 uL/sec\n",
      "Dispensing 1.0 uL into M7 of Corning 384 Well Plate 112 µL Flat on 5 at 7.56 uL/sec\n",
      "Dispensing 1.0 uL into M4 of Corning 384 Well Plate 112 µL Flat on 5 at 7.56 uL/sec\n",
      "Dispensing 1.0 uL into L13 of Corning 384 Well Plate 112 µL Flat on 5 at 7.56 uL/sec\n",
      "Dispensing 1.0 uL into L10 of Corning 384 Well Plate 112 µL Flat on 5 at 7.56 uL/sec\n",
      "Dispensing 1.0 uL into L7 of Corning 384 Well Plate 112 µL Flat on 5 at 7.56 uL/sec\n",
      "Dispensing 1.0 uL into L4 of Corning 384 Well Plate 112 µL Flat on 5 at 7.56 uL/sec\n",
      "Dispensing 1.0 uL into K13 of Corning 384 Well Plate 112 µL Flat on 5 at 7.56 uL/sec\n",
      "Dispensing 1.0 uL into K10 of Corning 384 Well Plate 112 µL Flat on 5 at 7.56 uL/sec\n",
      "Dispensing 1.0 uL into K7 of Corning 384 Well Plate 112 µL Flat on 5 at 7.56 uL/sec\n",
      "Dispensing 1.0 uL into K4 of Corning 384 Well Plate 112 µL Flat on 5 at 7.56 uL/sec\n",
      "Dispensing 1.0 uL into J13 of Corning 384 Well Plate 112 µL Flat on 5 at 7.56 uL/sec\n",
      "Dispensing 1.0 uL into J10 of Corning 384 Well Plate 112 µL Flat on 5 at 7.56 uL/sec\n",
      "Dispensing 1.0 uL into J7 of Corning 384 Well Plate 112 µL Flat on 5 at 7.56 uL/sec\n",
      "Blowing out at A1 of Opentrons Fixed Trash on 12\n",
      "Aspirating 20.0 uL from A1 of NEST 12 Well Reservoir 15 mL on 2 at 7.56 uL/sec\n",
      "Dispensing 1.0 uL into J4 of Corning 384 Well Plate 112 µL Flat on 5 at 7.56 uL/sec\n",
      "Dispensing 1.0 uL into I13 of Corning 384 Well Plate 112 µL Flat on 5 at 7.56 uL/sec\n",
      "Dispensing 1.0 uL into I10 of Corning 384 Well Plate 112 µL Flat on 5 at 7.56 uL/sec\n",
      "Dispensing 1.0 uL into I7 of Corning 384 Well Plate 112 µL Flat on 5 at 7.56 uL/sec\n",
      "Dispensing 1.0 uL into I4 of Corning 384 Well Plate 112 µL Flat on 5 at 7.56 uL/sec\n",
      "Dispensing 1.0 uL into H13 of Corning 384 Well Plate 112 µL Flat on 5 at 7.56 uL/sec\n",
      "Dispensing 1.0 uL into H10 of Corning 384 Well Plate 112 µL Flat on 5 at 7.56 uL/sec\n",
      "Dispensing 1.0 uL into H7 of Corning 384 Well Plate 112 µL Flat on 5 at 7.56 uL/sec\n",
      "Dispensing 1.0 uL into H4 of Corning 384 Well Plate 112 µL Flat on 5 at 7.56 uL/sec\n",
      "Dispensing 1.0 uL into G13 of Corning 384 Well Plate 112 µL Flat on 5 at 7.56 uL/sec\n",
      "Dispensing 1.0 uL into G10 of Corning 384 Well Plate 112 µL Flat on 5 at 7.56 uL/sec\n",
      "Dispensing 1.0 uL into G7 of Corning 384 Well Plate 112 µL Flat on 5 at 7.56 uL/sec\n",
      "Dispensing 1.0 uL into G4 of Corning 384 Well Plate 112 µL Flat on 5 at 7.56 uL/sec\n",
      "Dispensing 1.0 uL into F13 of Corning 384 Well Plate 112 µL Flat on 5 at 7.56 uL/sec\n",
      "Dispensing 1.0 uL into F10 of Corning 384 Well Plate 112 µL Flat on 5 at 7.56 uL/sec\n",
      "Dispensing 1.0 uL into F7 of Corning 384 Well Plate 112 µL Flat on 5 at 7.56 uL/sec\n",
      "Dispensing 1.0 uL into F4 of Corning 384 Well Plate 112 µL Flat on 5 at 7.56 uL/sec\n",
      "Dispensing 1.0 uL into E13 of Corning 384 Well Plate 112 µL Flat on 5 at 7.56 uL/sec\n",
      "Dispensing 1.0 uL into E10 of Corning 384 Well Plate 112 µL Flat on 5 at 7.56 uL/sec\n",
      "Blowing out at A1 of Opentrons Fixed Trash on 12\n",
      "Aspirating 11.0 uL from A1 of NEST 12 Well Reservoir 15 mL on 2 at 7.56 uL/sec\n",
      "Dispensing 1.0 uL into E7 of Corning 384 Well Plate 112 µL Flat on 5 at 7.56 uL/sec\n",
      "Dispensing 1.0 uL into E4 of Corning 384 Well Plate 112 µL Flat on 5 at 7.56 uL/sec\n",
      "Dispensing 1.0 uL into D13 of Corning 384 Well Plate 112 µL Flat on 5 at 7.56 uL/sec\n",
      "Dispensing 1.0 uL into D10 of Corning 384 Well Plate 112 µL Flat on 5 at 7.56 uL/sec\n",
      "Dispensing 1.0 uL into D7 of Corning 384 Well Plate 112 µL Flat on 5 at 7.56 uL/sec\n",
      "Dispensing 1.0 uL into D4 of Corning 384 Well Plate 112 µL Flat on 5 at 7.56 uL/sec\n",
      "Dispensing 1.0 uL into C13 of Corning 384 Well Plate 112 µL Flat on 5 at 7.56 uL/sec\n",
      "Dispensing 1.0 uL into C10 of Corning 384 Well Plate 112 µL Flat on 5 at 7.56 uL/sec\n",
      "Dispensing 1.0 uL into C7 of Corning 384 Well Plate 112 µL Flat on 5 at 7.56 uL/sec\n",
      "Dispensing 1.0 uL into C4 of Corning 384 Well Plate 112 µL Flat on 5 at 7.56 uL/sec\n",
      "Blowing out at A1 of Opentrons Fixed Trash on 12\n",
      "Distributing 1.0 from D1 of Opentrons 24 Tube Rack with Eppendorf 1.5 mL Safe-Lock Snapcap on 6 to N14 of Corning 384 Well Plate 112 µL Flat on 5\n",
      "Transferring 1.0 from D1 of Opentrons 24 Tube Rack with Eppendorf 1.5 mL Safe-Lock Snapcap on 6 to N14 of Corning 384 Well Plate 112 µL Flat on 5\n",
      "Aspirating 20.0 uL from D1 of Opentrons 24 Tube Rack with Eppendorf 1.5 mL Safe-Lock Snapcap on 6 at 7.56 uL/sec\n",
      "Dispensing 1.0 uL into N14 of Corning 384 Well Plate 112 µL Flat on 5 at 7.56 uL/sec\n",
      "Dispensing 1.0 uL into N11 of Corning 384 Well Plate 112 µL Flat on 5 at 7.56 uL/sec\n",
      "Dispensing 1.0 uL into N8 of Corning 384 Well Plate 112 µL Flat on 5 at 7.56 uL/sec\n",
      "Dispensing 1.0 uL into N5 of Corning 384 Well Plate 112 µL Flat on 5 at 7.56 uL/sec\n",
      "Dispensing 1.0 uL into M14 of Corning 384 Well Plate 112 µL Flat on 5 at 7.56 uL/sec\n",
      "Dispensing 1.0 uL into M11 of Corning 384 Well Plate 112 µL Flat on 5 at 7.56 uL/sec\n",
      "Dispensing 1.0 uL into M8 of Corning 384 Well Plate 112 µL Flat on 5 at 7.56 uL/sec\n",
      "Dispensing 1.0 uL into M5 of Corning 384 Well Plate 112 µL Flat on 5 at 7.56 uL/sec\n",
      "Dispensing 1.0 uL into L14 of Corning 384 Well Plate 112 µL Flat on 5 at 7.56 uL/sec\n",
      "Dispensing 1.0 uL into L11 of Corning 384 Well Plate 112 µL Flat on 5 at 7.56 uL/sec\n",
      "Dispensing 1.0 uL into L8 of Corning 384 Well Plate 112 µL Flat on 5 at 7.56 uL/sec\n",
      "Dispensing 1.0 uL into L5 of Corning 384 Well Plate 112 µL Flat on 5 at 7.56 uL/sec\n",
      "Dispensing 1.0 uL into K14 of Corning 384 Well Plate 112 µL Flat on 5 at 7.56 uL/sec\n",
      "Dispensing 1.0 uL into K11 of Corning 384 Well Plate 112 µL Flat on 5 at 7.56 uL/sec\n",
      "Dispensing 1.0 uL into K8 of Corning 384 Well Plate 112 µL Flat on 5 at 7.56 uL/sec\n",
      "Dispensing 1.0 uL into K5 of Corning 384 Well Plate 112 µL Flat on 5 at 7.56 uL/sec\n",
      "Dispensing 1.0 uL into J14 of Corning 384 Well Plate 112 µL Flat on 5 at 7.56 uL/sec\n",
      "Dispensing 1.0 uL into J11 of Corning 384 Well Plate 112 µL Flat on 5 at 7.56 uL/sec\n",
      "Dispensing 1.0 uL into J8 of Corning 384 Well Plate 112 µL Flat on 5 at 7.56 uL/sec\n",
      "Blowing out at A1 of Opentrons Fixed Trash on 12\n",
      "Aspirating 20.0 uL from D1 of Opentrons 24 Tube Rack with Eppendorf 1.5 mL Safe-Lock Snapcap on 6 at 7.56 uL/sec\n",
      "Dispensing 1.0 uL into J5 of Corning 384 Well Plate 112 µL Flat on 5 at 7.56 uL/sec\n",
      "Dispensing 1.0 uL into I14 of Corning 384 Well Plate 112 µL Flat on 5 at 7.56 uL/sec\n",
      "Dispensing 1.0 uL into I11 of Corning 384 Well Plate 112 µL Flat on 5 at 7.56 uL/sec\n",
      "Dispensing 1.0 uL into I8 of Corning 384 Well Plate 112 µL Flat on 5 at 7.56 uL/sec\n",
      "Dispensing 1.0 uL into I5 of Corning 384 Well Plate 112 µL Flat on 5 at 7.56 uL/sec\n",
      "Dispensing 1.0 uL into H14 of Corning 384 Well Plate 112 µL Flat on 5 at 7.56 uL/sec\n",
      "Dispensing 1.0 uL into H11 of Corning 384 Well Plate 112 µL Flat on 5 at 7.56 uL/sec\n",
      "Dispensing 1.0 uL into H8 of Corning 384 Well Plate 112 µL Flat on 5 at 7.56 uL/sec\n",
      "Dispensing 1.0 uL into H5 of Corning 384 Well Plate 112 µL Flat on 5 at 7.56 uL/sec\n",
      "Dispensing 1.0 uL into G14 of Corning 384 Well Plate 112 µL Flat on 5 at 7.56 uL/sec\n",
      "Dispensing 1.0 uL into G11 of Corning 384 Well Plate 112 µL Flat on 5 at 7.56 uL/sec\n",
      "Dispensing 1.0 uL into G8 of Corning 384 Well Plate 112 µL Flat on 5 at 7.56 uL/sec\n",
      "Dispensing 1.0 uL into G5 of Corning 384 Well Plate 112 µL Flat on 5 at 7.56 uL/sec\n",
      "Dispensing 1.0 uL into F14 of Corning 384 Well Plate 112 µL Flat on 5 at 7.56 uL/sec\n",
      "Dispensing 1.0 uL into F11 of Corning 384 Well Plate 112 µL Flat on 5 at 7.56 uL/sec\n",
      "Dispensing 1.0 uL into F8 of Corning 384 Well Plate 112 µL Flat on 5 at 7.56 uL/sec\n",
      "Dispensing 1.0 uL into F5 of Corning 384 Well Plate 112 µL Flat on 5 at 7.56 uL/sec\n",
      "Dispensing 1.0 uL into E14 of Corning 384 Well Plate 112 µL Flat on 5 at 7.56 uL/sec\n",
      "Dispensing 1.0 uL into E11 of Corning 384 Well Plate 112 µL Flat on 5 at 7.56 uL/sec\n",
      "Blowing out at A1 of Opentrons Fixed Trash on 12\n",
      "Aspirating 11.0 uL from D1 of Opentrons 24 Tube Rack with Eppendorf 1.5 mL Safe-Lock Snapcap on 6 at 7.56 uL/sec\n",
      "Dispensing 1.0 uL into E8 of Corning 384 Well Plate 112 µL Flat on 5 at 7.56 uL/sec\n",
      "Dispensing 1.0 uL into E5 of Corning 384 Well Plate 112 µL Flat on 5 at 7.56 uL/sec\n",
      "Dispensing 1.0 uL into D14 of Corning 384 Well Plate 112 µL Flat on 5 at 7.56 uL/sec\n",
      "Dispensing 1.0 uL into D11 of Corning 384 Well Plate 112 µL Flat on 5 at 7.56 uL/sec\n",
      "Dispensing 1.0 uL into D8 of Corning 384 Well Plate 112 µL Flat on 5 at 7.56 uL/sec\n",
      "Dispensing 1.0 uL into D5 of Corning 384 Well Plate 112 µL Flat on 5 at 7.56 uL/sec\n",
      "Dispensing 1.0 uL into C14 of Corning 384 Well Plate 112 µL Flat on 5 at 7.56 uL/sec\n",
      "Dispensing 1.0 uL into C11 of Corning 384 Well Plate 112 µL Flat on 5 at 7.56 uL/sec\n",
      "Dispensing 1.0 uL into C8 of Corning 384 Well Plate 112 µL Flat on 5 at 7.56 uL/sec\n",
      "Dispensing 1.0 uL into C5 of Corning 384 Well Plate 112 µL Flat on 5 at 7.56 uL/sec\n",
      "Blowing out at A1 of Opentrons Fixed Trash on 12\n",
      "Distributing 1.0 from D2 of Opentrons 24 Tube Rack with Eppendorf 1.5 mL Safe-Lock Snapcap on 6 to N15 of Corning 384 Well Plate 112 µL Flat on 5\n",
      "Transferring 1.0 from D2 of Opentrons 24 Tube Rack with Eppendorf 1.5 mL Safe-Lock Snapcap on 6 to N15 of Corning 384 Well Plate 112 µL Flat on 5\n",
      "Aspirating 20.0 uL from D2 of Opentrons 24 Tube Rack with Eppendorf 1.5 mL Safe-Lock Snapcap on 6 at 7.56 uL/sec\n",
      "Dispensing 1.0 uL into N15 of Corning 384 Well Plate 112 µL Flat on 5 at 7.56 uL/sec\n",
      "Dispensing 1.0 uL into N12 of Corning 384 Well Plate 112 µL Flat on 5 at 7.56 uL/sec\n",
      "Dispensing 1.0 uL into N9 of Corning 384 Well Plate 112 µL Flat on 5 at 7.56 uL/sec\n",
      "Dispensing 1.0 uL into N6 of Corning 384 Well Plate 112 µL Flat on 5 at 7.56 uL/sec\n",
      "Dispensing 1.0 uL into M15 of Corning 384 Well Plate 112 µL Flat on 5 at 7.56 uL/sec\n",
      "Dispensing 1.0 uL into M12 of Corning 384 Well Plate 112 µL Flat on 5 at 7.56 uL/sec\n",
      "Dispensing 1.0 uL into M9 of Corning 384 Well Plate 112 µL Flat on 5 at 7.56 uL/sec\n",
      "Dispensing 1.0 uL into M6 of Corning 384 Well Plate 112 µL Flat on 5 at 7.56 uL/sec\n",
      "Dispensing 1.0 uL into L15 of Corning 384 Well Plate 112 µL Flat on 5 at 7.56 uL/sec\n",
      "Dispensing 1.0 uL into L12 of Corning 384 Well Plate 112 µL Flat on 5 at 7.56 uL/sec\n",
      "Dispensing 1.0 uL into L9 of Corning 384 Well Plate 112 µL Flat on 5 at 7.56 uL/sec\n",
      "Dispensing 1.0 uL into L6 of Corning 384 Well Plate 112 µL Flat on 5 at 7.56 uL/sec\n",
      "Dispensing 1.0 uL into K15 of Corning 384 Well Plate 112 µL Flat on 5 at 7.56 uL/sec\n",
      "Dispensing 1.0 uL into K12 of Corning 384 Well Plate 112 µL Flat on 5 at 7.56 uL/sec\n",
      "Dispensing 1.0 uL into K9 of Corning 384 Well Plate 112 µL Flat on 5 at 7.56 uL/sec\n",
      "Dispensing 1.0 uL into K6 of Corning 384 Well Plate 112 µL Flat on 5 at 7.56 uL/sec\n",
      "Dispensing 1.0 uL into J15 of Corning 384 Well Plate 112 µL Flat on 5 at 7.56 uL/sec\n",
      "Dispensing 1.0 uL into J12 of Corning 384 Well Plate 112 µL Flat on 5 at 7.56 uL/sec\n",
      "Dispensing 1.0 uL into J9 of Corning 384 Well Plate 112 µL Flat on 5 at 7.56 uL/sec\n",
      "Blowing out at A1 of Opentrons Fixed Trash on 12\n",
      "Aspirating 20.0 uL from D2 of Opentrons 24 Tube Rack with Eppendorf 1.5 mL Safe-Lock Snapcap on 6 at 7.56 uL/sec\n",
      "Dispensing 1.0 uL into J6 of Corning 384 Well Plate 112 µL Flat on 5 at 7.56 uL/sec\n",
      "Dispensing 1.0 uL into I15 of Corning 384 Well Plate 112 µL Flat on 5 at 7.56 uL/sec\n",
      "Dispensing 1.0 uL into I12 of Corning 384 Well Plate 112 µL Flat on 5 at 7.56 uL/sec\n",
      "Dispensing 1.0 uL into I9 of Corning 384 Well Plate 112 µL Flat on 5 at 7.56 uL/sec\n",
      "Dispensing 1.0 uL into I6 of Corning 384 Well Plate 112 µL Flat on 5 at 7.56 uL/sec\n",
      "Dispensing 1.0 uL into H15 of Corning 384 Well Plate 112 µL Flat on 5 at 7.56 uL/sec\n",
      "Dispensing 1.0 uL into H12 of Corning 384 Well Plate 112 µL Flat on 5 at 7.56 uL/sec\n",
      "Dispensing 1.0 uL into H9 of Corning 384 Well Plate 112 µL Flat on 5 at 7.56 uL/sec\n",
      "Dispensing 1.0 uL into H6 of Corning 384 Well Plate 112 µL Flat on 5 at 7.56 uL/sec\n",
      "Dispensing 1.0 uL into G15 of Corning 384 Well Plate 112 µL Flat on 5 at 7.56 uL/sec\n",
      "Dispensing 1.0 uL into G12 of Corning 384 Well Plate 112 µL Flat on 5 at 7.56 uL/sec\n",
      "Dispensing 1.0 uL into G9 of Corning 384 Well Plate 112 µL Flat on 5 at 7.56 uL/sec\n",
      "Dispensing 1.0 uL into G6 of Corning 384 Well Plate 112 µL Flat on 5 at 7.56 uL/sec\n",
      "Dispensing 1.0 uL into F15 of Corning 384 Well Plate 112 µL Flat on 5 at 7.56 uL/sec\n",
      "Dispensing 1.0 uL into F12 of Corning 384 Well Plate 112 µL Flat on 5 at 7.56 uL/sec\n",
      "Dispensing 1.0 uL into F9 of Corning 384 Well Plate 112 µL Flat on 5 at 7.56 uL/sec\n",
      "Dispensing 1.0 uL into F6 of Corning 384 Well Plate 112 µL Flat on 5 at 7.56 uL/sec\n",
      "Dispensing 1.0 uL into E15 of Corning 384 Well Plate 112 µL Flat on 5 at 7.56 uL/sec\n",
      "Dispensing 1.0 uL into E12 of Corning 384 Well Plate 112 µL Flat on 5 at 7.56 uL/sec\n",
      "Blowing out at A1 of Opentrons Fixed Trash on 12\n",
      "Aspirating 11.0 uL from D2 of Opentrons 24 Tube Rack with Eppendorf 1.5 mL Safe-Lock Snapcap on 6 at 7.56 uL/sec\n",
      "Dispensing 1.0 uL into E9 of Corning 384 Well Plate 112 µL Flat on 5 at 7.56 uL/sec\n",
      "Dispensing 1.0 uL into E6 of Corning 384 Well Plate 112 µL Flat on 5 at 7.56 uL/sec\n",
      "Dispensing 1.0 uL into D15 of Corning 384 Well Plate 112 µL Flat on 5 at 7.56 uL/sec\n",
      "Dispensing 1.0 uL into D12 of Corning 384 Well Plate 112 µL Flat on 5 at 7.56 uL/sec\n",
      "Dispensing 1.0 uL into D9 of Corning 384 Well Plate 112 µL Flat on 5 at 7.56 uL/sec\n",
      "Dispensing 1.0 uL into D6 of Corning 384 Well Plate 112 µL Flat on 5 at 7.56 uL/sec\n",
      "Dispensing 1.0 uL into C15 of Corning 384 Well Plate 112 µL Flat on 5 at 7.56 uL/sec\n",
      "Dispensing 1.0 uL into C12 of Corning 384 Well Plate 112 µL Flat on 5 at 7.56 uL/sec\n",
      "Dispensing 1.0 uL into C9 of Corning 384 Well Plate 112 µL Flat on 5 at 7.56 uL/sec\n",
      "Dispensing 1.0 uL into C6 of Corning 384 Well Plate 112 µL Flat on 5 at 7.56 uL/sec\n",
      "Blowing out at A1 of Opentrons Fixed Trash on 12\n",
      "Dropping tip into A1 of Opentrons Fixed Trash on 12\n"
     ]
    }
   ],
   "source": [
    "for line in protocol.commands():\n",
    "    print(line)\n",
    "protocol.clear_commands()"
   ]
  },
  {
   "cell_type": "markdown",
   "id": "dedicated-ratio",
   "metadata": {},
   "source": [
    "# Protein\n",
    "\n",
    "# Consider final protein volume"
   ]
  },
  {
   "cell_type": "markdown",
   "id": "continent-album",
   "metadata": {},
   "source": [
    "## Dilution"
   ]
  },
  {
   "cell_type": "code",
   "execution_count": 508,
   "id": "unusual-overall",
   "metadata": {},
   "outputs": [
    {
     "name": "stdout",
     "output_type": "stream",
     "text": [
      "Transfering 38.0 µl of Salt buffer c1 to A2 of Opentrons 24 Tube Rack with Eppendorf 1.5 mL Safe-Lock Snapcap on 6 to get Protein c2\n",
      "Transfering 114.0 µl of Salt buffer c1 to A3 of Opentrons 24 Tube Rack with Eppendorf 1.5 mL Safe-Lock Snapcap on 6 to get Protein c3\n",
      "Transfering 152.0 µl of stock to A2 of Opentrons 24 Tube Rack with Eppendorf 1.5 mL Safe-Lock Snapcap on 6 to get Protein c2\n",
      "Transfering 76.0 µl of stock to A3 of Opentrons 24 Tube Rack with Eppendorf 1.5 mL Safe-Lock Snapcap on 6 to get Protein c3\n"
     ]
    }
   ],
   "source": [
    "if not pip300.hw_pipette[\"has_tip\"]:\n",
    "    pip300.pick_up_tip()\n",
    "    \n",
    "    \n",
    "# Transfer buffer\n",
    "for p in protein.fluids:\n",
    "    if (p.name == protein.stock.name) | (p.v == 0):\n",
    "        continue\n",
    "    \n",
    "    v = volume_per_pc-p.v\n",
    "\n",
    "        \n",
    "    print(f'Transfering {v} µl of {salt_buffers.fluids[0].name} to {p.pos} to get {p.name}')\n",
    "\n",
    "    pip300.aspirate(v,\n",
    "                   salt_buffers.fluids[0].pos)\n",
    "    pip300.dispense(v,\n",
    "                    p.pos)\n",
    "    \n",
    "pip300.flow_rate.aspirate = 5\n",
    "pip300.flow_rate.dispense = 5    \n",
    "\n",
    "for p in protein.fluids:\n",
    "    if (p.name == protein.stock.name) | (p.v == 0):\n",
    "        continue\n",
    "    print(f'Transfering {p.v} µl of stock to {p.pos} to get {p.name}')\n",
    "    \n",
    "    pip300.aspirate(p.v,\n",
    "                   protein.stock.pos)\n",
    "    pip300.dispense(p.v,\n",
    "                    p.pos)\n",
    "    \n",
    "    pip300.mix(5,p.v)\n",
    "    \n",
    "\n",
    "\n",
    "# for i_p,p in enumerate([protein[\"middle\"], protein[\"low\"]]):\n",
    "#     print(f'Pipetting {vols[i_p]} µl from p_stock to {p}')\n",
    "#     pip300.transfer(1000-vols[i_p], \n",
    "#                  normal_buffer[\"pos\"],\n",
    "#                 p[\"pos\"],\n",
    "#                 new_tip=\"never\")\n",
    "\n",
    "# for i_p,p in enumerate([protein[\"middle\"], protein[\"low\"]]):\n",
    "#     print(f'Pipetting {vols[i_p]} µl from p_stock to {p}')\n",
    "#     pip300.transfer(vols[i_p], \n",
    "#                     p_stock[\"pos\"],\n",
    "#                     p[\"pos\"],\n",
    "#                     new_tip=\"never\",\n",
    "#                     mix_after = (3,200))"
   ]
  },
  {
   "cell_type": "code",
   "execution_count": 104,
   "id": "afraid-bahrain",
   "metadata": {},
   "outputs": [],
   "source": [
    "protocol.home()"
   ]
  },
  {
   "cell_type": "code",
   "execution_count": 101,
   "id": "blind-civilian",
   "metadata": {},
   "outputs": [
    {
     "data": {
      "text/plain": [
       "<InstrumentContext: p300_single_v2.1 in LEFT>"
      ]
     },
     "execution_count": 101,
     "metadata": {},
     "output_type": "execute_result"
    }
   ],
   "source": [
    "pip300.drop_tip()"
   ]
  },
  {
   "cell_type": "code",
   "execution_count": 102,
   "id": "acknowledged-washington",
   "metadata": {},
   "outputs": [
    {
     "data": {
      "text/plain": [
       "A2 of NEST 12 Well Reservoir 15 mL on 2"
      ]
     },
     "execution_count": 102,
     "metadata": {},
     "output_type": "execute_result"
    }
   ],
   "source": []
  },
  {
   "cell_type": "markdown",
   "id": "above-imperial",
   "metadata": {},
   "source": [
    "## Final transfer:\n",
    "\n",
    "# REDUCE MAX VOL DUE TO DROP AT SIDE OF TIP"
   ]
  },
  {
   "cell_type": "code",
   "execution_count": 518,
   "id": "formal-shower",
   "metadata": {},
   "outputs": [
    {
     "name": "stdout",
     "output_type": "stream",
     "text": [
      "Pipetting 5.0 µl into this block:\n"
     ]
    },
    {
     "data": {
      "image/png": "[encoded data removed]",
      "text/plain": [
       "<Figure size 432x288 with 1 Axes>"
      ]
     },
     "metadata": {
      "needs_background": "light"
     },
     "output_type": "display_data"
    },
    {
     "name": "stdout",
     "output_type": "stream",
     "text": [
      "Pipetting 5.0 µl into this block:\n"
     ]
    },
    {
     "data": {
      "image/png": "[encoded data removed]",
      "text/plain": [
       "<Figure size 432x288 with 1 Axes>"
      ]
     },
     "metadata": {
      "needs_background": "light"
     },
     "output_type": "display_data"
    },
    {
     "name": "stdout",
     "output_type": "stream",
     "text": [
      "Pipetting 5.0 µl into this block:\n"
     ]
    },
    {
     "data": {
      "image/png": "[encoded data removed]",
      "text/plain": [
       "<Figure size 432x288 with 1 Axes>"
      ]
     },
     "metadata": {
      "needs_background": "light"
     },
     "output_type": "display_data"
    },
    {
     "name": "stdout",
     "output_type": "stream",
     "text": [
      "Pipetting 5.0 µl into this block:\n"
     ]
    },
    {
     "data": {
      "image/png": "[encoded data removed]",
      "text/plain": [
       "<Figure size 432x288 with 1 Axes>"
      ]
     },
     "metadata": {
      "needs_background": "light"
     },
     "output_type": "display_data"
    },
    {
     "data": {
      "image/png": "[encoded data removed]",
      "text/plain": [
       "<Figure size 432x288 with 1 Axes>"
      ]
     },
     "metadata": {
      "needs_background": "light"
     },
     "output_type": "display_data"
    }
   ],
   "source": [
    "pip.flow_rate.aspirate = 3\n",
    "pip.flow_rate.dispense = 3\n",
    "\n",
    "\n",
    "for i, p in enumerate(protein.fluids):\n",
    "    \n",
    "    from_column = i * len(other_params.fluids)\n",
    "    to_column = from_column + len(other_params.fluids)\n",
    "    to_row = len(salt_buffers.fluids) * len(acids.fluids)\n",
    "\n",
    "    print(f'Pipetting {p.well_volume} µl into this block:')\n",
    "    wells_mask[:] = False\n",
    "    wells_mask[0:to_row,from_column:to_column] = True\n",
    "    draw_progress(wells_mask)\n",
    "    \n",
    "\n",
    "    wells = all_wells[wells_mask]    \n",
    "#     print(wells_mask)\n",
    "    \n",
    "#     print(wells.reshape(-1,2).flatten(order='F'))\n",
    "    \n",
    "    if not pip.hw_pipette[\"has_tip\"]:\n",
    "        pip.pick_up_tip()\n",
    "\n",
    "    if p.well_volume > 0:\n",
    "        for well in wells.flatten():\n",
    "            if not pip.hw_pipette[\"has_tip\"]:\n",
    "                pip.pick_up_tip()\n",
    "            \n",
    "#             well_dict[well][\"protein\"] = {\"v\": p.well_volume,\n",
    "#                                      \"name\": p.name\n",
    "#                                            }\n",
    "            \n",
    "            pip.aspirate(p.well_volume,\n",
    "                        p.pos)\n",
    "            \n",
    "            pip.dispense(p.well_volume,\n",
    "                        well)\n",
    "#             pip.mix(3, p.well_volume*2)\n",
    "            pip.drop_tip()"
   ]
  },
  {
   "cell_type": "code",
   "execution_count": 519,
   "id": "classical-deployment",
   "metadata": {},
   "outputs": [
    {
     "name": "stdout",
     "output_type": "stream",
     "text": [
      "Picking up tip from A1 of Opentrons 96 Filter Tip Rack 20 µL on 8\n",
      "Aspirating 5.0 uL from A1 of Opentrons 24 Tube Rack with Eppendorf 1.5 mL Safe-Lock Snapcap on 6 at 3.0 uL/sec\n",
      "Dispensing 5.0 uL into C4 of Corning 384 Well Plate 112 µL Flat on 5 at 3.0 uL/sec\n",
      "Dropping tip into A1 of Opentrons Fixed Trash on 12\n",
      "Picking up tip from B1 of Opentrons 96 Filter Tip Rack 20 µL on 8\n",
      "Aspirating 5.0 uL from A1 of Opentrons 24 Tube Rack with Eppendorf 1.5 mL Safe-Lock Snapcap on 6 at 3.0 uL/sec\n",
      "Dispensing 5.0 uL into C5 of Corning 384 Well Plate 112 µL Flat on 5 at 3.0 uL/sec\n",
      "Dropping tip into A1 of Opentrons Fixed Trash on 12\n",
      "Picking up tip from C1 of Opentrons 96 Filter Tip Rack 20 µL on 8\n",
      "Aspirating 5.0 uL from A1 of Opentrons 24 Tube Rack with Eppendorf 1.5 mL Safe-Lock Snapcap on 6 at 3.0 uL/sec\n",
      "Dispensing 5.0 uL into C6 of Corning 384 Well Plate 112 µL Flat on 5 at 3.0 uL/sec\n",
      "Dropping tip into A1 of Opentrons Fixed Trash on 12\n",
      "Picking up tip from D1 of Opentrons 96 Filter Tip Rack 20 µL on 8\n",
      "Aspirating 5.0 uL from A1 of Opentrons 24 Tube Rack with Eppendorf 1.5 mL Safe-Lock Snapcap on 6 at 3.0 uL/sec\n",
      "Dispensing 5.0 uL into D4 of Corning 384 Well Plate 112 µL Flat on 5 at 3.0 uL/sec\n",
      "Dropping tip into A1 of Opentrons Fixed Trash on 12\n",
      "Picking up tip from E1 of Opentrons 96 Filter Tip Rack 20 µL on 8\n",
      "Aspirating 5.0 uL from A1 of Opentrons 24 Tube Rack with Eppendorf 1.5 mL Safe-Lock Snapcap on 6 at 3.0 uL/sec\n",
      "Dispensing 5.0 uL into D5 of Corning 384 Well Plate 112 µL Flat on 5 at 3.0 uL/sec\n",
      "Dropping tip into A1 of Opentrons Fixed Trash on 12\n",
      "Picking up tip from F1 of Opentrons 96 Filter Tip Rack 20 µL on 8\n",
      "Aspirating 5.0 uL from A1 of Opentrons 24 Tube Rack with Eppendorf 1.5 mL Safe-Lock Snapcap on 6 at 3.0 uL/sec\n",
      "Dispensing 5.0 uL into D6 of Corning 384 Well Plate 112 µL Flat on 5 at 3.0 uL/sec\n",
      "Dropping tip into A1 of Opentrons Fixed Trash on 12\n",
      "Picking up tip from G1 of Opentrons 96 Filter Tip Rack 20 µL on 8\n",
      "Aspirating 5.0 uL from A1 of Opentrons 24 Tube Rack with Eppendorf 1.5 mL Safe-Lock Snapcap on 6 at 3.0 uL/sec\n",
      "Dispensing 5.0 uL into E4 of Corning 384 Well Plate 112 µL Flat on 5 at 3.0 uL/sec\n",
      "Dropping tip into A1 of Opentrons Fixed Trash on 12\n",
      "Picking up tip from H1 of Opentrons 96 Filter Tip Rack 20 µL on 8\n",
      "Aspirating 5.0 uL from A1 of Opentrons 24 Tube Rack with Eppendorf 1.5 mL Safe-Lock Snapcap on 6 at 3.0 uL/sec\n",
      "Dispensing 5.0 uL into E5 of Corning 384 Well Plate 112 µL Flat on 5 at 3.0 uL/sec\n",
      "Dropping tip into A1 of Opentrons Fixed Trash on 12\n",
      "Picking up tip from A2 of Opentrons 96 Filter Tip Rack 20 µL on 8\n",
      "Aspirating 5.0 uL from A1 of Opentrons 24 Tube Rack with Eppendorf 1.5 mL Safe-Lock Snapcap on 6 at 3.0 uL/sec\n",
      "Dispensing 5.0 uL into E6 of Corning 384 Well Plate 112 µL Flat on 5 at 3.0 uL/sec\n",
      "Dropping tip into A1 of Opentrons Fixed Trash on 12\n",
      "Picking up tip from B2 of Opentrons 96 Filter Tip Rack 20 µL on 8\n",
      "Aspirating 5.0 uL from A1 of Opentrons 24 Tube Rack with Eppendorf 1.5 mL Safe-Lock Snapcap on 6 at 3.0 uL/sec\n",
      "Dispensing 5.0 uL into F4 of Corning 384 Well Plate 112 µL Flat on 5 at 3.0 uL/sec\n",
      "Dropping tip into A1 of Opentrons Fixed Trash on 12\n",
      "Picking up tip from C2 of Opentrons 96 Filter Tip Rack 20 µL on 8\n",
      "Aspirating 5.0 uL from A1 of Opentrons 24 Tube Rack with Eppendorf 1.5 mL Safe-Lock Snapcap on 6 at 3.0 uL/sec\n",
      "Dispensing 5.0 uL into F5 of Corning 384 Well Plate 112 µL Flat on 5 at 3.0 uL/sec\n",
      "Dropping tip into A1 of Opentrons Fixed Trash on 12\n",
      "Picking up tip from D2 of Opentrons 96 Filter Tip Rack 20 µL on 8\n",
      "Aspirating 5.0 uL from A1 of Opentrons 24 Tube Rack with Eppendorf 1.5 mL Safe-Lock Snapcap on 6 at 3.0 uL/sec\n",
      "Dispensing 5.0 uL into F6 of Corning 384 Well Plate 112 µL Flat on 5 at 3.0 uL/sec\n",
      "Dropping tip into A1 of Opentrons Fixed Trash on 12\n",
      "Picking up tip from E2 of Opentrons 96 Filter Tip Rack 20 µL on 8\n",
      "Aspirating 5.0 uL from A1 of Opentrons 24 Tube Rack with Eppendorf 1.5 mL Safe-Lock Snapcap on 6 at 3.0 uL/sec\n",
      "Dispensing 5.0 uL into G4 of Corning 384 Well Plate 112 µL Flat on 5 at 3.0 uL/sec\n",
      "Dropping tip into A1 of Opentrons Fixed Trash on 12\n",
      "Picking up tip from F2 of Opentrons 96 Filter Tip Rack 20 µL on 8\n",
      "Aspirating 5.0 uL from A1 of Opentrons 24 Tube Rack with Eppendorf 1.5 mL Safe-Lock Snapcap on 6 at 3.0 uL/sec\n",
      "Dispensing 5.0 uL into G5 of Corning 384 Well Plate 112 µL Flat on 5 at 3.0 uL/sec\n",
      "Dropping tip into A1 of Opentrons Fixed Trash on 12\n",
      "Picking up tip from G2 of Opentrons 96 Filter Tip Rack 20 µL on 8\n",
      "Aspirating 5.0 uL from A1 of Opentrons 24 Tube Rack with Eppendorf 1.5 mL Safe-Lock Snapcap on 6 at 3.0 uL/sec\n",
      "Dispensing 5.0 uL into G6 of Corning 384 Well Plate 112 µL Flat on 5 at 3.0 uL/sec\n",
      "Dropping tip into A1 of Opentrons Fixed Trash on 12\n",
      "Picking up tip from H2 of Opentrons 96 Filter Tip Rack 20 µL on 8\n",
      "Aspirating 5.0 uL from A1 of Opentrons 24 Tube Rack with Eppendorf 1.5 mL Safe-Lock Snapcap on 6 at 3.0 uL/sec\n",
      "Dispensing 5.0 uL into H4 of Corning 384 Well Plate 112 µL Flat on 5 at 3.0 uL/sec\n",
      "Dropping tip into A1 of Opentrons Fixed Trash on 12\n",
      "Picking up tip from A3 of Opentrons 96 Filter Tip Rack 20 µL on 8\n",
      "Aspirating 5.0 uL from A1 of Opentrons 24 Tube Rack with Eppendorf 1.5 mL Safe-Lock Snapcap on 6 at 3.0 uL/sec\n",
      "Dispensing 5.0 uL into H5 of Corning 384 Well Plate 112 µL Flat on 5 at 3.0 uL/sec\n",
      "Dropping tip into A1 of Opentrons Fixed Trash on 12\n",
      "Picking up tip from B3 of Opentrons 96 Filter Tip Rack 20 µL on 8\n",
      "Aspirating 5.0 uL from A1 of Opentrons 24 Tube Rack with Eppendorf 1.5 mL Safe-Lock Snapcap on 6 at 3.0 uL/sec\n",
      "Dispensing 5.0 uL into H6 of Corning 384 Well Plate 112 µL Flat on 5 at 3.0 uL/sec\n",
      "Dropping tip into A1 of Opentrons Fixed Trash on 12\n",
      "Picking up tip from C3 of Opentrons 96 Filter Tip Rack 20 µL on 8\n",
      "Aspirating 5.0 uL from A1 of Opentrons 24 Tube Rack with Eppendorf 1.5 mL Safe-Lock Snapcap on 6 at 3.0 uL/sec\n",
      "Dispensing 5.0 uL into I4 of Corning 384 Well Plate 112 µL Flat on 5 at 3.0 uL/sec\n",
      "Dropping tip into A1 of Opentrons Fixed Trash on 12\n",
      "Picking up tip from D3 of Opentrons 96 Filter Tip Rack 20 µL on 8\n",
      "Aspirating 5.0 uL from A1 of Opentrons 24 Tube Rack with Eppendorf 1.5 mL Safe-Lock Snapcap on 6 at 3.0 uL/sec\n",
      "Dispensing 5.0 uL into I5 of Corning 384 Well Plate 112 µL Flat on 5 at 3.0 uL/sec\n",
      "Dropping tip into A1 of Opentrons Fixed Trash on 12\n",
      "Picking up tip from E3 of Opentrons 96 Filter Tip Rack 20 µL on 8\n",
      "Aspirating 5.0 uL from A1 of Opentrons 24 Tube Rack with Eppendorf 1.5 mL Safe-Lock Snapcap on 6 at 3.0 uL/sec\n",
      "Dispensing 5.0 uL into I6 of Corning 384 Well Plate 112 µL Flat on 5 at 3.0 uL/sec\n",
      "Dropping tip into A1 of Opentrons Fixed Trash on 12\n",
      "Picking up tip from F3 of Opentrons 96 Filter Tip Rack 20 µL on 8\n",
      "Aspirating 5.0 uL from A1 of Opentrons 24 Tube Rack with Eppendorf 1.5 mL Safe-Lock Snapcap on 6 at 3.0 uL/sec\n",
      "Dispensing 5.0 uL into J4 of Corning 384 Well Plate 112 µL Flat on 5 at 3.0 uL/sec\n",
      "Dropping tip into A1 of Opentrons Fixed Trash on 12\n",
      "Picking up tip from G3 of Opentrons 96 Filter Tip Rack 20 µL on 8\n",
      "Aspirating 5.0 uL from A1 of Opentrons 24 Tube Rack with Eppendorf 1.5 mL Safe-Lock Snapcap on 6 at 3.0 uL/sec\n",
      "Dispensing 5.0 uL into J5 of Corning 384 Well Plate 112 µL Flat on 5 at 3.0 uL/sec\n",
      "Dropping tip into A1 of Opentrons Fixed Trash on 12\n",
      "Picking up tip from H3 of Opentrons 96 Filter Tip Rack 20 µL on 8\n",
      "Aspirating 5.0 uL from A1 of Opentrons 24 Tube Rack with Eppendorf 1.5 mL Safe-Lock Snapcap on 6 at 3.0 uL/sec\n",
      "Dispensing 5.0 uL into J6 of Corning 384 Well Plate 112 µL Flat on 5 at 3.0 uL/sec\n",
      "Dropping tip into A1 of Opentrons Fixed Trash on 12\n",
      "Picking up tip from A4 of Opentrons 96 Filter Tip Rack 20 µL on 8\n",
      "Aspirating 5.0 uL from A1 of Opentrons 24 Tube Rack with Eppendorf 1.5 mL Safe-Lock Snapcap on 6 at 3.0 uL/sec\n",
      "Dispensing 5.0 uL into K4 of Corning 384 Well Plate 112 µL Flat on 5 at 3.0 uL/sec\n",
      "Dropping tip into A1 of Opentrons Fixed Trash on 12\n",
      "Picking up tip from B4 of Opentrons 96 Filter Tip Rack 20 µL on 8\n",
      "Aspirating 5.0 uL from A1 of Opentrons 24 Tube Rack with Eppendorf 1.5 mL Safe-Lock Snapcap on 6 at 3.0 uL/sec\n",
      "Dispensing 5.0 uL into K5 of Corning 384 Well Plate 112 µL Flat on 5 at 3.0 uL/sec\n",
      "Dropping tip into A1 of Opentrons Fixed Trash on 12\n",
      "Picking up tip from C4 of Opentrons 96 Filter Tip Rack 20 µL on 8\n",
      "Aspirating 5.0 uL from A1 of Opentrons 24 Tube Rack with Eppendorf 1.5 mL Safe-Lock Snapcap on 6 at 3.0 uL/sec\n",
      "Dispensing 5.0 uL into K6 of Corning 384 Well Plate 112 µL Flat on 5 at 3.0 uL/sec\n",
      "Dropping tip into A1 of Opentrons Fixed Trash on 12\n",
      "Picking up tip from D4 of Opentrons 96 Filter Tip Rack 20 µL on 8\n",
      "Aspirating 5.0 uL from A1 of Opentrons 24 Tube Rack with Eppendorf 1.5 mL Safe-Lock Snapcap on 6 at 3.0 uL/sec\n",
      "Dispensing 5.0 uL into L4 of Corning 384 Well Plate 112 µL Flat on 5 at 3.0 uL/sec\n",
      "Dropping tip into A1 of Opentrons Fixed Trash on 12\n",
      "Picking up tip from E4 of Opentrons 96 Filter Tip Rack 20 µL on 8\n",
      "Aspirating 5.0 uL from A1 of Opentrons 24 Tube Rack with Eppendorf 1.5 mL Safe-Lock Snapcap on 6 at 3.0 uL/sec\n",
      "Dispensing 5.0 uL into L5 of Corning 384 Well Plate 112 µL Flat on 5 at 3.0 uL/sec\n",
      "Dropping tip into A1 of Opentrons Fixed Trash on 12\n",
      "Picking up tip from F4 of Opentrons 96 Filter Tip Rack 20 µL on 8\n",
      "Aspirating 5.0 uL from A1 of Opentrons 24 Tube Rack with Eppendorf 1.5 mL Safe-Lock Snapcap on 6 at 3.0 uL/sec\n",
      "Dispensing 5.0 uL into L6 of Corning 384 Well Plate 112 µL Flat on 5 at 3.0 uL/sec\n",
      "Dropping tip into A1 of Opentrons Fixed Trash on 12\n",
      "Picking up tip from G4 of Opentrons 96 Filter Tip Rack 20 µL on 8\n",
      "Aspirating 5.0 uL from A1 of Opentrons 24 Tube Rack with Eppendorf 1.5 mL Safe-Lock Snapcap on 6 at 3.0 uL/sec\n",
      "Dispensing 5.0 uL into M4 of Corning 384 Well Plate 112 µL Flat on 5 at 3.0 uL/sec\n",
      "Dropping tip into A1 of Opentrons Fixed Trash on 12\n",
      "Picking up tip from H4 of Opentrons 96 Filter Tip Rack 20 µL on 8\n",
      "Aspirating 5.0 uL from A1 of Opentrons 24 Tube Rack with Eppendorf 1.5 mL Safe-Lock Snapcap on 6 at 3.0 uL/sec\n",
      "Dispensing 5.0 uL into M5 of Corning 384 Well Plate 112 µL Flat on 5 at 3.0 uL/sec\n",
      "Dropping tip into A1 of Opentrons Fixed Trash on 12\n",
      "Picking up tip from A5 of Opentrons 96 Filter Tip Rack 20 µL on 8\n",
      "Aspirating 5.0 uL from A1 of Opentrons 24 Tube Rack with Eppendorf 1.5 mL Safe-Lock Snapcap on 6 at 3.0 uL/sec\n",
      "Dispensing 5.0 uL into M6 of Corning 384 Well Plate 112 µL Flat on 5 at 3.0 uL/sec\n",
      "Dropping tip into A1 of Opentrons Fixed Trash on 12\n",
      "Picking up tip from B5 of Opentrons 96 Filter Tip Rack 20 µL on 8\n",
      "Aspirating 5.0 uL from A1 of Opentrons 24 Tube Rack with Eppendorf 1.5 mL Safe-Lock Snapcap on 6 at 3.0 uL/sec\n",
      "Dispensing 5.0 uL into N4 of Corning 384 Well Plate 112 µL Flat on 5 at 3.0 uL/sec\n",
      "Dropping tip into A1 of Opentrons Fixed Trash on 12\n",
      "Picking up tip from C5 of Opentrons 96 Filter Tip Rack 20 µL on 8\n",
      "Aspirating 5.0 uL from A1 of Opentrons 24 Tube Rack with Eppendorf 1.5 mL Safe-Lock Snapcap on 6 at 3.0 uL/sec\n",
      "Dispensing 5.0 uL into N5 of Corning 384 Well Plate 112 µL Flat on 5 at 3.0 uL/sec\n",
      "Dropping tip into A1 of Opentrons Fixed Trash on 12\n",
      "Picking up tip from D5 of Opentrons 96 Filter Tip Rack 20 µL on 8\n",
      "Aspirating 5.0 uL from A1 of Opentrons 24 Tube Rack with Eppendorf 1.5 mL Safe-Lock Snapcap on 6 at 3.0 uL/sec\n",
      "Dispensing 5.0 uL into N6 of Corning 384 Well Plate 112 µL Flat on 5 at 3.0 uL/sec\n",
      "Dropping tip into A1 of Opentrons Fixed Trash on 12\n",
      "Picking up tip from E5 of Opentrons 96 Filter Tip Rack 20 µL on 8\n",
      "Aspirating 5.0 uL from A2 of Opentrons 24 Tube Rack with Eppendorf 1.5 mL Safe-Lock Snapcap on 6 at 3.0 uL/sec\n",
      "Dispensing 5.0 uL into C7 of Corning 384 Well Plate 112 µL Flat on 5 at 3.0 uL/sec\n",
      "Dropping tip into A1 of Opentrons Fixed Trash on 12\n",
      "Picking up tip from F5 of Opentrons 96 Filter Tip Rack 20 µL on 8\n",
      "Aspirating 5.0 uL from A2 of Opentrons 24 Tube Rack with Eppendorf 1.5 mL Safe-Lock Snapcap on 6 at 3.0 uL/sec\n",
      "Dispensing 5.0 uL into C8 of Corning 384 Well Plate 112 µL Flat on 5 at 3.0 uL/sec\n",
      "Dropping tip into A1 of Opentrons Fixed Trash on 12\n",
      "Picking up tip from G5 of Opentrons 96 Filter Tip Rack 20 µL on 8\n",
      "Aspirating 5.0 uL from A2 of Opentrons 24 Tube Rack with Eppendorf 1.5 mL Safe-Lock Snapcap on 6 at 3.0 uL/sec\n",
      "Dispensing 5.0 uL into C9 of Corning 384 Well Plate 112 µL Flat on 5 at 3.0 uL/sec\n",
      "Dropping tip into A1 of Opentrons Fixed Trash on 12\n",
      "Picking up tip from H5 of Opentrons 96 Filter Tip Rack 20 µL on 8\n",
      "Aspirating 5.0 uL from A2 of Opentrons 24 Tube Rack with Eppendorf 1.5 mL Safe-Lock Snapcap on 6 at 3.0 uL/sec\n",
      "Dispensing 5.0 uL into D7 of Corning 384 Well Plate 112 µL Flat on 5 at 3.0 uL/sec\n",
      "Dropping tip into A1 of Opentrons Fixed Trash on 12\n",
      "Picking up tip from A6 of Opentrons 96 Filter Tip Rack 20 µL on 8\n",
      "Aspirating 5.0 uL from A2 of Opentrons 24 Tube Rack with Eppendorf 1.5 mL Safe-Lock Snapcap on 6 at 3.0 uL/sec\n",
      "Dispensing 5.0 uL into D8 of Corning 384 Well Plate 112 µL Flat on 5 at 3.0 uL/sec\n",
      "Dropping tip into A1 of Opentrons Fixed Trash on 12\n",
      "Picking up tip from B6 of Opentrons 96 Filter Tip Rack 20 µL on 8\n",
      "Aspirating 5.0 uL from A2 of Opentrons 24 Tube Rack with Eppendorf 1.5 mL Safe-Lock Snapcap on 6 at 3.0 uL/sec\n",
      "Dispensing 5.0 uL into D9 of Corning 384 Well Plate 112 µL Flat on 5 at 3.0 uL/sec\n",
      "Dropping tip into A1 of Opentrons Fixed Trash on 12\n",
      "Picking up tip from C6 of Opentrons 96 Filter Tip Rack 20 µL on 8\n",
      "Aspirating 5.0 uL from A2 of Opentrons 24 Tube Rack with Eppendorf 1.5 mL Safe-Lock Snapcap on 6 at 3.0 uL/sec\n",
      "Dispensing 5.0 uL into E7 of Corning 384 Well Plate 112 µL Flat on 5 at 3.0 uL/sec\n",
      "Dropping tip into A1 of Opentrons Fixed Trash on 12\n",
      "Picking up tip from D6 of Opentrons 96 Filter Tip Rack 20 µL on 8\n",
      "Aspirating 5.0 uL from A2 of Opentrons 24 Tube Rack with Eppendorf 1.5 mL Safe-Lock Snapcap on 6 at 3.0 uL/sec\n",
      "Dispensing 5.0 uL into E8 of Corning 384 Well Plate 112 µL Flat on 5 at 3.0 uL/sec\n",
      "Dropping tip into A1 of Opentrons Fixed Trash on 12\n",
      "Picking up tip from E6 of Opentrons 96 Filter Tip Rack 20 µL on 8\n",
      "Aspirating 5.0 uL from A2 of Opentrons 24 Tube Rack with Eppendorf 1.5 mL Safe-Lock Snapcap on 6 at 3.0 uL/sec\n",
      "Dispensing 5.0 uL into E9 of Corning 384 Well Plate 112 µL Flat on 5 at 3.0 uL/sec\n",
      "Dropping tip into A1 of Opentrons Fixed Trash on 12\n",
      "Picking up tip from F6 of Opentrons 96 Filter Tip Rack 20 µL on 8\n",
      "Aspirating 5.0 uL from A2 of Opentrons 24 Tube Rack with Eppendorf 1.5 mL Safe-Lock Snapcap on 6 at 3.0 uL/sec\n",
      "Dispensing 5.0 uL into F7 of Corning 384 Well Plate 112 µL Flat on 5 at 3.0 uL/sec\n",
      "Dropping tip into A1 of Opentrons Fixed Trash on 12\n",
      "Picking up tip from G6 of Opentrons 96 Filter Tip Rack 20 µL on 8\n",
      "Aspirating 5.0 uL from A2 of Opentrons 24 Tube Rack with Eppendorf 1.5 mL Safe-Lock Snapcap on 6 at 3.0 uL/sec\n",
      "Dispensing 5.0 uL into F8 of Corning 384 Well Plate 112 µL Flat on 5 at 3.0 uL/sec\n",
      "Dropping tip into A1 of Opentrons Fixed Trash on 12\n",
      "Picking up tip from H6 of Opentrons 96 Filter Tip Rack 20 µL on 8\n",
      "Aspirating 5.0 uL from A2 of Opentrons 24 Tube Rack with Eppendorf 1.5 mL Safe-Lock Snapcap on 6 at 3.0 uL/sec\n",
      "Dispensing 5.0 uL into F9 of Corning 384 Well Plate 112 µL Flat on 5 at 3.0 uL/sec\n",
      "Dropping tip into A1 of Opentrons Fixed Trash on 12\n",
      "Picking up tip from A7 of Opentrons 96 Filter Tip Rack 20 µL on 8\n",
      "Aspirating 5.0 uL from A2 of Opentrons 24 Tube Rack with Eppendorf 1.5 mL Safe-Lock Snapcap on 6 at 3.0 uL/sec\n",
      "Dispensing 5.0 uL into G7 of Corning 384 Well Plate 112 µL Flat on 5 at 3.0 uL/sec\n",
      "Dropping tip into A1 of Opentrons Fixed Trash on 12\n",
      "Picking up tip from B7 of Opentrons 96 Filter Tip Rack 20 µL on 8\n",
      "Aspirating 5.0 uL from A2 of Opentrons 24 Tube Rack with Eppendorf 1.5 mL Safe-Lock Snapcap on 6 at 3.0 uL/sec\n",
      "Dispensing 5.0 uL into G8 of Corning 384 Well Plate 112 µL Flat on 5 at 3.0 uL/sec\n",
      "Dropping tip into A1 of Opentrons Fixed Trash on 12\n",
      "Picking up tip from C7 of Opentrons 96 Filter Tip Rack 20 µL on 8\n",
      "Aspirating 5.0 uL from A2 of Opentrons 24 Tube Rack with Eppendorf 1.5 mL Safe-Lock Snapcap on 6 at 3.0 uL/sec\n",
      "Dispensing 5.0 uL into G9 of Corning 384 Well Plate 112 µL Flat on 5 at 3.0 uL/sec\n",
      "Dropping tip into A1 of Opentrons Fixed Trash on 12\n",
      "Picking up tip from D7 of Opentrons 96 Filter Tip Rack 20 µL on 8\n",
      "Aspirating 5.0 uL from A2 of Opentrons 24 Tube Rack with Eppendorf 1.5 mL Safe-Lock Snapcap on 6 at 3.0 uL/sec\n",
      "Dispensing 5.0 uL into H7 of Corning 384 Well Plate 112 µL Flat on 5 at 3.0 uL/sec\n",
      "Dropping tip into A1 of Opentrons Fixed Trash on 12\n",
      "Picking up tip from E7 of Opentrons 96 Filter Tip Rack 20 µL on 8\n",
      "Aspirating 5.0 uL from A2 of Opentrons 24 Tube Rack with Eppendorf 1.5 mL Safe-Lock Snapcap on 6 at 3.0 uL/sec\n",
      "Dispensing 5.0 uL into H8 of Corning 384 Well Plate 112 µL Flat on 5 at 3.0 uL/sec\n",
      "Dropping tip into A1 of Opentrons Fixed Trash on 12\n",
      "Picking up tip from F7 of Opentrons 96 Filter Tip Rack 20 µL on 8\n",
      "Aspirating 5.0 uL from A2 of Opentrons 24 Tube Rack with Eppendorf 1.5 mL Safe-Lock Snapcap on 6 at 3.0 uL/sec\n",
      "Dispensing 5.0 uL into H9 of Corning 384 Well Plate 112 µL Flat on 5 at 3.0 uL/sec\n",
      "Dropping tip into A1 of Opentrons Fixed Trash on 12\n",
      "Picking up tip from G7 of Opentrons 96 Filter Tip Rack 20 µL on 8\n",
      "Aspirating 5.0 uL from A2 of Opentrons 24 Tube Rack with Eppendorf 1.5 mL Safe-Lock Snapcap on 6 at 3.0 uL/sec\n",
      "Dispensing 5.0 uL into I7 of Corning 384 Well Plate 112 µL Flat on 5 at 3.0 uL/sec\n",
      "Dropping tip into A1 of Opentrons Fixed Trash on 12\n",
      "Picking up tip from H7 of Opentrons 96 Filter Tip Rack 20 µL on 8\n",
      "Aspirating 5.0 uL from A2 of Opentrons 24 Tube Rack with Eppendorf 1.5 mL Safe-Lock Snapcap on 6 at 3.0 uL/sec\n",
      "Dispensing 5.0 uL into I8 of Corning 384 Well Plate 112 µL Flat on 5 at 3.0 uL/sec\n",
      "Dropping tip into A1 of Opentrons Fixed Trash on 12\n",
      "Picking up tip from A8 of Opentrons 96 Filter Tip Rack 20 µL on 8\n",
      "Aspirating 5.0 uL from A2 of Opentrons 24 Tube Rack with Eppendorf 1.5 mL Safe-Lock Snapcap on 6 at 3.0 uL/sec\n",
      "Dispensing 5.0 uL into I9 of Corning 384 Well Plate 112 µL Flat on 5 at 3.0 uL/sec\n",
      "Dropping tip into A1 of Opentrons Fixed Trash on 12\n",
      "Picking up tip from B8 of Opentrons 96 Filter Tip Rack 20 µL on 8\n",
      "Aspirating 5.0 uL from A2 of Opentrons 24 Tube Rack with Eppendorf 1.5 mL Safe-Lock Snapcap on 6 at 3.0 uL/sec\n",
      "Dispensing 5.0 uL into J7 of Corning 384 Well Plate 112 µL Flat on 5 at 3.0 uL/sec\n",
      "Dropping tip into A1 of Opentrons Fixed Trash on 12\n",
      "Picking up tip from C8 of Opentrons 96 Filter Tip Rack 20 µL on 8\n",
      "Aspirating 5.0 uL from A2 of Opentrons 24 Tube Rack with Eppendorf 1.5 mL Safe-Lock Snapcap on 6 at 3.0 uL/sec\n",
      "Dispensing 5.0 uL into J8 of Corning 384 Well Plate 112 µL Flat on 5 at 3.0 uL/sec\n",
      "Dropping tip into A1 of Opentrons Fixed Trash on 12\n",
      "Picking up tip from D8 of Opentrons 96 Filter Tip Rack 20 µL on 8\n",
      "Aspirating 5.0 uL from A2 of Opentrons 24 Tube Rack with Eppendorf 1.5 mL Safe-Lock Snapcap on 6 at 3.0 uL/sec\n",
      "Dispensing 5.0 uL into J9 of Corning 384 Well Plate 112 µL Flat on 5 at 3.0 uL/sec\n",
      "Dropping tip into A1 of Opentrons Fixed Trash on 12\n",
      "Picking up tip from E8 of Opentrons 96 Filter Tip Rack 20 µL on 8\n",
      "Aspirating 5.0 uL from A2 of Opentrons 24 Tube Rack with Eppendorf 1.5 mL Safe-Lock Snapcap on 6 at 3.0 uL/sec\n",
      "Dispensing 5.0 uL into K7 of Corning 384 Well Plate 112 µL Flat on 5 at 3.0 uL/sec\n",
      "Dropping tip into A1 of Opentrons Fixed Trash on 12\n",
      "Picking up tip from F8 of Opentrons 96 Filter Tip Rack 20 µL on 8\n",
      "Aspirating 5.0 uL from A2 of Opentrons 24 Tube Rack with Eppendorf 1.5 mL Safe-Lock Snapcap on 6 at 3.0 uL/sec\n",
      "Dispensing 5.0 uL into K8 of Corning 384 Well Plate 112 µL Flat on 5 at 3.0 uL/sec\n",
      "Dropping tip into A1 of Opentrons Fixed Trash on 12\n",
      "Picking up tip from G8 of Opentrons 96 Filter Tip Rack 20 µL on 8\n",
      "Aspirating 5.0 uL from A2 of Opentrons 24 Tube Rack with Eppendorf 1.5 mL Safe-Lock Snapcap on 6 at 3.0 uL/sec\n",
      "Dispensing 5.0 uL into K9 of Corning 384 Well Plate 112 µL Flat on 5 at 3.0 uL/sec\n",
      "Dropping tip into A1 of Opentrons Fixed Trash on 12\n",
      "Picking up tip from H8 of Opentrons 96 Filter Tip Rack 20 µL on 8\n",
      "Aspirating 5.0 uL from A2 of Opentrons 24 Tube Rack with Eppendorf 1.5 mL Safe-Lock Snapcap on 6 at 3.0 uL/sec\n",
      "Dispensing 5.0 uL into L7 of Corning 384 Well Plate 112 µL Flat on 5 at 3.0 uL/sec\n",
      "Dropping tip into A1 of Opentrons Fixed Trash on 12\n",
      "Picking up tip from A9 of Opentrons 96 Filter Tip Rack 20 µL on 8\n",
      "Aspirating 5.0 uL from A2 of Opentrons 24 Tube Rack with Eppendorf 1.5 mL Safe-Lock Snapcap on 6 at 3.0 uL/sec\n",
      "Dispensing 5.0 uL into L8 of Corning 384 Well Plate 112 µL Flat on 5 at 3.0 uL/sec\n",
      "Dropping tip into A1 of Opentrons Fixed Trash on 12\n",
      "Picking up tip from B9 of Opentrons 96 Filter Tip Rack 20 µL on 8\n",
      "Aspirating 5.0 uL from A2 of Opentrons 24 Tube Rack with Eppendorf 1.5 mL Safe-Lock Snapcap on 6 at 3.0 uL/sec\n",
      "Dispensing 5.0 uL into L9 of Corning 384 Well Plate 112 µL Flat on 5 at 3.0 uL/sec\n",
      "Dropping tip into A1 of Opentrons Fixed Trash on 12\n",
      "Picking up tip from C9 of Opentrons 96 Filter Tip Rack 20 µL on 8\n",
      "Aspirating 5.0 uL from A2 of Opentrons 24 Tube Rack with Eppendorf 1.5 mL Safe-Lock Snapcap on 6 at 3.0 uL/sec\n",
      "Dispensing 5.0 uL into M7 of Corning 384 Well Plate 112 µL Flat on 5 at 3.0 uL/sec\n",
      "Dropping tip into A1 of Opentrons Fixed Trash on 12\n",
      "Picking up tip from D9 of Opentrons 96 Filter Tip Rack 20 µL on 8\n",
      "Aspirating 5.0 uL from A2 of Opentrons 24 Tube Rack with Eppendorf 1.5 mL Safe-Lock Snapcap on 6 at 3.0 uL/sec\n",
      "Dispensing 5.0 uL into M8 of Corning 384 Well Plate 112 µL Flat on 5 at 3.0 uL/sec\n",
      "Dropping tip into A1 of Opentrons Fixed Trash on 12\n",
      "Picking up tip from E9 of Opentrons 96 Filter Tip Rack 20 µL on 8\n",
      "Aspirating 5.0 uL from A2 of Opentrons 24 Tube Rack with Eppendorf 1.5 mL Safe-Lock Snapcap on 6 at 3.0 uL/sec\n",
      "Dispensing 5.0 uL into M9 of Corning 384 Well Plate 112 µL Flat on 5 at 3.0 uL/sec\n",
      "Dropping tip into A1 of Opentrons Fixed Trash on 12\n",
      "Picking up tip from F9 of Opentrons 96 Filter Tip Rack 20 µL on 8\n",
      "Aspirating 5.0 uL from A2 of Opentrons 24 Tube Rack with Eppendorf 1.5 mL Safe-Lock Snapcap on 6 at 3.0 uL/sec\n",
      "Dispensing 5.0 uL into N7 of Corning 384 Well Plate 112 µL Flat on 5 at 3.0 uL/sec\n",
      "Dropping tip into A1 of Opentrons Fixed Trash on 12\n",
      "Picking up tip from G9 of Opentrons 96 Filter Tip Rack 20 µL on 8\n",
      "Aspirating 5.0 uL from A2 of Opentrons 24 Tube Rack with Eppendorf 1.5 mL Safe-Lock Snapcap on 6 at 3.0 uL/sec\n",
      "Dispensing 5.0 uL into N8 of Corning 384 Well Plate 112 µL Flat on 5 at 3.0 uL/sec\n",
      "Dropping tip into A1 of Opentrons Fixed Trash on 12\n",
      "Picking up tip from H9 of Opentrons 96 Filter Tip Rack 20 µL on 8\n",
      "Aspirating 5.0 uL from A2 of Opentrons 24 Tube Rack with Eppendorf 1.5 mL Safe-Lock Snapcap on 6 at 3.0 uL/sec\n",
      "Dispensing 5.0 uL into N9 of Corning 384 Well Plate 112 µL Flat on 5 at 3.0 uL/sec\n",
      "Dropping tip into A1 of Opentrons Fixed Trash on 12\n",
      "Picking up tip from A10 of Opentrons 96 Filter Tip Rack 20 µL on 8\n",
      "Aspirating 5.0 uL from A3 of Opentrons 24 Tube Rack with Eppendorf 1.5 mL Safe-Lock Snapcap on 6 at 3.0 uL/sec\n",
      "Dispensing 5.0 uL into C10 of Corning 384 Well Plate 112 µL Flat on 5 at 3.0 uL/sec\n",
      "Dropping tip into A1 of Opentrons Fixed Trash on 12\n",
      "Picking up tip from B10 of Opentrons 96 Filter Tip Rack 20 µL on 8\n",
      "Aspirating 5.0 uL from A3 of Opentrons 24 Tube Rack with Eppendorf 1.5 mL Safe-Lock Snapcap on 6 at 3.0 uL/sec\n",
      "Dispensing 5.0 uL into C11 of Corning 384 Well Plate 112 µL Flat on 5 at 3.0 uL/sec\n",
      "Dropping tip into A1 of Opentrons Fixed Trash on 12\n",
      "Picking up tip from C10 of Opentrons 96 Filter Tip Rack 20 µL on 8\n",
      "Aspirating 5.0 uL from A3 of Opentrons 24 Tube Rack with Eppendorf 1.5 mL Safe-Lock Snapcap on 6 at 3.0 uL/sec\n",
      "Dispensing 5.0 uL into C12 of Corning 384 Well Plate 112 µL Flat on 5 at 3.0 uL/sec\n",
      "Dropping tip into A1 of Opentrons Fixed Trash on 12\n",
      "Picking up tip from D10 of Opentrons 96 Filter Tip Rack 20 µL on 8\n",
      "Aspirating 5.0 uL from A3 of Opentrons 24 Tube Rack with Eppendorf 1.5 mL Safe-Lock Snapcap on 6 at 3.0 uL/sec\n",
      "Dispensing 5.0 uL into D10 of Corning 384 Well Plate 112 µL Flat on 5 at 3.0 uL/sec\n",
      "Dropping tip into A1 of Opentrons Fixed Trash on 12\n",
      "Picking up tip from E10 of Opentrons 96 Filter Tip Rack 20 µL on 8\n",
      "Aspirating 5.0 uL from A3 of Opentrons 24 Tube Rack with Eppendorf 1.5 mL Safe-Lock Snapcap on 6 at 3.0 uL/sec\n",
      "Dispensing 5.0 uL into D11 of Corning 384 Well Plate 112 µL Flat on 5 at 3.0 uL/sec\n",
      "Dropping tip into A1 of Opentrons Fixed Trash on 12\n",
      "Picking up tip from F10 of Opentrons 96 Filter Tip Rack 20 µL on 8\n",
      "Aspirating 5.0 uL from A3 of Opentrons 24 Tube Rack with Eppendorf 1.5 mL Safe-Lock Snapcap on 6 at 3.0 uL/sec\n",
      "Dispensing 5.0 uL into D12 of Corning 384 Well Plate 112 µL Flat on 5 at 3.0 uL/sec\n",
      "Dropping tip into A1 of Opentrons Fixed Trash on 12\n",
      "Picking up tip from G10 of Opentrons 96 Filter Tip Rack 20 µL on 8\n",
      "Aspirating 5.0 uL from A3 of Opentrons 24 Tube Rack with Eppendorf 1.5 mL Safe-Lock Snapcap on 6 at 3.0 uL/sec\n",
      "Dispensing 5.0 uL into E10 of Corning 384 Well Plate 112 µL Flat on 5 at 3.0 uL/sec\n",
      "Dropping tip into A1 of Opentrons Fixed Trash on 12\n",
      "Picking up tip from H10 of Opentrons 96 Filter Tip Rack 20 µL on 8\n",
      "Aspirating 5.0 uL from A3 of Opentrons 24 Tube Rack with Eppendorf 1.5 mL Safe-Lock Snapcap on 6 at 3.0 uL/sec\n",
      "Dispensing 5.0 uL into E11 of Corning 384 Well Plate 112 µL Flat on 5 at 3.0 uL/sec\n",
      "Dropping tip into A1 of Opentrons Fixed Trash on 12\n",
      "Picking up tip from A11 of Opentrons 96 Filter Tip Rack 20 µL on 8\n",
      "Aspirating 5.0 uL from A3 of Opentrons 24 Tube Rack with Eppendorf 1.5 mL Safe-Lock Snapcap on 6 at 3.0 uL/sec\n",
      "Dispensing 5.0 uL into E12 of Corning 384 Well Plate 112 µL Flat on 5 at 3.0 uL/sec\n",
      "Dropping tip into A1 of Opentrons Fixed Trash on 12\n",
      "Picking up tip from B11 of Opentrons 96 Filter Tip Rack 20 µL on 8\n",
      "Aspirating 5.0 uL from A3 of Opentrons 24 Tube Rack with Eppendorf 1.5 mL Safe-Lock Snapcap on 6 at 3.0 uL/sec\n",
      "Dispensing 5.0 uL into F10 of Corning 384 Well Plate 112 µL Flat on 5 at 3.0 uL/sec\n",
      "Dropping tip into A1 of Opentrons Fixed Trash on 12\n",
      "Picking up tip from C11 of Opentrons 96 Filter Tip Rack 20 µL on 8\n",
      "Aspirating 5.0 uL from A3 of Opentrons 24 Tube Rack with Eppendorf 1.5 mL Safe-Lock Snapcap on 6 at 3.0 uL/sec\n",
      "Dispensing 5.0 uL into F11 of Corning 384 Well Plate 112 µL Flat on 5 at 3.0 uL/sec\n",
      "Dropping tip into A1 of Opentrons Fixed Trash on 12\n",
      "Picking up tip from D11 of Opentrons 96 Filter Tip Rack 20 µL on 8\n",
      "Aspirating 5.0 uL from A3 of Opentrons 24 Tube Rack with Eppendorf 1.5 mL Safe-Lock Snapcap on 6 at 3.0 uL/sec\n",
      "Dispensing 5.0 uL into F12 of Corning 384 Well Plate 112 µL Flat on 5 at 3.0 uL/sec\n",
      "Dropping tip into A1 of Opentrons Fixed Trash on 12\n",
      "Picking up tip from E11 of Opentrons 96 Filter Tip Rack 20 µL on 8\n",
      "Aspirating 5.0 uL from A3 of Opentrons 24 Tube Rack with Eppendorf 1.5 mL Safe-Lock Snapcap on 6 at 3.0 uL/sec\n",
      "Dispensing 5.0 uL into G10 of Corning 384 Well Plate 112 µL Flat on 5 at 3.0 uL/sec\n",
      "Dropping tip into A1 of Opentrons Fixed Trash on 12\n",
      "Picking up tip from F11 of Opentrons 96 Filter Tip Rack 20 µL on 8\n",
      "Aspirating 5.0 uL from A3 of Opentrons 24 Tube Rack with Eppendorf 1.5 mL Safe-Lock Snapcap on 6 at 3.0 uL/sec\n",
      "Dispensing 5.0 uL into G11 of Corning 384 Well Plate 112 µL Flat on 5 at 3.0 uL/sec\n",
      "Dropping tip into A1 of Opentrons Fixed Trash on 12\n",
      "Picking up tip from G11 of Opentrons 96 Filter Tip Rack 20 µL on 8\n",
      "Aspirating 5.0 uL from A3 of Opentrons 24 Tube Rack with Eppendorf 1.5 mL Safe-Lock Snapcap on 6 at 3.0 uL/sec\n",
      "Dispensing 5.0 uL into G12 of Corning 384 Well Plate 112 µL Flat on 5 at 3.0 uL/sec\n",
      "Dropping tip into A1 of Opentrons Fixed Trash on 12\n",
      "Picking up tip from H11 of Opentrons 96 Filter Tip Rack 20 µL on 8\n",
      "Aspirating 5.0 uL from A3 of Opentrons 24 Tube Rack with Eppendorf 1.5 mL Safe-Lock Snapcap on 6 at 3.0 uL/sec\n",
      "Dispensing 5.0 uL into H10 of Corning 384 Well Plate 112 µL Flat on 5 at 3.0 uL/sec\n",
      "Dropping tip into A1 of Opentrons Fixed Trash on 12\n",
      "Picking up tip from A12 of Opentrons 96 Filter Tip Rack 20 µL on 8\n",
      "Aspirating 5.0 uL from A3 of Opentrons 24 Tube Rack with Eppendorf 1.5 mL Safe-Lock Snapcap on 6 at 3.0 uL/sec\n",
      "Dispensing 5.0 uL into H11 of Corning 384 Well Plate 112 µL Flat on 5 at 3.0 uL/sec\n",
      "Dropping tip into A1 of Opentrons Fixed Trash on 12\n",
      "Picking up tip from B12 of Opentrons 96 Filter Tip Rack 20 µL on 8\n",
      "Aspirating 5.0 uL from A3 of Opentrons 24 Tube Rack with Eppendorf 1.5 mL Safe-Lock Snapcap on 6 at 3.0 uL/sec\n",
      "Dispensing 5.0 uL into H12 of Corning 384 Well Plate 112 µL Flat on 5 at 3.0 uL/sec\n",
      "Dropping tip into A1 of Opentrons Fixed Trash on 12\n",
      "Picking up tip from C12 of Opentrons 96 Filter Tip Rack 20 µL on 8\n",
      "Aspirating 5.0 uL from A3 of Opentrons 24 Tube Rack with Eppendorf 1.5 mL Safe-Lock Snapcap on 6 at 3.0 uL/sec\n",
      "Dispensing 5.0 uL into I10 of Corning 384 Well Plate 112 µL Flat on 5 at 3.0 uL/sec\n",
      "Dropping tip into A1 of Opentrons Fixed Trash on 12\n",
      "Picking up tip from D12 of Opentrons 96 Filter Tip Rack 20 µL on 8\n",
      "Aspirating 5.0 uL from A3 of Opentrons 24 Tube Rack with Eppendorf 1.5 mL Safe-Lock Snapcap on 6 at 3.0 uL/sec\n",
      "Dispensing 5.0 uL into I11 of Corning 384 Well Plate 112 µL Flat on 5 at 3.0 uL/sec\n",
      "Dropping tip into A1 of Opentrons Fixed Trash on 12\n",
      "Picking up tip from E12 of Opentrons 96 Filter Tip Rack 20 µL on 8\n",
      "Aspirating 5.0 uL from A3 of Opentrons 24 Tube Rack with Eppendorf 1.5 mL Safe-Lock Snapcap on 6 at 3.0 uL/sec\n",
      "Dispensing 5.0 uL into I12 of Corning 384 Well Plate 112 µL Flat on 5 at 3.0 uL/sec\n",
      "Dropping tip into A1 of Opentrons Fixed Trash on 12\n",
      "Picking up tip from F12 of Opentrons 96 Filter Tip Rack 20 µL on 8\n",
      "Aspirating 5.0 uL from A3 of Opentrons 24 Tube Rack with Eppendorf 1.5 mL Safe-Lock Snapcap on 6 at 3.0 uL/sec\n",
      "Dispensing 5.0 uL into J10 of Corning 384 Well Plate 112 µL Flat on 5 at 3.0 uL/sec\n",
      "Dropping tip into A1 of Opentrons Fixed Trash on 12\n",
      "Picking up tip from G12 of Opentrons 96 Filter Tip Rack 20 µL on 8\n",
      "Aspirating 5.0 uL from A3 of Opentrons 24 Tube Rack with Eppendorf 1.5 mL Safe-Lock Snapcap on 6 at 3.0 uL/sec\n",
      "Dispensing 5.0 uL into J11 of Corning 384 Well Plate 112 µL Flat on 5 at 3.0 uL/sec\n",
      "Dropping tip into A1 of Opentrons Fixed Trash on 12\n",
      "Picking up tip from H12 of Opentrons 96 Filter Tip Rack 20 µL on 8\n",
      "Aspirating 5.0 uL from A3 of Opentrons 24 Tube Rack with Eppendorf 1.5 mL Safe-Lock Snapcap on 6 at 3.0 uL/sec\n",
      "Dispensing 5.0 uL into J12 of Corning 384 Well Plate 112 µL Flat on 5 at 3.0 uL/sec\n",
      "Dropping tip into A1 of Opentrons Fixed Trash on 12\n",
      "Picking up tip from A1 of Opentrons 96 Filter Tip Rack 20 µL on 9\n",
      "Aspirating 5.0 uL from A3 of Opentrons 24 Tube Rack with Eppendorf 1.5 mL Safe-Lock Snapcap on 6 at 3.0 uL/sec\n",
      "Dispensing 5.0 uL into K10 of Corning 384 Well Plate 112 µL Flat on 5 at 3.0 uL/sec\n",
      "Dropping tip into A1 of Opentrons Fixed Trash on 12\n",
      "Picking up tip from B1 of Opentrons 96 Filter Tip Rack 20 µL on 9\n",
      "Aspirating 5.0 uL from A3 of Opentrons 24 Tube Rack with Eppendorf 1.5 mL Safe-Lock Snapcap on 6 at 3.0 uL/sec\n",
      "Dispensing 5.0 uL into K11 of Corning 384 Well Plate 112 µL Flat on 5 at 3.0 uL/sec\n",
      "Dropping tip into A1 of Opentrons Fixed Trash on 12\n",
      "Picking up tip from C1 of Opentrons 96 Filter Tip Rack 20 µL on 9\n",
      "Aspirating 5.0 uL from A3 of Opentrons 24 Tube Rack with Eppendorf 1.5 mL Safe-Lock Snapcap on 6 at 3.0 uL/sec\n",
      "Dispensing 5.0 uL into K12 of Corning 384 Well Plate 112 µL Flat on 5 at 3.0 uL/sec\n",
      "Dropping tip into A1 of Opentrons Fixed Trash on 12\n",
      "Picking up tip from D1 of Opentrons 96 Filter Tip Rack 20 µL on 9\n",
      "Aspirating 5.0 uL from A3 of Opentrons 24 Tube Rack with Eppendorf 1.5 mL Safe-Lock Snapcap on 6 at 3.0 uL/sec\n",
      "Dispensing 5.0 uL into L10 of Corning 384 Well Plate 112 µL Flat on 5 at 3.0 uL/sec\n",
      "Dropping tip into A1 of Opentrons Fixed Trash on 12\n",
      "Picking up tip from E1 of Opentrons 96 Filter Tip Rack 20 µL on 9\n",
      "Aspirating 5.0 uL from A3 of Opentrons 24 Tube Rack with Eppendorf 1.5 mL Safe-Lock Snapcap on 6 at 3.0 uL/sec\n",
      "Dispensing 5.0 uL into L11 of Corning 384 Well Plate 112 µL Flat on 5 at 3.0 uL/sec\n",
      "Dropping tip into A1 of Opentrons Fixed Trash on 12\n",
      "Picking up tip from F1 of Opentrons 96 Filter Tip Rack 20 µL on 9\n",
      "Aspirating 5.0 uL from A3 of Opentrons 24 Tube Rack with Eppendorf 1.5 mL Safe-Lock Snapcap on 6 at 3.0 uL/sec\n",
      "Dispensing 5.0 uL into L12 of Corning 384 Well Plate 112 µL Flat on 5 at 3.0 uL/sec\n",
      "Dropping tip into A1 of Opentrons Fixed Trash on 12\n",
      "Picking up tip from G1 of Opentrons 96 Filter Tip Rack 20 µL on 9\n",
      "Aspirating 5.0 uL from A3 of Opentrons 24 Tube Rack with Eppendorf 1.5 mL Safe-Lock Snapcap on 6 at 3.0 uL/sec\n",
      "Dispensing 5.0 uL into M10 of Corning 384 Well Plate 112 µL Flat on 5 at 3.0 uL/sec\n",
      "Dropping tip into A1 of Opentrons Fixed Trash on 12\n",
      "Picking up tip from H1 of Opentrons 96 Filter Tip Rack 20 µL on 9\n",
      "Aspirating 5.0 uL from A3 of Opentrons 24 Tube Rack with Eppendorf 1.5 mL Safe-Lock Snapcap on 6 at 3.0 uL/sec\n",
      "Dispensing 5.0 uL into M11 of Corning 384 Well Plate 112 µL Flat on 5 at 3.0 uL/sec\n",
      "Dropping tip into A1 of Opentrons Fixed Trash on 12\n",
      "Picking up tip from A2 of Opentrons 96 Filter Tip Rack 20 µL on 9\n",
      "Aspirating 5.0 uL from A3 of Opentrons 24 Tube Rack with Eppendorf 1.5 mL Safe-Lock Snapcap on 6 at 3.0 uL/sec\n",
      "Dispensing 5.0 uL into M12 of Corning 384 Well Plate 112 µL Flat on 5 at 3.0 uL/sec\n",
      "Dropping tip into A1 of Opentrons Fixed Trash on 12\n",
      "Picking up tip from B2 of Opentrons 96 Filter Tip Rack 20 µL on 9\n",
      "Aspirating 5.0 uL from A3 of Opentrons 24 Tube Rack with Eppendorf 1.5 mL Safe-Lock Snapcap on 6 at 3.0 uL/sec\n",
      "Dispensing 5.0 uL into N10 of Corning 384 Well Plate 112 µL Flat on 5 at 3.0 uL/sec\n",
      "Dropping tip into A1 of Opentrons Fixed Trash on 12\n",
      "Picking up tip from C2 of Opentrons 96 Filter Tip Rack 20 µL on 9\n",
      "Aspirating 5.0 uL from A3 of Opentrons 24 Tube Rack with Eppendorf 1.5 mL Safe-Lock Snapcap on 6 at 3.0 uL/sec\n",
      "Dispensing 5.0 uL into N11 of Corning 384 Well Plate 112 µL Flat on 5 at 3.0 uL/sec\n",
      "Dropping tip into A1 of Opentrons Fixed Trash on 12\n",
      "Picking up tip from D2 of Opentrons 96 Filter Tip Rack 20 µL on 9\n",
      "Aspirating 5.0 uL from A3 of Opentrons 24 Tube Rack with Eppendorf 1.5 mL Safe-Lock Snapcap on 6 at 3.0 uL/sec\n",
      "Dispensing 5.0 uL into N12 of Corning 384 Well Plate 112 µL Flat on 5 at 3.0 uL/sec\n",
      "Dropping tip into A1 of Opentrons Fixed Trash on 12\n",
      "Picking up tip from E2 of Opentrons 96 Filter Tip Rack 20 µL on 9\n",
      "Aspirating 5.0 uL from A2 of NEST 12 Well Reservoir 15 mL on 2 at 3.0 uL/sec\n",
      "Dispensing 5.0 uL into C13 of Corning 384 Well Plate 112 µL Flat on 5 at 3.0 uL/sec\n",
      "Dropping tip into A1 of Opentrons Fixed Trash on 12\n",
      "Picking up tip from F2 of Opentrons 96 Filter Tip Rack 20 µL on 9\n",
      "Aspirating 5.0 uL from A2 of NEST 12 Well Reservoir 15 mL on 2 at 3.0 uL/sec\n",
      "Dispensing 5.0 uL into C14 of Corning 384 Well Plate 112 µL Flat on 5 at 3.0 uL/sec\n",
      "Dropping tip into A1 of Opentrons Fixed Trash on 12\n",
      "Picking up tip from G2 of Opentrons 96 Filter Tip Rack 20 µL on 9\n",
      "Aspirating 5.0 uL from A2 of NEST 12 Well Reservoir 15 mL on 2 at 3.0 uL/sec\n",
      "Dispensing 5.0 uL into C15 of Corning 384 Well Plate 112 µL Flat on 5 at 3.0 uL/sec\n",
      "Dropping tip into A1 of Opentrons Fixed Trash on 12\n",
      "Picking up tip from H2 of Opentrons 96 Filter Tip Rack 20 µL on 9\n",
      "Aspirating 5.0 uL from A2 of NEST 12 Well Reservoir 15 mL on 2 at 3.0 uL/sec\n",
      "Dispensing 5.0 uL into D13 of Corning 384 Well Plate 112 µL Flat on 5 at 3.0 uL/sec\n",
      "Dropping tip into A1 of Opentrons Fixed Trash on 12\n",
      "Picking up tip from A3 of Opentrons 96 Filter Tip Rack 20 µL on 9\n",
      "Aspirating 5.0 uL from A2 of NEST 12 Well Reservoir 15 mL on 2 at 3.0 uL/sec\n",
      "Dispensing 5.0 uL into D14 of Corning 384 Well Plate 112 µL Flat on 5 at 3.0 uL/sec\n",
      "Dropping tip into A1 of Opentrons Fixed Trash on 12\n",
      "Picking up tip from B3 of Opentrons 96 Filter Tip Rack 20 µL on 9\n",
      "Aspirating 5.0 uL from A2 of NEST 12 Well Reservoir 15 mL on 2 at 3.0 uL/sec\n",
      "Dispensing 5.0 uL into D15 of Corning 384 Well Plate 112 µL Flat on 5 at 3.0 uL/sec\n",
      "Dropping tip into A1 of Opentrons Fixed Trash on 12\n",
      "Picking up tip from C3 of Opentrons 96 Filter Tip Rack 20 µL on 9\n",
      "Aspirating 5.0 uL from A2 of NEST 12 Well Reservoir 15 mL on 2 at 3.0 uL/sec\n",
      "Dispensing 5.0 uL into E13 of Corning 384 Well Plate 112 µL Flat on 5 at 3.0 uL/sec\n",
      "Dropping tip into A1 of Opentrons Fixed Trash on 12\n",
      "Picking up tip from D3 of Opentrons 96 Filter Tip Rack 20 µL on 9\n",
      "Aspirating 5.0 uL from A2 of NEST 12 Well Reservoir 15 mL on 2 at 3.0 uL/sec\n",
      "Dispensing 5.0 uL into E14 of Corning 384 Well Plate 112 µL Flat on 5 at 3.0 uL/sec\n",
      "Dropping tip into A1 of Opentrons Fixed Trash on 12\n",
      "Picking up tip from E3 of Opentrons 96 Filter Tip Rack 20 µL on 9\n",
      "Aspirating 5.0 uL from A2 of NEST 12 Well Reservoir 15 mL on 2 at 3.0 uL/sec\n",
      "Dispensing 5.0 uL into E15 of Corning 384 Well Plate 112 µL Flat on 5 at 3.0 uL/sec\n",
      "Dropping tip into A1 of Opentrons Fixed Trash on 12\n",
      "Picking up tip from F3 of Opentrons 96 Filter Tip Rack 20 µL on 9\n",
      "Aspirating 5.0 uL from A2 of NEST 12 Well Reservoir 15 mL on 2 at 3.0 uL/sec\n",
      "Dispensing 5.0 uL into F13 of Corning 384 Well Plate 112 µL Flat on 5 at 3.0 uL/sec\n",
      "Dropping tip into A1 of Opentrons Fixed Trash on 12\n",
      "Picking up tip from G3 of Opentrons 96 Filter Tip Rack 20 µL on 9\n",
      "Aspirating 5.0 uL from A2 of NEST 12 Well Reservoir 15 mL on 2 at 3.0 uL/sec\n",
      "Dispensing 5.0 uL into F14 of Corning 384 Well Plate 112 µL Flat on 5 at 3.0 uL/sec\n",
      "Dropping tip into A1 of Opentrons Fixed Trash on 12\n",
      "Picking up tip from H3 of Opentrons 96 Filter Tip Rack 20 µL on 9\n",
      "Aspirating 5.0 uL from A2 of NEST 12 Well Reservoir 15 mL on 2 at 3.0 uL/sec\n",
      "Dispensing 5.0 uL into F15 of Corning 384 Well Plate 112 µL Flat on 5 at 3.0 uL/sec\n",
      "Dropping tip into A1 of Opentrons Fixed Trash on 12\n",
      "Picking up tip from A4 of Opentrons 96 Filter Tip Rack 20 µL on 9\n",
      "Aspirating 5.0 uL from A2 of NEST 12 Well Reservoir 15 mL on 2 at 3.0 uL/sec\n",
      "Dispensing 5.0 uL into G13 of Corning 384 Well Plate 112 µL Flat on 5 at 3.0 uL/sec\n",
      "Dropping tip into A1 of Opentrons Fixed Trash on 12\n",
      "Picking up tip from B4 of Opentrons 96 Filter Tip Rack 20 µL on 9\n",
      "Aspirating 5.0 uL from A2 of NEST 12 Well Reservoir 15 mL on 2 at 3.0 uL/sec\n",
      "Dispensing 5.0 uL into G14 of Corning 384 Well Plate 112 µL Flat on 5 at 3.0 uL/sec\n",
      "Dropping tip into A1 of Opentrons Fixed Trash on 12\n",
      "Picking up tip from C4 of Opentrons 96 Filter Tip Rack 20 µL on 9\n",
      "Aspirating 5.0 uL from A2 of NEST 12 Well Reservoir 15 mL on 2 at 3.0 uL/sec\n",
      "Dispensing 5.0 uL into G15 of Corning 384 Well Plate 112 µL Flat on 5 at 3.0 uL/sec\n",
      "Dropping tip into A1 of Opentrons Fixed Trash on 12\n",
      "Picking up tip from D4 of Opentrons 96 Filter Tip Rack 20 µL on 9\n",
      "Aspirating 5.0 uL from A2 of NEST 12 Well Reservoir 15 mL on 2 at 3.0 uL/sec\n",
      "Dispensing 5.0 uL into H13 of Corning 384 Well Plate 112 µL Flat on 5 at 3.0 uL/sec\n",
      "Dropping tip into A1 of Opentrons Fixed Trash on 12\n",
      "Picking up tip from E4 of Opentrons 96 Filter Tip Rack 20 µL on 9\n",
      "Aspirating 5.0 uL from A2 of NEST 12 Well Reservoir 15 mL on 2 at 3.0 uL/sec\n",
      "Dispensing 5.0 uL into H14 of Corning 384 Well Plate 112 µL Flat on 5 at 3.0 uL/sec\n",
      "Dropping tip into A1 of Opentrons Fixed Trash on 12\n",
      "Picking up tip from F4 of Opentrons 96 Filter Tip Rack 20 µL on 9\n",
      "Aspirating 5.0 uL from A2 of NEST 12 Well Reservoir 15 mL on 2 at 3.0 uL/sec\n",
      "Dispensing 5.0 uL into H15 of Corning 384 Well Plate 112 µL Flat on 5 at 3.0 uL/sec\n",
      "Dropping tip into A1 of Opentrons Fixed Trash on 12\n",
      "Picking up tip from G4 of Opentrons 96 Filter Tip Rack 20 µL on 9\n",
      "Aspirating 5.0 uL from A2 of NEST 12 Well Reservoir 15 mL on 2 at 3.0 uL/sec\n",
      "Dispensing 5.0 uL into I13 of Corning 384 Well Plate 112 µL Flat on 5 at 3.0 uL/sec\n",
      "Dropping tip into A1 of Opentrons Fixed Trash on 12\n",
      "Picking up tip from H4 of Opentrons 96 Filter Tip Rack 20 µL on 9\n",
      "Aspirating 5.0 uL from A2 of NEST 12 Well Reservoir 15 mL on 2 at 3.0 uL/sec\n",
      "Dispensing 5.0 uL into I14 of Corning 384 Well Plate 112 µL Flat on 5 at 3.0 uL/sec\n",
      "Dropping tip into A1 of Opentrons Fixed Trash on 12\n",
      "Picking up tip from A5 of Opentrons 96 Filter Tip Rack 20 µL on 9\n",
      "Aspirating 5.0 uL from A2 of NEST 12 Well Reservoir 15 mL on 2 at 3.0 uL/sec\n",
      "Dispensing 5.0 uL into I15 of Corning 384 Well Plate 112 µL Flat on 5 at 3.0 uL/sec\n",
      "Dropping tip into A1 of Opentrons Fixed Trash on 12\n",
      "Picking up tip from B5 of Opentrons 96 Filter Tip Rack 20 µL on 9\n",
      "Aspirating 5.0 uL from A2 of NEST 12 Well Reservoir 15 mL on 2 at 3.0 uL/sec\n",
      "Dispensing 5.0 uL into J13 of Corning 384 Well Plate 112 µL Flat on 5 at 3.0 uL/sec\n",
      "Dropping tip into A1 of Opentrons Fixed Trash on 12\n",
      "Picking up tip from C5 of Opentrons 96 Filter Tip Rack 20 µL on 9\n",
      "Aspirating 5.0 uL from A2 of NEST 12 Well Reservoir 15 mL on 2 at 3.0 uL/sec\n",
      "Dispensing 5.0 uL into J14 of Corning 384 Well Plate 112 µL Flat on 5 at 3.0 uL/sec\n",
      "Dropping tip into A1 of Opentrons Fixed Trash on 12\n",
      "Picking up tip from D5 of Opentrons 96 Filter Tip Rack 20 µL on 9\n",
      "Aspirating 5.0 uL from A2 of NEST 12 Well Reservoir 15 mL on 2 at 3.0 uL/sec\n",
      "Dispensing 5.0 uL into J15 of Corning 384 Well Plate 112 µL Flat on 5 at 3.0 uL/sec\n",
      "Dropping tip into A1 of Opentrons Fixed Trash on 12\n",
      "Picking up tip from E5 of Opentrons 96 Filter Tip Rack 20 µL on 9\n",
      "Aspirating 5.0 uL from A2 of NEST 12 Well Reservoir 15 mL on 2 at 3.0 uL/sec\n",
      "Dispensing 5.0 uL into K13 of Corning 384 Well Plate 112 µL Flat on 5 at 3.0 uL/sec\n",
      "Dropping tip into A1 of Opentrons Fixed Trash on 12\n",
      "Picking up tip from F5 of Opentrons 96 Filter Tip Rack 20 µL on 9\n",
      "Aspirating 5.0 uL from A2 of NEST 12 Well Reservoir 15 mL on 2 at 3.0 uL/sec\n",
      "Dispensing 5.0 uL into K14 of Corning 384 Well Plate 112 µL Flat on 5 at 3.0 uL/sec\n",
      "Dropping tip into A1 of Opentrons Fixed Trash on 12\n",
      "Picking up tip from G5 of Opentrons 96 Filter Tip Rack 20 µL on 9\n",
      "Aspirating 5.0 uL from A2 of NEST 12 Well Reservoir 15 mL on 2 at 3.0 uL/sec\n",
      "Dispensing 5.0 uL into K15 of Corning 384 Well Plate 112 µL Flat on 5 at 3.0 uL/sec\n",
      "Dropping tip into A1 of Opentrons Fixed Trash on 12\n",
      "Picking up tip from H5 of Opentrons 96 Filter Tip Rack 20 µL on 9\n",
      "Aspirating 5.0 uL from A2 of NEST 12 Well Reservoir 15 mL on 2 at 3.0 uL/sec\n",
      "Dispensing 5.0 uL into L13 of Corning 384 Well Plate 112 µL Flat on 5 at 3.0 uL/sec\n",
      "Dropping tip into A1 of Opentrons Fixed Trash on 12\n",
      "Picking up tip from A6 of Opentrons 96 Filter Tip Rack 20 µL on 9\n",
      "Aspirating 5.0 uL from A2 of NEST 12 Well Reservoir 15 mL on 2 at 3.0 uL/sec\n",
      "Dispensing 5.0 uL into L14 of Corning 384 Well Plate 112 µL Flat on 5 at 3.0 uL/sec\n",
      "Dropping tip into A1 of Opentrons Fixed Trash on 12\n",
      "Picking up tip from B6 of Opentrons 96 Filter Tip Rack 20 µL on 9\n",
      "Aspirating 5.0 uL from A2 of NEST 12 Well Reservoir 15 mL on 2 at 3.0 uL/sec\n",
      "Dispensing 5.0 uL into L15 of Corning 384 Well Plate 112 µL Flat on 5 at 3.0 uL/sec\n",
      "Dropping tip into A1 of Opentrons Fixed Trash on 12\n",
      "Picking up tip from C6 of Opentrons 96 Filter Tip Rack 20 µL on 9\n",
      "Aspirating 5.0 uL from A2 of NEST 12 Well Reservoir 15 mL on 2 at 3.0 uL/sec\n",
      "Dispensing 5.0 uL into M13 of Corning 384 Well Plate 112 µL Flat on 5 at 3.0 uL/sec\n",
      "Dropping tip into A1 of Opentrons Fixed Trash on 12\n",
      "Picking up tip from D6 of Opentrons 96 Filter Tip Rack 20 µL on 9\n",
      "Aspirating 5.0 uL from A2 of NEST 12 Well Reservoir 15 mL on 2 at 3.0 uL/sec\n",
      "Dispensing 5.0 uL into M14 of Corning 384 Well Plate 112 µL Flat on 5 at 3.0 uL/sec\n",
      "Dropping tip into A1 of Opentrons Fixed Trash on 12\n",
      "Picking up tip from E6 of Opentrons 96 Filter Tip Rack 20 µL on 9\n",
      "Aspirating 5.0 uL from A2 of NEST 12 Well Reservoir 15 mL on 2 at 3.0 uL/sec\n",
      "Dispensing 5.0 uL into M15 of Corning 384 Well Plate 112 µL Flat on 5 at 3.0 uL/sec\n",
      "Dropping tip into A1 of Opentrons Fixed Trash on 12\n",
      "Picking up tip from F6 of Opentrons 96 Filter Tip Rack 20 µL on 9\n",
      "Aspirating 5.0 uL from A2 of NEST 12 Well Reservoir 15 mL on 2 at 3.0 uL/sec\n",
      "Dispensing 5.0 uL into N13 of Corning 384 Well Plate 112 µL Flat on 5 at 3.0 uL/sec\n",
      "Dropping tip into A1 of Opentrons Fixed Trash on 12\n",
      "Picking up tip from G6 of Opentrons 96 Filter Tip Rack 20 µL on 9\n",
      "Aspirating 5.0 uL from A2 of NEST 12 Well Reservoir 15 mL on 2 at 3.0 uL/sec\n",
      "Dispensing 5.0 uL into N14 of Corning 384 Well Plate 112 µL Flat on 5 at 3.0 uL/sec\n",
      "Dropping tip into A1 of Opentrons Fixed Trash on 12\n",
      "Picking up tip from H6 of Opentrons 96 Filter Tip Rack 20 µL on 9\n",
      "Aspirating 5.0 uL from A2 of NEST 12 Well Reservoir 15 mL on 2 at 3.0 uL/sec\n",
      "Dispensing 5.0 uL into N15 of Corning 384 Well Plate 112 µL Flat on 5 at 3.0 uL/sec\n",
      "Dropping tip into A1 of Opentrons Fixed Trash on 12\n"
     ]
    }
   ],
   "source": [
    "\n",
    "for line in protocol.commands():\n",
    "    print(line)\n",
    "protocol.clear_commands()"
   ]
  },
  {
   "cell_type": "code",
   "execution_count": 107,
   "id": "lesser-formation",
   "metadata": {},
   "outputs": [
    {
     "data": {
      "text/plain": [
       "<InstrumentContext: p300_single_v2.1 in LEFT>"
      ]
     },
     "execution_count": 107,
     "metadata": {},
     "output_type": "execute_result"
    }
   ],
   "source": [
    "\n",
    "pip300.drop_tip()"
   ]
  },
  {
   "cell_type": "code",
   "execution_count": 109,
   "id": "afraid-hotel",
   "metadata": {},
   "outputs": [],
   "source": [
    "protocol.home()"
   ]
  },
  {
   "cell_type": "code",
   "execution_count": 106,
   "id": "raising-coordinate",
   "metadata": {},
   "outputs": [],
   "source": []
  },
  {
   "cell_type": "code",
   "execution_count": 105,
   "id": "painted-brass",
   "metadata": {},
   "outputs": [
    {
     "data": {
      "text/plain": [
       "7.56"
      ]
     },
     "execution_count": 105,
     "metadata": {},
     "output_type": "execute_result"
    }
   ],
   "source": [
    "pip.flow_rate.dispense"
   ]
  },
  {
   "cell_type": "code",
   "execution_count": null,
   "id": "nervous-population",
   "metadata": {},
   "outputs": [],
   "source": [
    "flow_rate.aspirate = 50"
   ]
  }
 ],
 "metadata": {
  "kernelspec": {
   "display_name": "Python 3",
   "language": "python",
   "name": "python3"
  },
  "language_info": {
   "codemirror_mode": {
    "name": "ipython",
    "version": 3
   },
   "file_extension": ".py",
   "mimetype": "text/x-python",
   "name": "python",
   "nbconvert_exporter": "python",
   "pygments_lexer": "ipython3",
   "version": "3.7.9"
  }
 },
 "nbformat": 4,
 "nbformat_minor": 5
}
